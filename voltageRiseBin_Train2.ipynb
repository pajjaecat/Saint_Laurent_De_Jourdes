{
 "cells": [
  {
   "cell_type": "markdown",
   "id": "57c865aa-ebd5-4944-a381-ca3a5f49c6ed",
   "metadata": {},
   "source": [
    "### Create and Train a RNN \n",
    "to Predict a binary variable (1 or 0), whether a voltage rise (above a predefined threshold i.e. 1.0225 ) will occur or not in the next period"
   ]
  },
  {
   "cell_type": "markdown",
   "id": "a77edd2e-a1f1-4882-9395-85f94ee6a01a",
   "metadata": {},
   "source": [
    "Seconde version of [voltageRiseBin_Train](voltageRiseBin_Train.ipynb)\n",
    "\n",
    "Prediction using the created RNN is done here [voltageRiseBin_Pred2](voltageRiseBin_Pred2.ipynb)"
   ]
  },
  {
   "cell_type": "markdown",
   "id": "4ff44841-10f2-4728-baba-ae19c2c94033",
   "metadata": {},
   "source": [
    "---"
   ]
  },
  {
   "cell_type": "markdown",
   "id": "6269c2ae-4edb-4edc-b9e6-5e8fc8a519e5",
   "metadata": {
    "tags": []
   },
   "source": [
    "#### Import modules to be used"
   ]
  },
  {
   "cell_type": "code",
   "execution_count": 1,
   "id": "7d03799f-9341-49e9-aa88-949421832c6a",
   "metadata": {},
   "outputs": [],
   "source": [
    "#Import Modules \n",
    "import pandas as pd\n",
    "import pandapower as pp\n",
    "import matplotlib.pyplot as plt\n",
    "import numpy as np\n",
    "from tqdm import tqdm # Profiling \n",
    "import seaborn as sbn\n",
    "import pickle, sys, importlib,  time\n",
    "import os\n",
    "from pickle import load\n",
    "import tensorflow as tf\n",
    "import joblib"
   ]
  },
  {
   "cell_type": "markdown",
   "id": "1d347d27-fe03-477d-99fa-7aacb227bdc3",
   "metadata": {},
   "source": [
    "#### Import Module for ML"
   ]
  },
  {
   "cell_type": "code",
   "execution_count": 2,
   "id": "43792d1d-65aa-49b5-9bbd-12f6a4b4cc10",
   "metadata": {},
   "outputs": [],
   "source": [
    "# import pakages forML\n",
    "from sklearn.preprocessing import MinMaxScaler, OneHotEncoder\n",
    "from tensorflow.keras.preprocessing.sequence import TimeseriesGenerator\n",
    "from tensorflow.keras.models import Sequential\n",
    "from tensorflow.keras.layers import Dense, LSTM\n",
    "from tensorflow.keras.callbacks import EarlyStopping\n",
    "from sklearn.metrics import mean_absolute_error, mean_squared_error"
   ]
  },
  {
   "cell_type": "markdown",
   "id": "27f0de16-0ff9-4e01-b390-588b05658960",
   "metadata": {},
   "source": [
    "#### Import my own modules"
   ]
  },
  {
   "cell_type": "code",
   "execution_count": 3,
   "id": "eff66d5f-be91-4067-8bf6-20fd790ee8ac",
   "metadata": {},
   "outputs": [],
   "source": [
    "# import psutil\n",
    "function_folder = 'py_files/' \n",
    "# Add function folder to path if it is not already\n",
    "if function_folder not in sys.path: sys.path.append(function_folder)\n",
    "\n",
    "import oriFunctions as oriFc\n",
    "from oriFunctions import network_folder, excel_folder, py_folder, Δt, attr_list"
   ]
  },
  {
   "cell_type": "code",
   "execution_count": 4,
   "id": "37aefb25-d718-42a7-af41-1aa8fb9467d3",
   "metadata": {},
   "outputs": [],
   "source": [
    "#Import Networks\n",
    "net_civaux=pp.from_pickle(f'{network_folder}CIVAUX.p')\n",
    "net_stlaurent=pp.from_pickle(f'{network_folder}ST LAURENT.p')"
   ]
  },
  {
   "cell_type": "code",
   "execution_count": 5,
   "id": "4102c066-dcdb-45b7-9b16-0a0c17e3e339",
   "metadata": {
    "tags": []
   },
   "outputs": [],
   "source": [
    "#Load files\n",
    "file_p_inj_0013 = 'Prod_HTA/PROD_Bis/P0013/PROD-BATISOLAIRE 6-CIVAUX - Actif injecte (P-).csv'\n",
    "file_p_inj_0018 = 'Prod_HTA/PROD_Bis/P0018/PROD-SUN POITOU 2516 (Z.I de la Pitage)-LHOMMAIZE - Actif injecte (P-).csv'\n",
    "\n",
    "\n",
    "# The  commissioning of the Prod P0100 is recent (2022). I therefore use the data of the closer energy \n",
    "# producer that is P0058  and consider it as that of Prod P0100 \n",
    "file_p_inj_0100 = 'Prod_HTA/PROD_Bis/PROD-SERGIES 2204 (LA ROCHE A CORNUCHON)-PINDRAY - Actif P-.csv'\n",
    "\n",
    "file_prod_bt_total = 'PROD_BTSUP36_SAINT LAURENT.csv'\n",
    "file_cons_total = 'CONSO_POSTE_SAINT LAURENT.csv'\n",
    "\n",
    "\n",
    "# Get files data \n",
    "p_mw_0013 = oriFc.readAndReshape_excelFile(file_p_inj_0013 ,excel_folder, )\n",
    "p_mw_0018 = oriFc.readAndReshape_excelFile(file_p_inj_0018 ,excel_folder,)\n",
    "p_mw_0100 = oriFc.readAndReshape_excelFile(file_p_inj_0100 ,excel_folder,)\n",
    "\n",
    "\n",
    "p_mw_prod_bt_total = oriFc.readAndReshape_excelFile(file_prod_bt_total, excel_folder)\n",
    "p_mw_cons_total = oriFc.readAndReshape_excelFile(file_cons_total, excel_folder)\n",
    "\n",
    "# Create dict for all HT producers\n",
    "dict_prod_hv = {'P0013': p_mw_0013[:len(p_mw_0100)], \n",
    "                'P0018': p_mw_0018[:len(p_mw_0100)],\n",
    "                'P0100': p_mw_0100[:len(p_mw_0100)]\n",
    "               }\n",
    "# Create index to use for dataframe\n",
    "per_index = pd.period_range('01 01 2020', periods=len(p_mw_0100), freq='10T')\n",
    "\n",
    "# Use the create dict to create a dataFrame for Prod P0100\n",
    "df_prodP0100 = pd.DataFrame(p_mw_0100, index=per_index)\n",
    "\n",
    "# Use the create dict to create a dataFrame for all HT producers\n",
    "df_prodHT = pd.DataFrame(dict_prod_hv, index=per_index)\n",
    "\n",
    "# Dataframe prod BT \n",
    "per_index = pd.period_range('01 01 2020', periods=len(p_mw_prod_bt_total), freq='10T')\n",
    "df_prod_bt_total = pd.DataFrame(p_mw_prod_bt_total, index=per_index, columns=['Prod_BT'])\n",
    "\n",
    "\n",
    "# Dataframe Conso BT \n",
    "per_index = pd.period_range('01 01 2020', periods=len(p_mw_cons_total), freq='10T')\n",
    "df_cons_total = pd.DataFrame(p_mw_cons_total, index=per_index, columns=['Cons'])\n",
    "# Data cleaning on Consumption\n",
    "previous_days = df_cons_total[(per_index>='2022 02 12') & (per_index<='2022 02 21 23:50')]\n",
    "following_days = df_cons_total[(per_index>='2022 03 03') & (per_index<='2022 03 12 23:50')]\n",
    "# # Put the interpolated data into the dataframe\n",
    "df_cons_total[(per_index>='2022 02 21') & (per_index<='2022 03 02 23:50')] = (np.array(following_days) + \n",
    "                                                                              np.array(previous_days) )/2\n",
    "\n",
    "\n",
    "# Get total Power of BT producers\n",
    "# Bt producers are indexed by the name None\n",
    "max_p_mw_total_prodBT = net_civaux.sgen.max_p_mw[net_civaux.sgen.name.isna()].sum()\n",
    "\n",
    "# # Get total power of load in the network\n",
    "max_p_mw_total_load = net_civaux.load.max_p_mw.sum()\n",
    "\n",
    "# Select relevant data up to 2022 06 01\n",
    "df_prodHT = df_prodHT[df_prodHT.index<='2022 06 01 23:50']\n",
    "df_prod_bt_total = df_prod_bt_total[df_prod_bt_total.index<='2022 06 01 23:50']\n",
    "df_cons_total = df_cons_total[df_cons_total.index<='2022 06 01 23:50']\n",
    "\n",
    "\n",
    "# Extract only dailight period i.e. from 07am to 7PM\n",
    "# The daylight period is considered to be defined betwenn 07am and 7Pm excluded. \n",
    "h_start_end = ('06:50','18:50') # for the persistance model, the previous period i.e. 06:50 \n",
    "                                # is needed to compute the first instant i.e. 07:00\n",
    "per_index = df_prodHT.index\n",
    "per_daylight = ( pd.Series(index=per_index.to_timestamp(), dtype=object).between_time(*h_start_end) ).index.to_period('10T')\n",
    "day_tot_per = len(per_daylight[(per_daylight.year==2020)&(per_daylight.month==1)&(per_daylight.day==1)])\n",
    "\n",
    "\n",
    "# Put all the data in a unique dataframe\n",
    "df_data = pd.concat([df_cons_total, df_prod_bt_total, df_prodHT], axis=1).loc[per_daylight]\n",
    "\n",
    "# # Extract only the relavant testing set since the training set covers the first part of the data\n",
    "df_final = df_data[df_data.index<'2021 06 01']\n",
    "per_index = df_final.index\n",
    "per_index2 = ( pd.Series(index=per_index.to_timestamp(), dtype=object\n",
    "                        ).between_time('07:00','18:50') ).index.to_period('10T')\n",
    "\n",
    "\n",
    "vm_mu_max, vm_mu_min = 1.0225, 0.95  # Choosen \n"
   ]
  },
  {
   "cell_type": "markdown",
   "id": "34489214-f7ac-4c72-8928-539e9ac10c97",
   "metadata": {},
   "source": [
    "#### Import the voltage rise from [Voltage_rise](VoltageRiseBinary.ipynb)\n"
   ]
  },
  {
   "cell_type": "code",
   "execution_count": 6,
   "id": "540395a2-3954-48d9-add1-e89efde8afa8",
   "metadata": {},
   "outputs": [],
   "source": [
    "# Import the voltage rise from \n",
    "bin_volt_rise = joblib.load('pickle_files/simulationResults/Binary_Voltage_Rise.pkl')\n",
    "\n",
    "# Define a vectorise version of int to vectorise values\n",
    "vect_int = np.vectorize(int)\n",
    "vect_int(bin_volt_rise.known >vm_mu_max)\n",
    "bin_volt_rise['Volt_Rise_Bin2'] = vect_int(bin_volt_rise.known >vm_mu_max)\n"
   ]
  },
  {
   "cell_type": "markdown",
   "id": "5a403b96-6ced-4600-b3ed-fe227df6e962",
   "metadata": {
    "tags": []
   },
   "source": [
    "### Set variables For binary voltage rise prediction"
   ]
  },
  {
   "cell_type": "code",
   "execution_count": 7,
   "id": "ebee0b29-02b7-4bf2-a3fd-67b15ad9fbd1",
   "metadata": {},
   "outputs": [],
   "source": [
    "df_final['Volt_Rise_bin'] = bin_volt_rise['Volt_Rise_Bin2']"
   ]
  },
  {
   "cell_type": "code",
   "execution_count": 8,
   "id": "b9d8756e-d0bc-469c-b9bd-05cb40fe42f6",
   "metadata": {},
   "outputs": [],
   "source": [
    "# # # Separate training and testing set \n",
    "# df_train = df_final[df_final.index<'2021 03 15']\n",
    "# df_test = df_final[(df_final.index>='2021 03 15') & (df_final.index <'2021 06 01')]\n",
    "\n",
    "\n",
    "# I'm using all the dataset to train the RNN to improve the performance since ive already\n",
    "# tried with the testing set and get an accuraccy of 94%\n",
    "# # Separate training and testing set \n",
    "df_train = df_final[df_final.index<'2021 06 01']\n",
    "\n",
    "# Define scaler\n",
    "numerical_scaler = MinMaxScaler()\n",
    "numerical_scaler.fit(df_train);\n",
    "\n",
    "# train_scaled, test_scaled= map(numerical_scaler.transform, [df_train, df_test])\n",
    "train_scaled = numerical_scaler.transform(df_train)"
   ]
  },
  {
   "cell_type": "markdown",
   "id": "df889986-285b-4029-8766-22a1099ef88e",
   "metadata": {},
   "source": [
    "##### Define Timeseries  generators\n"
   ]
  },
  {
   "cell_type": "code",
   "execution_count": 9,
   "id": "9549e704-a7eb-4503-969b-d933d3160bf4",
   "metadata": {},
   "outputs": [],
   "source": [
    "gen_length = 6 # 1 hour\n",
    "\n",
    "batchSize = (gen_length//6)*24*7; #  (gen_length//6)  To convert in hour *24 hour * 7 days\n",
    "\n",
    "train_generator = TimeseriesGenerator(train_scaled, train_scaled[:,-1], \n",
    "                                      length = gen_length, \n",
    "                                      batch_size= batchSize)\n",
    "\n",
    "# test_genarator = TimeseriesGenerator(test_scaled, test_scaled[:,-1], \n",
    "#                                      length = gen_length, \n",
    "#                                      batch_size= batchSize)\n",
    "\n",
    "n_features = train_generator[0][0][0].shape[1]  # Define total number of features"
   ]
  },
  {
   "cell_type": "markdown",
   "id": "39e8638a-2c2d-4d73-bd7e-3ca775958c82",
   "metadata": {},
   "source": [
    "#### Define RNN"
   ]
  },
  {
   "cell_type": "code",
   "execution_count": 10,
   "id": "d0db6469-b23d-4715-8575-854071188b88",
   "metadata": {},
   "outputs": [],
   "source": [
    "bin_vRise_RNN = Sequential()\n",
    "\n",
    "bin_vRise_RNN.add( LSTM(units=128, activation='tanh', input_shape=(gen_length,n_features), return_sequences=True) )\n",
    "bin_vRise_RNN.add( LSTM(units=128, activation='relu') )\n",
    "bin_vRise_RNN.add(Dense(units=1, activation='sigmoid'))\n",
    "\n",
    "bin_vRise_RNN.compile(optimizer='adam',loss='binary_crossentropy', metrics=['accuracy'])"
   ]
  },
  {
   "cell_type": "markdown",
   "id": "35ba5e3a-2903-447e-970c-56a8fbbd3a3a",
   "metadata": {},
   "source": [
    "##### Define early stopping mechanism"
   ]
  },
  {
   "cell_type": "code",
   "execution_count": 11,
   "id": "b3d9cbf7-f04d-4a28-bb24-30eab8a8fab1",
   "metadata": {},
   "outputs": [],
   "source": [
    "early_stop = EarlyStopping(monitor= 'val_loss',patience=25, mode='min')"
   ]
  },
  {
   "cell_type": "markdown",
   "id": "8d3e82fe-c6b4-49c3-8f90-4bee5d53d593",
   "metadata": {},
   "source": [
    "#### Train RNN"
   ]
  },
  {
   "cell_type": "code",
   "execution_count": 12,
   "id": "273c5cea-c453-4ab8-b9bd-7322df5125b3",
   "metadata": {
    "scrolled": true,
    "tags": []
   },
   "outputs": [
    {
     "name": "stdout",
     "output_type": "stream",
     "text": [
      "Epoch 1/100\n",
      "225/225 [==============================] - 6s 16ms/step - loss: 0.2051 - accuracy: 0.9243\n",
      "Epoch 2/100\n",
      "225/225 [==============================] - 5s 22ms/step - loss: 0.1134 - accuracy: 0.9573\n",
      "Epoch 3/100\n",
      "225/225 [==============================] - 6s 25ms/step - loss: 0.1028 - accuracy: 0.9638\n",
      "Epoch 4/100\n",
      "225/225 [==============================] - 6s 26ms/step - loss: 0.0993 - accuracy: 0.9646\n",
      "Epoch 5/100\n",
      "225/225 [==============================] - 5s 24ms/step - loss: 0.0971 - accuracy: 0.9647\n",
      "Epoch 6/100\n",
      "225/225 [==============================] - 5s 24ms/step - loss: 0.0963 - accuracy: 0.9646\n",
      "Epoch 7/100\n",
      "225/225 [==============================] - 7s 29ms/step - loss: 0.0963 - accuracy: 0.9643\n",
      "Epoch 8/100\n",
      "225/225 [==============================] - 5s 23ms/step - loss: 0.0924 - accuracy: 0.9653\n",
      "Epoch 9/100\n",
      "225/225 [==============================] - 5s 24ms/step - loss: 0.0936 - accuracy: 0.9648\n",
      "Epoch 10/100\n",
      "225/225 [==============================] - 5s 23ms/step - loss: 0.0926 - accuracy: 0.9652\n",
      "Epoch 11/100\n",
      "225/225 [==============================] - 5s 21ms/step - loss: 0.0915 - accuracy: 0.9653\n",
      "Epoch 12/100\n",
      "225/225 [==============================] - 5s 22ms/step - loss: 0.0908 - accuracy: 0.9656\n",
      "Epoch 13/100\n",
      "225/225 [==============================] - 6s 25ms/step - loss: 0.0884 - accuracy: 0.9659\n",
      "Epoch 14/100\n",
      "225/225 [==============================] - 5s 20ms/step - loss: 0.0886 - accuracy: 0.9652\n",
      "Epoch 15/100\n",
      "225/225 [==============================] - 5s 24ms/step - loss: 0.0877 - accuracy: 0.9664\n",
      "Epoch 16/100\n",
      "225/225 [==============================] - 6s 28ms/step - loss: 0.0866 - accuracy: 0.9663\n",
      "Epoch 17/100\n",
      "225/225 [==============================] - 5s 23ms/step - loss: 0.0851 - accuracy: 0.9669\n",
      "Epoch 18/100\n",
      "225/225 [==============================] - 6s 27ms/step - loss: 0.0866 - accuracy: 0.9653\n",
      "Epoch 19/100\n",
      "225/225 [==============================] - 6s 28ms/step - loss: 0.0846 - accuracy: 0.9670\n",
      "Epoch 20/100\n",
      "225/225 [==============================] - 5s 23ms/step - loss: 0.0837 - accuracy: 0.9672\n",
      "Epoch 21/100\n",
      "225/225 [==============================] - 5s 24ms/step - loss: 0.0851 - accuracy: 0.9669\n",
      "Epoch 22/100\n",
      "225/225 [==============================] - 6s 26ms/step - loss: 0.0850 - accuracy: 0.9668\n",
      "Epoch 23/100\n",
      "225/225 [==============================] - 5s 24ms/step - loss: 0.0823 - accuracy: 0.9680\n",
      "Epoch 24/100\n",
      "225/225 [==============================] - 6s 26ms/step - loss: 0.0839 - accuracy: 0.9679\n",
      "Epoch 25/100\n",
      "225/225 [==============================] - 6s 28ms/step - loss: 0.0823 - accuracy: 0.9671\n",
      "Epoch 26/100\n",
      "225/225 [==============================] - 5s 22ms/step - loss: 0.0835 - accuracy: 0.9669\n",
      "Epoch 27/100\n",
      "225/225 [==============================] - 5s 24ms/step - loss: 0.0841 - accuracy: 0.9670\n",
      "Epoch 28/100\n",
      "225/225 [==============================] - 5s 22ms/step - loss: 0.0814 - accuracy: 0.9678\n",
      "Epoch 29/100\n",
      "225/225 [==============================] - 5s 20ms/step - loss: 0.0813 - accuracy: 0.9677\n",
      "Epoch 30/100\n",
      "225/225 [==============================] - 5s 23ms/step - loss: 0.0823 - accuracy: 0.9674\n",
      "Epoch 31/100\n",
      "225/225 [==============================] - 5s 21ms/step - loss: 0.0812 - accuracy: 0.9685\n",
      "Epoch 32/100\n",
      "225/225 [==============================] - 5s 21ms/step - loss: 0.0820 - accuracy: 0.9676\n",
      "Epoch 33/100\n",
      "225/225 [==============================] - 5s 22ms/step - loss: 0.0808 - accuracy: 0.9684\n",
      "Epoch 34/100\n",
      "225/225 [==============================] - 6s 25ms/step - loss: 0.0795 - accuracy: 0.9691\n",
      "Epoch 35/100\n",
      "225/225 [==============================] - 5s 23ms/step - loss: 0.0789 - accuracy: 0.9690\n",
      "Epoch 36/100\n",
      "225/225 [==============================] - 5s 22ms/step - loss: 0.0784 - accuracy: 0.9692\n",
      "Epoch 37/100\n",
      "225/225 [==============================] - 5s 21ms/step - loss: 0.0848 - accuracy: 0.9662\n",
      "Epoch 38/100\n",
      "225/225 [==============================] - 5s 20ms/step - loss: 0.0782 - accuracy: 0.9693\n",
      "Epoch 39/100\n",
      "225/225 [==============================] - 5s 22ms/step - loss: 0.0776 - accuracy: 0.9692\n",
      "Epoch 40/100\n",
      "225/225 [==============================] - 6s 25ms/step - loss: 0.0769 - accuracy: 0.9692\n",
      "Epoch 41/100\n",
      "225/225 [==============================] - 5s 22ms/step - loss: 0.0769 - accuracy: 0.9689\n",
      "Epoch 42/100\n",
      "225/225 [==============================] - 5s 22ms/step - loss: 0.0765 - accuracy: 0.9696\n",
      "Epoch 43/100\n",
      "225/225 [==============================] - 5s 24ms/step - loss: 0.0763 - accuracy: 0.9692\n",
      "Epoch 44/100\n",
      "225/225 [==============================] - 5s 20ms/step - loss: 0.0746 - accuracy: 0.9704\n",
      "Epoch 45/100\n",
      "225/225 [==============================] - 5s 22ms/step - loss: 0.0758 - accuracy: 0.9697\n",
      "Epoch 46/100\n",
      "225/225 [==============================] - 5s 24ms/step - loss: 0.0751 - accuracy: 0.9696\n",
      "Epoch 47/100\n",
      "225/225 [==============================] - 5s 23ms/step - loss: 0.0747 - accuracy: 0.9698\n",
      "Epoch 48/100\n",
      "225/225 [==============================] - 5s 22ms/step - loss: 0.0742 - accuracy: 0.9698\n",
      "Epoch 49/100\n",
      "225/225 [==============================] - 5s 24ms/step - loss: 0.0731 - accuracy: 0.9693\n",
      "Epoch 50/100\n",
      "225/225 [==============================] - 5s 23ms/step - loss: 0.0733 - accuracy: 0.9699\n",
      "Epoch 51/100\n",
      "225/225 [==============================] - 5s 22ms/step - loss: 0.0726 - accuracy: 0.9702\n",
      "Epoch 52/100\n",
      "225/225 [==============================] - 6s 26ms/step - loss: 0.0743 - accuracy: 0.9694\n",
      "Epoch 53/100\n",
      "225/225 [==============================] - 6s 26ms/step - loss: 0.0726 - accuracy: 0.9706\n",
      "Epoch 54/100\n",
      "225/225 [==============================] - 6s 25ms/step - loss: 0.0722 - accuracy: 0.9702\n",
      "Epoch 55/100\n",
      "225/225 [==============================] - 6s 26ms/step - loss: 0.0703 - accuracy: 0.9707\n",
      "Epoch 56/100\n",
      "225/225 [==============================] - 5s 24ms/step - loss: 0.0729 - accuracy: 0.9696\n",
      "Epoch 57/100\n",
      "225/225 [==============================] - 6s 29ms/step - loss: 0.0712 - accuracy: 0.9704\n",
      "Epoch 58/100\n",
      "225/225 [==============================] - 7s 29ms/step - loss: 0.0706 - accuracy: 0.9708\n",
      "Epoch 59/100\n",
      "225/225 [==============================] - 6s 29ms/step - loss: 0.0719 - accuracy: 0.9702\n",
      "Epoch 60/100\n",
      "225/225 [==============================] - 6s 28ms/step - loss: 0.0710 - accuracy: 0.9704\n",
      "Epoch 61/100\n",
      "225/225 [==============================] - 7s 31ms/step - loss: 0.0687 - accuracy: 0.9715\n",
      "Epoch 62/100\n",
      "225/225 [==============================] - 5s 23ms/step - loss: 0.0689 - accuracy: 0.9712\n",
      "Epoch 63/100\n",
      "225/225 [==============================] - 5s 23ms/step - loss: 0.0676 - accuracy: 0.9716\n",
      "Epoch 64/100\n",
      "225/225 [==============================] - 5s 22ms/step - loss: 0.0679 - accuracy: 0.9713\n",
      "Epoch 65/100\n",
      "225/225 [==============================] - 5s 23ms/step - loss: 0.0672 - accuracy: 0.9717\n",
      "Epoch 66/100\n",
      "225/225 [==============================] - 5s 23ms/step - loss: 0.0666 - accuracy: 0.9720\n",
      "Epoch 67/100\n",
      "225/225 [==============================] - 5s 23ms/step - loss: 0.0664 - accuracy: 0.9724\n",
      "Epoch 68/100\n",
      "225/225 [==============================] - 5s 23ms/step - loss: 0.0658 - accuracy: 0.9725\n",
      "Epoch 69/100\n",
      "225/225 [==============================] - 6s 25ms/step - loss: 0.0663 - accuracy: 0.9720\n",
      "Epoch 70/100\n",
      "225/225 [==============================] - 6s 25ms/step - loss: 0.0644 - accuracy: 0.9731\n",
      "Epoch 71/100\n",
      "225/225 [==============================] - 5s 23ms/step - loss: 0.0639 - accuracy: 0.9734\n",
      "Epoch 72/100\n",
      "225/225 [==============================] - 6s 25ms/step - loss: 0.0634 - accuracy: 0.9729\n",
      "Epoch 73/100\n",
      "225/225 [==============================] - 5s 23ms/step - loss: 0.0642 - accuracy: 0.9734\n",
      "Epoch 74/100\n",
      "225/225 [==============================] - 5s 23ms/step - loss: 0.0635 - accuracy: 0.9734\n",
      "Epoch 75/100\n",
      "225/225 [==============================] - 5s 24ms/step - loss: 0.0639 - accuracy: 0.9727\n",
      "Epoch 76/100\n",
      "225/225 [==============================] - 5s 22ms/step - loss: 0.0620 - accuracy: 0.9743\n",
      "Epoch 77/100\n",
      "225/225 [==============================] - 5s 22ms/step - loss: 0.0621 - accuracy: 0.9736\n",
      "Epoch 78/100\n",
      "225/225 [==============================] - 6s 26ms/step - loss: 0.0601 - accuracy: 0.9743\n",
      "Epoch 79/100\n",
      "225/225 [==============================] - 5s 24ms/step - loss: 0.0596 - accuracy: 0.9747\n",
      "Epoch 80/100\n",
      "225/225 [==============================] - 5s 22ms/step - loss: 0.0594 - accuracy: 0.9743\n",
      "Epoch 81/100\n",
      "225/225 [==============================] - 5s 24ms/step - loss: 0.0592 - accuracy: 0.9751\n",
      "Epoch 82/100\n",
      "225/225 [==============================] - 5s 23ms/step - loss: 0.0594 - accuracy: 0.9743\n",
      "Epoch 83/100\n",
      "225/225 [==============================] - 5s 21ms/step - loss: 0.0578 - accuracy: 0.9757\n",
      "Epoch 84/100\n",
      "225/225 [==============================] - 5s 24ms/step - loss: 0.0578 - accuracy: 0.9759\n",
      "Epoch 85/100\n",
      "225/225 [==============================] - 5s 22ms/step - loss: 0.0560 - accuracy: 0.9767\n",
      "Epoch 86/100\n",
      "225/225 [==============================] - 5s 21ms/step - loss: 0.0550 - accuracy: 0.9764\n",
      "Epoch 87/100\n",
      "225/225 [==============================] - 5s 22ms/step - loss: 0.0540 - accuracy: 0.9771\n",
      "Epoch 88/100\n",
      "225/225 [==============================] - 5s 22ms/step - loss: 0.0541 - accuracy: 0.9776\n",
      "Epoch 89/100\n",
      "225/225 [==============================] - 5s 21ms/step - loss: 0.0546 - accuracy: 0.9770\n",
      "Epoch 90/100\n",
      "225/225 [==============================] - 5s 22ms/step - loss: 0.0513 - accuracy: 0.9782\n",
      "Epoch 91/100\n",
      "225/225 [==============================] - 5s 23ms/step - loss: 0.0520 - accuracy: 0.9776\n",
      "Epoch 92/100\n",
      "225/225 [==============================] - 5s 20ms/step - loss: 0.0506 - accuracy: 0.9787\n",
      "Epoch 93/100\n",
      "225/225 [==============================] - 5s 23ms/step - loss: 0.0527 - accuracy: 0.9776\n",
      "Epoch 94/100\n",
      "225/225 [==============================] - 5s 22ms/step - loss: 0.0490 - accuracy: 0.9796\n",
      "Epoch 95/100\n",
      "225/225 [==============================] - 5s 21ms/step - loss: 0.0491 - accuracy: 0.9794\n",
      "Epoch 96/100\n",
      "225/225 [==============================] - 5s 21ms/step - loss: 0.0475 - accuracy: 0.9795\n",
      "Epoch 97/100\n",
      "225/225 [==============================] - 5s 23ms/step - loss: 0.0451 - accuracy: 0.9813\n",
      "Epoch 98/100\n",
      "225/225 [==============================] - 5s 21ms/step - loss: 0.0454 - accuracy: 0.9809\n",
      "Epoch 99/100\n",
      "225/225 [==============================] - 5s 21ms/step - loss: 0.0462 - accuracy: 0.9806\n",
      "Epoch 100/100\n",
      "225/225 [==============================] - 5s 23ms/step - loss: 0.0470 - accuracy: 0.9809\n"
     ]
    },
    {
     "data": {
      "text/plain": [
       "<keras.callbacks.History at 0x18cd019ef70>"
      ]
     },
     "execution_count": 12,
     "metadata": {},
     "output_type": "execute_result"
    }
   ],
   "source": [
    "bin_vRise_RNN.fit(train_generator, \n",
    "                  epochs=100, \n",
    "                 )"
   ]
  },
  {
   "cell_type": "code",
   "execution_count": 13,
   "id": "07724d5b-055a-4207-a538-0f8387528653",
   "metadata": {},
   "outputs": [
    {
     "data": {
      "text/plain": [
       "<AxesSubplot:>"
      ]
     },
     "execution_count": 13,
     "metadata": {},
     "output_type": "execute_result"
    },
    {
     "data": {
      "image/png": "[encoded data removed]",
      "text/plain": [
       "<Figure size 640x480 with 1 Axes>"
      ]
     },
     "metadata": {},
     "output_type": "display_data"
    }
   ],
   "source": [
    "pd.DataFrame(bin_vRise_RNN.history.history).plot()"
   ]
  },
  {
   "cell_type": "code",
   "execution_count": 14,
   "id": "45d16f02-10d3-4e31-a0bd-d0f5e6b6007f",
   "metadata": {},
   "outputs": [
    {
     "name": "stderr",
     "output_type": "stream",
     "text": [
      "WARNING:absl:Found untraced functions such as lstm_cell_layer_call_fn, lstm_cell_layer_call_and_return_conditional_losses while saving (showing 2 of 2). These functions will not be directly callable after loading.\n"
     ]
    },
    {
     "name": "stdout",
     "output_type": "stream",
     "text": [
      "INFO:tensorflow:Assets written to: pickle_files/RNN/StLaurent_bin_vRise_model2\\assets\n"
     ]
    },
    {
     "name": "stderr",
     "output_type": "stream",
     "text": [
      "INFO:tensorflow:Assets written to: pickle_files/RNN/StLaurent_bin_vRise_model2\\assets\n"
     ]
    },
    {
     "data": {
      "text/plain": [
       "['pickle_files/RNN/StLaurent_bin_vRise_scaler2.plk']"
      ]
     },
     "execution_count": 14,
     "metadata": {},
     "output_type": "execute_result"
    }
   ],
   "source": [
    "bin_vRise_RNN.save('pickle_files/RNN/StLaurent_bin_vRise_model2')\n",
    "joblib.dump(numerical_scaler, 'pickle_files/RNN/StLaurent_bin_vRise_scaler2.plk')"
   ]
  }
 ],
 "metadata": {
  "kernelspec": {
   "display_name": "Python 3 (ipykernel)",
   "language": "python",
   "name": "python3"
  },
  "language_info": {
   "codemirror_mode": {
    "name": "ipython",
    "version": 3
   },
   "file_extension": ".py",
   "mimetype": "text/x-python",
   "name": "python",
   "nbconvert_exporter": "python",
   "pygments_lexer": "ipython3",
   "version": "3.7.15"
  },
  "widgets": {
   "application/vnd.jupyter.widget-state+json": {
    "state": {},
    "version_major": 2,
    "version_minor": 0
   }
  }
 },
 "nbformat": 4,
 "nbformat_minor": 5
}
