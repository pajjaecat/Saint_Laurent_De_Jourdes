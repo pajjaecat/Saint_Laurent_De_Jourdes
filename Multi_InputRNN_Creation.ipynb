{
 "cells": [
  {
   "cell_type": "markdown",
   "id": "d5bc9f77-4df7-4f9e-b87e-96e0097ed0ec",
   "metadata": {},
   "source": [
    "###    Create a multi input Neural Network Based on the functional API of Keras Tensor FLow"
   ]
  },
  {
   "cell_type": "code",
   "execution_count": 3,
   "id": "5c27f2cb-1d80-4d9c-bb3e-34520dfb98ff",
   "metadata": {},
   "outputs": [],
   "source": [
    "import numpy as np\n",
    "import tensorflow as tf\n",
    "from tensorflow import keras\n",
    "from tensorflow.keras import layers"
   ]
  },
  {
   "cell_type": "code",
   "execution_count": 4,
   "id": "9929793c-9cc8-468d-9c25-4f74884e7ac5",
   "metadata": {},
   "outputs": [],
   "source": [
    "from sklearn.preprocessing import OneHotEncoder"
   ]
  },
  {
   "cell_type": "markdown",
   "id": "9dc1d125-e2c3-4895-9d80-12ec1c186da5",
   "metadata": {},
   "source": [
    "#### Define Inputs i.e. total features for each inputs "
   ]
  },
  {
   "cell_type": "code",
   "execution_count": 26,
   "id": "f4aad870-8c3b-417f-9ae8-f5ee837c2183",
   "metadata": {},
   "outputs": [],
   "source": [
    "n1 =  5 ;        # [load, Bt_Prod, Ht_Prod] where Ht_Prod = [P0010, P0018,P0100]\n",
    "# n2 = 12+12+7+6   # 12 months || 6h-18h ==> 12 H || 7 days in a week || 6 periods (1:0mn ,2:10mn ... 6:50mn)\n",
    "n2 = 4   # 12 months || 6h-18h ==> 12 H || 7 days in a week || 6 periods (1:0mn ,2:10mn ... 6:50mn)\n",
    "\n",
    "actv_func ='relu'\n",
    "in1_ts = 60      # Number of time steps per batch for the input 1\n",
    "in2_ts = 18       # Number of time steps per batch for the second input\n",
    "\n",
    "# Define model output_features\n",
    "n_out_mod1 = n1 # The model must to predict all the input n1 \n",
    "\n",
    "# batchSizes = 32\n",
    "\n",
    "in1 = keras.Input(shape=(in1_ts,n1), name='Numeric')  # Input 1 | For the input intanciate only the feature dimension. i.e. create a tensor as \n",
    "                                  # in1.shape = [None, n1]\n",
    "# Input 2 \n",
    "in2 = keras.Input(shape=(in2_ts, n2), name='Categorical')   # Input 2 \n"
   ]
  },
  {
   "cell_type": "code",
   "execution_count": 27,
   "id": "a954d4e7-4a64-4245-b109-868a1f46e2ee",
   "metadata": {},
   "outputs": [
    {
     "data": {
      "text/plain": [
       "TensorShape([None, 60, 5])"
      ]
     },
     "execution_count": 27,
     "metadata": {},
     "output_type": "execute_result"
    }
   ],
   "source": [
    "in1.get_shape()"
   ]
  },
  {
   "cell_type": "markdown",
   "id": "7408923b-ceb7-44d9-b3a0-6e31d1c900e5",
   "metadata": {
    "tags": []
   },
   "source": [
    "#### Define number of cell on different layers"
   ]
  },
  {
   "cell_type": "code",
   "execution_count": 28,
   "id": "2c144237-e0a8-4b72-b648-48c708478201",
   "metadata": {},
   "outputs": [],
   "source": [
    "neur_lstm_layer1 = 40\n",
    "neur_lstm_layer2 = 40\n",
    "neur_lstm_layer3 = 30"
   ]
  },
  {
   "cell_type": "markdown",
   "id": "95253fe9-ceca-443b-a27a-ca30a954cf2a",
   "metadata": {
    "tags": []
   },
   "source": [
    "#### Input 1 "
   ]
  },
  {
   "cell_type": "markdown",
   "id": "a556a122-24cd-4d67-8bdd-f28292212532",
   "metadata": {},
   "source": [
    "##### Create hidden layers"
   ]
  },
  {
   "cell_type": "code",
   "execution_count": 62,
   "id": "7d22dbcc-2c95-433e-ac71-28a820eb0f98",
   "metadata": {},
   "outputs": [],
   "source": [
    "in1_layer1    = layers.LSTM(128, activation=actv_func) # Create the first layer of model 1\n",
    "in1_layer2    = layers.LSTM(neur_lstm_layer2, activation=actv_func, )                        # Create the second layer of model 1\n",
    "# in1_layer3    = layers.LSTM(neur_lstm_layer3, activation=actv_func)"
   ]
  },
  {
   "cell_type": "markdown",
   "id": "7745225b-4a46-4317-b727-abc29d1f21f5",
   "metadata": {},
   "source": [
    "##### Link input 1 to hidden layer 1\n",
    "Since the layer is an LSTM,  one needs to reshape the input such that its dimension in [x,y,z] so they can correspond to a LSTM's. \n",
    "- x ==> batch size, \n",
    "- y ==> nber_time_step_per batch ,\n",
    "- z ==> number of feature"
   ]
  },
  {
   "cell_type": "code",
   "execution_count": 63,
   "id": "37ddf7ae-cd6c-49a4-bc0b-9c2e8742b5ca",
   "metadata": {},
   "outputs": [],
   "source": [
    "in1_layer1_out = in1_layer1(in1)        \n",
    "# in1_layer1_out = in1_layer1(tf.reshape(in1, (-1, in1_ts, n1 )))        \n",
    "\n",
    "# Since we are returning the sequence of the previous lstm layer it can be directly link to the second layer\n",
    "# in1_layer2_out = in1_layer2(in1_layer1_out)  # Link output of hiddend layer 1 to to hidden layer 2\n",
    "# in1_layer3_out = in1_layer3(in1_layer2_out)"
   ]
  },
  {
   "cell_type": "markdown",
   "id": "d36f8669-9ad5-4328-af20-746c4be129df",
   "metadata": {
    "tags": []
   },
   "source": [
    "#### Input 2"
   ]
  },
  {
   "cell_type": "markdown",
   "id": "b1fee523-b694-4ff7-94af-75bc4cc18626",
   "metadata": {},
   "source": [
    "##### Create hidden layers"
   ]
  },
  {
   "cell_type": "code",
   "execution_count": 64,
   "id": "22b1cd3e-43f4-42c3-8409-b50f9b9e0fbf",
   "metadata": {},
   "outputs": [],
   "source": [
    "in2_layer1 = layers.LSTM(64,activation=actv_func)\n",
    "# in2_layer2 = layers.LSTM(neur_lstm_layer1, activation=actv_func, )\n",
    "# in2_layer3 = layers.LSTM(neur_lstm_layer1, activation=actv_func)"
   ]
  },
  {
   "cell_type": "markdown",
   "id": "05161875-f948-46d2-8ee9-8053d3471538",
   "metadata": {},
   "source": [
    "##### Link input 2 to hidden layer 1\n",
    "**<span style='color:red'> SAME PROCESS AS WITH INPUT 1 </span>**"
   ]
  },
  {
   "cell_type": "code",
   "execution_count": 65,
   "id": "9db347c6-5af5-4db5-b7c3-fba0cc28f0e4",
   "metadata": {},
   "outputs": [],
   "source": [
    "# in2_layer1_out = in2_layer1(tf.reshape(in2, (-1, in2_ts, n2)),)\n",
    "in2_layer1_out = in2_layer1(in2)\n",
    "# in2_layer2_out = in2_layer2(in2_layer1_out)\n",
    "# in2_layer3_out = in2_layer3(in2_layer2_out)"
   ]
  },
  {
   "cell_type": "code",
   "execution_count": 66,
   "id": "6c844a06-57bb-4114-8216-5a0e35216b24",
   "metadata": {},
   "outputs": [
    {
     "data": {
      "text/plain": [
       "TensorShape([None, 18, 4])"
      ]
     },
     "execution_count": 66,
     "metadata": {},
     "output_type": "execute_result"
    }
   ],
   "source": [
    "in2.shape"
   ]
  },
  {
   "cell_type": "markdown",
   "id": "219b2222-2ef1-4a77-9dc4-bb658ccfcd72",
   "metadata": {},
   "source": [
    "#### Combine both input "
   ]
  },
  {
   "cell_type": "code",
   "execution_count": 67,
   "id": "e562d66d-da94-462b-aacb-1804011e6e5f",
   "metadata": {},
   "outputs": [],
   "source": [
    "# # concatanate output of hidden layer2 of two imputs\n",
    "comb_out = layers.concatenate([in1_layer1_out, in2_layer1_out])"
   ]
  },
  {
   "cell_type": "markdown",
   "id": "96009e36-9187-41e4-b676-af51ac5cef18",
   "metadata": {},
   "source": [
    "#### Create an intermediate and the output layer and link them together with "
   ]
  },
  {
   "cell_type": "code",
   "execution_count": 68,
   "id": "0cfd14a7-012d-45ee-8190-96b045a5dfd0",
   "metadata": {},
   "outputs": [
    {
     "data": {
      "text/plain": [
       "40"
      ]
     },
     "execution_count": 68,
     "metadata": {},
     "output_type": "execute_result"
    }
   ],
   "source": [
    "neur_lstm_layer2"
   ]
  },
  {
   "cell_type": "code",
   "execution_count": 74,
   "id": "59a49c9a-6504-4a62-9611-a8f2de00ac55",
   "metadata": {},
   "outputs": [],
   "source": [
    "# create new dense Layer and connect to the concatanation of in1_2\n",
    "x = layers.Dense(60)(comb_out)\n",
    "\n",
    "#Seonde dense layer \n",
    "y = layers.Dense(256)(x)\n",
    "\n",
    "# \n",
    "out_mod = layers.Dense(n1, activation='relu')(y)"
   ]
  },
  {
   "cell_type": "markdown",
   "id": "85a651a4-2688-4128-9697-69daa67a19e6",
   "metadata": {},
   "source": [
    "#### Create final model "
   ]
  },
  {
   "cell_type": "code",
   "execution_count": 75,
   "id": "3719eef6-b8ef-4b54-bbfe-1e70d45514bf",
   "metadata": {},
   "outputs": [],
   "source": [
    "mixed_model = keras.Model(inputs=[in1,in2], outputs=out_mod)"
   ]
  },
  {
   "cell_type": "markdown",
   "id": "8b4edc0c-7c74-4f51-8ae7-d0c2821387c4",
   "metadata": {},
   "source": [
    "#### Show model parameters"
   ]
  },
  {
   "cell_type": "code",
   "execution_count": 76,
   "id": "abbe332e-71d9-4ada-b41b-921ee63dcb88",
   "metadata": {},
   "outputs": [
    {
     "name": "stdout",
     "output_type": "stream",
     "text": [
      "Model: \"model_6\"\n",
      "__________________________________________________________________________________________________\n",
      " Layer (type)                   Output Shape         Param #     Connected to                     \n",
      "==================================================================================================\n",
      " Numeric (InputLayer)           [(None, 60, 5)]      0           []                               \n",
      "                                                                                                  \n",
      " Categorical (InputLayer)       [(None, 18, 4)]      0           []                               \n",
      "                                                                                                  \n",
      " lstm_9 (LSTM)                  (None, 128)          68608       ['Numeric[0][0]']                \n",
      "                                                                                                  \n",
      " lstm_11 (LSTM)                 (None, 64)           17664       ['Categorical[0][0]']            \n",
      "                                                                                                  \n",
      " concatenate_3 (Concatenate)    (None, 192)          0           ['lstm_9[0][0]',                 \n",
      "                                                                  'lstm_11[0][0]']                \n",
      "                                                                                                  \n",
      " dense_15 (Dense)               (None, 60)           11580       ['concatenate_3[0][0]']          \n",
      "                                                                                                  \n",
      " dense_16 (Dense)               (None, 256)          15616       ['dense_15[0][0]']               \n",
      "                                                                                                  \n",
      " dense_17 (Dense)               (None, 5)            1285        ['dense_16[0][0]']               \n",
      "                                                                                                  \n",
      "==================================================================================================\n",
      "Total params: 114,753\n",
      "Trainable params: 114,753\n",
      "Non-trainable params: 0\n",
      "__________________________________________________________________________________________________\n"
     ]
    }
   ],
   "source": [
    "mixed_model.summary()"
   ]
  },
  {
   "cell_type": "code",
   "execution_count": 77,
   "id": "578aafa3-e9e6-4efb-a422-8dc8ca8b880d",
   "metadata": {},
   "outputs": [
    {
     "data": {
      "image/png": "[encoded data removed]",
      "text/plain": [
       "<IPython.core.display.Image object>"
      ]
     },
     "execution_count": 77,
     "metadata": {},
     "output_type": "execute_result"
    }
   ],
   "source": [
    "keras.utils.plot_model(mixed_model, show_shapes=True, )"
   ]
  },
  {
   "cell_type": "code",
   "execution_count": 78,
   "id": "bef9ddb5-4995-47e0-94b8-a8410c0a2447",
   "metadata": {},
   "outputs": [
    {
     "name": "stdout",
     "output_type": "stream",
     "text": [
      "WARNING:tensorflow:Compiled the loaded model, but the compiled metrics have yet to be built. `model.compile_metrics` will be empty until you train or evaluate the model.\n"
     ]
    },
    {
     "name": "stderr",
     "output_type": "stream",
     "text": [
      "WARNING:tensorflow:Compiled the loaded model, but the compiled metrics have yet to be built. `model.compile_metrics` will be empty until you train or evaluate the model.\n",
      "WARNING:absl:Function `_wrapped_model` contains input name(s) Numeric, Categorical with unsupported characters which will be renamed to numeric, categorical in the SavedModel.\n"
     ]
    },
    {
     "name": "stdout",
     "output_type": "stream",
     "text": [
      "INFO:tensorflow:Assets written to: pickle_files/RNN/Multi_Input\\assets\n"
     ]
    },
    {
     "name": "stderr",
     "output_type": "stream",
     "text": [
      "INFO:tensorflow:Assets written to: pickle_files/RNN/Multi_Input\\assets\n"
     ]
    }
   ],
   "source": [
    "mixed_model.save(\"pickle_files/RNN/Multi_Input\")"
   ]
  },
  {
   "cell_type": "code",
   "execution_count": 46,
   "id": "eec00288-f13b-4cf9-bedb-2b7c0fbbd76a",
   "metadata": {},
   "outputs": [
    {
     "data": {
      "text/plain": [
       "[<KerasTensor: shape=(None, 72, 5) dtype=float32 (created by layer 'Numeric')>,\n",
       " <KerasTensor: shape=(None, 72, 4) dtype=float32 (created by layer 'Categorical')>]"
      ]
     },
     "execution_count": 46,
     "metadata": {},
     "output_type": "execute_result"
    }
   ],
   "source": [
    "mixed_model.input"
   ]
  },
  {
   "cell_type": "markdown",
   "id": "b60b4646-f07e-4fdb-916c-a071f2d88f86",
   "metadata": {},
   "source": [
    "### Reading [# Forecasting: Principles and Practice](https://otexts.com/fpp3/)\n",
    "\n",
    "\n",
    "\n",
    "#### Getting Started\n",
    "\n",
    "###### Time Series Data :\n",
    "Data collected at regular spaced interval over time\n",
    "\n",
    "\n",
    "###### Cross -sectional data : \n",
    "Data collected at asogle point in time\n",
    "\n",
    "###### Decomposition method's role in time series prediction: \n",
    "They are useful for studying the trend and seasonal pattern in a time series\n",
    "\n",
    "Supposing $ED$ represent the Electricity demand, its <span>Explanatory model </span> \n",
    "Helps explain what couses the variation in a variable to predict. , "
   ]
  }
 ],
 "metadata": {
  "kernelspec": {
   "display_name": "Python 3 (ipykernel)",
   "language": "python",
   "name": "python3"
  },
  "language_info": {
   "codemirror_mode": {
    "name": "ipython",
    "version": 3
   },
   "file_extension": ".py",
   "mimetype": "text/x-python",
   "name": "python",
   "nbconvert_exporter": "python",
   "pygments_lexer": "ipython3",
   "version": "3.9.12"
  }
 },
 "nbformat": 4,
 "nbformat_minor": 5
}
