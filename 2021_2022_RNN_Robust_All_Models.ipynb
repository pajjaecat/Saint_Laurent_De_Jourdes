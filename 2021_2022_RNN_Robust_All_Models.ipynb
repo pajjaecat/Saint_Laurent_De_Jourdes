{
 "cells": [
  {
   "cell_type": "markdown",
   "id": "57c865aa-ebd5-4944-a381-ca3a5f49c6ed",
   "metadata": {},
   "source": [
    "### Combined predictions of 3 RNN models \n",
    "to evaluate whether a voltage rise will occur in next step\n",
    "- **Model1** : Compute power flow and get voltage rise based on Predicted $\\tilde{X(k)}$ and $\\tilde{Y(k)}$ \n",
    "- **Model2** : Predict binary voltage rise i.e. 0 or 1\n",
    "- **Model3** : Predic the value of the voltage rise based on inputs \n",
    "\n",
    "V_rise threshold= 1.025"
   ]
  },
  {
   "cell_type": "markdown",
   "id": "4ff44841-10f2-4728-baba-ae19c2c94033",
   "metadata": {},
   "source": [
    "---"
   ]
  },
  {
   "cell_type": "markdown",
   "id": "6269c2ae-4edb-4edc-b9e6-5e8fc8a519e5",
   "metadata": {
    "tags": []
   },
   "source": [
    "#### Import modules to be used"
   ]
  },
  {
   "cell_type": "code",
   "execution_count": 1,
   "id": "7d03799f-9341-49e9-aa88-949421832c6a",
   "metadata": {},
   "outputs": [],
   "source": [
    "#Import Modules \n",
    "import pandas as pd\n",
    "import pandapower as pp\n",
    "import matplotlib.pyplot as plt\n",
    "import numpy as np\n",
    "from tqdm import tqdm # Profiling   \n",
    "import seaborn as sbn\n",
    "import pickle, sys, importlib,  time\n",
    "import os\n",
    "from pickle import load\n",
    "import tensorflow as tf\n",
    "import joblib\n",
    "import ipyparallel as ipp\n"
   ]
  },
  {
   "cell_type": "markdown",
   "id": "16db7562-3193-4a71-989f-91eecbcb416f",
   "metadata": {
    "tags": []
   },
   "source": [
    "#### Import my own modules"
   ]
  },
  {
   "cell_type": "code",
   "execution_count": 3,
   "id": "a69c9bbb-3053-4406-93e0-ff2174ad91ca",
   "metadata": {},
   "outputs": [],
   "source": [
    "# import psutil\n",
    "function_folder = 'py_files/' \n",
    "# Add function folder to path if it is not already\n",
    "if function_folder not in sys.path: sys.path.append(function_folder)\n",
    "\n",
    "import oriFunctions as oriFc\n",
    "from oriFunctions import network_folder, excel_folder, py_folder, Δt, attr_list"
   ]
  },
  {
   "cell_type": "code",
   "execution_count": 4,
   "id": "053e857a-1753-4fe3-807e-d78de0045445",
   "metadata": {},
   "outputs": [],
   "source": [
    "#Import Networks\n",
    "net_civaux=pp.from_pickle(f'{network_folder}CIVAUX.p')\n",
    "net_stlaurent=pp.from_pickle(f'{network_folder}ST LAURENT.p')\n",
    "\n",
    "# Compute the total of BT prod and Load on St Laurent\n",
    "sum_max_p_mw_StLaurent_prodBT =net_stlaurent.sgen[net_stlaurent.sgen.name.isna()].max_p_mw.sum()\n",
    "sum_max_p_mw_StLaurent_load = net_stlaurent.load.max_p_mw.sum()\n",
    "\n",
    "# To use later in functions \n",
    "sum_max_main_network = (sum_max_p_mw_StLaurent_prodBT, sum_max_p_mw_StLaurent_load)\n"
   ]
  },
  {
   "cell_type": "markdown",
   "id": "18e5c195-433d-4618-9a21-7d7396ef2373",
   "metadata": {
    "tags": []
   },
   "source": [
    "#### Import Network data"
   ]
  },
  {
   "cell_type": "code",
   "execution_count": 5,
   "id": "689bcade-9f10-4db4-908c-1b7cf3464148",
   "metadata": {
    "tags": []
   },
   "outputs": [],
   "source": [
    "#Load files\n",
    "file_p_inj_0013 = 'Prod_HTA/PROD_Bis/P0013/PROD-BATISOLAIRE 6-CIVAUX - Actif injecte (P-).csv'\n",
    "file_p_inj_0018 = 'Prod_HTA/PROD_Bis/P0018/PROD-SUN POITOU 2516 (Z.I de la Pitage)-LHOMMAIZE - Actif injecte (P-).csv'\n",
    "\n",
    "\n",
    "# The  commissioning of the Prod P0100 is recent (2022). I therefore use the data of the closer energy \n",
    "# producer that is P0058  and consider it as that of Prod P0100 \n",
    "file_p_inj_0100 = 'Prod_HTA/PROD_Bis/PROD-SERGIES 2204 (LA ROCHE A CORNUCHON)-PINDRAY - Actif P-.csv'\n",
    "\n",
    "file_prod_bt_total = 'PROD_BTSUP36_SAINT LAURENT.csv'\n",
    "file_cons_total = 'CONSO_POSTE_SAINT LAURENT.csv'\n",
    "\n",
    "\n",
    "# Get files data \n",
    "p_mw_0013 = oriFc.readAndReshape_excelFile(file_p_inj_0013 ,excel_folder, )\n",
    "p_mw_0018 = oriFc.readAndReshape_excelFile(file_p_inj_0018 ,excel_folder,)\n",
    "p_mw_0100 = oriFc.readAndReshape_excelFile(file_p_inj_0100 ,excel_folder,)\n",
    "\n",
    "\n",
    "p_mw_prod_bt_total = oriFc.readAndReshape_excelFile(file_prod_bt_total, excel_folder)\n",
    "p_mw_cons_total = oriFc.readAndReshape_excelFile(file_cons_total, excel_folder)\n",
    "\n",
    "# Create dict for all HT producers\n",
    "dict_prod_hv = {'P0013': p_mw_0013[:len(p_mw_0100)], \n",
    "                'P0018': p_mw_0018[:len(p_mw_0100)],\n",
    "                'P0100': p_mw_0100[:len(p_mw_0100)]\n",
    "               }\n",
    "# Create index to use for dataframe\n",
    "per_index = pd.period_range('01 01 2020', periods=len(p_mw_0100), freq='10T')\n",
    "\n",
    "# Use the create dict to create a dataFrame for Prod P0100\n",
    "df_prodP0100 = pd.DataFrame(p_mw_0100, index=per_index)\n",
    "\n",
    "# Use the create dict to create a dataFrame for all HT producers\n",
    "df_prodHT = pd.DataFrame(dict_prod_hv, index=per_index)\n",
    "\n",
    "# Dataframe prod BT \n",
    "per_index = pd.period_range('01 01 2020', periods=len(p_mw_prod_bt_total), freq='10T')\n",
    "df_prod_bt_total = pd.DataFrame(p_mw_prod_bt_total, index=per_index, columns=['Prod_BT'])\n",
    "\n",
    "\n",
    "# Dataframe Conso BT \n",
    "per_index = pd.period_range('01 01 2020', periods=len(p_mw_cons_total), freq='10T')\n",
    "df_cons_total = pd.DataFrame(p_mw_cons_total, index=per_index, columns=['Cons'])\n",
    "# Data cleaning on Consumption\n",
    "previous_days = df_cons_total[(per_index>='2022 02 12') & (per_index<='2022 02 21 23:50')]\n",
    "following_days = df_cons_total[(per_index>='2022 03 03') & (per_index<='2022 03 12 23:50')]\n",
    "# # Put the interpolated data into the dataframe\n",
    "df_cons_total[(per_index>='2022 02 21') & (per_index<='2022 03 02 23:50')] = (np.array(following_days) + \n",
    "                                                                              np.array(previous_days) )/2\n",
    "\n",
    "\n",
    "# Get total Power of BT producers\n",
    "# Bt producers are indexed by the name None\n",
    "max_p_mw_total_prodBT = net_civaux.sgen.max_p_mw[net_civaux.sgen.name.isna()].sum()\n",
    "\n",
    "# # Get total power of load in the network\n",
    "max_p_mw_total_load = net_civaux.load.max_p_mw.sum()\n",
    "\n",
    "# Select relevant data up to 2022 06 01\n",
    "df_prodHT = df_prodHT[df_prodHT.index<='2022 06 01 23:50']\n",
    "df_prod_bt_total = df_prod_bt_total[df_prod_bt_total.index<='2022 06 01 23:50']\n",
    "df_cons_total = df_cons_total[df_cons_total.index<='2022 06 01 23:50']\n",
    "\n",
    "\n",
    "# Extract only dailight period i.e. from 07am to 7PM\n",
    "# The daylight period is considered to be defined betwenn 07am and 7Pm excluded. \n",
    "h_start_end = ('07:00','18:50') # for the persistance model, the previous period i.e. 06:50 \n",
    "                                # is needed to compute the first instant i.e. 07:00\n",
    "per_index = df_prodHT.index\n",
    "per_daylight = ( pd.Series(index=per_index.to_timestamp(), dtype=object).between_time(*h_start_end) ).index.to_period('10T')\n",
    "day_tot_per = len(per_daylight[(per_daylight.year==2020)&(per_daylight.month==1)&(per_daylight.day==1)])\n",
    "\n",
    "\n",
    "# Put all the data in a unique dataframe\n",
    "df_data = pd.concat([df_cons_total, df_prod_bt_total, df_prodHT], axis=1).loc[per_daylight]\n",
    "\n",
    "# # Extract only the relavant testing set since the training set covers the first part of the data\n",
    "df_final = df_data[df_data.index>='2021 06 01']\n",
    "per_index = df_final.index\n",
    "per_index2 = ( pd.Series(index=per_index.to_timestamp(), dtype=object\n",
    "                           ).between_time('07:00','18:50') ).index.to_period('10T')\n"
   ]
  },
  {
   "cell_type": "markdown",
   "id": "3dc26909-5a1b-4217-905e-ab50efdfce47",
   "metadata": {
    "tags": []
   },
   "source": [
    "#### Import Simulation results from [Model2](voltageRiseBin_Pred.ipynb) and [Model3](VoltageRiseNum_Pred.ipynb)"
   ]
  },
  {
   "cell_type": "code",
   "execution_count": 7,
   "id": "a0c24c0d-d2e7-42fe-b7f7-648c24610ae3",
   "metadata": {},
   "outputs": [],
   "source": [
    "pred_num_vRise = joblib.load('pickle_files/simulationResults/Numerical_Voltage_Rise_Predicted.pkl')\n",
    "pred_bin_vRise = joblib.load('pickle_files/simulationResults/Binary_Voltage_Rise_Predicted.pkl')"
   ]
  },
  {
   "cell_type": "markdown",
   "id": "8346feaf-69b6-4a34-a04b-f93f27c42853",
   "metadata": {
    "tags": []
   },
   "source": [
    "#### Create a mask for the period to work with "
   ]
  },
  {
   "cell_type": "code",
   "execution_count": 8,
   "id": "e9c454ad-3f18-4e6e-9587-0a0716669287",
   "metadata": {},
   "outputs": [],
   "source": [
    "mask_per2work = pred_bin_vRise[pred_bin_vRise.index>='2021 06 02'].index # We select from the second day of testing set \n",
    "# since Model1  needs a whole day to predict the first period\n",
    "\n",
    "# Select the period of 09Am to 07Pm for all days considered\n",
    "mask_per2work = mask_per2work.to_timestamp().to_series().between_time('08:10','18:30').index.to_period('10T')\n"
   ]
  },
  {
   "cell_type": "markdown",
   "id": "39fd6943-7dad-4be7-b89d-946eb829b531",
   "metadata": {},
   "source": [
    "#### Load prediction file of model1 \n",
    "i.e. $\\tilde{X(k)}$ an  $\\tilde{Y(k)}$ predicted in [RNN_Sim_StLaurentDeJourdes](RNN_Sim_StLaurentDeJourdes.ipynb)"
   ]
  },
  {
   "cell_type": "code",
   "execution_count": 13,
   "id": "d4ec3451-b0fd-431a-be75-3fd564d6f8ab",
   "metadata": {},
   "outputs": [],
   "source": [
    "pred_Model1_df = joblib.load('pickle_files/simulationResults/RNN_pred.pkl')"
   ]
  },
  {
   "cell_type": "markdown",
   "id": "2723c48c-38e7-49c4-8115-983f260f5c05",
   "metadata": {
    "tags": []
   },
   "source": [
    "#### Start Parallel engines"
   ]
  },
  {
   "cell_type": "code",
   "execution_count": 14,
   "id": "040d0bcd-7492-44b3-b06d-13621017612b",
   "metadata": {},
   "outputs": [
    {
     "name": "stdout",
     "output_type": "stream",
     "text": [
      "Starting 7 engines with <class 'ipyparallel.cluster.launcher.LocalEngineSetLauncher'>\n"
     ]
    },
    {
     "data": {
      "application/vnd.jupyter.widget-view+json": {
       "model_id": "eabaa8e40cec421e9414fe896c6b666c",
       "version_major": 2,
       "version_minor": 0
      },
      "text/plain": [
       "  0%|          | 0/7 [00:00<?, ?engine/s]"
      ]
     },
     "metadata": {},
     "output_type": "display_data"
    }
   ],
   "source": [
    "n_engines = 6  # Total number of engines\n",
    "# (Use the real maximum cpu and not the logical)            \n",
    "cluster = ipp.Cluster(n=n_engines) # Create cluster\n",
    "cluster.start_cluster_sync()       # Start cluster \n",
    "rc = cluster.connect_client_sync() # connect client\n",
    "rc.wait_for_engines(n_engines)     # Wait for engines to be available for all clients\n",
    "dview = rc[:]                      # Create a direct view of all engine or clients that would\n",
    "                                   # be used to command each client"
   ]
  },
  {
   "cell_type": "markdown",
   "id": "2e3f2524-aa33-41b6-b6a0-52b3c6ee6b1c",
   "metadata": {
    "tags": []
   },
   "source": [
    "## OPF  RNN"
   ]
  },
  {
   "cell_type": "markdown",
   "id": "e7fd2a51-d61c-4f5e-a2f2-0fe966e1952d",
   "metadata": {},
   "source": [
    "#### Load network"
   ]
  },
  {
   "cell_type": "code",
   "execution_count": 15,
   "id": "71f0630e-b8be-47fd-b219-62d7736d21fe",
   "metadata": {},
   "outputs": [],
   "source": [
    "net_civaux=pp.from_pickle(f'{network_folder}CIVAUX.p') # Reload network with new name \n",
    "\n",
    "# Add a controllable line to the static generators\n",
    "net_civaux.sgen['controllable'] = False \n",
    "\n",
    "# Set the producer P0100 as a controllable load\n",
    "net_civaux.sgen['controllable'][net_civaux.sgen.name=='P0100'] = True\n",
    "\n",
    "# Add Missing columns to be able to un an opf \n",
    "net_civaux.sgen[['min_p_mw', 'min_q_mvar', 'max_q_mvar']]=0.\n",
    "\n",
    "# Rename data in bus network because the names do not correspond to the parameters in pandapower \n",
    "net_civaux.bus.rename({'max_vw_pu':'max_vm_pu',}, axis=1, inplace=True)\n",
    "\n",
    "net_civaux.bus.drop(['max_vm', 'min_vm'], axis=1, inplace=True)    # Delete useless parameters\n",
    "net_civaux_hv_bus = list(net_civaux.bus.groupby('vn_kv'))[1][1]   # Extract HV bus in the network\n",
    "\n",
    "pp.runpp(net_civaux) # Run network \n",
    "\n",
    "# Get the index of all the activated bus in the network\n",
    "activated_bus_index2 = list(net_civaux.res_bus.vm_pu[net_civaux.res_bus.vm_pu.notna()].index)\n",
    "\n",
    "# Extract the HV bus from the list of activated bus \n",
    "net_civaux_hv_activated_bus = [i for i in activated_bus_index2 \n",
    "                               if i in net_civaux_hv_bus.index]"
   ]
  },
  {
   "cell_type": "markdown",
   "id": "ec18b08d-9e20-4b7c-b307-08330ee8bb75",
   "metadata": {
    "tags": []
   },
   "source": [
    "#### Add maximum voltage constraints on the Buses in the network "
   ]
  },
  {
   "cell_type": "code",
   "execution_count": 16,
   "id": "ca58d15d-b1a4-49c6-b23e-7c4c8948e5a2",
   "metadata": {},
   "outputs": [],
   "source": [
    "vm_mu_max, vm_mu_min = 1.0250, 0.95  # Choosen \n",
    "# vm_mu_max, vm_mu_min = 1.0225, 0.95  # Choosen \n",
    "\n",
    "# net_civaux.bus.max_vm_pu[net_civaux.bus.max_vm_pu.notna()] = vm_mu_max\n",
    "net_civaux.bus.max_vm_pu[net_civaux_hv_activated_bus] = vm_mu_max\n",
    "net_civaux.bus.min_vm_pu[net_civaux_hv_activated_bus] = vm_mu_min\n"
   ]
  },
  {
   "cell_type": "markdown",
   "id": "499a22d2-0560-4f87-8337-12e92f10b57a",
   "metadata": {},
   "source": [
    "#### Controllable Generators costs"
   ]
  },
  {
   "cell_type": "code",
   "execution_count": 17,
   "id": "0f284b1b-430b-4215-b4b4-9050e723c5d8",
   "metadata": {},
   "outputs": [
    {
     "data": {
      "text/html": [
       "<div>\n",
       "<style scoped>\n",
       "    .dataframe tbody tr th:only-of-type {\n",
       "        vertical-align: middle;\n",
       "    }\n",
       "\n",
       "    .dataframe tbody tr th {\n",
       "        vertical-align: top;\n",
       "    }\n",
       "\n",
       "    .dataframe thead th {\n",
       "        text-align: right;\n",
       "    }\n",
       "</style>\n",
       "<table border=\"1\" class=\"dataframe\">\n",
       "  <thead>\n",
       "    <tr style=\"text-align: right;\">\n",
       "      <th></th>\n",
       "      <th>element</th>\n",
       "      <th>et</th>\n",
       "      <th>cp0_eur</th>\n",
       "      <th>cp1_eur_per_mw</th>\n",
       "      <th>cp2_eur_per_mw2</th>\n",
       "      <th>cq0_eur</th>\n",
       "      <th>cq1_eur_per_mvar</th>\n",
       "      <th>cq2_eur_per_mvar2</th>\n",
       "    </tr>\n",
       "  </thead>\n",
       "  <tbody>\n",
       "    <tr>\n",
       "      <th>0</th>\n",
       "      <td>23</td>\n",
       "      <td>sgen</td>\n",
       "      <td>0.0</td>\n",
       "      <td>-1.0</td>\n",
       "      <td>0.0</td>\n",
       "      <td>0.0</td>\n",
       "      <td>0.0</td>\n",
       "      <td>0.0</td>\n",
       "    </tr>\n",
       "  </tbody>\n",
       "</table>\n",
       "</div>"
      ],
      "text/plain": [
       "   element    et  cp0_eur  cp1_eur_per_mw  cp2_eur_per_mw2  cq0_eur  \\\n",
       "0       23  sgen      0.0            -1.0              0.0      0.0   \n",
       "\n",
       "   cq1_eur_per_mvar  cq2_eur_per_mvar2  \n",
       "0               0.0                0.0  "
      ]
     },
     "execution_count": 17,
     "metadata": {},
     "output_type": "execute_result"
    }
   ],
   "source": [
    "# Add negative cost to usability of sgen P0100 so its usage can be maximised while respecting the constraints on the network\n",
    "cost_sgen_p0100 = pp.create_poly_cost(net_civaux,23,'sgen', cp1_eur_per_mw=-1)\n",
    "# net_civaux.poly_cost.cp1_eur_per_mw.at[cost_sgen_p0100]=-0.5\n",
    "net_civaux.poly_cost"
   ]
  },
  {
   "cell_type": "markdown",
   "id": "4128a723-6d2b-4aad-980d-feefa3564eda",
   "metadata": {
    "tags": []
   },
   "source": [
    "#### Define Data to use in local space of parallel engines"
   ]
  },
  {
   "cell_type": "markdown",
   "id": "a1a9aae9-6130-4a00-b5b2-92e5cd81ab42",
   "metadata": {
    "tags": []
   },
   "source": [
    "##### Create a function to rename Columns name \n",
    "\n",
    "\n",
    "    Ex: from ==> ['P0013_RNN', 'P0018_RNN', 'P0100_RNN'] ==> to ['P0013', 'P0018', 'P0100']"
   ]
  },
  {
   "cell_type": "code",
   "execution_count": 18,
   "id": "6816fe1c-93e8-4153-9dc4-458459ecceaa",
   "metadata": {},
   "outputs": [],
   "source": [
    "rename = lambda name_list : [name.split('_R')[0] for name in name_list]"
   ]
  },
  {
   "cell_type": "markdown",
   "id": "66a7d7b1-6f72-4bb8-a2a5-604ccc0bae20",
   "metadata": {},
   "source": [
    "##### Extract predicted values  from Model1 and rename it"
   ]
  },
  {
   "cell_type": "code",
   "execution_count": 19,
   "id": "bc92176d-256a-4fcc-9e7e-1e8a8ce2bbc1",
   "metadata": {},
   "outputs": [],
   "source": [
    "df_prodHT = pred_Model1_df[['P0013_RNN','P0018_RNN','P0100_RNN']] \n",
    "df_prod_bt_total = pred_Model1_df[['Prod_BT_RNN']]\n",
    "df_cons_total = pred_Model1_df[['Cons_RNN']]\n",
    "\n",
    "df_prodHT.columns, df_prod_bt_total.columns, df_cons_total.columns = map(rename, \n",
    "                                                                         [df_prodHT.columns, \n",
    "                                                                          df_prod_bt_total.columns, \n",
    "                                                                          df_cons_total.columns ])"
   ]
  },
  {
   "cell_type": "markdown",
   "id": "b7d551b0-9c1e-45de-9b04-415f41f6c66a",
   "metadata": {},
   "source": [
    "##### Create dictionnary of predicted values"
   ]
  },
  {
   "cell_type": "code",
   "execution_count": 20,
   "id": "ede2c101-b462-406b-9d64-536eefec6175",
   "metadata": {},
   "outputs": [],
   "source": [
    "# Define a dict \n",
    "dict_df_sgenLoad = dict({'df_prodHT':df_prodHT, \n",
    "                         'df_prod_bt_total':df_prod_bt_total, \n",
    "                         'df_cons_total':df_cons_total } )"
   ]
  },
  {
   "cell_type": "markdown",
   "id": "86ea37e6-39f8-4ce9-8e61-ab7f3acf4462",
   "metadata": {},
   "source": [
    "#### Send data into local space of each engine"
   ]
  },
  {
   "cell_type": "code",
   "execution_count": 21,
   "id": "a5247b50-13f5-46e8-93eb-f46efb075d6f",
   "metadata": {
    "tags": []
   },
   "outputs": [
    {
     "name": "stdout",
     "output_type": "stream",
     "text": [
      "importing numpy on engine(s)\n",
      "importing pandapower on engine(s)\n",
      "importing pandas on engine(s)\n",
      "importing Par_myFunctions on engine(s)\n",
      "importing tqdm on engine(s)\n",
      "importing importlib on engine(s)\n"
     ]
    },
    {
     "data": {
      "text/plain": [
       "<AsyncResult(_push): pending>"
      ]
     },
     "execution_count": 21,
     "metadata": {},
     "output_type": "execute_result"
    }
   ],
   "source": [
    "# Clear the localspace of all engines\n",
    "dview.clear() \n",
    "\n",
    "# # Import following modules on the local space of clients or engines\n",
    "with rc[:].sync_imports():\n",
    "    import numpy, pandapower,pandas, par_oriFunctions, tqdm, importlib\n",
    "    importlib.reload(par_oriFunctions)\n",
    "    \n",
    "# Share the total number of period in df_prodHT.index among all the created engines\n",
    "dview.scatter('period_part', df_prodHT.index)\n",
    "\n",
    "# Parameters for the persistence model\n",
    "opf_status = 'Both' \n",
    "\n",
    "# Create a dictionnary containing all the varible that will be used by each client or engine\n",
    "parameters_dict = dict({'net_civaux':net_civaux, \n",
    "                        'net_civaux_hv_activated_bus':net_civaux_hv_activated_bus, \n",
    "                        'sum_max_main_network':sum_max_main_network, \n",
    "                        'dict_df_sgenLoad':dict_df_sgenLoad,\n",
    "                        'vm_mu_max':vm_mu_max,\n",
    "                        'opf_status':opf_status, \n",
    "                         })\n",
    "\n",
    "dview.push(parameters_dict) # Add all  variables in the parameters_dict \n",
    "                            # to  the local space of each client"
   ]
  },
  {
   "cell_type": "markdown",
   "id": "6fb0825a-c710-421a-804b-13f0ffd54e33",
   "metadata": {},
   "source": [
    "#### Run Optimal /power flow  in each local engine\n",
    "**<span style='color:red'> -----------------  BLOC  PF/OPF -------------------  </span>**"
   ]
  },
  {
   "cell_type": "code",
   "execution_count": 22,
   "id": "a92969d4-c6d8-43ad-93ab-7b3f15d04e9a",
   "metadata": {},
   "outputs": [
    {
     "data": {
      "application/vnd.jupyter.widget-view+json": {
       "model_id": "f7ed75e25fcd43879b86d59d5b199202",
       "version_major": 2,
       "version_minor": 0
      },
      "text/plain": [
       "%px:   0%|          | 0/7 [00:00<?, ?tasks/s]"
      ]
     },
     "metadata": {},
     "output_type": "display_data"
    }
   ],
   "source": [
    "%%px \n",
    "resulting = [par_oriFunctions.run_powerflow_at(net_civaux, cur_period, net_civaux_hv_activated_bus, \n",
    "                                              sum_max_main_network,  dict_df_sgenLoad, vm_mu_max, \n",
    "                                              opf_status) for cur_period in period_part]"
   ]
  },
  {
   "cell_type": "markdown",
   "id": "0ec0cd93-e147-4a30-825b-81be3a8f52ba",
   "metadata": {
    "tags": []
   },
   "source": [
    "##### Extract results"
   ]
  },
  {
   "cell_type": "code",
   "execution_count": 29,
   "id": "f8cbace4-1348-4ccd-9c7b-1723ed453bc1",
   "metadata": {},
   "outputs": [],
   "source": [
    "# Gather the result of each engine in a single list\n",
    "results = dview.gather('resulting')\n",
    "time.sleep(1)\n",
    "\n",
    "# Extract results\n",
    "model1_pred_res = oriFc.extract_par_results(results, df_prodHT)\n",
    "\n",
    "# Get maximum volatage over the network \n",
    "max_vm_pu_df_RNN = model1_pred_res[['max_vm_pu_pf']]"
   ]
  },
  {
   "cell_type": "markdown",
   "id": "4dc2cc9f-406f-41bd-b0bf-6fb0782bacc1",
   "metadata": {},
   "source": [
    "#### Combined result of 3 models \n",
    "**<span style='color:red'> -----------------  BLOC  robust Pred -------------------  </span>**"
   ]
  },
  {
   "cell_type": "code",
   "execution_count": 101,
   "id": "47f8e7da-71a6-47ec-b75b-7807dcf9c771",
   "metadata": {},
   "outputs": [],
   "source": [
    "# Apply period to work with to all three model output\n",
    "model1_Vrise, model2_Vrise, model3_Vrise = (max_vm_pu_df_RNN.loc[mask_per2work], \n",
    "                                            pred_num_vRise.loc[mask_per2work], \n",
    "                                            pred_bin_vRise.loc[mask_per2work] )\n",
    "\n",
    "# create a dictionnary to save modelVrise\n",
    "v_rise_dict = {name: model for name, model in zip( ['Model'+str(i) for i in range(1,4)], \n",
    "                                                  [model1_Vrise, model2_Vrise, model3_Vrise] ) }\n",
    "\n",
    "model_name = 'Model1'\n",
    "\n",
    "# Extract P0100 based on robust prediction of threshold\n",
    "P0100_opt, all_me = oriFc.robustPred(v_rise_dict, df_final[['P0100']], model1_pred_res[['P0100']],vm_mu_max,'Model1')"
   ]
  },
  {
   "cell_type": "markdown",
   "id": "62d04402-b704-431f-beeb-2ef1eef2c5b9",
   "metadata": {},
   "source": [
    "### Reality check\n",
    "\n",
    "**<span style='color:red'> -------------------  BLOC PROD  ---------------------</span>**"
   ]
  },
  {
   "cell_type": "code",
   "execution_count": 102,
   "id": "9b627e4c-3776-49cb-bf7e-0a2ca8881285",
   "metadata": {},
   "outputs": [],
   "source": [
    "P0100_opt.loc[mask_per2work,['P0100']] = np.minimum(df_final.loc[mask_per2work, 'P0100'], P0100_opt.P0100)"
   ]
  },
  {
   "cell_type": "markdown",
   "id": "132d8405-ef35-47de-b7d1-00c22b3af48c",
   "metadata": {},
   "source": [
    " <span style='color:red'> **-------------------------------------------------------**  </span>"
   ]
  },
  {
   "cell_type": "markdown",
   "id": "fe7996ac-f8a4-4af9-81b5-a3aa48126cdd",
   "metadata": {},
   "source": [
    "#### Update Values for the dict to use for power flow\n"
   ]
  },
  {
   "cell_type": "code",
   "execution_count": 103,
   "id": "d3c8bcb0-2a4a-48db-b678-d1760e03eafd",
   "metadata": {},
   "outputs": [],
   "source": [
    "prod_hv_df = pd.concat([df_final.loc[mask_per2work, ['P0013', 'P0018']],P0100_opt], axis=1)\n",
    "\n",
    "dict_df_sgenLoad = dict({'df_prodHT': prod_hv_df, \n",
    "                         'df_prod_bt_total':df_final.loc[mask_per2work, ['Prod_BT']], \n",
    "                         'df_cons_total':df_final.loc[mask_per2work, ['Cons']] } )"
   ]
  },
  {
   "cell_type": "markdown",
   "id": "33c15ae4-eb76-416d-ae72-b486ee9d1655",
   "metadata": {},
   "source": [
    "#### Send data into local space of each engine"
   ]
  },
  {
   "cell_type": "code",
   "execution_count": 104,
   "id": "ab875c37-8ced-491e-8ff4-20746b96d47a",
   "metadata": {
    "tags": []
   },
   "outputs": [
    {
     "name": "stdout",
     "output_type": "stream",
     "text": [
      "importing numpy on engine(s)\n",
      "importing pandapower on engine(s)\n",
      "importing pandas on engine(s)\n",
      "importing Par_myFunctions on engine(s)\n",
      "importing tqdm on engine(s)\n",
      "importing importlib on engine(s)\n"
     ]
    },
    {
     "data": {
      "text/plain": [
       "<AsyncResult(_push): pending>"
      ]
     },
     "execution_count": 104,
     "metadata": {},
     "output_type": "execute_result"
    }
   ],
   "source": [
    "# Clear the localspace of all engines\n",
    "dview.clear() \n",
    "\n",
    "# # Import following modules on the local space of clients or engines\n",
    "with rc[:].sync_imports():\n",
    "    import numpy, pandapower,pandas, par_oriFunctions, tqdm, importlib\n",
    "    importlib.reload(par_oriFunctions)\n",
    "    \n",
    "# Share the total number of period in df_prodHT.index among all the created engines\n",
    "dview.scatter('period_part', prod_hv_df.index)\n",
    "\n",
    "# Parameters for the persistence model\n",
    "opf_status = False \n",
    "\n",
    "# Create a dictionnary containing all the varible that will be used by each client or engine\n",
    "parameters_dict = dict({'net_civaux':net_civaux, \n",
    "                        'net_civaux_hv_activated_bus':net_civaux_hv_activated_bus, \n",
    "                        'sum_max_main_network':sum_max_main_network, \n",
    "                        'dict_df_sgenLoad':dict_df_sgenLoad,\n",
    "                        'vm_mu_max':vm_mu_max,\n",
    "                        'opf_status':opf_status})\n",
    "\n",
    "dview.push(parameters_dict) # Add all  variables in the parameters_dict \n",
    "                            # to  the local space of each client"
   ]
  },
  {
   "cell_type": "markdown",
   "id": "d42ec65a-66be-4cf1-84f9-1644874c1ff2",
   "metadata": {},
   "source": [
    "#### Run power flow in each local engine\n",
    "**<span style='color:red'> ------------------------ BLOC  PF  -----------------------  </span>**"
   ]
  },
  {
   "cell_type": "code",
   "execution_count": 105,
   "id": "8cc8ded4-831b-45ab-b386-636df9176996",
   "metadata": {},
   "outputs": [
    {
     "data": {
      "application/vnd.jupyter.widget-view+json": {
       "model_id": "a57c8fae5f9e432a9143b2965cf5eab6",
       "version_major": 2,
       "version_minor": 0
      },
      "text/plain": [
       "%px:   0%|          | 0/7 [00:00<?, ?tasks/s]"
      ]
     },
     "metadata": {},
     "output_type": "display_data"
    }
   ],
   "source": [
    "%%px \n",
    "resulting = [par_oriFunctions.run_powerflow_at(net_civaux, cur_period, net_civaux_hv_activated_bus, \n",
    "                                              sum_max_main_network,  dict_df_sgenLoad, vm_mu_max, \n",
    "                                              opf_status) for cur_period in period_part]"
   ]
  },
  {
   "cell_type": "code",
   "execution_count": 106,
   "id": "e0934407-35b7-4a00-8d03-c38450e3e646",
   "metadata": {},
   "outputs": [],
   "source": [
    "model_name = 'Model1'\n"
   ]
  },
  {
   "cell_type": "markdown",
   "id": "d2be4417-f2d8-4640-8004-78c62f468842",
   "metadata": {
    "tags": []
   },
   "source": [
    "#### Extract results"
   ]
  },
  {
   "cell_type": "code",
   "execution_count": 107,
   "id": "85e435e0-9167-4c0c-b3a7-dc36eb47b240",
   "metadata": {},
   "outputs": [],
   "source": [
    "# Gather the result of each engine in a single list\n",
    "results_pf_rnn = dview.gather('resulting')\n",
    "time.sleep(1)\n",
    "\n",
    "# Put data in dataframe\n",
    "max_vm_pu_rnn_df = pd.DataFrame(data=np.array(results_pf_rnn), \n",
    "                                index=prod_hv_df.index, columns=[model_name],)"
   ]
  },
  {
   "cell_type": "markdown",
   "id": "2dce538e-2c82-44fd-9080-7e799c1f52ec",
   "metadata": {},
   "source": [
    " <span style='color:red'> **-------------------------------------------------------**  </span>"
   ]
  },
  {
   "cell_type": "markdown",
   "id": "9e3aebfc-7bec-4a11-8f0f-2ba227769471",
   "metadata": {},
   "source": [
    "#### Plot created Dataframe"
   ]
  },
  {
   "cell_type": "code",
   "execution_count": 108,
   "id": "f00593c6-195f-4724-8ee9-b6cb0558cd2f",
   "metadata": {},
   "outputs": [
    {
     "data": {
      "image/png": "[encoded data removed]",
      "text/plain": [
       "<Figure size 1500x600 with 1 Axes>"
      ]
     },
     "metadata": {},
     "output_type": "display_data"
    }
   ],
   "source": [
    "fig, axx = plt.subplots(figsize=(15,6), dpi=100)\n",
    "plt.axhline(vm_mu_max,color='r', lw=0.5)\n",
    "\n",
    "max_vm_pu_rnn_df.plot(style = ['b^'],markersize=0.5, ax=axx)\n",
    "plt.legend( fontsize=13, markerscale=10)\n",
    "plt.title(\"Maximum voltage on network\", fontsize=15);"
   ]
  },
  {
   "cell_type": "code",
   "execution_count": 109,
   "id": "44bcf8ad-0201-4ebb-8cd1-27907e2b7ebd",
   "metadata": {},
   "outputs": [],
   "source": [
    "P0100_rnn_df = df_final.loc[:,['P0100']]\n",
    "P0100_rnn_df.columns=['RNN_>=3 Model']\n",
    "P0100_rnn_df.loc[mask_per2work, 'RNN_>=3 Model'] = P0100_opt.P0100\n",
    "\n",
    "\n",
    "# Concat\n",
    "P0100_concat_df = pd.concat([df_final.loc[:,['P0100']],\n",
    "                             P0100_rnn_df], axis=1)\n",
    "\n",
    "# # Rename\n",
    "P0100_concat_df.rename(columns=({'P0100':'No_Control'}), inplace=True);"
   ]
  },
  {
   "cell_type": "code",
   "execution_count": 110,
   "id": "738aff2e-b0cd-479e-afcb-46a588898fc2",
   "metadata": {},
   "outputs": [
    {
     "name": "stdout",
     "output_type": "stream",
     "text": [
      "P0100 prod,   No Control  : 5229.63 MWh\n",
      "P0100 prod, >=3 Model  : 4889.16 MWh |  Perc = 93.49%\n"
     ]
    }
   ],
   "source": [
    "# Compute Energy\n",
    "var_no_control, var_rnn = P0100_concat_df.sum()*Δt\n",
    "\n",
    "print(f'P0100 prod,   No Control  : {var_no_control:.2f} MWh')\n",
    "print(f'P0100 prod, >=3 Model  : {var_rnn:.2f} MWh |  Perc = {var_rnn*100/var_no_control:.2f}%')\n"
   ]
  },
  {
   "cell_type": "markdown",
   "id": "ceec4716-605a-4524-a784-d1b6ddd70fba",
   "metadata": {},
   "source": [
    "##### Save Variables\n",
    "*<span style='color:green'>Run the following cell only one </span>*"
   ]
  },
  {
   "cell_type": "code",
   "execution_count": 99,
   "id": "48cf06a6-0834-494d-a31f-6255fb23823a",
   "metadata": {},
   "outputs": [
    {
     "data": {
      "text/plain": [
       "['pickle_files/simulationResults/RNN_pred_res_AtLeast3Model.pkl']"
      ]
     },
     "execution_count": 99,
     "metadata": {},
     "output_type": "execute_result"
    }
   ],
   "source": [
    "var_to_save = dict({'P0100_concat_df':P0100_concat_df.loc[mask_per2work],\n",
    "                    'voltage_rise_df':max_vm_pu_rnn_df.loc[mask_per2work], \n",
    "                    'Out_blocProd': model1_pred_res.loc[mask_per2work]# Where out bloc prod is the result \n",
    "                                                        # of the prediction using the RNN model \n",
    "                                                        # and the corresponding OPF voltage rise\n",
    "                   })\n",
    "\n",
    "joblib.dump(var_to_save,'pickle_files/simulationResults/RNN_pred_res_AtLeast3Model.pkl')\n"
   ]
  }
 ],
 "metadata": {
  "kernelspec": {
   "display_name": "Python 3 (ipykernel)",
   "language": "python",
   "name": "python3"
  },
  "language_info": {
   "codemirror_mode": {
    "name": "ipython",
    "version": 3
   },
   "file_extension": ".py",
   "mimetype": "text/x-python",
   "name": "python",
   "nbconvert_exporter": "python",
   "pygments_lexer": "ipython3",
   "version": "3.7.15"
  },
  "widgets": {
   "application/vnd.jupyter.widget-state+json": {
    "state": {},
    "version_major": 2,
    "version_minor": 0
   }
  }
 },
 "nbformat": 4,
 "nbformat_minor": 5
}
