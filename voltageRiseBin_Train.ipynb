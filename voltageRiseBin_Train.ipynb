{
 "cells": [
  {
   "cell_type": "markdown",
   "id": "57c865aa-ebd5-4944-a381-ca3a5f49c6ed",
   "metadata": {},
   "source": [
    "### Define and Train a RNN \n",
    "to Predict a binary variable (1 or 0), whether a voltage rise (above a predefined threshold i.e. 1.0250 ) will occur or not in the next period\n",
    "\n",
    "Prediction using the created RNN is done here [voltageRiseBin_Pred](voltageRiseBin_Pred.ipynb)"
   ]
  },
  {
   "cell_type": "markdown",
   "id": "4ff44841-10f2-4728-baba-ae19c2c94033",
   "metadata": {},
   "source": [
    "---"
   ]
  },
  {
   "cell_type": "markdown",
   "id": "6269c2ae-4edb-4edc-b9e6-5e8fc8a519e5",
   "metadata": {
    "tags": []
   },
   "source": [
    "#### Import modules to be used"
   ]
  },
  {
   "cell_type": "code",
   "execution_count": 2,
   "id": "7d03799f-9341-49e9-aa88-949421832c6a",
   "metadata": {},
   "outputs": [],
   "source": [
    "#Import Modules \n",
    "import pandas as pd\n",
    "import pandapower as pp\n",
    "import matplotlib.pyplot as plt\n",
    "import numpy as np\n",
    "from tqdm import tqdm # Profiling \n",
    "import seaborn as sbn\n",
    "import pickle, sys, importlib,  time\n",
    "import os\n",
    "from pickle import load\n",
    "import tensorflow as tf\n",
    "import joblib"
   ]
  },
  {
   "cell_type": "markdown",
   "id": "1d347d27-fe03-477d-99fa-7aacb227bdc3",
   "metadata": {},
   "source": [
    "#### Import Module for ML"
   ]
  },
  {
   "cell_type": "code",
   "execution_count": 3,
   "id": "43792d1d-65aa-49b5-9bbd-12f6a4b4cc10",
   "metadata": {},
   "outputs": [],
   "source": [
    "# import pakages forML\n",
    "from sklearn.preprocessing import MinMaxScaler\n",
    "from tensorflow.keras.preprocessing.sequence import TimeseriesGenerator\n",
    "from tensorflow.keras.models import Sequential\n",
    "from tensorflow.keras.layers import Dense, LSTM\n",
    "from tensorflow.keras.callbacks import EarlyStopping"
   ]
  },
  {
   "cell_type": "markdown",
   "id": "27f0de16-0ff9-4e01-b390-588b05658960",
   "metadata": {},
   "source": [
    "#### Import my own modules"
   ]
  },
  {
   "cell_type": "code",
   "execution_count": 4,
   "id": "eff66d5f-be91-4067-8bf6-20fd790ee8ac",
   "metadata": {},
   "outputs": [],
   "source": [
    "# import psutil\n",
    "function_folder = 'py_files/' \n",
    "# Add function folder to path if it is not already\n",
    "if function_folder not in sys.path: sys.path.append(function_folder)\n",
    "\n",
    "import oriFunctions as oriFc\n",
    "from oriFunctions import network_folder, excel_folder, py_folder, Δt, attr_list"
   ]
  },
  {
   "cell_type": "code",
   "execution_count": 5,
   "id": "37aefb25-d718-42a7-af41-1aa8fb9467d3",
   "metadata": {},
   "outputs": [],
   "source": [
    "#Import Networks\n",
    "net_civaux=pp.from_pickle(f'{network_folder}CIVAUX.p')\n",
    "net_stlaurent=pp.from_pickle(f'{network_folder}ST LAURENT.p')"
   ]
  },
  {
   "cell_type": "code",
   "execution_count": 6,
   "id": "4102c066-dcdb-45b7-9b16-0a0c17e3e339",
   "metadata": {
    "tags": []
   },
   "outputs": [],
   "source": [
    "#Load files\n",
    "file_p_inj_0013 = 'Prod_HTA/PROD_Bis/P0013/PROD-BATISOLAIRE 6-CIVAUX - Actif injecte (P-).csv'\n",
    "file_p_inj_0018 = 'Prod_HTA/PROD_Bis/P0018/PROD-SUN POITOU 2516 (Z.I de la Pitage)-LHOMMAIZE - Actif injecte (P-).csv'\n",
    "\n",
    "\n",
    "# The  commissioning of the Prod P0100 is recent (2022). I therefore use the data of the closer energy \n",
    "# producer that is P0058  and consider it as that of Prod P0100 \n",
    "file_p_inj_0100 = 'Prod_HTA/PROD_Bis/PROD-SERGIES 2204 (LA ROCHE A CORNUCHON)-PINDRAY - Actif P-.csv'\n",
    "\n",
    "file_prod_bt_total = 'PROD_BTSUP36_SAINT LAURENT.csv'\n",
    "file_cons_total = 'CONSO_POSTE_SAINT LAURENT.csv'\n",
    "\n",
    "\n",
    "# Get files data \n",
    "p_mw_0013 = oriFc.readAndReshape_excelFile(file_p_inj_0013 ,excel_folder, )\n",
    "p_mw_0018 = oriFc.readAndReshape_excelFile(file_p_inj_0018 ,excel_folder,)\n",
    "p_mw_0100 = oriFc.readAndReshape_excelFile(file_p_inj_0100 ,excel_folder,)\n",
    "\n",
    "\n",
    "p_mw_prod_bt_total = oriFc.readAndReshape_excelFile(file_prod_bt_total, excel_folder)\n",
    "p_mw_cons_total = oriFc.readAndReshape_excelFile(file_cons_total, excel_folder)\n",
    "\n",
    "# Create dict for all HT producers\n",
    "dict_prod_hv = {'P0013': p_mw_0013[:len(p_mw_0100)], \n",
    "                'P0018': p_mw_0018[:len(p_mw_0100)],\n",
    "                'P0100': p_mw_0100[:len(p_mw_0100)]\n",
    "               }\n",
    "# Create index to use for dataframe\n",
    "per_index = pd.period_range('01 01 2020', periods=len(p_mw_0100), freq='10T')\n",
    "\n",
    "# Use the create dict to create a dataFrame for Prod P0100\n",
    "df_prodP0100 = pd.DataFrame(p_mw_0100, index=per_index)\n",
    "\n",
    "# Use the create dict to create a dataFrame for all HT producers\n",
    "df_prodHT = pd.DataFrame(dict_prod_hv, index=per_index)\n",
    "\n",
    "# Dataframe prod BT \n",
    "per_index = pd.period_range('01 01 2020', periods=len(p_mw_prod_bt_total), freq='10T')\n",
    "df_prod_bt_total = pd.DataFrame(p_mw_prod_bt_total, index=per_index, columns=['Prod_BT'])\n",
    "\n",
    "\n",
    "# Dataframe Conso BT \n",
    "per_index = pd.period_range('01 01 2020', periods=len(p_mw_cons_total), freq='10T')\n",
    "df_cons_total = pd.DataFrame(p_mw_cons_total, index=per_index, columns=['Cons'])\n",
    "# Data cleaning on Consumption\n",
    "previous_days = df_cons_total[(per_index>='2022 02 12') & (per_index<='2022 02 21 23:50')]\n",
    "following_days = df_cons_total[(per_index>='2022 03 03') & (per_index<='2022 03 12 23:50')]\n",
    "# # Put the interpolated data into the dataframe\n",
    "df_cons_total[(per_index>='2022 02 21') & (per_index<='2022 03 02 23:50')] = (np.array(following_days) + \n",
    "                                                                              np.array(previous_days) )/2\n",
    "\n",
    "\n",
    "# Get total Power of BT producers\n",
    "# Bt producers are indexed by the name None\n",
    "max_p_mw_total_prodBT = net_civaux.sgen.max_p_mw[net_civaux.sgen.name.isna()].sum()\n",
    "\n",
    "# # Get total power of load in the network\n",
    "max_p_mw_total_load = net_civaux.load.max_p_mw.sum()\n",
    "\n",
    "# Select relevant data up to 2022 06 01\n",
    "df_prodHT = df_prodHT[df_prodHT.index<='2022 06 01 23:50']\n",
    "df_prod_bt_total = df_prod_bt_total[df_prod_bt_total.index<='2022 06 01 23:50']\n",
    "df_cons_total = df_cons_total[df_cons_total.index<='2022 06 01 23:50']\n",
    "\n",
    "\n",
    "# Extract only dailight period i.e. from 07am to 7PM\n",
    "# The daylight period is considered to be defined betwenn 07am and 7Pm excluded. \n",
    "h_start_end = ('06:50','18:50') # for the persistance model, the previous period i.e. 06:50 \n",
    "                                # is needed to compute the first instant i.e. 07:00\n",
    "per_index = df_prodHT.index\n",
    "per_daylight = ( pd.Series(index=per_index.to_timestamp(), dtype=object).between_time(*h_start_end) ).index.to_period('10T')\n",
    "day_tot_per = len(per_daylight[(per_daylight.year==2020)&(per_daylight.month==1)&(per_daylight.day==1)])\n",
    "\n",
    "\n",
    "# Put all the data in a unique dataframe\n",
    "df_data = pd.concat([df_cons_total, df_prod_bt_total, df_prodHT], axis=1).loc[per_daylight]\n",
    "\n",
    "# # Extract only the relavant testing set since the training set covers the first part of the data\n",
    "df_final = df_data[df_data.index<'2021 06 01']\n",
    "per_index = df_final.index\n",
    "per_index2 = ( pd.Series(index=per_index.to_timestamp(), dtype=object\n",
    "                        ).between_time('07:00','18:50') ).index.to_period('10T')\n",
    "\n",
    "\n",
    "vm_mu_max, vm_mu_min = 1.0250, 0.95  # Choosen \n"
   ]
  },
  {
   "cell_type": "markdown",
   "id": "34489214-f7ac-4c72-8928-539e9ac10c97",
   "metadata": {},
   "source": [
    "#### Import the voltage rise from [Voltage_rise](VoltageRiseBinary.ipynb)\n"
   ]
  },
  {
   "cell_type": "code",
   "execution_count": 7,
   "id": "540395a2-3954-48d9-add1-e89efde8afa8",
   "metadata": {},
   "outputs": [],
   "source": [
    "# Import the voltage rise from \n",
    "bin_volt_rise = joblib.load('pickle_files/simulationResults/Binary_Voltage_Rise.pkl')\n",
    "df_final['Volt_Rise_bin'] = bin_volt_rise['Volt_Rise_Bin']"
   ]
  },
  {
   "cell_type": "markdown",
   "id": "5a403b96-6ced-4600-b3ed-fe227df6e962",
   "metadata": {
    "tags": []
   },
   "source": [
    "### Set variables For binary voltage rise prediction"
   ]
  },
  {
   "cell_type": "code",
   "execution_count": 8,
   "id": "ebee0b29-02b7-4bf2-a3fd-67b15ad9fbd1",
   "metadata": {},
   "outputs": [],
   "source": [
    "df_final['Volt_Rise_bin'] = bin_volt_rise['Volt_Rise_Bin']"
   ]
  },
  {
   "cell_type": "code",
   "execution_count": 9,
   "id": "b9d8756e-d0bc-469c-b9bd-05cb40fe42f6",
   "metadata": {},
   "outputs": [],
   "source": [
    "# # # Separate training and testing set \n",
    "# df_train = df_final[df_final.index<'2021 03 15']\n",
    "# df_test = df_final[(df_final.index>='2021 03 15') & (df_final.index <'2021 06 01')]\n",
    "\n",
    "\n",
    "# I'm using all the dataset to train the RNN to improve the performance since ive already\n",
    "# tried with the testing set and get an accuraccy of 94%\n",
    "# # Separate training and testing set \n",
    "df_train = df_final[df_final.index<'2021 06 01']\n",
    "\n",
    "# Define scaler\n",
    "numerical_scaler = MinMaxScaler()\n",
    "numerical_scaler.fit(df_train);\n",
    "\n",
    "# train_scaled, test_scaled= map(numerical_scaler.transform, [df_train, df_test])\n",
    "train_scaled = numerical_scaler.transform(df_train)"
   ]
  },
  {
   "cell_type": "markdown",
   "id": "df889986-285b-4029-8766-22a1099ef88e",
   "metadata": {},
   "source": [
    "##### Define Timeseries  generators\n"
   ]
  },
  {
   "cell_type": "code",
   "execution_count": 10,
   "id": "9549e704-a7eb-4503-969b-d933d3160bf4",
   "metadata": {},
   "outputs": [],
   "source": [
    "gen_length = 6 # 1 hour\n",
    "\n",
    "batchSize = (gen_length//6)*24*7; #  (gen_length//6)  To convert in hour *24 hour * 7 days\n",
    "\n",
    "train_generator = TimeseriesGenerator(train_scaled, train_scaled[:,-1], \n",
    "                                      length = gen_length, \n",
    "                                      batch_size= batchSize)\n",
    "\n",
    "# test_genarator = TimeseriesGenerator(test_scaled, test_scaled[:,-1], \n",
    "#                                      length = gen_length, \n",
    "#                                      batch_size= batchSize)\n",
    "\n",
    "n_features = train_generator[0][0][0].shape[1]  # Define total number of features"
   ]
  },
  {
   "cell_type": "markdown",
   "id": "39e8638a-2c2d-4d73-bd7e-3ca775958c82",
   "metadata": {},
   "source": [
    "#### Define RNN"
   ]
  },
  {
   "cell_type": "code",
   "execution_count": 11,
   "id": "d0db6469-b23d-4715-8575-854071188b88",
   "metadata": {},
   "outputs": [],
   "source": [
    "bin_vRise_RNN = Sequential()\n",
    "\n",
    "bin_vRise_RNN.add( LSTM(units=128, activation='tanh', input_shape=(gen_length,n_features), return_sequences=True) )\n",
    "bin_vRise_RNN.add( LSTM(units=128, activation='relu') )\n",
    "bin_vRise_RNN.add(Dense(units=1, activation='sigmoid'))\n",
    "\n",
    "bin_vRise_RNN.compile(optimizer='adam',loss='binary_crossentropy', metrics=['accuracy'])"
   ]
  },
  {
   "cell_type": "markdown",
   "id": "35ba5e3a-2903-447e-970c-56a8fbbd3a3a",
   "metadata": {},
   "source": [
    "##### Define early stopping mechanism"
   ]
  },
  {
   "cell_type": "code",
   "execution_count": 12,
   "id": "b3d9cbf7-f04d-4a28-bb24-30eab8a8fab1",
   "metadata": {},
   "outputs": [],
   "source": [
    "# early_stop = EarlyStopping(monitor= 'val_loss',patience=30, mode='min')"
   ]
  },
  {
   "cell_type": "markdown",
   "id": "8d3e82fe-c6b4-49c3-8f90-4bee5d53d593",
   "metadata": {},
   "source": [
    "#### Train RNN"
   ]
  },
  {
   "cell_type": "code",
   "execution_count": null,
   "id": "273c5cea-c453-4ab8-b9bd-7322df5125b3",
   "metadata": {
    "scrolled": true,
    "tags": []
   },
   "outputs": [
    {
     "name": "stdout",
     "output_type": "stream",
     "text": [
      "Epoch 1/80\n",
      "225/225 [==============================] - 6s 17ms/step - loss: 0.1823 - accuracy: 0.9312\n",
      "Epoch 2/80\n",
      "225/225 [==============================] - 5s 21ms/step - loss: 0.1008 - accuracy: 0.9637\n",
      "Epoch 3/80\n",
      "225/225 [==============================] - 6s 27ms/step - loss: 0.0856 - accuracy: 0.9702\n",
      "Epoch 4/80\n",
      "225/225 [==============================] - 5s 23ms/step - loss: 0.0831 - accuracy: 0.9708\n",
      "Epoch 5/80\n",
      "225/225 [==============================] - 5s 24ms/step - loss: 0.0823 - accuracy: 0.9705\n",
      "Epoch 6/80\n",
      "225/225 [==============================] - 6s 26ms/step - loss: 0.0798 - accuracy: 0.9712\n",
      "Epoch 7/80\n",
      "225/225 [==============================] - 5s 24ms/step - loss: 0.0800 - accuracy: 0.9710\n",
      "Epoch 8/80\n",
      "225/225 [==============================] - 5s 22ms/step - loss: 0.0776 - accuracy: 0.9709\n",
      "Epoch 9/80\n",
      "225/225 [==============================] - 6s 26ms/step - loss: 0.0785 - accuracy: 0.9707\n",
      "Epoch 10/80\n",
      "225/225 [==============================] - 5s 22ms/step - loss: 0.0768 - accuracy: 0.9720\n",
      "Epoch 11/80\n",
      "225/225 [==============================] - 5s 22ms/step - loss: 0.0755 - accuracy: 0.9718\n",
      "Epoch 12/80\n",
      "225/225 [==============================] - 5s 24ms/step - loss: 0.0751 - accuracy: 0.9717\n",
      "Epoch 13/80\n",
      "225/225 [==============================] - 6s 25ms/step - loss: 0.0799 - accuracy: 0.9695\n",
      "Epoch 14/80\n",
      "225/225 [==============================] - 4s 20ms/step - loss: 0.0743 - accuracy: 0.9718\n",
      "Epoch 15/80\n",
      "225/225 [==============================] - 5s 22ms/step - loss: 0.0738 - accuracy: 0.9719\n",
      "Epoch 16/80\n",
      "225/225 [==============================] - 5s 21ms/step - loss: 0.0744 - accuracy: 0.9715\n",
      "Epoch 17/80\n",
      "225/225 [==============================] - 5s 21ms/step - loss: 0.0729 - accuracy: 0.9718\n",
      "Epoch 18/80\n",
      "225/225 [==============================] - 6s 25ms/step - loss: 0.0723 - accuracy: 0.9726\n",
      "Epoch 19/80\n",
      "225/225 [==============================] - 6s 26ms/step - loss: 0.0736 - accuracy: 0.9711\n",
      "Epoch 20/80\n",
      "225/225 [==============================] - 5s 23ms/step - loss: 0.0710 - accuracy: 0.9723\n",
      "Epoch 21/80\n",
      "225/225 [==============================] - 5s 23ms/step - loss: 0.0707 - accuracy: 0.9719\n",
      "Epoch 22/80\n",
      "225/225 [==============================] - 6s 25ms/step - loss: 0.0699 - accuracy: 0.9730\n",
      "Epoch 23/80\n",
      "225/225 [==============================] - 5s 21ms/step - loss: 0.0703 - accuracy: 0.9723\n",
      "Epoch 24/80\n",
      "225/225 [==============================] - 5s 23ms/step - loss: 0.0696 - accuracy: 0.9734\n",
      "Epoch 25/80\n",
      "225/225 [==============================] - 5s 22ms/step - loss: 0.0683 - accuracy: 0.9729\n",
      "Epoch 26/80\n",
      "225/225 [==============================] - 5s 21ms/step - loss: 0.0712 - accuracy: 0.9722\n",
      "Epoch 27/80\n",
      "225/225 [==============================] - 5s 22ms/step - loss: 0.0676 - accuracy: 0.9732\n",
      "Epoch 28/80\n",
      "225/225 [==============================] - 5s 24ms/step - loss: 0.0692 - accuracy: 0.9731\n",
      "Epoch 29/80\n",
      "225/225 [==============================] - 5s 22ms/step - loss: 0.0667 - accuracy: 0.9734\n",
      "Epoch 30/80\n",
      "225/225 [==============================] - 5s 22ms/step - loss: 0.0678 - accuracy: 0.9726\n",
      "Epoch 31/80\n",
      "225/225 [==============================] - 5s 23ms/step - loss: 0.0679 - accuracy: 0.9732\n",
      "Epoch 32/80\n",
      "225/225 [==============================] - 5s 22ms/step - loss: 0.0661 - accuracy: 0.9736\n",
      "Epoch 33/80\n",
      "225/225 [==============================] - 5s 21ms/step - loss: 0.0663 - accuracy: 0.9741\n",
      "Epoch 34/80\n",
      "225/225 [==============================] - 5s 24ms/step - loss: 0.0655 - accuracy: 0.9742\n",
      "Epoch 35/80\n",
      "225/225 [==============================] - 5s 22ms/step - loss: 0.0662 - accuracy: 0.9734\n",
      "Epoch 36/80\n",
      "225/225 [==============================] - 5s 23ms/step - loss: 0.0651 - accuracy: 0.9738\n",
      "Epoch 37/80\n",
      "225/225 [==============================] - 5s 24ms/step - loss: 0.0651 - accuracy: 0.9742\n",
      "Epoch 38/80\n",
      "225/225 [==============================] - 5s 21ms/step - loss: 0.0639 - accuracy: 0.9741\n",
      "Epoch 39/80\n",
      "225/225 [==============================] - 5s 21ms/step - loss: 0.0627 - accuracy: 0.9749\n",
      "Epoch 40/80\n",
      "225/225 [==============================] - 5s 24ms/step - loss: 0.0654 - accuracy: 0.9739\n",
      "Epoch 41/80\n",
      "225/225 [==============================] - 5s 21ms/step - loss: 0.0623 - accuracy: 0.9745\n",
      "Epoch 42/80\n",
      "225/225 [==============================] - 5s 21ms/step - loss: 0.0628 - accuracy: 0.9752\n",
      "Epoch 43/80\n",
      "225/225 [==============================] - 5s 21ms/step - loss: 0.0631 - accuracy: 0.9751\n",
      "Epoch 44/80\n",
      "225/225 [==============================] - 5s 21ms/step - loss: 0.0625 - accuracy: 0.9748\n",
      "Epoch 45/80\n",
      "225/225 [==============================] - 5s 22ms/step - loss: 0.0615 - accuracy: 0.9754\n",
      "Epoch 46/80\n",
      "225/225 [==============================] - 5s 23ms/step - loss: 0.0622 - accuracy: 0.9746\n",
      "Epoch 47/80\n",
      "225/225 [==============================] - 5s 23ms/step - loss: 0.0609 - accuracy: 0.9751\n",
      "Epoch 48/80\n",
      "225/225 [==============================] - 5s 22ms/step - loss: 0.0608 - accuracy: 0.9755\n",
      "Epoch 49/80\n",
      "225/225 [==============================] - 5s 21ms/step - loss: 0.0608 - accuracy: 0.9756\n",
      "Epoch 50/80\n",
      "225/225 [==============================] - 5s 23ms/step - loss: 0.0599 - accuracy: 0.9756\n",
      "Epoch 51/80\n",
      "225/225 [==============================] - 5s 21ms/step - loss: 0.0591 - accuracy: 0.9759\n",
      "Epoch 52/80\n",
      "225/225 [==============================] - 5s 23ms/step - loss: 0.0592 - accuracy: 0.9756\n",
      "Epoch 53/80\n",
      "225/225 [==============================] - 5s 24ms/step - loss: 0.0591 - accuracy: 0.9758\n",
      "Epoch 54/80\n",
      "225/225 [==============================] - 5s 22ms/step - loss: 0.0581 - accuracy: 0.9762\n",
      "Epoch 55/80\n",
      "225/225 [==============================] - 5s 21ms/step - loss: 0.0586 - accuracy: 0.9757\n",
      "Epoch 56/80\n",
      "225/225 [==============================] - 5s 23ms/step - loss: 0.0578 - accuracy: 0.9766\n",
      "Epoch 57/80\n",
      "225/225 [==============================] - 5s 23ms/step - loss: 0.0564 - accuracy: 0.9773\n",
      "Epoch 58/80\n",
      "225/225 [==============================] - 5s 22ms/step - loss: 0.0572 - accuracy: 0.9768\n",
      "Epoch 59/80\n",
      "225/225 [==============================] - 6s 26ms/step - loss: 0.0564 - accuracy: 0.9770\n",
      "Epoch 60/80\n",
      "225/225 [==============================] - 7s 30ms/step - loss: 0.0559 - accuracy: 0.9775\n",
      "Epoch 61/80\n",
      "225/225 [==============================] - 5s 23ms/step - loss: 0.0558 - accuracy: 0.9774\n",
      "Epoch 62/80\n",
      "225/225 [==============================] - 5s 23ms/step - loss: 0.0547 - accuracy: 0.9777\n",
      "Epoch 63/80\n",
      "225/225 [==============================] - 5s 21ms/step - loss: 0.0539 - accuracy: 0.9777\n",
      "Epoch 64/80\n",
      "225/225 [==============================] - 5s 22ms/step - loss: 0.0537 - accuracy: 0.9781\n",
      "Epoch 65/80\n",
      "125/225 [===============>..............] - ETA: 2s - loss: 0.0500 - accuracy: 0.9797"
     ]
    }
   ],
   "source": [
    "bin_vRise_RNN.fit(train_generator, \n",
    "          epochs=80)"
   ]
  },
  {
   "cell_type": "code",
   "execution_count": 16,
   "id": "45d16f02-10d3-4e31-a0bd-d0f5e6b6007f",
   "metadata": {},
   "outputs": [
    {
     "name": "stderr",
     "output_type": "stream",
     "text": [
      "WARNING:absl:Found untraced functions such as lstm_cell_layer_call_fn, lstm_cell_layer_call_and_return_conditional_losses while saving (showing 2 of 2). These functions will not be directly callable after loading.\n"
     ]
    },
    {
     "name": "stdout",
     "output_type": "stream",
     "text": [
      "INFO:tensorflow:Assets written to: pickle_files/RNN/StLaurent_bin_vRise_model\\assets\n"
     ]
    },
    {
     "name": "stderr",
     "output_type": "stream",
     "text": [
      "INFO:tensorflow:Assets written to: pickle_files/RNN/StLaurent_bin_vRise_model\\assets\n"
     ]
    }
   ],
   "source": [
    "bin_vRise_RNN.save('pickle_files/RNN/StLaurent_bin_vRise_model')\n",
    "joblib.dump(numerical_scaler, 'pickle_files/RNN/StLaurent_bin_vRise_scaler.plk')"
   ]
  }
 ],
 "metadata": {
  "kernelspec": {
   "display_name": "Python 3 (ipykernel)",
   "language": "python",
   "name": "python3"
  },
  "language_info": {
   "codemirror_mode": {
    "name": "ipython",
    "version": 3
   },
   "file_extension": ".py",
   "mimetype": "text/x-python",
   "name": "python",
   "nbconvert_exporter": "python",
   "pygments_lexer": "ipython3",
   "version": "3.7.15"
  },
  "widgets": {
   "application/vnd.jupyter.widget-state+json": {
    "state": {},
    "version_major": 2,
    "version_minor": 0
   }
  }
 },
 "nbformat": 4,
 "nbformat_minor": 5
}
