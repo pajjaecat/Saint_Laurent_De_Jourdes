{
 "cells": [
  {
   "cell_type": "markdown",
   "id": "a3acb371-7fea-4ba8-98a7-09511891a7d8",
   "metadata": {},
   "source": [
    "Compute the maximum voltage rise (on the network, using Power flow) and convert it in a binary variable to use to train the RNN to predict whether a voltage rise will occur or not in the next period . \n",
    "\n",
    "See [VoltageRiseBin_Train](voltageRiseBin_Train.ipynb) for the training and [VoltageRiseBin_Pred](voltageRiseBin_Pred.ipynb) for the simulation on the testing set "
   ]
  },
  {
   "cell_type": "markdown",
   "id": "ca937977-6e82-47ef-a245-34fb518a536e",
   "metadata": {},
   "source": [
    "---"
   ]
  },
  {
   "cell_type": "code",
   "execution_count": 1,
   "id": "42b627f9-1582-4eaf-9f73-1a3a9b19967d",
   "metadata": {
    "tags": []
   },
   "outputs": [],
   "source": [
    "def block_pf_Opf(par_engines, \n",
    "                 pred_model_f=None\n",
    "                ):\n",
    "    \"\"\"\n",
    "Execute a power flow or an optimal power flow depending on the opf_status that is extracted\n",
    "from the one of the parallel engine object and return a dataFrame. \n",
    "If opf_status is 'Both', the function is used as the block PF/OPF and thereforth \n",
    "the returned dataframe consist of  \n",
    "If opf_status is False, the function is used as the block PF, the returned dataframe contains \n",
    "only the maximum voltage rise observed on the network after the control is implemented.\n",
    "  \n",
    "Parameters\n",
    "----------\n",
    "par_engines: (oriCs.CreateParEngines(n_engines))\n",
    "    Parallel engines object. \n",
    "pred_model_f: (str) optional, default to None\n",
    "    'Pers' ==> Using persistence model\n",
    "\n",
    "    \"\"\"\n",
    "    \n",
    "    \n",
    "    \n",
    "    # Note that all the variables used in the parallel running are already sent to the local space of each engine\n",
    "    if pred_model_f == 'Pers': \n",
    "    # Run problem in parallel\n",
    "        %px par_run_Results = [par_oriFunctions.run_powerflow_at(net_civaux, cur_period+1, net_civaux_hv_activated_bus, sum_max_main_network,  dict_df_sgenLoad, vm_mu_max, opf_status, pred_model) for cur_period in period_part]\n",
    "    else:\n",
    "        %px par_run_Results = [par_oriFunctions.run_powerflow_at(net_civaux, cur_period, net_civaux_hv_activated_bus, sum_max_main_network,  dict_df_sgenLoad, vm_mu_max, opf_status) for cur_period in period_part]\n",
    "        \n",
    "    # Gather the results of all the engines in a unique variable\n",
    "    results = par_engines.gather_results('par_run_Results')\n",
    "    \n",
    "    # Wait 2seconds time for gathering the results of parralel computing  \n",
    "    time.sleep(2) \n",
    "\n",
    "    # return depends on opf_status defined in parallel engines\n",
    "    if par_engines.get_opf_status() == 'Both': \n",
    "        extracted_results = par_engines.get_results_asDf() # Extract results\n",
    "        return extracted_results\n",
    "    \n",
    "    elif par_engines.get_opf_status() == False: \n",
    "        # Put data in dataframe\n",
    "        max_vm_pu_rnn_df = pd.DataFrame(data=np.array(results), \n",
    "                                        index=par_engines.get_run_periodIndex(), columns=['vm_pu_max_pf'],)\n",
    "        return max_vm_pu_rnn_df\n",
    "    else: pass\n"
   ]
  },
  {
   "cell_type": "markdown",
   "id": "df5ee728-7a55-4a71-8dd7-689ee421cfd7",
   "metadata": {},
   "source": [
    "#### Import modules"
   ]
  },
  {
   "cell_type": "code",
   "execution_count": 2,
   "id": "ff68767a-87d2-4ba2-986d-4e3f4c9fcf8f",
   "metadata": {},
   "outputs": [],
   "source": [
    "import pandas as pd\n",
    "import pandapower as pp\n",
    "import matplotlib.pyplot as plt\n",
    "import numpy as np\n",
    "import ipyparallel as ipp\n",
    "\n",
    "from tqdm import tqdm # Profiling \n",
    "import seaborn as sbn\n",
    "import pickle, sys, importlib,  time\n",
    "import os\n",
    "from pickle import load\n",
    "import tensorflow as tf\n",
    "import joblib"
   ]
  },
  {
   "cell_type": "code",
   "execution_count": 3,
   "id": "b946a5ab-90cd-469d-9cee-e3ba6c72422e",
   "metadata": {},
   "outputs": [],
   "source": [
    "function_folder = 'py_files/' \n",
    "# Add function folder to path if it is not already\n",
    "if function_folder not in sys.path: sys.path.append(function_folder)\n",
    "\n",
    "import oriFunctions as oriFc\n",
    "import myClass as oriCs\n",
    "from oriFunctions import network_folder, excel_folder, py_folder, Δt, attr_list, train_split_date, train_split_date"
   ]
  },
  {
   "cell_type": "code",
   "execution_count": 4,
   "id": "33c60960-28a1-4d74-a205-e9d0f4d18450",
   "metadata": {},
   "outputs": [],
   "source": [
    "net_civaux=pp.from_pickle(f'{network_folder}CIVAUX.p')\n",
    "net_stlaurent=pp.from_pickle(f'{network_folder}ST LAURENT.p')\n",
    "\n",
    "# Load networks\n",
    "networks = oriCs.InitNetwork(net_stlaurent, net_civaux)\n",
    "\n",
    "# To use later in functions \n",
    "sum_max_main_network = networks.get_sum_max_p_wm_higherNet()\n",
    "\n",
    "\n",
    "# Compute the total of BT prod and Load on St Laurent\n",
    "sum_max_p_mw_StLaurent_prodBT = sum_max_main_network[0]\n",
    "sum_max_p_mw_StLaurent_load = sum_max_main_network[1]"
   ]
  },
  {
   "cell_type": "markdown",
   "id": "9447dca5-7c54-464d-8293-477e083d08a4",
   "metadata": {
    "tags": []
   },
   "source": [
    "#### Import Cleaned data files for component of the network"
   ]
  },
  {
   "cell_type": "code",
   "execution_count": 5,
   "id": "fe87ef8e-1c5a-4b69-b8c4-3dd1e2cd797f",
   "metadata": {},
   "outputs": [],
   "source": [
    "df_data = joblib.load(network_folder+'CleanedData.pkl')\n",
    "\n",
    "# Extract only dailight period i.e. from 07am to 7PM\n",
    "# The daylight period is considered to be defined betwenn 07am and 7Pm excluded. \n",
    "h_start_end = ('06:00','19:50') # for the persistance model, the previous period i.e. 06:50 \n",
    "                                # is needed to compute the first instant i.e. 07:00\n",
    "per_index = df_data.index\n",
    "per_daylight = ( pd.Series(index=per_index.to_timestamp(), dtype=object).between_time(*h_start_end) ).index.to_period('10T')\n",
    "day_tot_per = len(per_daylight[(per_daylight.year==2020)&(per_daylight.month==1)&(per_daylight.day==1)])\n",
    "\n",
    "\n",
    "# Put all the data in a unique dataframe\n",
    "df_data = df_data.loc[per_daylight]\n",
    "\n",
    "# # Extract only the relavant testing set since the training set covers the first part of the data\n",
    "df_final = df_data[df_data.index<'2022 06 02']\n",
    "per_index = df_final.index\n",
    "per_index2 = ( pd.Series(index=per_index.to_timestamp(), dtype=object\n",
    "                           ).between_time('06:00','19:50') ).index.to_period('10T')\n"
   ]
  },
  {
   "cell_type": "markdown",
   "id": "8a272c8a-31c2-4973-b223-f3f281cd17a0",
   "metadata": {},
   "source": [
    "#### Data extraction on the network"
   ]
  },
  {
   "cell_type": "code",
   "execution_count": 7,
   "id": "c7cb50ba-ec7e-4baa-8455-0c83e95c2f5a",
   "metadata": {},
   "outputs": [],
   "source": [
    "net_civaux_hv_bus = networks.get_lowerNet_hv_bus_df() # Extract HV bus in the network\n",
    "\n",
    "pp.runpp(net_civaux) # Run network \n",
    "\n",
    "# Get the index of all the activated bus in the network\n",
    "activated_bus_index = list(net_civaux.res_bus.vm_pu[net_civaux.res_bus.vm_pu.notna()].index)\n",
    "\n",
    "# Extract the HV bus from the list of activated bus \n",
    "net_civaux_hv_activated_bus = [i for i in activated_bus_index \n",
    "                               if i in net_civaux_hv_bus.index]\n",
    "\n",
    "# redefine data given final dataframe\n",
    "df_prodHT = df_final[['P0013','P0018','P0100']] \n",
    "df_prod_bt_total = df_final[['Prod_BT']]\n",
    "df_cons_total = df_final[['Cons']]\n",
    "\n",
    "# Define a dict \n",
    "dict_df_sgenLoad = dict({'df_prodHT':df_prodHT, \n",
    "                         'df_prod_bt_total':df_prod_bt_total, \n",
    "                         'df_cons_total':df_cons_total } )"
   ]
  },
  {
   "cell_type": "markdown",
   "id": "5e3557da-25a0-48fe-bb7b-2b174d9eff1d",
   "metadata": {},
   "source": [
    "#### Start Parallel engines"
   ]
  },
  {
   "cell_type": "code",
   "execution_count": 8,
   "id": "28d4a2af-6a71-4a80-b9ea-81bed557faa8",
   "metadata": {},
   "outputs": [
    {
     "name": "stdout",
     "output_type": "stream",
     "text": [
      "Starting 7 engines with <class 'ipyparallel.cluster.launcher.LocalEngineSetLauncher'>\n"
     ]
    },
    {
     "data": {
      "application/vnd.jupyter.widget-view+json": {
       "model_id": "cb0769b04dd3410d91ead231bfb086da",
       "version_major": 2,
       "version_minor": 0
      },
      "text/plain": [
       "  0%|          | 0/7 [00:00<?, ?engine/s]"
      ]
     },
     "metadata": {},
     "output_type": "display_data"
    }
   ],
   "source": [
    "n_engines = os.cpu_count() - 1  # Define total number of parallel engines to use. \n",
    "# Make sure it is lower than the total number of cores in the computer otherwise \n",
    "# no ressources is available to work when the simulation is running. \n",
    "parEngines = oriCs.CreateParEngines(n_engines)\n",
    "                   "
   ]
  },
  {
   "cell_type": "markdown",
   "id": "1f3ce050-4829-4040-9da7-019725b2026e",
   "metadata": {},
   "source": [
    "#### Load network"
   ]
  },
  {
   "cell_type": "code",
   "execution_count": 9,
   "id": "fb190c11-4a3a-4cf6-b589-16abbfac8286",
   "metadata": {},
   "outputs": [],
   "source": [
    "net_civaux=pp.from_pickle(f'{network_folder}CIVAUX.p') # Reload network with new name \n",
    "\n",
    "# Add a controllable line to the static generators\n",
    "net_civaux.sgen['controllable'] = False \n",
    "\n",
    "# Set the producer P0100 as a controllable load\n",
    "net_civaux.sgen['controllable'][net_civaux.sgen.name=='P0100'] = True\n",
    "\n",
    "# Add Missing columns to be able to un an opf \n",
    "net_civaux.sgen[['min_p_mw', 'min_q_mvar', 'max_q_mvar']]=0.\n",
    "\n",
    "# Rename data in bus network because the names do not correspond to the parameters in pandapower \n",
    "net_civaux.bus.rename({'max_vw_pu':'max_vm_pu',}, axis=1, inplace=True)\n",
    "\n",
    "net_civaux.bus.drop(['max_vm', 'min_vm'], axis=1, inplace=True)    # Delete useless parameters\n",
    "net_civaux_hv_bus = list(net_civaux.bus.groupby('vn_kv'))[1][1]   # Extract HV bus in the network\n",
    "\n",
    "pp.runpp(net_civaux) # Run network \n",
    "\n",
    "# Get the index of all the activated bus in the network\n",
    "activated_bus_index2 = list(net_civaux.res_bus.vm_pu[net_civaux.res_bus.vm_pu.notna()].index)\n",
    "\n",
    "# Extract the HV bus from the list of activated bus \n",
    "net_civaux_hv_activated_bus = [i for i in activated_bus_index2 \n",
    "                               if i in net_civaux_hv_bus.index]"
   ]
  },
  {
   "cell_type": "markdown",
   "id": "81bc2e35-3ebf-4ad2-abc3-c0eadaf8e54f",
   "metadata": {
    "tags": []
   },
   "source": [
    "#### Add maximum voltage constraints on the Buses in the network "
   ]
  },
  {
   "cell_type": "code",
   "execution_count": 10,
   "id": "f3a4943a-ed3a-4edd-9f09-9fc73508c579",
   "metadata": {},
   "outputs": [],
   "source": [
    "vm_mu_max, vm_mu_min = 1.0250, 0.95  # Choosen \n",
    "\n",
    "# net_civaux.bus.max_vm_pu[net_civaux.bus.max_vm_pu.notna()] = vm_mu_max\n",
    "net_civaux.bus.max_vm_pu[net_civaux_hv_activated_bus] = vm_mu_max\n",
    "net_civaux.bus.min_vm_pu[net_civaux_hv_activated_bus] = vm_mu_min\n"
   ]
  },
  {
   "cell_type": "code",
   "execution_count": 11,
   "id": "ac18f8b3-89b5-46cd-925a-716f4624fe0c",
   "metadata": {},
   "outputs": [
    {
     "data": {
      "text/html": [
       "<div>\n",
       "<style scoped>\n",
       "    .dataframe tbody tr th:only-of-type {\n",
       "        vertical-align: middle;\n",
       "    }\n",
       "\n",
       "    .dataframe tbody tr th {\n",
       "        vertical-align: top;\n",
       "    }\n",
       "\n",
       "    .dataframe thead th {\n",
       "        text-align: right;\n",
       "    }\n",
       "</style>\n",
       "<table border=\"1\" class=\"dataframe\">\n",
       "  <thead>\n",
       "    <tr style=\"text-align: right;\">\n",
       "      <th></th>\n",
       "      <th>element</th>\n",
       "      <th>et</th>\n",
       "      <th>cp0_eur</th>\n",
       "      <th>cp1_eur_per_mw</th>\n",
       "      <th>cp2_eur_per_mw2</th>\n",
       "      <th>cq0_eur</th>\n",
       "      <th>cq1_eur_per_mvar</th>\n",
       "      <th>cq2_eur_per_mvar2</th>\n",
       "    </tr>\n",
       "  </thead>\n",
       "  <tbody>\n",
       "    <tr>\n",
       "      <th>0</th>\n",
       "      <td>23</td>\n",
       "      <td>sgen</td>\n",
       "      <td>0.0</td>\n",
       "      <td>-1.0</td>\n",
       "      <td>0.0</td>\n",
       "      <td>0.0</td>\n",
       "      <td>0.0</td>\n",
       "      <td>0.0</td>\n",
       "    </tr>\n",
       "  </tbody>\n",
       "</table>\n",
       "</div>"
      ],
      "text/plain": [
       "   element    et  cp0_eur  cp1_eur_per_mw  cp2_eur_per_mw2  cq0_eur  \\\n",
       "0       23  sgen      0.0            -1.0              0.0      0.0   \n",
       "\n",
       "   cq1_eur_per_mvar  cq2_eur_per_mvar2  \n",
       "0               0.0                0.0  "
      ]
     },
     "execution_count": 11,
     "metadata": {},
     "output_type": "execute_result"
    }
   ],
   "source": [
    "# Add negative cost to usability of sgen P0100 so its usage can be maximised while respecting the constraints on the network\n",
    "cost_sgen_p0100 = pp.create_poly_cost(net_civaux,23,'sgen', cp1_eur_per_mw=-1)\n",
    "# net_civaux.poly_cost.cp1_eur_per_mw.at[cost_sgen_p0100]=-0.5\n",
    "net_civaux.poly_cost"
   ]
  },
  {
   "cell_type": "code",
   "execution_count": 12,
   "id": "3828afc5-0a93-4531-a928-2a48e098b5f4",
   "metadata": {},
   "outputs": [
    {
     "name": "stdout",
     "output_type": "stream",
     "text": [
      "importing numpy on engine(s)\n",
      "importing pandapower on engine(s)\n",
      "importing pandas on engine(s)\n",
      "importing Par_myFunctions on engine(s)\n"
     ]
    }
   ],
   "source": [
    "opf_status = False\n",
    "\n",
    "# Create a dictionnary containing all the varible that will be used by each client or engine\n",
    "pred_model = None\n",
    "\n",
    "parameters_dict = dict({'net_civaux':net_civaux, \n",
    "                        'net_civaux_hv_activated_bus':net_civaux_hv_activated_bus, \n",
    "                        'sum_max_main_network':sum_max_main_network, \n",
    "                        'vm_mu_max':vm_mu_max,\n",
    "                        'pred_model':pred_model\n",
    "                         })\n",
    "\n",
    "# Create dictionnary of main variable i.e. Prod BT, HT, Cons to used in parallel engines \n",
    "upscaling_coef, coef_add_bt = 4.,0 \n",
    "P0100_max = 4. \n",
    "\n",
    "dict_df_sgenLoad = oriFc.createDict_prodHtBt_Load(df_final,\n",
    "                                               upscaling_coef, coef_add_bt,\n",
    "                                               sum_max_p_mw_StLaurent_prodBT,P0100_max )\n",
    "\n",
    "df_prodHT = dict_df_sgenLoad['df_prodHT']\n",
    "\n",
    "\n",
    "# Send all the created variables into local spaces of each engine.\n",
    "parEngines.sendVar_to_localSpace(df_prodHT.index, opf_status, dict_df_sgenLoad, parameters_dict, 0 )\n"
   ]
  },
  {
   "cell_type": "code",
   "execution_count": 13,
   "id": "c47a7037-ddea-4065-b081-f76b69e10c29",
   "metadata": {},
   "outputs": [
    {
     "data": {
      "application/vnd.jupyter.widget-view+json": {
       "model_id": "084d684fe48f45b58e9203155a65fb55",
       "version_major": 2,
       "version_minor": 0
      },
      "text/plain": [
       "%px:   0%|          | 0/7 [00:00<?, ?tasks/s]"
      ]
     },
     "metadata": {},
     "output_type": "display_data"
    }
   ],
   "source": [
    "pf_opf_block_result = block_pf_Opf(parEngines)    \n"
   ]
  },
  {
   "cell_type": "code",
   "execution_count": 14,
   "id": "5562fc77-fbd8-4e69-b79a-a0b5d2df9839",
   "metadata": {},
   "outputs": [],
   "source": [
    "# Put data in dataframe\n",
    "max_vm_pu_df = pf_opf_block_result"
   ]
  },
  {
   "cell_type": "code",
   "execution_count": 15,
   "id": "a09ddb0b-4049-4f31-9674-22aac56aa281",
   "metadata": {
    "tags": []
   },
   "outputs": [],
   "source": [
    "bin_voltage_rise = [1 if cur_elm == True \n",
    "                    else 0 \n",
    "                    for cur_elm in (max_vm_pu_df.vm_pu_max_pf > vm_mu_max).values ]"
   ]
  },
  {
   "cell_type": "code",
   "execution_count": 16,
   "id": "c7c5d751-b873-46df-8412-515b480e4cc4",
   "metadata": {},
   "outputs": [],
   "source": [
    "max_vm_pu_df['Volt_Rise_Bin'] = bin_voltage_rise"
   ]
  },
  {
   "cell_type": "code",
   "execution_count": 17,
   "id": "182a6fcc-7dec-4ba4-a1ce-acd42df0bca4",
   "metadata": {},
   "outputs": [
    {
     "data": {
      "text/plain": [
       "<matplotlib.lines.Line2D at 0x26d05514348>"
      ]
     },
     "execution_count": 17,
     "metadata": {},
     "output_type": "execute_result"
    },
    {
     "data": {
      "image/png": "[encoded data removed]",
      "text/plain": [
       "<Figure size 1800x600 with 1 Axes>"
      ]
     },
     "metadata": {},
     "output_type": "display_data"
    }
   ],
   "source": [
    "fig, axx = plt.subplots(figsize=(15,5), dpi=120)\n",
    "max_vm_pu_df.plot(ax=axx)\n",
    "plt.ylim((0.98,1.035))\n",
    "plt.axhline(vm_mu_max, color='red', lw=0.5)"
   ]
  },
  {
   "cell_type": "code",
   "execution_count": 35,
   "id": "f4fb9b9a-6757-43ed-9122-5670616382aa",
   "metadata": {},
   "outputs": [
    {
     "data": {
      "text/plain": [
       "['pickle_files/simulationResults/Binary_Voltage_Rise.pkl']"
      ]
     },
     "execution_count": 35,
     "metadata": {},
     "output_type": "execute_result"
    },
    {
     "name": "stdout",
     "output_type": "stream",
     "text": [
      "Failed to remove C:\\Users\\j.prince-agbodjan\\.ipython\\profile_default\\log\\ipcontroller-1672907899-wc3t-19360.log: [WinError 32] Le processus ne peut pas accéder au fichier car ce fichier est utilisé par un autre processus: 'C:\\\\Users\\\\j.prince-agbodjan\\\\.ipython\\\\profile_default\\\\log\\\\ipcontroller-1672907899-wc3t-19360.log'\n",
      "Controller stopped: {'exit_code': 15, 'pid': 19816, 'identifier': 'ipcontroller-1672907899-wc3t-19360'}\n",
      "Stopping engine(s): 1672907901\n",
      "engine set stopped 1672907901: {'engines': {'0': {'exit_code': 15, 'pid': 10960, 'identifier': '0'}, '2': {'exit_code': 15, 'pid': 19532, 'identifier': '2'}, '3': {'exit_code': 15, 'pid': 16908, 'identifier': '3'}, '1': {'exit_code': 15, 'pid': 28232, 'identifier': '1'}, '4': {'exit_code': 15, 'pid': 20680, 'identifier': '4'}, '5': {'exit_code': 15, 'pid': 23356, 'identifier': '5'}, '6': {'exit_code': 15, 'pid': 23832, 'identifier': '6'}}, 'exit_code': 15}\n"
     ]
    },
    {
     "name": "stderr",
     "output_type": "stream",
     "text": [
      "Stopping cluster <Cluster(cluster_id='1672907899-wc3t', profile='default', controller=<after>, engine_sets=['1672907901'])>\n"
     ]
    }
   ],
   "source": [
    "max_vm_pu_df.rename(columns={'vm_pu_max_pf':'known'}, inplace=True)# Rename columns\n",
    "joblib.dump(max_vm_pu_df, 'pickle_files/simulationResults/Binary_Voltage_Rise.pkl')"
   ]
  }
 ],
 "metadata": {
  "kernelspec": {
   "display_name": "Python 3 (ipykernel)",
   "language": "python",
   "name": "python3"
  },
  "language_info": {
   "codemirror_mode": {
    "name": "ipython",
    "version": 3
   },
   "file_extension": ".py",
   "mimetype": "text/x-python",
   "name": "python",
   "nbconvert_exporter": "python",
   "pygments_lexer": "ipython3",
   "version": "3.7.15"
  },
  "widgets": {
   "application/vnd.jupyter.widget-state+json": {
    "state": {},
    "version_major": 2,
    "version_minor": 0
   }
  }
 },
 "nbformat": 4,
 "nbformat_minor": 5
}
