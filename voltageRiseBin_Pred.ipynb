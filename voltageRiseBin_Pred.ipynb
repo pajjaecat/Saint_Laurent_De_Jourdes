{
 "cells": [
  {
   "cell_type": "markdown",
   "id": "480055a1-b0da-42e1-ae4b-5f56a3ba2540",
   "metadata": {},
   "source": [
    "Predict whether a voltage rise will occur or not in the next period . \n",
    "\n",
    "See [VoltageRiseBinTrain](voltageRiseBin_Train.ipynb) for the training of the RNN"
   ]
  },
  {
   "cell_type": "markdown",
   "id": "615946a6-a0fb-42af-9b85-3f297b58dd66",
   "metadata": {},
   "source": [
    "---"
   ]
  },
  {
   "cell_type": "markdown",
   "id": "6269c2ae-4edb-4edc-b9e6-5e8fc8a519e5",
   "metadata": {
    "tags": []
   },
   "source": [
    "#### Import modules to be used"
   ]
  },
  {
   "cell_type": "code",
   "execution_count": 1,
   "id": "7d03799f-9341-49e9-aa88-949421832c6a",
   "metadata": {},
   "outputs": [],
   "source": [
    "#Import Modules \n",
    "import pandas as pd\n",
    "import pandapower as pp\n",
    "import matplotlib.pyplot as plt\n",
    "import numpy as np\n",
    "from tqdm import tqdm # Profiling \n",
    "import seaborn as sbn\n",
    "import pickle, sys, importlib,  time\n",
    "import os\n",
    "from pickle import load\n",
    "import tensorflow as tf\n",
    "import joblib"
   ]
  },
  {
   "cell_type": "markdown",
   "id": "27f0de16-0ff9-4e01-b390-588b05658960",
   "metadata": {},
   "source": [
    "#### Import my own modules"
   ]
  },
  {
   "cell_type": "code",
   "execution_count": 2,
   "id": "eff66d5f-be91-4067-8bf6-20fd790ee8ac",
   "metadata": {},
   "outputs": [],
   "source": [
    "# import psutil\n",
    "function_folder = 'py_files/' \n",
    "# Add function folder to path if it is not already\n",
    "if function_folder not in sys.path: sys.path.append(function_folder)\n",
    "\n",
    "import myFunctions as mf\n",
    "from myFunctions import network_folder, excel_folder, py_folder, Δt, attr_list"
   ]
  },
  {
   "cell_type": "code",
   "execution_count": 3,
   "id": "5e784558-e372-4f81-acf9-8a680d7b5c10",
   "metadata": {},
   "outputs": [],
   "source": [
    "fut_known = joblib.load('pickle_files/simulationResults/KnownFuture.pkl')\n"
   ]
  },
  {
   "cell_type": "markdown",
   "id": "c442ec28-b4e8-428d-b7f4-1762818f5b3e",
   "metadata": {},
   "source": [
    "#### Import and dataClead files for component of the network"
   ]
  },
  {
   "cell_type": "code",
   "execution_count": 4,
   "id": "37aefb25-d718-42a7-af41-1aa8fb9467d3",
   "metadata": {},
   "outputs": [],
   "source": [
    "#Import Networks\n",
    "net_civaux=pp.from_pickle(f'{network_folder}CIVAUX.p')\n",
    "net_stlaurent=pp.from_pickle(f'{network_folder}ST LAURENT.p')"
   ]
  },
  {
   "cell_type": "code",
   "execution_count": 5,
   "id": "48d84bc1-70e5-4586-a994-7ac8ba6c06b7",
   "metadata": {},
   "outputs": [],
   "source": [
    "#Load files\n",
    "file_p_inj_0013 = 'Prod_HTA/PROD_Bis/P0013/PROD-BATISOLAIRE 6-CIVAUX - Actif injecte (P-).csv'\n",
    "file_p_inj_0018 = 'Prod_HTA/PROD_Bis/P0018/PROD-SUN POITOU 2516 (Z.I de la Pitage)-LHOMMAIZE - Actif injecte (P-).csv'\n",
    "\n",
    "\n",
    "# The  commissioning of the Prod P0100 is recent (2022). I therefore use the data of the closer energy \n",
    "# producer that is P0058  and consider it as that of Prod P0100 \n",
    "file_p_inj_0100 = 'Prod_HTA/PROD_Bis/PROD-SERGIES 2204 (LA ROCHE A CORNUCHON)-PINDRAY - Actif P-.csv'\n",
    "\n",
    "file_prod_bt_total = 'PROD_BTSUP36_SAINT LAURENT.csv'\n",
    "file_cons_total = 'CONSO_POSTE_SAINT LAURENT.csv'\n",
    "\n",
    "\n",
    "# Get files data \n",
    "p_mw_0013 = mf.readAndReshape_input(file_p_inj_0013 ,excel_folder, )\n",
    "p_mw_0018 = mf.readAndReshape_input(file_p_inj_0018 ,excel_folder,)\n",
    "p_mw_0100 = mf.readAndReshape_input(file_p_inj_0100 ,excel_folder,)\n",
    "\n",
    "\n",
    "p_mw_prod_bt_total = mf.readAndReshape_input(file_prod_bt_total, excel_folder)\n",
    "p_mw_cons_total = mf.readAndReshape_input(file_cons_total, excel_folder)\n",
    "\n",
    "# Create dict for all HT producers\n",
    "dict_prod_hv = {'P0013': p_mw_0013[:len(p_mw_0100)], \n",
    "                'P0018': p_mw_0018[:len(p_mw_0100)],\n",
    "                'P0100': p_mw_0100[:len(p_mw_0100)]\n",
    "               }\n",
    "# Create index to use for dataframe\n",
    "per_index = pd.period_range('01 01 2020', periods=len(p_mw_0100), freq='10T')\n",
    "\n",
    "# Use the create dict to create a dataFrame for Prod P0100\n",
    "df_prodP0100 = pd.DataFrame(p_mw_0100, index=per_index)\n",
    "\n",
    "# Use the create dict to create a dataFrame for all HT producers\n",
    "df_prodHT = pd.DataFrame(dict_prod_hv, index=per_index)\n",
    "\n",
    "# Dataframe prod BT \n",
    "per_index = pd.period_range('01 01 2020', periods=len(p_mw_prod_bt_total), freq='10T')\n",
    "df_prod_bt_total = pd.DataFrame(p_mw_prod_bt_total, index=per_index, columns=['Prod_BT'])\n",
    "\n",
    "\n",
    "# Dataframe Conso BT \n",
    "per_index = pd.period_range('01 01 2020', periods=len(p_mw_cons_total), freq='10T')\n",
    "df_cons_total = pd.DataFrame(p_mw_cons_total, index=per_index, columns=['Cons'])\n",
    "# Data cleaning on Consumption\n",
    "previous_days = df_cons_total[(per_index>='2022 02 12') & (per_index<='2022 02 21 23:50')]\n",
    "following_days = df_cons_total[(per_index>='2022 03 03') & (per_index<='2022 03 12 23:50')]\n",
    "# # Put the interpolated data into the dataframe\n",
    "df_cons_total[(per_index>='2022 02 21') & (per_index<='2022 03 02 23:50')] = (np.array(following_days) + \n",
    "                                                                              np.array(previous_days) )/2\n",
    "\n",
    "\n",
    "# Get total Power of BT producers\n",
    "# Bt producers are indexed by the name None\n",
    "max_p_mw_total_prodBT = net_civaux.sgen.max_p_mw[net_civaux.sgen.name.isna()].sum()\n",
    "\n",
    "# # Get total power of load in the network\n",
    "max_p_mw_total_load = net_civaux.load.max_p_mw.sum()\n",
    "\n",
    "# Select relevant data up to 2022 06 01\n",
    "df_prodHT = df_prodHT[df_prodHT.index<='2022 06 01 23:50']\n",
    "df_prod_bt_total = df_prod_bt_total[df_prod_bt_total.index<='2022 06 01 23:50']\n",
    "df_cons_total = df_cons_total[df_cons_total.index<='2022 06 01 23:50']\n",
    "\n",
    "\n",
    "# Extract only dailight period i.e. from 07am to 7PM\n",
    "# The daylight period is considered to be defined betwenn 07am and 7Pm excluded. \n",
    "h_start_end = ('07:00','18:50') # for the persistance model, the previous period i.e. 06:50 \n",
    "                                # is needed to compute the first instant i.e. 07:00\n",
    "per_index = df_prodHT.index\n",
    "per_daylight = ( pd.Series(index=per_index.to_timestamp(), dtype=object).between_time(*h_start_end) ).index.to_period('10T')\n",
    "day_tot_per = len(per_daylight[(per_daylight.year==2020)&(per_daylight.month==1)&(per_daylight.day==1)])\n",
    "\n",
    "\n",
    "# Put all the data in a unique dataframe\n",
    "df_data = pd.concat([df_cons_total, df_prod_bt_total, df_prodHT], axis=1).loc[per_daylight]\n",
    "\n",
    "# # Extract only the relavant testing set since the training set covers the first part of the data\n",
    "df_final = df_data[df_data.index>='2021 06 01']\n",
    "per_index = df_final.index\n",
    "per_index2 = ( pd.Series(index=per_index.to_timestamp(), dtype=object\n",
    "                           ).between_time('07:00','18:50') ).index.to_period('10T')\n",
    "\n",
    "# # Separate training and testing set \n",
    "df_test = df_data[df_data.index>='2021 06 01']"
   ]
  },
  {
   "cell_type": "code",
   "execution_count": 7,
   "id": "97c2302c-1bc4-46bc-860b-c7409c41d312",
   "metadata": {},
   "outputs": [],
   "source": [
    "vm_mu_max, vm_mu_min = 1.0250, 0.95  # Choosen \n"
   ]
  },
  {
   "cell_type": "code",
   "execution_count": 8,
   "id": "54b7a1eb-04bd-4550-aed6-c0d6d843abd2",
   "metadata": {},
   "outputs": [],
   "source": [
    "# Create a vectorize version of int64\n",
    "vector_int = np.vectorize(np.int64)\n",
    "\n",
    "# use the vector int to convert the voltage rise in a binary variable \n",
    "var_bin = vector_int(fut_known['voltage_rise_df'].No_Control > vm_mu_max)\n",
    "\n",
    "var_bin_df = pd.DataFrame(data=var_bin, index=fut_known['voltage_rise_df'].index, columns=['vRise_bin'])\n",
    "\n",
    "df_test_bin = pd.concat([df_test, var_bin_df], axis=1)"
   ]
  },
  {
   "cell_type": "markdown",
   "id": "3c351c6c-d559-4276-b3a2-39a6fd46475a",
   "metadata": {},
   "source": [
    "### Import RNN"
   ]
  },
  {
   "cell_type": "code",
   "execution_count": 9,
   "id": "45fd92cf-a708-4950-bd0a-25885b812558",
   "metadata": {},
   "outputs": [],
   "source": [
    "import joblib"
   ]
  },
  {
   "cell_type": "code",
   "execution_count": 10,
   "id": "9f3f5042-3bb3-4765-9839-720d69ccd331",
   "metadata": {},
   "outputs": [],
   "source": [
    "# Load scaler and RNN from file\n",
    "scaler = joblib.load('pickle_files/RNN/StLaurent_bin_vRise_scaler.plk')\n",
    "lstm_model = tf.keras.models.load_model('pickle_files/RNN/StLaurent_bin_vRise_model')"
   ]
  },
  {
   "cell_type": "markdown",
   "id": "f932cf74-6e88-4573-b900-033c09d7c858",
   "metadata": {
    "tags": []
   },
   "source": [
    "#### Define history"
   ]
  },
  {
   "cell_type": "code",
   "execution_count": 12,
   "id": "6ff954ae-1b69-4e8d-a259-9442479b5d7e",
   "metadata": {},
   "outputs": [],
   "source": [
    "histTot = df_test_bin.rolling(lstm_model.input_shape[1]) # Create a rolling windows to get the history"
   ]
  },
  {
   "cell_type": "markdown",
   "id": "3d487c04-4a32-448d-addc-bccc850e49a7",
   "metadata": {},
   "source": [
    "#### Predict values"
   ]
  },
  {
   "cell_type": "code",
   "execution_count": 15,
   "id": "eeda2c42-cb46-48cb-b6b8-e13f9e11319e",
   "metadata": {},
   "outputs": [
    {
     "data": {
      "text/plain": [
       "tqdm.std.tqdm"
      ]
     },
     "execution_count": 15,
     "metadata": {},
     "output_type": "execute_result"
    }
   ],
   "source": [
    "tqdm"
   ]
  },
  {
   "cell_type": "code",
   "execution_count": null,
   "id": "8d1b5971-e6fc-46ed-9807-5dfba7f6c60d",
   "metadata": {},
   "outputs": [],
   "source": [
    "hist_list = list(histTot)\n",
    "len_hist = len(hist_list)\n",
    "n0  = lstm_model.input_shape[1]                 # The first elem \n",
    "pred_per, pred = [],[]             \n",
    "                \n",
    "for hist_index in tqdm(range(n0, len_hist)):\n",
    "    cur_hist = hist_list[hist_index]          # current hystory\n",
    "    \n",
    "    # run prediction for each period \n",
    "    pred_var, pred_per_var = mf.predictionBin_bloc(rnn_model=lstm_model, \n",
    "                                                   fitting_scaler=scaler, \n",
    "                                                   history= cur_hist, sig_thresh=0.5 )\n",
    "    \n",
    "    pred_per.append(pred_per_var)\n",
    "    pred.append(pred_var)\n",
    "    \n"
   ]
  },
  {
   "cell_type": "code",
   "execution_count": 98,
   "id": "91982e78-8d7a-482c-a5ef-622bca96b900",
   "metadata": {},
   "outputs": [],
   "source": [
    "predicted_values = pd.DataFrame(data = np.array(pred),\n",
    "                                index=pred_per, \n",
    "                                columns = ['V_rise_Pred'] )\n",
    "\n",
    "per_index3 = ( pd.Series(index=predicted_values.index.to_timestamp(), dtype=object\n",
    "                           ).between_time('08:10','18:50') ).index.to_period('10T')"
   ]
  },
  {
   "cell_type": "code",
   "execution_count": 99,
   "id": "295ac208-929c-4f87-a762-82f215689b6b",
   "metadata": {},
   "outputs": [],
   "source": [
    "from sklearn.metrics import classification_report, confusion_matrix"
   ]
  },
  {
   "cell_type": "code",
   "execution_count": 100,
   "id": "1ff7cf64-28ab-4529-be69-da19f40f6988",
   "metadata": {},
   "outputs": [
    {
     "name": "stdout",
     "output_type": "stream",
     "text": [
      "              precision    recall  f1-score   support\n",
      "\n",
      "           0       0.99      0.97      0.98     21242\n",
      "           1       0.78      0.89      0.83      2548\n",
      "\n",
      "    accuracy                           0.96     23790\n",
      "   macro avg       0.88      0.93      0.90     23790\n",
      "weighted avg       0.96      0.96      0.96     23790\n",
      "\n"
     ]
    }
   ],
   "source": [
    "print(classification_report(var_bin_df.loc[per_index3],predicted_values.loc[per_index3]))"
   ]
  },
  {
   "cell_type": "code",
   "execution_count": 101,
   "id": "36a9466a-8a9f-4ca8-926e-62031a817f21",
   "metadata": {},
   "outputs": [
    {
     "name": "stdout",
     "output_type": "stream",
     "text": [
      "[[20612   630]\n",
      " [  293  2255]]\n"
     ]
    }
   ],
   "source": [
    "print(confusion_matrix(var_bin_df.loc[per_index3],predicted_values.loc[per_index3]))"
   ]
  },
  {
   "cell_type": "code",
   "execution_count": 102,
   "id": "7d4824a2-d065-4017-9ab2-342259a0cdab",
   "metadata": {},
   "outputs": [
    {
     "data": {
      "text/plain": [
       "['pickle_files/simulationResults/Binary_Voltage_Rise_Predicted.pkl']"
      ]
     },
     "execution_count": 102,
     "metadata": {},
     "output_type": "execute_result"
    }
   ],
   "source": [
    "joblib.dump(predicted_values.loc[per_index3],'pickle_files/simulationResults/Binary_Voltage_Rise_Predicted.pkl')"
   ]
  }
 ],
 "metadata": {
  "kernelspec": {
   "display_name": "Python 3 (ipykernel)",
   "language": "python",
   "name": "python3"
  },
  "language_info": {
   "codemirror_mode": {
    "name": "ipython",
    "version": 3
   },
   "file_extension": ".py",
   "mimetype": "text/x-python",
   "name": "python",
   "nbconvert_exporter": "python",
   "pygments_lexer": "ipython3",
   "version": "3.9.12"
  }
 },
 "nbformat": 4,
 "nbformat_minor": 5
}
