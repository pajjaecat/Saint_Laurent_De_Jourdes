{
 "cells": [
  {
   "cell_type": "markdown",
   "id": "d5bc9f77-4df7-4f9e-b87e-96e0097ed0ec",
   "metadata": {},
   "source": [
    "###    Create a multi input  Neural Network Based on the functional API of Keras Tensor FLow\n",
    "\n",
    "* Training of the MultiInput RNN is done in  [Multi_Input3RNN_Perfect_Training](Multi_Input3RNN_Perfect_Training.ipynb)\n",
    "* Prediction using MultiInput RNN is done in [Multi_Input3RNN_Perfect_Prediction](Multi_Input3RNN_Perfect_Prediction.ipynb)"
   ]
  },
  {
   "cell_type": "markdown",
   "id": "1a73d9e7-86f9-4df3-b605-da3df2a9d8f2",
   "metadata": {},
   "source": [
    "#### Model's Input\n",
    "* Input 1 : dims = 5 [load, Bt_Prod, Ht_Prod] where Ht_Prod = [P0010, P0018,P0100]\n",
    "* Input 2 : dims = 4 [hourly_cycle, daily_cycle, weekly_cycle, yearly_cycle]\n",
    "* Input 3 : dims = 1 [Boolean var (0,1) indicating wether voltage rise above define threshold occurs durings past periods ]\n",
    "* Input 4 : dims = 1 [float var indicating the value of voltage rise that occured durings past periods ]\n",
    "\n",
    "\n",
    "#### Model's output\n",
    "* Output 1 : dims = 5 [load, Bt_Prod, Ht_Prod] (where Ht_Prod = [P0010, P0018,P0100]) prediction of these variables at the next period\n",
    "* Output 2 : dims = 1 [Boolean var (0,1) indicating wether voltage rise above define threshold will occur in the next period]\n",
    "* Output 3 : dims = 1 [float var indicating the prediction of the value of voltage rise that occur in the next period ]\n"
   ]
  },
  {
   "cell_type": "code",
   "execution_count": 1,
   "id": "5c27f2cb-1d80-4d9c-bb3e-34520dfb98ff",
   "metadata": {},
   "outputs": [],
   "source": [
    "import numpy as np\n",
    "import tensorflow as tf\n",
    "from tensorflow import keras\n",
    "from tensorflow.keras import layers, regularizers\n",
    "import pydot"
   ]
  },
  {
   "cell_type": "markdown",
   "id": "9dc1d125-e2c3-4895-9d80-12ec1c186da5",
   "metadata": {},
   "source": [
    "#### Define Inputs i.e. total features for each inputs "
   ]
  },
  {
   "cell_type": "code",
   "execution_count": 5,
   "id": "f4aad870-8c3b-417f-9ae8-f5ee837c2183",
   "metadata": {},
   "outputs": [],
   "source": [
    "n1 = 5\n",
    "n2 = 4  \n",
    "n3 = 1\n",
    "n4 = 1\n",
    "\n",
    "actv_func ='relu'\n"
   ]
  },
  {
   "cell_type": "markdown",
   "id": "60d9c449-1cd2-4e9d-9d53-3178cae1b4b1",
   "metadata": {},
   "source": [
    "#### Define Inputs for the RNN model"
   ]
  },
  {
   "cell_type": "code",
   "execution_count": 6,
   "id": "cff6a809-1e51-4ffa-a332-6a00ec9c8f6c",
   "metadata": {},
   "outputs": [],
   "source": [
    "in1 = keras.Input(shape=(None,n1), name='Numeric')  # Input 1 | For the input intanciate only the feature dimension. i.e. create a tensor as \n",
    "                                                    # in1.shape = [None, n1]\n",
    "in2 = keras.Input(shape=(None, n2), name='cyclingdata')   # Input 2 \n",
    "in3 = keras.Input(shape=(None, n3), name='BinaryVoltageRise')   # Input 23\n",
    "in4 = keras.Input(shape=(None, n4), name='NumericVoltageRise')"
   ]
  },
  {
   "cell_type": "markdown",
   "id": "a934a40b-1347-47d7-9740-b15f90628d1b",
   "metadata": {
    "tags": []
   },
   "source": [
    "#### Input 1 \n",
    "\n",
    "##### Create hidden layers"
   ]
  },
  {
   "cell_type": "code",
   "execution_count": 7,
   "id": "7d22dbcc-2c95-433e-ac71-28a820eb0f98",
   "metadata": {},
   "outputs": [],
   "source": [
    "in1_layer1    = layers.LSTM(128, activation=actv_func) # Create the first layer of model 1"
   ]
  },
  {
   "cell_type": "markdown",
   "id": "7745225b-4a46-4317-b727-abc29d1f21f5",
   "metadata": {},
   "source": [
    "##### Link input 1 to hidden layer 1\n",
    "Since the layer is an LSTM,  one needs to reshape the input such that its dimension in [x,y,z] so they can correspond to a LSTM's. \n",
    "- x ==> batch size, \n",
    "- y ==> nber_time_step_per batch ,\n",
    "- z ==> number of feature"
   ]
  },
  {
   "cell_type": "code",
   "execution_count": 8,
   "id": "37ddf7ae-cd6c-49a4-bc0b-9c2e8742b5ca",
   "metadata": {},
   "outputs": [],
   "source": [
    "in1_layer1_out = in1_layer1(in1)        \n",
    "# in1_layer1_out = in1_layer1(tf.reshape(in1, (-1, in1_ts, n1 )))        "
   ]
  },
  {
   "cell_type": "markdown",
   "id": "8facd992-ac71-4152-8884-b9c084e9f187",
   "metadata": {},
   "source": [
    "#### Input 2\n",
    "\n",
    "##### Create hidden layers and link it to the associated input"
   ]
  },
  {
   "cell_type": "code",
   "execution_count": 9,
   "id": "22b1cd3e-43f4-42c3-8409-b50f9b9e0fbf",
   "metadata": {},
   "outputs": [],
   "source": [
    "in2_layer1 = layers.LSTM(64,activation=actv_func)\n",
    "in2_layer1_out = in2_layer1(in2)"
   ]
  },
  {
   "cell_type": "markdown",
   "id": "6aeac1ff-67d9-4c9a-8831-b105a739d426",
   "metadata": {
    "tags": []
   },
   "source": [
    "#### Input 3"
   ]
  },
  {
   "cell_type": "code",
   "execution_count": 10,
   "id": "90702bf5-87fe-47eb-a068-a2841ad86073",
   "metadata": {},
   "outputs": [],
   "source": [
    "##### Create hidden layers\n",
    "in3_layer1 = layers.LSTM(64,activation=actv_func)\n",
    "in3_layer1_out = in3_layer1(in3)"
   ]
  },
  {
   "cell_type": "markdown",
   "id": "540fc336-dfa6-4fad-9808-20b41c6c777d",
   "metadata": {
    "tags": []
   },
   "source": [
    "#### Input 4"
   ]
  },
  {
   "cell_type": "code",
   "execution_count": 11,
   "id": "e7501ab7-1d61-4a60-8883-4c71dfdfdbbc",
   "metadata": {},
   "outputs": [],
   "source": [
    "##### Create hidden layers\n",
    "in4_layer1 = layers.LSTM(64,activation=actv_func)\n",
    "in4_layer1_out = in4_layer1(in4)"
   ]
  },
  {
   "cell_type": "markdown",
   "id": "219b2222-2ef1-4a77-9dc4-bb658ccfcd72",
   "metadata": {},
   "source": [
    "#### Combine layers"
   ]
  },
  {
   "cell_type": "code",
   "execution_count": 12,
   "id": "e562d66d-da94-462b-aacb-1804011e6e5f",
   "metadata": {},
   "outputs": [],
   "source": [
    "comb_out = layers.concatenate([in1_layer1_out, in2_layer1_out, in3_layer1_out, in4_layer1_out])"
   ]
  },
  {
   "cell_type": "markdown",
   "id": "96009e36-9187-41e4-b676-af51ac5cef18",
   "metadata": {},
   "source": [
    "#### Create an intermediate and the output layer and link them together with "
   ]
  },
  {
   "cell_type": "code",
   "execution_count": 13,
   "id": "59a49c9a-6504-4a62-9611-a8f2de00ac55",
   "metadata": {},
   "outputs": [],
   "source": [
    "out_numPred = layers.Dense(n1, activation='relu', name='NumPred')(comb_out)\n",
    "out_vriseBin = layers.Dense(n3, activation='sigmoid', name='binVrisePred')(comb_out)\n",
    "out_vriseNum = layers.Dense(n4, activation='relu', name='numVrisePred')(comb_out)\n"
   ]
  },
  {
   "cell_type": "markdown",
   "id": "85a651a4-2688-4128-9697-69daa67a19e6",
   "metadata": {},
   "source": [
    "#### Create final model "
   ]
  },
  {
   "cell_type": "code",
   "execution_count": 14,
   "id": "3719eef6-b8ef-4b54-bbfe-1e70d45514bf",
   "metadata": {},
   "outputs": [],
   "source": [
    "mixed_model = keras.Model(inputs=[in1,in2, in3, in4], outputs=[out_numPred, out_vriseBin, out_vriseNum])"
   ]
  },
  {
   "cell_type": "markdown",
   "id": "8b4edc0c-7c74-4f51-8ae7-d0c2821387c4",
   "metadata": {},
   "source": [
    "#### Show model parameters"
   ]
  },
  {
   "cell_type": "code",
   "execution_count": 15,
   "id": "abbe332e-71d9-4ada-b41b-921ee63dcb88",
   "metadata": {},
   "outputs": [
    {
     "name": "stdout",
     "output_type": "stream",
     "text": [
      "Model: \"model\"\n",
      "__________________________________________________________________________________________________\n",
      " Layer (type)                   Output Shape         Param #     Connected to                     \n",
      "==================================================================================================\n",
      " Numeric (InputLayer)           [(None, None, 5)]    0           []                               \n",
      "                                                                                                  \n",
      " cyclingdata (InputLayer)       [(None, None, 4)]    0           []                               \n",
      "                                                                                                  \n",
      " BinaryVoltageRise (InputLayer)  [(None, None, 1)]   0           []                               \n",
      "                                                                                                  \n",
      " NumericVoltageRise (InputLayer  [(None, None, 1)]   0           []                               \n",
      " )                                                                                                \n",
      "                                                                                                  \n",
      " lstm (LSTM)                    (None, 128)          68608       ['Numeric[0][0]']                \n",
      "                                                                                                  \n",
      " lstm_1 (LSTM)                  (None, 64)           17664       ['cyclingdata[0][0]']            \n",
      "                                                                                                  \n",
      " lstm_2 (LSTM)                  (None, 64)           16896       ['BinaryVoltageRise[0][0]']      \n",
      "                                                                                                  \n",
      " lstm_3 (LSTM)                  (None, 64)           16896       ['NumericVoltageRise[0][0]']     \n",
      "                                                                                                  \n",
      " concatenate (Concatenate)      (None, 320)          0           ['lstm[0][0]',                   \n",
      "                                                                  'lstm_1[0][0]',                 \n",
      "                                                                  'lstm_2[0][0]',                 \n",
      "                                                                  'lstm_3[0][0]']                 \n",
      "                                                                                                  \n",
      " NumPred (Dense)                (None, 5)            1605        ['concatenate[0][0]']            \n",
      "                                                                                                  \n",
      " binVrisePred (Dense)           (None, 1)            321         ['concatenate[0][0]']            \n",
      "                                                                                                  \n",
      " numVrisePred (Dense)           (None, 1)            321         ['concatenate[0][0]']            \n",
      "                                                                                                  \n",
      "==================================================================================================\n",
      "Total params: 122,311\n",
      "Trainable params: 122,311\n",
      "Non-trainable params: 0\n",
      "__________________________________________________________________________________________________\n"
     ]
    }
   ],
   "source": [
    "mixed_model.summary()"
   ]
  },
  {
   "cell_type": "code",
   "execution_count": 16,
   "id": "578aafa3-e9e6-4efb-a422-8dc8ca8b880d",
   "metadata": {},
   "outputs": [
    {
     "data": {
      "image/png": "[encoded data removed]",
      "text/plain": [
       "<IPython.core.display.Image object>"
      ]
     },
     "execution_count": 16,
     "metadata": {},
     "output_type": "execute_result"
    }
   ],
   "source": [
    "keras.utils.plot_model(mixed_model,show_shapes=True)"
   ]
  },
  {
   "cell_type": "code",
   "execution_count": 18,
   "id": "bef9ddb5-4995-47e0-94b8-a8410c0a2447",
   "metadata": {},
   "outputs": [
    {
     "name": "stdout",
     "output_type": "stream",
     "text": [
      "WARNING:tensorflow:Compiled the loaded model, but the compiled metrics have yet to be built. `model.compile_metrics` will be empty until you train or evaluate the model.\n"
     ]
    },
    {
     "name": "stderr",
     "output_type": "stream",
     "text": [
      "WARNING:absl:Function `_wrapped_model` contains input name(s) Numeric, BinaryVoltageRise, NumericVoltageRise with unsupported characters which will be renamed to numeric, binaryvoltagerise, numericvoltagerise in the SavedModel.\n"
     ]
    },
    {
     "name": "stdout",
     "output_type": "stream",
     "text": [
      "INFO:tensorflow:Assets written to: pickle_files/RNN/MultiInput_perfect\\assets\n"
     ]
    },
    {
     "name": "stderr",
     "output_type": "stream",
     "text": [
      "INFO:tensorflow:Assets written to: pickle_files/RNN/MultiInput_perfect\\assets\n"
     ]
    }
   ],
   "source": [
    "mixed_model.save(\"pickle_files/RNN/MultiInput_perfect\")"
   ]
  }
 ],
 "metadata": {
  "environment": {
   "kernel": "python3",
   "name": "tf2-gpu.2-10.m100",
   "type": "gcloud",
   "uri": "gcr.io/deeplearning-platform-release/tf2-gpu.2-10:m100"
  },
  "kernelspec": {
   "display_name": "Python 3 (ipykernel)",
   "language": "python",
   "name": "python3"
  },
  "language_info": {
   "codemirror_mode": {
    "name": "ipython",
    "version": 3
   },
   "file_extension": ".py",
   "mimetype": "text/x-python",
   "name": "python",
   "nbconvert_exporter": "python",
   "pygments_lexer": "ipython3",
   "version": "3.7.15"
  },
  "widgets": {
   "application/vnd.jupyter.widget-state+json": {
    "state": {},
    "version_major": 2,
    "version_minor": 0
   }
  }
 },
 "nbformat": 4,
 "nbformat_minor": 5
}
