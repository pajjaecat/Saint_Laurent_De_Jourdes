{
 "cells": [
  {
   "cell_type": "markdown",
   "id": "20b19448-c448-4130-a879-ec0455818ae2",
   "metadata": {
    "tags": []
   },
   "source": [
    "##### Sensitivity Analysis\n",
    "\n",
    "with variation of :\n",
    "- Controlled Energy Producer Maximum output \n",
    "- Total Bt Production (global BT energy producer in the higher level network) i.e. the added power is shared propotionally among all LV producer in the lower Network\n",
    "\n"
   ]
  },
  {
   "cell_type": "markdown",
   "id": "fc065a87-7dbd-47b1-babf-3e39a2cb365d",
   "metadata": {
    "tags": []
   },
   "source": [
    "Simulation based on  : \n",
    "* Prediction block RNN trained in [RNN_Train_StLaurentDeJourdes](RNN_Train_StLaurentDeJourdes.ipynb) \n",
    "    * To predict $X(k)$ and $Y(k)$  as respectively  $\\tilde{X(k)}$ an  $\\tilde{Y(k)}$ (Predictions on testing set are done in [RNN_Sim_StLaurentDeJourdes](RNN_Sim_StLaurentDeJourdes.ipynb))\n",
    "* Prediction Block Future Known [2021_2022_KnownFuture](2021_2022_KnownFuture.ipynb)\n",
    "* Persistence Model [2021_2022_Persistence](2021_2022_Persistence.ipynb)\n",
    "\n",
    "\n",
    "Maximum voltage rise $vm_{pu}^{max} = 1.0250 $"
   ]
  },
  {
   "cell_type": "markdown",
   "id": "96c067fd-725f-4694-a4e0-d0f55adcae39",
   "metadata": {},
   "source": [
    "---"
   ]
  },
  {
   "cell_type": "code",
   "execution_count": 1,
   "id": "d7be9346-c94c-47a1-9e68-22c0494b4fb0",
   "metadata": {
    "tags": []
   },
   "outputs": [],
   "source": [
    "def block_pf_Opf(par_engines, \n",
    "                 pred_model_f=None\n",
    "                ):\n",
    "    \"\"\"\n",
    "Execute a power flow or an optimal power flow depending on the opf_status that is extracted from one of the parallel \n",
    "engine object and return a dataFrame. If the retrieved opf_status is 'Both', the function is used as the block PF/OPF\n",
    "and thereforth the returned dataframe columns consist of ['max_vm_pu_pf', 'max_vm_pu', hvProd_N, ...,  hvProd_Z] where \n",
    "max_vm_pu_pf ==> max voltage  before opf, max_vm_pu==> maximum voltage after opf , hvProd_N ==> Name of first higher \n",
    "voltage  Producer (Egg: P0013) in the Lower Network and hvProd_Z ==>  Name of last HV  Producer (Egg: P0100)  in  the  \n",
    "Lower Network. If opf_status is False, the function is used as the block PF, the returned dataframe columns consist  \n",
    "only of max_vm_pu_pf the maximum voltage rise observed on the network after the control is implemented.\n",
    "  \n",
    "Parameters\n",
    "----------\n",
    "par_engines: (oriCs.CreateParEngines(n_engines))\n",
    "    Parallel engines object. \n",
    "pred_model_f: (str) optional, default to None\n",
    "    'Pers' ==> Using persistence model\n",
    "\n",
    "    \"\"\"\n",
    "    \n",
    "    \n",
    "    \n",
    "    # Note that all the variables used in the parallel running are already sent to the local space of each engine\n",
    "    if pred_model_f == 'Pers': \n",
    "    # Run problem in parallel\n",
    "        %px par_run_Results = [par_oriFunctions.run_powerflow_at(lowerNet, cur_period+1, lowerNet_hv_activated_bus, uppNet_sum_max_lvProdLoad,  dict_df_sgenLoad, vm_mu_max, opf_status, pred_model) for cur_period in period_part]\n",
    "    else:\n",
    "        %px par_run_Results = [par_oriFunctions.run_powerflow_at(lowerNet, cur_period, lowerNet_hv_activated_bus, uppNet_sum_max_lvProdLoad,  dict_df_sgenLoad, vm_mu_max, opf_status) for cur_period in period_part]\n",
    "        \n",
    "    # Gather the results of all the engines in a unique variable\n",
    "    results = par_engines.gather_results('par_run_Results')\n",
    "    \n",
    "    # Wait 2seconds time for gathering the results of parralel computing  \n",
    "    time.sleep(2) \n",
    "\n",
    "    # return depends on opf_status defined in parallel engines\n",
    "    if par_engines.get_opf_status() == 'Both': \n",
    "        extracted_results = par_engines.get_results_asDf() # Extract results\n",
    "        return extracted_results\n",
    "    \n",
    "    elif par_engines.get_opf_status() == False: \n",
    "        # Put data in dataframe\n",
    "        max_vm_pu_rnn_df = pd.DataFrame(data=np.array(results), \n",
    "                                        index=par_engines.get_run_periodIndex(), columns=['vm_pu_max_pf'],)\n",
    "        return max_vm_pu_rnn_df\n",
    "    else: pass\n"
   ]
  },
  {
   "cell_type": "markdown",
   "id": "16cf0dd9-6d42-4120-b539-b29c337fbdef",
   "metadata": {},
   "source": [
    "#### Import Modules \n"
   ]
  },
  {
   "cell_type": "code",
   "execution_count": 2,
   "id": "2346d4b8-6911-477a-84a3-c8eb55f5e446",
   "metadata": {},
   "outputs": [],
   "source": [
    "import pandas as pd\n",
    "import pandapower as pp\n",
    "import matplotlib.pyplot as plt\n",
    "import numpy as np\n",
    "from tqdm import tqdm # Profiling \n",
    "import seaborn as sbn\n",
    "import pickle, sys, importlib,  time\n",
    "import os\n",
    "from pickle import load\n",
    "import joblib"
   ]
  },
  {
   "cell_type": "code",
   "execution_count": 3,
   "id": "221fcb98-4ddc-4d75-b03d-379c3778d93d",
   "metadata": {},
   "outputs": [],
   "source": [
    "function_folder = 'py_files/' \n",
    "# Add function folder to path if it is not already\n",
    "if function_folder not in sys.path: sys.path.append(function_folder)\n",
    "\n",
    "import oriFunctions as oriFc\n",
    "import oriClass as oriCs\n",
    "import checker\n",
    "from oriVariables import network_folder, excel_folder, py_folder, Δt, attr_list, testSet_end_date"
   ]
  },
  {
   "cell_type": "markdown",
   "id": "c7208954-c894-4437-9b2c-1488e0825c00",
   "metadata": {},
   "source": [
    "#### Import Networks\n"
   ]
  },
  {
   "cell_type": "code",
   "execution_count": 4,
   "id": "3047592c-554d-4dc7-abff-e2008a23b64c",
   "metadata": {},
   "outputs": [
    {
     "data": {
      "text/plain": [
       "<module 'oriFunctions' from 'py_files\\\\oriFunctions.py'>"
      ]
     },
     "execution_count": 4,
     "metadata": {},
     "output_type": "execute_result"
    }
   ],
   "source": [
    "importlib.reload(oriCs) \n",
    "importlib.reload(oriFc)"
   ]
  },
  {
   "cell_type": "markdown",
   "id": "5e405f88-f008-44b6-a62f-5a5fc10f61b9",
   "metadata": {
    "tags": []
   },
   "source": [
    "#### Import Cleaned data files for component of the network"
   ]
  },
  {
   "cell_type": "code",
   "execution_count": 5,
   "id": "e7f153e2-aba8-4fde-8edf-d7aab38f196d",
   "metadata": {},
   "outputs": [],
   "source": [
    "df_data = joblib.load(network_folder+'CleanedData.pkl')\n",
    "\n",
    "\n",
    "# Extract only dailight period i.e. from 07am to 7PM\n",
    "# The daylight period is considered to be defined betwenn 07am and 7Pm excluded. \n",
    "h_start_end = ('07:00','18:50') # for the persistance model, the previous period i.e. 06:50 \n",
    "                                # is needed to compute the first instant i.e. 07:00\n",
    "per_index = df_data.index\n",
    "per_daylight = ( pd.Series(index=per_index.to_timestamp(), dtype=object).between_time(*h_start_end) ).index.to_period('10T')\n",
    "day_tot_per = len(per_daylight[(per_daylight.year==2020)&(per_daylight.month==1)&(per_daylight.day==1)])\n",
    "\n",
    "\n",
    "# Put all the data in a unique dataframe\n",
    "df_data = df_data.loc[per_daylight]\n",
    "\n",
    "# # Extract only the relavant testing set since the training set covers the first part of the data\n",
    "df_final = df_data[(df_data.index>='2021 06 01') & (df_data.index<=testSet_end_date)]\n",
    "per_index = df_final.index\n",
    "per_index2 = ( pd.Series(index=per_index.to_timestamp(), dtype=object\n",
    "                           ).between_time('07:00','18:50') ).index.to_period('10T')\n",
    "\n",
    "df_final_copy = df_final.copy(deep=True)\n",
    "\n",
    "# Check wether the input dataframe columns are in the expected order\n",
    "checker.check_networkDataDf_columnsOrder(df_final)"
   ]
  },
  {
   "cell_type": "markdown",
   "id": "90626953-634c-4b59-b932-9025f34cd27f",
   "metadata": {
    "tags": []
   },
   "source": [
    "## OPF  RNN"
   ]
  },
  {
   "cell_type": "markdown",
   "id": "a862287e-7d76-44f3-87e2-c12b2d32961a",
   "metadata": {},
   "source": [
    "#### Set parameters on the Lower Network"
   ]
  },
  {
   "cell_type": "markdown",
   "id": "66f443a0-d716-4935-90a4-7635130ab253",
   "metadata": {
    "tags": []
   },
   "source": [
    "#### Start Parallel engines"
   ]
  },
  {
   "cell_type": "code",
   "execution_count": 6,
   "id": "b00f1de0-a1de-49f6-a81a-1ab48129c8b4",
   "metadata": {},
   "outputs": [
    {
     "name": "stdout",
     "output_type": "stream",
     "text": [
      "Starting 7 engines with <class 'ipyparallel.cluster.launcher.LocalEngineSetLauncher'>\n"
     ]
    },
    {
     "data": {
      "application/vnd.jupyter.widget-view+json": {
       "model_id": "d99d159ed0154e7aac716df96e741ad2",
       "version_major": 2,
       "version_minor": 0
      },
      "text/plain": [
       "  0%|          | 0/7 [00:00<?, ?engine/s]"
      ]
     },
     "metadata": {},
     "output_type": "display_data"
    }
   ],
   "source": [
    "n_engines = os.cpu_count() - 1  # Define total number of parallel engines to use. \n",
    "# Make sure it is lower than the total number of cores in the computer otherwise \n",
    "# no ressources is available to work when the simulation is running. \n",
    "parEngines = oriCs.CreateParEngines(n_engines)\n",
    "                   "
   ]
  },
  {
   "cell_type": "markdown",
   "id": "f8b242e9-1267-43bc-9a9e-61b263278f08",
   "metadata": {},
   "source": [
    "---"
   ]
  },
  {
   "cell_type": "markdown",
   "id": "4b131e6b-4de8-49f1-ba39-dcad26a983cf",
   "metadata": {},
   "source": [
    "#### Define Parameters for Network"
   ]
  },
  {
   "cell_type": "code",
   "execution_count": 7,
   "id": "9c2258f5-a52c-4910-b839-dc8b373d344b",
   "metadata": {},
   "outputs": [],
   "source": [
    "# Define  networks Files\n",
    "lowerNet_file = 'CIVAUX.p'\n",
    "upperNet_file = 'ST LAURENT.p'\n",
    "\n",
    "# Define How the added BT production will be share among the Lover voltage producers. \n",
    "# See setNetwork_params(*args ) documentation for more information\n",
    "coef_add_bt_dist = 'lowNet'\n",
    "ctrld_hvProdName = 'P0100'\n",
    "\n",
    "# Extract all the HV producer \n",
    "hvProdNames = {elm for elm in df_final.columns if elm[-4:].isdecimal()}\n",
    "non_ctrld_hvProdNames_list = list(hvProdNames.difference({ctrld_hvProdName}))\n",
    "vm_mu_max, vm_mu_min = 1.0250, 0.95  # Add maximum voltage constraints on the Buses in the network \n",
    "dailyPeriod_interval = ('07:10','18:50')"
   ]
  },
  {
   "cell_type": "markdown",
   "id": "1b6ec848-0504-4b7b-83e2-2b20fa4e553a",
   "metadata": {},
   "source": [
    "#### Define parameters to use to save simulation results"
   ]
  },
  {
   "cell_type": "code",
   "execution_count": 8,
   "id": "2cbf4778-fe5c-452b-8b43-233864c27341",
   "metadata": {},
   "outputs": [],
   "source": [
    "ctrld_hvProd_max = 4  #  Define the maximum power output subscribed by the controlled HV  producer\n",
    " \n",
    "bt_add_max = 4       # Define Maximum power for the added LV production\n",
    "\n",
    "# Define Range for the maximum power output subscribed by P0100 \n",
    "ctrld_hvProd_max_range = np.arange(0, ctrld_hvProd_max+0.1 ,0.2)\n",
    "bt_add_range =  np.arange(0, bt_add_max+0.1,.2);\n",
    "\n",
    "simNames = []\n",
    "for bt_elm in bt_add_range: \n",
    "    for elm in ctrld_hvProd_max_range: \n",
    "        simNames.append(f'BT+={np.round(bt_elm, decimals=2)} {ctrld_hvProdName}={np.round(elm, decimals=2)}')\n",
    "        \n",
    "simNames = np.array(simNames).reshape((len(bt_add_range),-1))"
   ]
  },
  {
   "cell_type": "markdown",
   "id": "b07b82f8-d1d0-4c32-92c7-7183f5597e14",
   "metadata": {},
   "source": [
    "### Persistence model"
   ]
  },
  {
   "cell_type": "code",
   "execution_count": 10,
   "id": "4fd60e42-1147-42ab-8c25-7d9b18fe0dc4",
   "metadata": {},
   "outputs": [
    {
     "data": {
      "text/plain": [
       "'P0100'"
      ]
     },
     "execution_count": 10,
     "metadata": {},
     "output_type": "execute_result"
    }
   ],
   "source": [
    "ctrld_hvProdName"
   ]
  },
  {
   "cell_type": "code",
   "execution_count": null,
   "id": "35917903-ace9-4988-8c17-7448b6f2c9bc",
   "metadata": {
    "scrolled": true,
    "tags": []
   },
   "outputs": [],
   "source": [
    "n_start, n_end = 0 , 1\n",
    "# n_end = len(bt_add_range)\n",
    "for bt_elm_index, coef_add_bt in enumerate(bt_add_range[n_start:n_end]):\n",
    "    \n",
    "    # Set Network\n",
    "    networks = oriFc.setNetwork_params(upperNet_file, lowerNet_file, ctrld_hvProdName,\n",
    "                                       (coef_add_bt, coef_add_bt_dist), \n",
    "                                       (vm_mu_max, vm_mu_min))\n",
    "    \n",
    "    pred_model = 'Pers'\n",
    "    # Create dictionnary that will be sent to the parallel engines\n",
    "    lowerNet_hv_activated_bus = networks.get_lowerNet_hvActivatedBuses(networks.get_lowerNet_hv_bus_df().index)\n",
    "    parameters_dict = dict({'lowerNet':networks.get_lowerNet(), \n",
    "                            'lowerNet_hv_activated_bus':lowerNet_hv_activated_bus, \n",
    "                            'uppNet_sum_max_lvProdLoad':networks.get_upperNet_sum_max_lvProdLoad(), \n",
    "                            'vm_mu_max':vm_mu_max,\n",
    "                            'pred_model':pred_model\n",
    "                           })\n",
    "\n",
    "    sim_res_Dict = {}  # Dictionnary to save variables\n",
    "    bt_elm_index = bt_elm_index+n_start\n",
    "\n",
    "    \n",
    "    # for mr_index in range(len(ctrld_hvProd_max_range)):\n",
    "    for mr_index in [20]:\n",
    "        \n",
    "        ctrld_hvUpscaling_coef = ctrld_hvProd_max_range[mr_index]  # Define Higher voltage upsacaling coeff\n",
    "\n",
    "        # Create dictionnary of main variable i.e. Prod BT, HT, Cons to used in parallel engines \n",
    "        dict_df_sgenLoad = oriFc.createDict_prodHtBt_Load(df_final,\n",
    "                                                          networks, \n",
    "                                                          ctrld_hvUpscaling_coef,\n",
    "                                                          ctrld_hvProd_max\n",
    "                                                         )\n",
    "        \n",
    "        print(f'*******************  Simulation:{bt_elm_index+1}/{len(bt_add_range) } ==> {mr_index+1}/{len(ctrld_hvProd_max_range)}  ***********')\n",
    "        print(\"                           ------- Bloc PF/OPF ---------         \")\n",
    "        df_prodHT = dict_df_sgenLoad['df_prodHT']\n",
    "        ##          ---------------------------  BLOCK PF/OPF  ------------------------         ##\n",
    "        # Initialize the parallel engine parameters i.e. send varible into each local space\n",
    "        opf_status = 'Both'\n",
    "        parEngines.sendVar_to_localSpace(df_prodHT.index, opf_status, dict_df_sgenLoad, parameters_dict, 0 )\n",
    "\n",
    "        # cALL Block pf/op\n",
    "        pf_opf_block_result = block_pf_Opf(parEngines, pred_model)    \n",
    "\n",
    "#         # ---------------------- Implement Robust Persistence ------------------------------------\n",
    "        oriFc.robustPersistence(pf_opf_block_result,df_final[[ctrld_hvProdName]],\n",
    "                                ctrld_hvUpscaling_coef, ctrld_hvProd_max, vm_mu_max)\n",
    "\n",
    "#         ##             ---------------------------  BLOCK PROD  ------------------------         ##\n",
    "        oriFc.block_prod(pf_opf_block_result, df_final[[ctrld_hvProdName]],\n",
    "                         ctrld_hvUpscaling_coef, ctrld_hvProd_max)\n",
    "\n",
    "        \n",
    "        # get periods in order\n",
    "        per_index2 = (pf_opf_block_result.index.to_timestamp().to_series(\n",
    "                        ).between_time(*dailyPeriod_interval).index.to_period('10T') )\n",
    "\n",
    "        # Update Values for the dict to use for final power flow bloc\n",
    "        day_totPer = day_tot_per-1\n",
    "        hvProd_df = pd.concat([df_final.loc[per_index2[day_totPer:], non_ctrld_hvProdNames_list], \n",
    "                            pf_opf_block_result.loc[per_index2[day_totPer:], [ctrld_hvProdName]]], axis=1)\n",
    "\n",
    "        dict_df_sgenLoad = dict({'df_prodHT': hvProd_df, \n",
    "                                 'df_prod_bt_total':df_final.loc[per_index2[day_totPer:], ['Prod_BT']], \n",
    "                                 'df_cons_total':df_final.loc[per_index2[day_totPer:], ['Cons']] } )\n",
    "\n",
    "\n",
    "        ##             ---------------------------  BLOCK PF  ------------------------         ##\n",
    "        print(\"                            ------- Bloc PF ---------         \")\n",
    "\n",
    "        opf_status = False\n",
    "        # Initialize the parallel engine parameters i.e. send varible into each local space for PF\n",
    "        parEngines.sendVar_to_localSpace(hvProd_df.index, opf_status, dict_df_sgenLoad, parameters_dict, 1)\n",
    "\n",
    "        # cALL Block pf\n",
    "        max_vm_pu_pers_df = block_pf_Opf(parEngines)    \n",
    "\n",
    "        #####                             Saving Results                         -------------------------------\n",
    "        ctrld_hvProd_noControl_df = df_final.loc[hvProd_df.index, [ctrld_hvProdName]]\n",
    "        ctrld_hvProd_noControl_upscaled_df = ctrld_hvProd_max_range[mr_index]*ctrld_hvProd_noControl_df/ctrld_hvProd_max\n",
    "        ctrld_hvProd_pers_df = pd.DataFrame(data=pf_opf_block_result.loc[hvProd_df.index][ctrld_hvProdName].values, \n",
    "                                     index=pf_opf_block_result.loc[hvProd_df.index].index, \n",
    "                                     columns=['Pers_Rob Sim'+str(mr_index+1)] )\n",
    "        # Concat\n",
    "        ctrld_hvProd_concat_df = pd.concat([ctrld_hvProd_noControl_upscaled_df,\n",
    "                                     ctrld_hvProd_pers_df], axis=1)\n",
    "        # Rename\n",
    "        ctrld_hvProd_concat_df.rename(columns=({ctrld_hvProdName:'No_Control'}), inplace=True);\n",
    "\n",
    "        int_sim_res = {'maxV_rise_df':max_vm_pu_pers_df,              # Intermediate results\n",
    "                       'Power Sgen': ctrld_hvProd_concat_df}   \n",
    "        \n",
    "        sim_res_Dict.update([(simNames[bt_elm_index, mr_index],int_sim_res)])   # Final results\n",
    "        \n",
    "    file_name= 'Pers_btRangeIndex_' +str(bt_elm_index)+ '.plk'\n",
    "    folder_name = 'pickle_files/simulationResults/SensAnalysis/Pers2/'\n",
    "    joblib.dump(sim_res_Dict,folder_name+file_name)"
   ]
  },
  {
   "cell_type": "code",
   "execution_count": 17,
   "id": "f930846c-38a6-4e25-aada-e7aeedccec46",
   "metadata": {},
   "outputs": [
    {
     "data": {
      "text/plain": [
       "'P0100'"
      ]
     },
     "execution_count": 17,
     "metadata": {},
     "output_type": "execute_result"
    }
   ],
   "source": [
    "ctrld_hvProd_noControl_df.columns[0]"
   ]
  },
  {
   "cell_type": "markdown",
   "id": "e9e9f1af-78f6-4a21-b006-df0132942238",
   "metadata": {
    "tags": []
   },
   "source": [
    "#### FUTURE KNOWN"
   ]
  },
  {
   "cell_type": "code",
   "execution_count": 86,
   "id": "9d78827f-a704-4804-ba0d-5377a5d62699",
   "metadata": {
    "collapsed": true,
    "jupyter": {
     "outputs_hidden": true
    },
    "scrolled": true,
    "tags": []
   },
   "outputs": [
    {
     "name": "stdout",
     "output_type": "stream",
     "text": [
      "***************************  Simulation:1/16 ==> 1/21      ***********\n",
      "                           ------- Bloc PF/OPF ---------         \n",
      "importing numpy on engine(s)\n",
      "importing pandapower on engine(s)\n",
      "importing pandas on engine(s)\n",
      "importing Par_myFunctions on engine(s)\n"
     ]
    },
    {
     "data": {
      "application/vnd.jupyter.widget-view+json": {
       "model_id": "a605073275444a728b013eae21735338",
       "version_major": 2,
       "version_minor": 0
      },
      "text/plain": [
       "%px:   0%|          | 0/48 [00:00<?, ?tasks/s]"
      ]
     },
     "metadata": {},
     "output_type": "display_data"
    },
    {
     "name": "stdout",
     "output_type": "stream",
     "text": [
      "***************************  Simulation:1/16 ==> 2/21      ***********\n",
      "                           ------- Bloc PF/OPF ---------         \n",
      "importing numpy on engine(s)\n",
      "importing pandapower on engine(s)\n",
      "importing pandas on engine(s)\n",
      "importing Par_myFunctions on engine(s)\n"
     ]
    },
    {
     "data": {
      "application/vnd.jupyter.widget-view+json": {
       "model_id": "3feccdca799e479b95834bb5e70ff9e2",
       "version_major": 2,
       "version_minor": 0
      },
      "text/plain": [
       "%px:   0%|          | 0/48 [00:00<?, ?tasks/s]"
      ]
     },
     "metadata": {},
     "output_type": "display_data"
    },
    {
     "name": "stdout",
     "output_type": "stream",
     "text": [
      "***************************  Simulation:1/16 ==> 3/21      ***********\n",
      "                           ------- Bloc PF/OPF ---------         \n",
      "importing numpy on engine(s)\n",
      "importing pandapower on engine(s)\n",
      "importing pandas on engine(s)\n",
      "importing Par_myFunctions on engine(s)\n"
     ]
    },
    {
     "data": {
      "application/vnd.jupyter.widget-view+json": {
       "model_id": "ac37cd07d3ea47f783a89b6e2dab8a84",
       "version_major": 2,
       "version_minor": 0
      },
      "text/plain": [
       "%px:   0%|          | 0/48 [00:00<?, ?tasks/s]"
      ]
     },
     "metadata": {},
     "output_type": "display_data"
    },
    {
     "name": "stdout",
     "output_type": "stream",
     "text": [
      "***************************  Simulation:1/16 ==> 4/21      ***********\n",
      "                           ------- Bloc PF/OPF ---------         \n",
      "importing numpy on engine(s)\n",
      "importing pandapower on engine(s)\n",
      "importing pandas on engine(s)\n",
      "importing Par_myFunctions on engine(s)\n"
     ]
    },
    {
     "data": {
      "application/vnd.jupyter.widget-view+json": {
       "model_id": "372050004dfd4b96a509ba2916e6522e",
       "version_major": 2,
       "version_minor": 0
      },
      "text/plain": [
       "%px:   0%|          | 0/48 [00:00<?, ?tasks/s]"
      ]
     },
     "metadata": {},
     "output_type": "display_data"
    },
    {
     "name": "stdout",
     "output_type": "stream",
     "text": [
      "***************************  Simulation:1/16 ==> 5/21      ***********\n",
      "                           ------- Bloc PF/OPF ---------         \n",
      "importing numpy on engine(s)\n",
      "importing pandapower on engine(s)\n",
      "importing pandas on engine(s)\n",
      "importing Par_myFunctions on engine(s)\n"
     ]
    },
    {
     "data": {
      "application/vnd.jupyter.widget-view+json": {
       "model_id": "1aff8905ed1940ee860945b1b16d2430",
       "version_major": 2,
       "version_minor": 0
      },
      "text/plain": [
       "%px:   0%|          | 0/48 [00:00<?, ?tasks/s]"
      ]
     },
     "metadata": {},
     "output_type": "display_data"
    },
    {
     "name": "stdout",
     "output_type": "stream",
     "text": [
      "***************************  Simulation:1/16 ==> 6/21      ***********\n",
      "                           ------- Bloc PF/OPF ---------         \n",
      "importing numpy on engine(s)\n",
      "importing pandapower on engine(s)\n",
      "importing pandas on engine(s)\n",
      "importing Par_myFunctions on engine(s)\n"
     ]
    },
    {
     "data": {
      "application/vnd.jupyter.widget-view+json": {
       "model_id": "fd814092b79a4136b48136d95c61cf4b",
       "version_major": 2,
       "version_minor": 0
      },
      "text/plain": [
       "%px:   0%|          | 0/48 [00:00<?, ?tasks/s]"
      ]
     },
     "metadata": {},
     "output_type": "display_data"
    },
    {
     "name": "stdout",
     "output_type": "stream",
     "text": [
      "***************************  Simulation:1/16 ==> 7/21      ***********\n",
      "                           ------- Bloc PF/OPF ---------         \n",
      "importing numpy on engine(s)\n",
      "importing pandapower on engine(s)\n",
      "importing pandas on engine(s)\n",
      "importing Par_myFunctions on engine(s)\n"
     ]
    },
    {
     "data": {
      "application/vnd.jupyter.widget-view+json": {
       "model_id": "3ad73ad4a36c479b922eada77dc76981",
       "version_major": 2,
       "version_minor": 0
      },
      "text/plain": [
       "%px:   0%|          | 0/48 [00:00<?, ?tasks/s]"
      ]
     },
     "metadata": {},
     "output_type": "display_data"
    },
    {
     "name": "stdout",
     "output_type": "stream",
     "text": [
      "***************************  Simulation:1/16 ==> 8/21      ***********\n",
      "                           ------- Bloc PF/OPF ---------         \n",
      "importing numpy on engine(s)\n",
      "importing pandapower on engine(s)\n",
      "importing pandas on engine(s)\n",
      "importing Par_myFunctions on engine(s)\n"
     ]
    },
    {
     "data": {
      "application/vnd.jupyter.widget-view+json": {
       "model_id": "b2ab1f9537764e6bb7bb86b6c014a460",
       "version_major": 2,
       "version_minor": 0
      },
      "text/plain": [
       "%px:   0%|          | 0/48 [00:00<?, ?tasks/s]"
      ]
     },
     "metadata": {},
     "output_type": "display_data"
    },
    {
     "name": "stdout",
     "output_type": "stream",
     "text": [
      "***************************  Simulation:1/16 ==> 9/21      ***********\n",
      "                           ------- Bloc PF/OPF ---------         \n",
      "importing numpy on engine(s)\n",
      "importing pandapower on engine(s)\n",
      "importing pandas on engine(s)\n",
      "importing Par_myFunctions on engine(s)\n"
     ]
    },
    {
     "data": {
      "application/vnd.jupyter.widget-view+json": {
       "model_id": "b946c6810b7449c4b262dd7f724dd147",
       "version_major": 2,
       "version_minor": 0
      },
      "text/plain": [
       "%px:   0%|          | 0/48 [00:00<?, ?tasks/s]"
      ]
     },
     "metadata": {},
     "output_type": "display_data"
    },
    {
     "name": "stdout",
     "output_type": "stream",
     "text": [
      "***************************  Simulation:1/16 ==> 10/21      ***********\n",
      "                           ------- Bloc PF/OPF ---------         \n",
      "importing numpy on engine(s)\n",
      "importing pandapower on engine(s)\n",
      "importing pandas on engine(s)\n",
      "importing Par_myFunctions on engine(s)\n"
     ]
    },
    {
     "data": {
      "application/vnd.jupyter.widget-view+json": {
       "model_id": "bc4cfd3c44e847f1a51cdcd0a3598306",
       "version_major": 2,
       "version_minor": 0
      },
      "text/plain": [
       "%px:   0%|          | 0/48 [00:00<?, ?tasks/s]"
      ]
     },
     "metadata": {},
     "output_type": "display_data"
    },
    {
     "name": "stdout",
     "output_type": "stream",
     "text": [
      "***************************  Simulation:1/16 ==> 11/21      ***********\n",
      "                           ------- Bloc PF/OPF ---------         \n",
      "importing numpy on engine(s)\n",
      "importing pandapower on engine(s)\n",
      "importing pandas on engine(s)\n",
      "importing Par_myFunctions on engine(s)\n"
     ]
    },
    {
     "data": {
      "application/vnd.jupyter.widget-view+json": {
       "model_id": "30ffa31609e64463948975b2a9018b4b",
       "version_major": 2,
       "version_minor": 0
      },
      "text/plain": [
       "%px:   0%|          | 0/48 [00:00<?, ?tasks/s]"
      ]
     },
     "metadata": {},
     "output_type": "display_data"
    },
    {
     "name": "stdout",
     "output_type": "stream",
     "text": [
      "***************************  Simulation:1/16 ==> 12/21      ***********\n",
      "                           ------- Bloc PF/OPF ---------         \n",
      "importing numpy on engine(s)\n",
      "importing pandapower on engine(s)\n",
      "importing pandas on engine(s)\n",
      "importing Par_myFunctions on engine(s)\n"
     ]
    },
    {
     "data": {
      "application/vnd.jupyter.widget-view+json": {
       "model_id": "aa5a1712580d4b18ac6d4f3e49f90362",
       "version_major": 2,
       "version_minor": 0
      },
      "text/plain": [
       "%px:   0%|          | 0/48 [00:00<?, ?tasks/s]"
      ]
     },
     "metadata": {},
     "output_type": "display_data"
    },
    {
     "name": "stdout",
     "output_type": "stream",
     "text": [
      "***************************  Simulation:1/16 ==> 13/21      ***********\n",
      "                           ------- Bloc PF/OPF ---------         \n",
      "importing numpy on engine(s)\n",
      "importing pandapower on engine(s)\n",
      "importing pandas on engine(s)\n",
      "importing Par_myFunctions on engine(s)\n"
     ]
    },
    {
     "data": {
      "application/vnd.jupyter.widget-view+json": {
       "model_id": "bb712ba961934546bd42e0235ce30e97",
       "version_major": 2,
       "version_minor": 0
      },
      "text/plain": [
       "%px:   0%|          | 0/48 [00:00<?, ?tasks/s]"
      ]
     },
     "metadata": {},
     "output_type": "display_data"
    },
    {
     "name": "stdout",
     "output_type": "stream",
     "text": [
      "***************************  Simulation:1/16 ==> 14/21      ***********\n",
      "                           ------- Bloc PF/OPF ---------         \n",
      "importing numpy on engine(s)\n",
      "importing pandapower on engine(s)\n",
      "importing pandas on engine(s)\n",
      "importing Par_myFunctions on engine(s)\n"
     ]
    },
    {
     "data": {
      "application/vnd.jupyter.widget-view+json": {
       "model_id": "0a311b479773451c9aceb607e0f1f65c",
       "version_major": 2,
       "version_minor": 0
      },
      "text/plain": [
       "%px:   0%|          | 0/48 [00:00<?, ?tasks/s]"
      ]
     },
     "metadata": {},
     "output_type": "display_data"
    },
    {
     "name": "stdout",
     "output_type": "stream",
     "text": [
      "***************************  Simulation:1/16 ==> 15/21      ***********\n",
      "                           ------- Bloc PF/OPF ---------         \n",
      "importing numpy on engine(s)\n",
      "importing pandapower on engine(s)\n",
      "importing pandas on engine(s)\n",
      "importing Par_myFunctions on engine(s)\n"
     ]
    },
    {
     "data": {
      "application/vnd.jupyter.widget-view+json": {
       "model_id": "da22be20cc59492eb6d9ee956228e7e8",
       "version_major": 2,
       "version_minor": 0
      },
      "text/plain": [
       "%px:   0%|          | 0/48 [00:00<?, ?tasks/s]"
      ]
     },
     "metadata": {},
     "output_type": "display_data"
    },
    {
     "name": "stdout",
     "output_type": "stream",
     "text": [
      "***************************  Simulation:1/16 ==> 16/21      ***********\n",
      "                           ------- Bloc PF/OPF ---------         \n",
      "importing numpy on engine(s)\n",
      "importing pandapower on engine(s)\n",
      "importing pandas on engine(s)\n",
      "importing Par_myFunctions on engine(s)\n"
     ]
    },
    {
     "data": {
      "application/vnd.jupyter.widget-view+json": {
       "model_id": "9465bc25c8fc4ea9a64ccc0518067e81",
       "version_major": 2,
       "version_minor": 0
      },
      "text/plain": [
       "%px:   0%|          | 0/48 [00:00<?, ?tasks/s]"
      ]
     },
     "metadata": {},
     "output_type": "display_data"
    },
    {
     "name": "stdout",
     "output_type": "stream",
     "text": [
      "***************************  Simulation:1/16 ==> 17/21      ***********\n",
      "                           ------- Bloc PF/OPF ---------         \n",
      "importing numpy on engine(s)\n",
      "importing pandapower on engine(s)\n",
      "importing pandas on engine(s)\n",
      "importing Par_myFunctions on engine(s)\n"
     ]
    },
    {
     "data": {
      "application/vnd.jupyter.widget-view+json": {
       "model_id": "f15d04afd6004df6a9b19fb1d59c18e1",
       "version_major": 2,
       "version_minor": 0
      },
      "text/plain": [
       "%px:   0%|          | 0/48 [00:00<?, ?tasks/s]"
      ]
     },
     "metadata": {},
     "output_type": "display_data"
    },
    {
     "name": "stdout",
     "output_type": "stream",
     "text": [
      "***************************  Simulation:1/16 ==> 18/21      ***********\n",
      "                           ------- Bloc PF/OPF ---------         \n",
      "importing numpy on engine(s)\n",
      "importing pandapower on engine(s)\n",
      "importing pandas on engine(s)\n",
      "importing Par_myFunctions on engine(s)\n"
     ]
    },
    {
     "data": {
      "application/vnd.jupyter.widget-view+json": {
       "model_id": "009de7f13e9343d798677579458a7247",
       "version_major": 2,
       "version_minor": 0
      },
      "text/plain": [
       "%px:   0%|          | 0/48 [00:00<?, ?tasks/s]"
      ]
     },
     "metadata": {},
     "output_type": "display_data"
    },
    {
     "name": "stdout",
     "output_type": "stream",
     "text": [
      "***************************  Simulation:1/16 ==> 19/21      ***********\n",
      "                           ------- Bloc PF/OPF ---------         \n",
      "importing numpy on engine(s)\n",
      "importing pandapower on engine(s)\n",
      "importing pandas on engine(s)\n",
      "importing Par_myFunctions on engine(s)\n"
     ]
    },
    {
     "data": {
      "application/vnd.jupyter.widget-view+json": {
       "model_id": "61ea6c8cbd8e4aab9513d902fc1b99b0",
       "version_major": 2,
       "version_minor": 0
      },
      "text/plain": [
       "%px:   0%|          | 0/48 [00:00<?, ?tasks/s]"
      ]
     },
     "metadata": {},
     "output_type": "display_data"
    },
    {
     "name": "stdout",
     "output_type": "stream",
     "text": [
      "***************************  Simulation:1/16 ==> 20/21      ***********\n",
      "                           ------- Bloc PF/OPF ---------         \n",
      "importing numpy on engine(s)\n",
      "importing pandapower on engine(s)\n",
      "importing pandas on engine(s)\n",
      "importing Par_myFunctions on engine(s)\n"
     ]
    },
    {
     "data": {
      "application/vnd.jupyter.widget-view+json": {
       "model_id": "0684cce0f6584a8690b9b56ee3b0d584",
       "version_major": 2,
       "version_minor": 0
      },
      "text/plain": [
       "%px:   0%|          | 0/48 [00:00<?, ?tasks/s]"
      ]
     },
     "metadata": {},
     "output_type": "display_data"
    },
    {
     "name": "stdout",
     "output_type": "stream",
     "text": [
      "***************************  Simulation:1/16 ==> 21/21      ***********\n",
      "                           ------- Bloc PF/OPF ---------         \n",
      "importing numpy on engine(s)\n",
      "importing pandapower on engine(s)\n",
      "importing pandas on engine(s)\n",
      "importing Par_myFunctions on engine(s)\n"
     ]
    },
    {
     "data": {
      "application/vnd.jupyter.widget-view+json": {
       "model_id": "b3f54265bb464d12a7c1db62b595721d",
       "version_major": 2,
       "version_minor": 0
      },
      "text/plain": [
       "%px:   0%|          | 0/48 [00:00<?, ?tasks/s]"
      ]
     },
     "metadata": {},
     "output_type": "display_data"
    },
    {
     "name": "stdout",
     "output_type": "stream",
     "text": [
      "***************************  Simulation:2/16 ==> 1/21      ***********\n",
      "                           ------- Bloc PF/OPF ---------         \n",
      "importing numpy on engine(s)\n",
      "importing pandapower on engine(s)\n",
      "importing pandas on engine(s)\n",
      "importing Par_myFunctions on engine(s)\n"
     ]
    },
    {
     "data": {
      "application/vnd.jupyter.widget-view+json": {
       "model_id": "f55433236a824b9ab54478f36180f598",
       "version_major": 2,
       "version_minor": 0
      },
      "text/plain": [
       "%px:   0%|          | 0/48 [00:00<?, ?tasks/s]"
      ]
     },
     "metadata": {},
     "output_type": "display_data"
    },
    {
     "name": "stdout",
     "output_type": "stream",
     "text": [
      "***************************  Simulation:2/16 ==> 2/21      ***********\n",
      "                           ------- Bloc PF/OPF ---------         \n",
      "importing numpy on engine(s)\n",
      "importing pandapower on engine(s)\n",
      "importing pandas on engine(s)\n",
      "importing Par_myFunctions on engine(s)\n"
     ]
    },
    {
     "data": {
      "application/vnd.jupyter.widget-view+json": {
       "model_id": "5acd1a6b279145b89d2b5c01bd8ca9a9",
       "version_major": 2,
       "version_minor": 0
      },
      "text/plain": [
       "%px:   0%|          | 0/48 [00:00<?, ?tasks/s]"
      ]
     },
     "metadata": {},
     "output_type": "display_data"
    },
    {
     "name": "stdout",
     "output_type": "stream",
     "text": [
      "***************************  Simulation:2/16 ==> 3/21      ***********\n",
      "                           ------- Bloc PF/OPF ---------         \n",
      "importing numpy on engine(s)\n",
      "importing pandapower on engine(s)\n",
      "importing pandas on engine(s)\n",
      "importing Par_myFunctions on engine(s)\n"
     ]
    },
    {
     "data": {
      "application/vnd.jupyter.widget-view+json": {
       "model_id": "f6d0418af18c4e519f6f9cc4084bd0f6",
       "version_major": 2,
       "version_minor": 0
      },
      "text/plain": [
       "%px:   0%|          | 0/48 [00:00<?, ?tasks/s]"
      ]
     },
     "metadata": {},
     "output_type": "display_data"
    },
    {
     "name": "stdout",
     "output_type": "stream",
     "text": [
      "***************************  Simulation:2/16 ==> 4/21      ***********\n",
      "                           ------- Bloc PF/OPF ---------         \n",
      "importing numpy on engine(s)\n",
      "importing pandapower on engine(s)\n",
      "importing pandas on engine(s)\n",
      "importing Par_myFunctions on engine(s)\n"
     ]
    },
    {
     "data": {
      "application/vnd.jupyter.widget-view+json": {
       "model_id": "b2c92d6a43494af4adde672ceb8a1702",
       "version_major": 2,
       "version_minor": 0
      },
      "text/plain": [
       "%px:   0%|          | 0/48 [00:00<?, ?tasks/s]"
      ]
     },
     "metadata": {},
     "output_type": "display_data"
    },
    {
     "name": "stdout",
     "output_type": "stream",
     "text": [
      "***************************  Simulation:2/16 ==> 5/21      ***********\n",
      "                           ------- Bloc PF/OPF ---------         \n",
      "importing numpy on engine(s)\n",
      "importing pandapower on engine(s)\n",
      "importing pandas on engine(s)\n",
      "importing Par_myFunctions on engine(s)\n"
     ]
    },
    {
     "data": {
      "application/vnd.jupyter.widget-view+json": {
       "model_id": "89e5da856b244d419c330d91b64f0f5b",
       "version_major": 2,
       "version_minor": 0
      },
      "text/plain": [
       "%px:   0%|          | 0/48 [00:00<?, ?tasks/s]"
      ]
     },
     "metadata": {},
     "output_type": "display_data"
    },
    {
     "name": "stdout",
     "output_type": "stream",
     "text": [
      "***************************  Simulation:2/16 ==> 6/21      ***********\n",
      "                           ------- Bloc PF/OPF ---------         \n",
      "importing numpy on engine(s)\n",
      "importing pandapower on engine(s)\n",
      "importing pandas on engine(s)\n",
      "importing Par_myFunctions on engine(s)\n"
     ]
    },
    {
     "data": {
      "application/vnd.jupyter.widget-view+json": {
       "model_id": "de2cae0f01aa4ff7acb2d76793aab29b",
       "version_major": 2,
       "version_minor": 0
      },
      "text/plain": [
       "%px:   0%|          | 0/48 [00:00<?, ?tasks/s]"
      ]
     },
     "metadata": {},
     "output_type": "display_data"
    },
    {
     "name": "stdout",
     "output_type": "stream",
     "text": [
      "***************************  Simulation:2/16 ==> 7/21      ***********\n",
      "                           ------- Bloc PF/OPF ---------         \n",
      "importing numpy on engine(s)\n",
      "importing pandapower on engine(s)\n",
      "importing pandas on engine(s)\n",
      "importing Par_myFunctions on engine(s)\n"
     ]
    },
    {
     "data": {
      "application/vnd.jupyter.widget-view+json": {
       "model_id": "1a334ed7d8394b49bdc972b2133548cd",
       "version_major": 2,
       "version_minor": 0
      },
      "text/plain": [
       "%px:   0%|          | 0/48 [00:00<?, ?tasks/s]"
      ]
     },
     "metadata": {},
     "output_type": "display_data"
    },
    {
     "name": "stdout",
     "output_type": "stream",
     "text": [
      "***************************  Simulation:2/16 ==> 8/21      ***********\n",
      "                           ------- Bloc PF/OPF ---------         \n",
      "importing numpy on engine(s)\n",
      "importing pandapower on engine(s)\n",
      "importing pandas on engine(s)\n",
      "importing Par_myFunctions on engine(s)\n"
     ]
    },
    {
     "data": {
      "application/vnd.jupyter.widget-view+json": {
       "model_id": "1c837fc04270470b85967866b182f58d",
       "version_major": 2,
       "version_minor": 0
      },
      "text/plain": [
       "%px:   0%|          | 0/48 [00:00<?, ?tasks/s]"
      ]
     },
     "metadata": {},
     "output_type": "display_data"
    },
    {
     "name": "stdout",
     "output_type": "stream",
     "text": [
      "***************************  Simulation:2/16 ==> 9/21      ***********\n",
      "                           ------- Bloc PF/OPF ---------         \n",
      "importing numpy on engine(s)\n",
      "importing pandapower on engine(s)\n",
      "importing pandas on engine(s)\n",
      "importing Par_myFunctions on engine(s)\n"
     ]
    },
    {
     "data": {
      "application/vnd.jupyter.widget-view+json": {
       "model_id": "f0d64b5eb3e142038ce7664ef35dd7f8",
       "version_major": 2,
       "version_minor": 0
      },
      "text/plain": [
       "%px:   0%|          | 0/48 [00:00<?, ?tasks/s]"
      ]
     },
     "metadata": {},
     "output_type": "display_data"
    },
    {
     "name": "stdout",
     "output_type": "stream",
     "text": [
      "***************************  Simulation:2/16 ==> 10/21      ***********\n",
      "                           ------- Bloc PF/OPF ---------         \n",
      "importing numpy on engine(s)\n",
      "importing pandapower on engine(s)\n",
      "importing pandas on engine(s)\n",
      "importing Par_myFunctions on engine(s)\n"
     ]
    },
    {
     "data": {
      "application/vnd.jupyter.widget-view+json": {
       "model_id": "6e52e80d43f249078b09ed21a71b5901",
       "version_major": 2,
       "version_minor": 0
      },
      "text/plain": [
       "%px:   0%|          | 0/48 [00:00<?, ?tasks/s]"
      ]
     },
     "metadata": {},
     "output_type": "display_data"
    },
    {
     "name": "stdout",
     "output_type": "stream",
     "text": [
      "***************************  Simulation:2/16 ==> 11/21      ***********\n",
      "                           ------- Bloc PF/OPF ---------         \n",
      "importing numpy on engine(s)\n",
      "importing pandapower on engine(s)\n",
      "importing pandas on engine(s)\n",
      "importing Par_myFunctions on engine(s)\n"
     ]
    },
    {
     "data": {
      "application/vnd.jupyter.widget-view+json": {
       "model_id": "bcc24c06e795427d9af6ad796be01a17",
       "version_major": 2,
       "version_minor": 0
      },
      "text/plain": [
       "%px:   0%|          | 0/48 [00:00<?, ?tasks/s]"
      ]
     },
     "metadata": {},
     "output_type": "display_data"
    },
    {
     "name": "stdout",
     "output_type": "stream",
     "text": [
      "***************************  Simulation:2/16 ==> 12/21      ***********\n",
      "                           ------- Bloc PF/OPF ---------         \n",
      "importing numpy on engine(s)\n",
      "importing pandapower on engine(s)\n",
      "importing pandas on engine(s)\n",
      "importing Par_myFunctions on engine(s)\n"
     ]
    },
    {
     "data": {
      "application/vnd.jupyter.widget-view+json": {
       "model_id": "cd1a92b2d3124c9587d4deed44dbca20",
       "version_major": 2,
       "version_minor": 0
      },
      "text/plain": [
       "%px:   0%|          | 0/48 [00:00<?, ?tasks/s]"
      ]
     },
     "metadata": {},
     "output_type": "display_data"
    },
    {
     "name": "stdout",
     "output_type": "stream",
     "text": [
      "***************************  Simulation:2/16 ==> 13/21      ***********\n",
      "                           ------- Bloc PF/OPF ---------         \n",
      "importing numpy on engine(s)\n",
      "importing pandapower on engine(s)\n",
      "importing pandas on engine(s)\n",
      "importing Par_myFunctions on engine(s)\n"
     ]
    },
    {
     "data": {
      "application/vnd.jupyter.widget-view+json": {
       "model_id": "b139c4fea953446db5e892fb58a354ef",
       "version_major": 2,
       "version_minor": 0
      },
      "text/plain": [
       "%px:   0%|          | 0/48 [00:00<?, ?tasks/s]"
      ]
     },
     "metadata": {},
     "output_type": "display_data"
    },
    {
     "name": "stdout",
     "output_type": "stream",
     "text": [
      "***************************  Simulation:2/16 ==> 14/21      ***********\n",
      "                           ------- Bloc PF/OPF ---------         \n",
      "importing numpy on engine(s)\n",
      "importing pandapower on engine(s)\n",
      "importing pandas on engine(s)\n",
      "importing Par_myFunctions on engine(s)\n"
     ]
    },
    {
     "data": {
      "application/vnd.jupyter.widget-view+json": {
       "model_id": "fa67c1e2934b4205918a72ee52fa6768",
       "version_major": 2,
       "version_minor": 0
      },
      "text/plain": [
       "%px:   0%|          | 0/48 [00:00<?, ?tasks/s]"
      ]
     },
     "metadata": {},
     "output_type": "display_data"
    },
    {
     "name": "stdout",
     "output_type": "stream",
     "text": [
      "***************************  Simulation:2/16 ==> 15/21      ***********\n",
      "                           ------- Bloc PF/OPF ---------         \n",
      "importing numpy on engine(s)\n",
      "importing pandapower on engine(s)\n",
      "importing pandas on engine(s)\n",
      "importing Par_myFunctions on engine(s)\n"
     ]
    },
    {
     "data": {
      "application/vnd.jupyter.widget-view+json": {
       "model_id": "9ac2eada17c8425faf8b13bead6aee9b",
       "version_major": 2,
       "version_minor": 0
      },
      "text/plain": [
       "%px:   0%|          | 0/48 [00:00<?, ?tasks/s]"
      ]
     },
     "metadata": {},
     "output_type": "display_data"
    },
    {
     "name": "stdout",
     "output_type": "stream",
     "text": [
      "***************************  Simulation:2/16 ==> 16/21      ***********\n",
      "                           ------- Bloc PF/OPF ---------         \n",
      "importing numpy on engine(s)\n",
      "importing pandapower on engine(s)\n",
      "importing pandas on engine(s)\n",
      "importing Par_myFunctions on engine(s)\n"
     ]
    },
    {
     "data": {
      "application/vnd.jupyter.widget-view+json": {
       "model_id": "2e863a15c24346718aea3c1f94d354b5",
       "version_major": 2,
       "version_minor": 0
      },
      "text/plain": [
       "%px:   0%|          | 0/48 [00:00<?, ?tasks/s]"
      ]
     },
     "metadata": {},
     "output_type": "display_data"
    },
    {
     "name": "stdout",
     "output_type": "stream",
     "text": [
      "***************************  Simulation:2/16 ==> 17/21      ***********\n",
      "                           ------- Bloc PF/OPF ---------         \n",
      "importing numpy on engine(s)\n",
      "importing pandapower on engine(s)\n",
      "importing pandas on engine(s)\n",
      "importing Par_myFunctions on engine(s)\n"
     ]
    },
    {
     "data": {
      "application/vnd.jupyter.widget-view+json": {
       "model_id": "881a975bde554943ba8fc69711c31eca",
       "version_major": 2,
       "version_minor": 0
      },
      "text/plain": [
       "%px:   0%|          | 0/48 [00:00<?, ?tasks/s]"
      ]
     },
     "metadata": {},
     "output_type": "display_data"
    },
    {
     "name": "stdout",
     "output_type": "stream",
     "text": [
      "***************************  Simulation:2/16 ==> 18/21      ***********\n",
      "                           ------- Bloc PF/OPF ---------         \n",
      "importing numpy on engine(s)\n",
      "importing pandapower on engine(s)\n",
      "importing pandas on engine(s)\n",
      "importing Par_myFunctions on engine(s)\n"
     ]
    },
    {
     "data": {
      "application/vnd.jupyter.widget-view+json": {
       "model_id": "286126fa4af64476a23d008bd9c0af48",
       "version_major": 2,
       "version_minor": 0
      },
      "text/plain": [
       "%px:   0%|          | 0/48 [00:00<?, ?tasks/s]"
      ]
     },
     "metadata": {},
     "output_type": "display_data"
    },
    {
     "name": "stdout",
     "output_type": "stream",
     "text": [
      "***************************  Simulation:2/16 ==> 19/21      ***********\n",
      "                           ------- Bloc PF/OPF ---------         \n",
      "importing numpy on engine(s)\n",
      "importing pandapower on engine(s)\n",
      "importing pandas on engine(s)\n",
      "importing Par_myFunctions on engine(s)\n"
     ]
    },
    {
     "data": {
      "application/vnd.jupyter.widget-view+json": {
       "model_id": "d5d5594b69b84203a89cd13260d95451",
       "version_major": 2,
       "version_minor": 0
      },
      "text/plain": [
       "%px:   0%|          | 0/48 [00:00<?, ?tasks/s]"
      ]
     },
     "metadata": {},
     "output_type": "display_data"
    },
    {
     "name": "stdout",
     "output_type": "stream",
     "text": [
      "***************************  Simulation:2/16 ==> 20/21      ***********\n",
      "                           ------- Bloc PF/OPF ---------         \n",
      "importing numpy on engine(s)\n",
      "importing pandapower on engine(s)\n",
      "importing pandas on engine(s)\n",
      "importing Par_myFunctions on engine(s)\n"
     ]
    },
    {
     "data": {
      "application/vnd.jupyter.widget-view+json": {
       "model_id": "7d592a8348a24e7b80a7ce0ef0487e3e",
       "version_major": 2,
       "version_minor": 0
      },
      "text/plain": [
       "%px:   0%|          | 0/48 [00:00<?, ?tasks/s]"
      ]
     },
     "metadata": {},
     "output_type": "display_data"
    },
    {
     "name": "stdout",
     "output_type": "stream",
     "text": [
      "***************************  Simulation:2/16 ==> 21/21      ***********\n",
      "                           ------- Bloc PF/OPF ---------         \n",
      "importing numpy on engine(s)\n",
      "importing pandapower on engine(s)\n",
      "importing pandas on engine(s)\n",
      "importing Par_myFunctions on engine(s)\n"
     ]
    },
    {
     "data": {
      "application/vnd.jupyter.widget-view+json": {
       "model_id": "e895bb2748694a6684576b660eb9c8d9",
       "version_major": 2,
       "version_minor": 0
      },
      "text/plain": [
       "%px:   0%|          | 0/48 [00:00<?, ?tasks/s]"
      ]
     },
     "metadata": {},
     "output_type": "display_data"
    },
    {
     "name": "stdout",
     "output_type": "stream",
     "text": [
      "***************************  Simulation:3/16 ==> 1/21      ***********\n",
      "                           ------- Bloc PF/OPF ---------         \n",
      "importing numpy on engine(s)\n",
      "importing pandapower on engine(s)\n",
      "importing pandas on engine(s)\n",
      "importing Par_myFunctions on engine(s)\n"
     ]
    },
    {
     "data": {
      "application/vnd.jupyter.widget-view+json": {
       "model_id": "a9d444d142d04cb8b1e0576420d6fd29",
       "version_major": 2,
       "version_minor": 0
      },
      "text/plain": [
       "%px:   0%|          | 0/48 [00:00<?, ?tasks/s]"
      ]
     },
     "metadata": {},
     "output_type": "display_data"
    },
    {
     "name": "stdout",
     "output_type": "stream",
     "text": [
      "***************************  Simulation:3/16 ==> 2/21      ***********\n",
      "                           ------- Bloc PF/OPF ---------         \n",
      "importing numpy on engine(s)\n",
      "importing pandapower on engine(s)\n",
      "importing pandas on engine(s)\n",
      "importing Par_myFunctions on engine(s)\n"
     ]
    },
    {
     "data": {
      "application/vnd.jupyter.widget-view+json": {
       "model_id": "cf55158128824425a539cbfcc7f01a3c",
       "version_major": 2,
       "version_minor": 0
      },
      "text/plain": [
       "%px:   0%|          | 0/48 [00:00<?, ?tasks/s]"
      ]
     },
     "metadata": {},
     "output_type": "display_data"
    },
    {
     "name": "stdout",
     "output_type": "stream",
     "text": [
      "***************************  Simulation:3/16 ==> 3/21      ***********\n",
      "                           ------- Bloc PF/OPF ---------         \n",
      "importing numpy on engine(s)\n",
      "importing pandapower on engine(s)\n",
      "importing pandas on engine(s)\n",
      "importing Par_myFunctions on engine(s)\n"
     ]
    },
    {
     "data": {
      "application/vnd.jupyter.widget-view+json": {
       "model_id": "4d5667e9183b41ceb7ae7054b38f1ef5",
       "version_major": 2,
       "version_minor": 0
      },
      "text/plain": [
       "%px:   0%|          | 0/48 [00:00<?, ?tasks/s]"
      ]
     },
     "metadata": {},
     "output_type": "display_data"
    },
    {
     "name": "stdout",
     "output_type": "stream",
     "text": [
      "***************************  Simulation:3/16 ==> 4/21      ***********\n",
      "                           ------- Bloc PF/OPF ---------         \n",
      "importing numpy on engine(s)\n",
      "importing pandapower on engine(s)\n",
      "importing pandas on engine(s)\n",
      "importing Par_myFunctions on engine(s)\n"
     ]
    },
    {
     "data": {
      "application/vnd.jupyter.widget-view+json": {
       "model_id": "45741ea6bcb34e3fb8dc662687f92294",
       "version_major": 2,
       "version_minor": 0
      },
      "text/plain": [
       "%px:   0%|          | 0/48 [00:00<?, ?tasks/s]"
      ]
     },
     "metadata": {},
     "output_type": "display_data"
    },
    {
     "name": "stdout",
     "output_type": "stream",
     "text": [
      "***************************  Simulation:3/16 ==> 5/21      ***********\n",
      "                           ------- Bloc PF/OPF ---------         \n",
      "importing numpy on engine(s)\n",
      "importing pandapower on engine(s)\n",
      "importing pandas on engine(s)\n",
      "importing Par_myFunctions on engine(s)\n"
     ]
    },
    {
     "data": {
      "application/vnd.jupyter.widget-view+json": {
       "model_id": "aaf3a38b1db5410ba46d2d479c57f6e8",
       "version_major": 2,
       "version_minor": 0
      },
      "text/plain": [
       "%px:   0%|          | 0/48 [00:00<?, ?tasks/s]"
      ]
     },
     "metadata": {},
     "output_type": "display_data"
    },
    {
     "name": "stdout",
     "output_type": "stream",
     "text": [
      "***************************  Simulation:3/16 ==> 6/21      ***********\n",
      "                           ------- Bloc PF/OPF ---------         \n",
      "importing numpy on engine(s)\n",
      "importing pandapower on engine(s)\n",
      "importing pandas on engine(s)\n",
      "importing Par_myFunctions on engine(s)\n"
     ]
    },
    {
     "data": {
      "application/vnd.jupyter.widget-view+json": {
       "model_id": "4139a0c17bdf4f6cbc2e86964de248cd",
       "version_major": 2,
       "version_minor": 0
      },
      "text/plain": [
       "%px:   0%|          | 0/48 [00:00<?, ?tasks/s]"
      ]
     },
     "metadata": {},
     "output_type": "display_data"
    },
    {
     "name": "stdout",
     "output_type": "stream",
     "text": [
      "***************************  Simulation:3/16 ==> 7/21      ***********\n",
      "                           ------- Bloc PF/OPF ---------         \n",
      "importing numpy on engine(s)\n",
      "importing pandapower on engine(s)\n",
      "importing pandas on engine(s)\n",
      "importing Par_myFunctions on engine(s)\n"
     ]
    },
    {
     "data": {
      "application/vnd.jupyter.widget-view+json": {
       "model_id": "1083b9b4795c4010ac9de1dccc5d3b3f",
       "version_major": 2,
       "version_minor": 0
      },
      "text/plain": [
       "%px:   0%|          | 0/48 [00:00<?, ?tasks/s]"
      ]
     },
     "metadata": {},
     "output_type": "display_data"
    },
    {
     "name": "stdout",
     "output_type": "stream",
     "text": [
      "***************************  Simulation:3/16 ==> 8/21      ***********\n",
      "                           ------- Bloc PF/OPF ---------         \n",
      "importing numpy on engine(s)\n",
      "importing pandapower on engine(s)\n",
      "importing pandas on engine(s)\n",
      "importing Par_myFunctions on engine(s)\n"
     ]
    },
    {
     "data": {
      "application/vnd.jupyter.widget-view+json": {
       "model_id": "0f4322d34e8943378480886dc6e9306f",
       "version_major": 2,
       "version_minor": 0
      },
      "text/plain": [
       "%px:   0%|          | 0/48 [00:00<?, ?tasks/s]"
      ]
     },
     "metadata": {},
     "output_type": "display_data"
    },
    {
     "name": "stdout",
     "output_type": "stream",
     "text": [
      "***************************  Simulation:3/16 ==> 9/21      ***********\n",
      "                           ------- Bloc PF/OPF ---------         \n",
      "importing numpy on engine(s)\n",
      "importing pandapower on engine(s)\n",
      "importing pandas on engine(s)\n",
      "importing Par_myFunctions on engine(s)\n"
     ]
    },
    {
     "data": {
      "application/vnd.jupyter.widget-view+json": {
       "model_id": "91d13f5a88e5471c948cb4614b565e80",
       "version_major": 2,
       "version_minor": 0
      },
      "text/plain": [
       "%px:   0%|          | 0/48 [00:00<?, ?tasks/s]"
      ]
     },
     "metadata": {},
     "output_type": "display_data"
    },
    {
     "name": "stdout",
     "output_type": "stream",
     "text": [
      "***************************  Simulation:3/16 ==> 10/21      ***********\n",
      "                           ------- Bloc PF/OPF ---------         \n",
      "importing numpy on engine(s)\n",
      "importing pandapower on engine(s)\n",
      "importing pandas on engine(s)\n",
      "importing Par_myFunctions on engine(s)\n"
     ]
    },
    {
     "data": {
      "application/vnd.jupyter.widget-view+json": {
       "model_id": "57590dc3019f4ca9a92a2222398540ce",
       "version_major": 2,
       "version_minor": 0
      },
      "text/plain": [
       "%px:   0%|          | 0/48 [00:00<?, ?tasks/s]"
      ]
     },
     "metadata": {},
     "output_type": "display_data"
    },
    {
     "name": "stdout",
     "output_type": "stream",
     "text": [
      "***************************  Simulation:3/16 ==> 11/21      ***********\n",
      "                           ------- Bloc PF/OPF ---------         \n",
      "importing numpy on engine(s)\n",
      "importing pandapower on engine(s)\n",
      "importing pandas on engine(s)\n",
      "importing Par_myFunctions on engine(s)\n"
     ]
    },
    {
     "data": {
      "application/vnd.jupyter.widget-view+json": {
       "model_id": "c04ff5573cf44767939cc1754583315a",
       "version_major": 2,
       "version_minor": 0
      },
      "text/plain": [
       "%px:   0%|          | 0/48 [00:00<?, ?tasks/s]"
      ]
     },
     "metadata": {},
     "output_type": "display_data"
    },
    {
     "name": "stdout",
     "output_type": "stream",
     "text": [
      "***************************  Simulation:3/16 ==> 12/21      ***********\n",
      "                           ------- Bloc PF/OPF ---------         \n",
      "importing numpy on engine(s)\n",
      "importing pandapower on engine(s)\n",
      "importing pandas on engine(s)\n",
      "importing Par_myFunctions on engine(s)\n"
     ]
    },
    {
     "data": {
      "application/vnd.jupyter.widget-view+json": {
       "model_id": "e72906ff831b4a4797ebf524b39084a9",
       "version_major": 2,
       "version_minor": 0
      },
      "text/plain": [
       "%px:   0%|          | 0/48 [00:00<?, ?tasks/s]"
      ]
     },
     "metadata": {},
     "output_type": "display_data"
    },
    {
     "name": "stdout",
     "output_type": "stream",
     "text": [
      "***************************  Simulation:3/16 ==> 13/21      ***********\n",
      "                           ------- Bloc PF/OPF ---------         \n",
      "importing numpy on engine(s)\n",
      "importing pandapower on engine(s)\n",
      "importing pandas on engine(s)\n",
      "importing Par_myFunctions on engine(s)\n"
     ]
    },
    {
     "data": {
      "application/vnd.jupyter.widget-view+json": {
       "model_id": "13fbfb4275f146c38d76caedf6d43ce5",
       "version_major": 2,
       "version_minor": 0
      },
      "text/plain": [
       "%px:   0%|          | 0/48 [00:00<?, ?tasks/s]"
      ]
     },
     "metadata": {},
     "output_type": "display_data"
    },
    {
     "name": "stdout",
     "output_type": "stream",
     "text": [
      "***************************  Simulation:3/16 ==> 14/21      ***********\n",
      "                           ------- Bloc PF/OPF ---------         \n",
      "importing numpy on engine(s)\n",
      "importing pandapower on engine(s)\n",
      "importing pandas on engine(s)\n",
      "importing Par_myFunctions on engine(s)\n"
     ]
    },
    {
     "data": {
      "application/vnd.jupyter.widget-view+json": {
       "model_id": "44f6537592fa45099b91a180df533e6d",
       "version_major": 2,
       "version_minor": 0
      },
      "text/plain": [
       "%px:   0%|          | 0/48 [00:00<?, ?tasks/s]"
      ]
     },
     "metadata": {},
     "output_type": "display_data"
    },
    {
     "name": "stdout",
     "output_type": "stream",
     "text": [
      "***************************  Simulation:3/16 ==> 15/21      ***********\n",
      "                           ------- Bloc PF/OPF ---------         \n",
      "importing numpy on engine(s)\n",
      "importing pandapower on engine(s)\n",
      "importing pandas on engine(s)\n",
      "importing Par_myFunctions on engine(s)\n"
     ]
    },
    {
     "data": {
      "application/vnd.jupyter.widget-view+json": {
       "model_id": "86f8bd0ac01343cd8b5610f88901ec49",
       "version_major": 2,
       "version_minor": 0
      },
      "text/plain": [
       "%px:   0%|          | 0/48 [00:00<?, ?tasks/s]"
      ]
     },
     "metadata": {},
     "output_type": "display_data"
    },
    {
     "name": "stdout",
     "output_type": "stream",
     "text": [
      "***************************  Simulation:3/16 ==> 16/21      ***********\n",
      "                           ------- Bloc PF/OPF ---------         \n",
      "importing numpy on engine(s)\n",
      "importing pandapower on engine(s)\n",
      "importing pandas on engine(s)\n",
      "importing Par_myFunctions on engine(s)\n"
     ]
    },
    {
     "data": {
      "application/vnd.jupyter.widget-view+json": {
       "model_id": "89777faafac0493cbacb483f9f3aaca8",
       "version_major": 2,
       "version_minor": 0
      },
      "text/plain": [
       "%px:   0%|          | 0/48 [00:00<?, ?tasks/s]"
      ]
     },
     "metadata": {},
     "output_type": "display_data"
    },
    {
     "name": "stdout",
     "output_type": "stream",
     "text": [
      "***************************  Simulation:3/16 ==> 17/21      ***********\n",
      "                           ------- Bloc PF/OPF ---------         \n",
      "importing numpy on engine(s)\n",
      "importing pandapower on engine(s)\n",
      "importing pandas on engine(s)\n",
      "importing Par_myFunctions on engine(s)\n"
     ]
    },
    {
     "data": {
      "application/vnd.jupyter.widget-view+json": {
       "model_id": "b1bd49187634441697766f54430dd1ef",
       "version_major": 2,
       "version_minor": 0
      },
      "text/plain": [
       "%px:   0%|          | 0/48 [00:00<?, ?tasks/s]"
      ]
     },
     "metadata": {},
     "output_type": "display_data"
    },
    {
     "name": "stdout",
     "output_type": "stream",
     "text": [
      "***************************  Simulation:3/16 ==> 18/21      ***********\n",
      "                           ------- Bloc PF/OPF ---------         \n",
      "importing numpy on engine(s)\n",
      "importing pandapower on engine(s)\n",
      "importing pandas on engine(s)\n",
      "importing Par_myFunctions on engine(s)\n"
     ]
    },
    {
     "data": {
      "application/vnd.jupyter.widget-view+json": {
       "model_id": "2ab4bb16a3564d0481acb37ee0419324",
       "version_major": 2,
       "version_minor": 0
      },
      "text/plain": [
       "%px:   0%|          | 0/48 [00:00<?, ?tasks/s]"
      ]
     },
     "metadata": {},
     "output_type": "display_data"
    },
    {
     "name": "stdout",
     "output_type": "stream",
     "text": [
      "***************************  Simulation:3/16 ==> 19/21      ***********\n",
      "                           ------- Bloc PF/OPF ---------         \n",
      "importing numpy on engine(s)\n",
      "importing pandapower on engine(s)\n",
      "importing pandas on engine(s)\n",
      "importing Par_myFunctions on engine(s)\n"
     ]
    },
    {
     "data": {
      "application/vnd.jupyter.widget-view+json": {
       "model_id": "1dc574c593bb47df97576a022d2d71e4",
       "version_major": 2,
       "version_minor": 0
      },
      "text/plain": [
       "%px:   0%|          | 0/48 [00:00<?, ?tasks/s]"
      ]
     },
     "metadata": {},
     "output_type": "display_data"
    },
    {
     "name": "stdout",
     "output_type": "stream",
     "text": [
      "***************************  Simulation:3/16 ==> 20/21      ***********\n",
      "                           ------- Bloc PF/OPF ---------         \n",
      "importing numpy on engine(s)\n",
      "importing pandapower on engine(s)\n",
      "importing pandas on engine(s)\n",
      "importing Par_myFunctions on engine(s)\n"
     ]
    },
    {
     "data": {
      "application/vnd.jupyter.widget-view+json": {
       "model_id": "62e6f837044643b097ab45da2a374a16",
       "version_major": 2,
       "version_minor": 0
      },
      "text/plain": [
       "%px:   0%|          | 0/48 [00:00<?, ?tasks/s]"
      ]
     },
     "metadata": {},
     "output_type": "display_data"
    },
    {
     "name": "stdout",
     "output_type": "stream",
     "text": [
      "***************************  Simulation:3/16 ==> 21/21      ***********\n",
      "                           ------- Bloc PF/OPF ---------         \n",
      "importing numpy on engine(s)\n",
      "importing pandapower on engine(s)\n",
      "importing pandas on engine(s)\n",
      "importing Par_myFunctions on engine(s)\n"
     ]
    },
    {
     "data": {
      "application/vnd.jupyter.widget-view+json": {
       "model_id": "263e0b7ddf2b4621b0b5bf18ae3dc4ea",
       "version_major": 2,
       "version_minor": 0
      },
      "text/plain": [
       "%px:   0%|          | 0/48 [00:00<?, ?tasks/s]"
      ]
     },
     "metadata": {},
     "output_type": "display_data"
    },
    {
     "name": "stdout",
     "output_type": "stream",
     "text": [
      "***************************  Simulation:4/16 ==> 1/21      ***********\n",
      "                           ------- Bloc PF/OPF ---------         \n",
      "importing numpy on engine(s)\n",
      "importing pandapower on engine(s)\n",
      "importing pandas on engine(s)\n",
      "importing Par_myFunctions on engine(s)\n"
     ]
    },
    {
     "data": {
      "application/vnd.jupyter.widget-view+json": {
       "model_id": "53230a78a35645e0b67e7f3a8b3aba2b",
       "version_major": 2,
       "version_minor": 0
      },
      "text/plain": [
       "%px:   0%|          | 0/48 [00:00<?, ?tasks/s]"
      ]
     },
     "metadata": {},
     "output_type": "display_data"
    },
    {
     "name": "stdout",
     "output_type": "stream",
     "text": [
      "***************************  Simulation:4/16 ==> 2/21      ***********\n",
      "                           ------- Bloc PF/OPF ---------         \n",
      "importing numpy on engine(s)\n",
      "importing pandapower on engine(s)\n",
      "importing pandas on engine(s)\n",
      "importing Par_myFunctions on engine(s)\n"
     ]
    },
    {
     "data": {
      "application/vnd.jupyter.widget-view+json": {
       "model_id": "a860b5bd9273412ead422c1152d10a21",
       "version_major": 2,
       "version_minor": 0
      },
      "text/plain": [
       "%px:   0%|          | 0/48 [00:00<?, ?tasks/s]"
      ]
     },
     "metadata": {},
     "output_type": "display_data"
    },
    {
     "name": "stdout",
     "output_type": "stream",
     "text": [
      "***************************  Simulation:4/16 ==> 3/21      ***********\n",
      "                           ------- Bloc PF/OPF ---------         \n",
      "importing numpy on engine(s)\n",
      "importing pandapower on engine(s)\n",
      "importing pandas on engine(s)\n",
      "importing Par_myFunctions on engine(s)\n"
     ]
    },
    {
     "data": {
      "application/vnd.jupyter.widget-view+json": {
       "model_id": "cc0ca151eacf4b839ca9743f0bcae949",
       "version_major": 2,
       "version_minor": 0
      },
      "text/plain": [
       "%px:   0%|          | 0/48 [00:00<?, ?tasks/s]"
      ]
     },
     "metadata": {},
     "output_type": "display_data"
    },
    {
     "name": "stdout",
     "output_type": "stream",
     "text": [
      "***************************  Simulation:4/16 ==> 4/21      ***********\n",
      "                           ------- Bloc PF/OPF ---------         \n",
      "importing numpy on engine(s)\n",
      "importing pandapower on engine(s)\n",
      "importing pandas on engine(s)\n",
      "importing Par_myFunctions on engine(s)\n"
     ]
    },
    {
     "data": {
      "application/vnd.jupyter.widget-view+json": {
       "model_id": "5224a3afef674aa586ef432630e78051",
       "version_major": 2,
       "version_minor": 0
      },
      "text/plain": [
       "%px:   0%|          | 0/48 [00:00<?, ?tasks/s]"
      ]
     },
     "metadata": {},
     "output_type": "display_data"
    },
    {
     "name": "stdout",
     "output_type": "stream",
     "text": [
      "***************************  Simulation:4/16 ==> 5/21      ***********\n",
      "                           ------- Bloc PF/OPF ---------         \n",
      "importing numpy on engine(s)\n",
      "importing pandapower on engine(s)\n",
      "importing pandas on engine(s)\n",
      "importing Par_myFunctions on engine(s)\n"
     ]
    },
    {
     "data": {
      "application/vnd.jupyter.widget-view+json": {
       "model_id": "9f9660bd9b314fd8930db7c8d1cbd599",
       "version_major": 2,
       "version_minor": 0
      },
      "text/plain": [
       "%px:   0%|          | 0/48 [00:00<?, ?tasks/s]"
      ]
     },
     "metadata": {},
     "output_type": "display_data"
    },
    {
     "name": "stdout",
     "output_type": "stream",
     "text": [
      "***************************  Simulation:4/16 ==> 6/21      ***********\n",
      "                           ------- Bloc PF/OPF ---------         \n",
      "importing numpy on engine(s)\n",
      "importing pandapower on engine(s)\n",
      "importing pandas on engine(s)\n",
      "importing Par_myFunctions on engine(s)\n"
     ]
    },
    {
     "data": {
      "application/vnd.jupyter.widget-view+json": {
       "model_id": "1ad8c531e1f34c6b8458962d58d2b681",
       "version_major": 2,
       "version_minor": 0
      },
      "text/plain": [
       "%px:   0%|          | 0/48 [00:00<?, ?tasks/s]"
      ]
     },
     "metadata": {},
     "output_type": "display_data"
    },
    {
     "name": "stdout",
     "output_type": "stream",
     "text": [
      "***************************  Simulation:4/16 ==> 7/21      ***********\n",
      "                           ------- Bloc PF/OPF ---------         \n",
      "importing numpy on engine(s)\n",
      "importing pandapower on engine(s)\n",
      "importing pandas on engine(s)\n",
      "importing Par_myFunctions on engine(s)\n"
     ]
    },
    {
     "data": {
      "application/vnd.jupyter.widget-view+json": {
       "model_id": "16d704ec6c4d45869379670f540e8163",
       "version_major": 2,
       "version_minor": 0
      },
      "text/plain": [
       "%px:   0%|          | 0/48 [00:00<?, ?tasks/s]"
      ]
     },
     "metadata": {},
     "output_type": "display_data"
    },
    {
     "name": "stdout",
     "output_type": "stream",
     "text": [
      "***************************  Simulation:4/16 ==> 8/21      ***********\n",
      "                           ------- Bloc PF/OPF ---------         \n",
      "importing numpy on engine(s)\n",
      "importing pandapower on engine(s)\n",
      "importing pandas on engine(s)\n",
      "importing Par_myFunctions on engine(s)\n"
     ]
    },
    {
     "data": {
      "application/vnd.jupyter.widget-view+json": {
       "model_id": "701e5f15df6c43c187fd626355912b34",
       "version_major": 2,
       "version_minor": 0
      },
      "text/plain": [
       "%px:   0%|          | 0/48 [00:00<?, ?tasks/s]"
      ]
     },
     "metadata": {},
     "output_type": "display_data"
    },
    {
     "name": "stdout",
     "output_type": "stream",
     "text": [
      "***************************  Simulation:4/16 ==> 9/21      ***********\n",
      "                           ------- Bloc PF/OPF ---------         \n",
      "importing numpy on engine(s)\n",
      "importing pandapower on engine(s)\n",
      "importing pandas on engine(s)\n",
      "importing Par_myFunctions on engine(s)\n"
     ]
    },
    {
     "data": {
      "application/vnd.jupyter.widget-view+json": {
       "model_id": "0c9ef063b05e485c91a39acc71bf7cd5",
       "version_major": 2,
       "version_minor": 0
      },
      "text/plain": [
       "%px:   0%|          | 0/48 [00:00<?, ?tasks/s]"
      ]
     },
     "metadata": {},
     "output_type": "display_data"
    },
    {
     "name": "stdout",
     "output_type": "stream",
     "text": [
      "***************************  Simulation:4/16 ==> 10/21      ***********\n",
      "                           ------- Bloc PF/OPF ---------         \n",
      "importing numpy on engine(s)\n",
      "importing pandapower on engine(s)\n",
      "importing pandas on engine(s)\n",
      "importing Par_myFunctions on engine(s)\n"
     ]
    },
    {
     "data": {
      "application/vnd.jupyter.widget-view+json": {
       "model_id": "03d66715bdba4b08a546f69ec3a88176",
       "version_major": 2,
       "version_minor": 0
      },
      "text/plain": [
       "%px:   0%|          | 0/48 [00:00<?, ?tasks/s]"
      ]
     },
     "metadata": {},
     "output_type": "display_data"
    },
    {
     "name": "stdout",
     "output_type": "stream",
     "text": [
      "***************************  Simulation:4/16 ==> 11/21      ***********\n",
      "                           ------- Bloc PF/OPF ---------         \n",
      "importing numpy on engine(s)\n",
      "importing pandapower on engine(s)\n",
      "importing pandas on engine(s)\n",
      "importing Par_myFunctions on engine(s)\n"
     ]
    },
    {
     "data": {
      "application/vnd.jupyter.widget-view+json": {
       "model_id": "6d7fc2d518b043978d8f7e8dda341877",
       "version_major": 2,
       "version_minor": 0
      },
      "text/plain": [
       "%px:   0%|          | 0/48 [00:00<?, ?tasks/s]"
      ]
     },
     "metadata": {},
     "output_type": "display_data"
    },
    {
     "name": "stdout",
     "output_type": "stream",
     "text": [
      "***************************  Simulation:4/16 ==> 12/21      ***********\n",
      "                           ------- Bloc PF/OPF ---------         \n",
      "importing numpy on engine(s)\n",
      "importing pandapower on engine(s)\n",
      "importing pandas on engine(s)\n",
      "importing Par_myFunctions on engine(s)\n"
     ]
    },
    {
     "data": {
      "application/vnd.jupyter.widget-view+json": {
       "model_id": "4a09218273924d5f8cc7672dc64db250",
       "version_major": 2,
       "version_minor": 0
      },
      "text/plain": [
       "%px:   0%|          | 0/48 [00:00<?, ?tasks/s]"
      ]
     },
     "metadata": {},
     "output_type": "display_data"
    },
    {
     "name": "stdout",
     "output_type": "stream",
     "text": [
      "***************************  Simulation:4/16 ==> 13/21      ***********\n",
      "                           ------- Bloc PF/OPF ---------         \n",
      "importing numpy on engine(s)\n",
      "importing pandapower on engine(s)\n",
      "importing pandas on engine(s)\n",
      "importing Par_myFunctions on engine(s)\n"
     ]
    },
    {
     "data": {
      "application/vnd.jupyter.widget-view+json": {
       "model_id": "6a04bf465fc64e61afab6e21717d5e07",
       "version_major": 2,
       "version_minor": 0
      },
      "text/plain": [
       "%px:   0%|          | 0/48 [00:00<?, ?tasks/s]"
      ]
     },
     "metadata": {},
     "output_type": "display_data"
    },
    {
     "name": "stdout",
     "output_type": "stream",
     "text": [
      "***************************  Simulation:4/16 ==> 14/21      ***********\n",
      "                           ------- Bloc PF/OPF ---------         \n",
      "importing numpy on engine(s)\n",
      "importing pandapower on engine(s)\n",
      "importing pandas on engine(s)\n",
      "importing Par_myFunctions on engine(s)\n"
     ]
    },
    {
     "data": {
      "application/vnd.jupyter.widget-view+json": {
       "model_id": "b50a8f71eb7a438cb62a4e18d0a4d47c",
       "version_major": 2,
       "version_minor": 0
      },
      "text/plain": [
       "%px:   0%|          | 0/48 [00:00<?, ?tasks/s]"
      ]
     },
     "metadata": {},
     "output_type": "display_data"
    },
    {
     "name": "stdout",
     "output_type": "stream",
     "text": [
      "***************************  Simulation:4/16 ==> 15/21      ***********\n",
      "                           ------- Bloc PF/OPF ---------         \n",
      "importing numpy on engine(s)\n",
      "importing pandapower on engine(s)\n",
      "importing pandas on engine(s)\n",
      "importing Par_myFunctions on engine(s)\n"
     ]
    },
    {
     "data": {
      "application/vnd.jupyter.widget-view+json": {
       "model_id": "9485c6e3e9bb46b1b5ed4c8ac4247f33",
       "version_major": 2,
       "version_minor": 0
      },
      "text/plain": [
       "%px:   0%|          | 0/48 [00:00<?, ?tasks/s]"
      ]
     },
     "metadata": {},
     "output_type": "display_data"
    },
    {
     "name": "stdout",
     "output_type": "stream",
     "text": [
      "***************************  Simulation:4/16 ==> 16/21      ***********\n",
      "                           ------- Bloc PF/OPF ---------         \n",
      "importing numpy on engine(s)\n",
      "importing pandapower on engine(s)\n",
      "importing pandas on engine(s)\n",
      "importing Par_myFunctions on engine(s)\n"
     ]
    },
    {
     "data": {
      "application/vnd.jupyter.widget-view+json": {
       "model_id": "7e79be69e545401eafc1ba8538aabb49",
       "version_major": 2,
       "version_minor": 0
      },
      "text/plain": [
       "%px:   0%|          | 0/48 [00:00<?, ?tasks/s]"
      ]
     },
     "metadata": {},
     "output_type": "display_data"
    },
    {
     "name": "stdout",
     "output_type": "stream",
     "text": [
      "***************************  Simulation:4/16 ==> 17/21      ***********\n",
      "                           ------- Bloc PF/OPF ---------         \n",
      "importing numpy on engine(s)\n",
      "importing pandapower on engine(s)\n",
      "importing pandas on engine(s)\n",
      "importing Par_myFunctions on engine(s)\n"
     ]
    },
    {
     "data": {
      "application/vnd.jupyter.widget-view+json": {
       "model_id": "48b58fbd5d454e29beb540fd26cf7d5a",
       "version_major": 2,
       "version_minor": 0
      },
      "text/plain": [
       "%px:   0%|          | 0/48 [00:00<?, ?tasks/s]"
      ]
     },
     "metadata": {},
     "output_type": "display_data"
    },
    {
     "name": "stdout",
     "output_type": "stream",
     "text": [
      "***************************  Simulation:4/16 ==> 18/21      ***********\n",
      "                           ------- Bloc PF/OPF ---------         \n",
      "importing numpy on engine(s)\n",
      "importing pandapower on engine(s)\n",
      "importing pandas on engine(s)\n",
      "importing Par_myFunctions on engine(s)\n"
     ]
    },
    {
     "data": {
      "application/vnd.jupyter.widget-view+json": {
       "model_id": "805fb7dd57734d6290772f965bd4b1a6",
       "version_major": 2,
       "version_minor": 0
      },
      "text/plain": [
       "%px:   0%|          | 0/48 [00:00<?, ?tasks/s]"
      ]
     },
     "metadata": {},
     "output_type": "display_data"
    },
    {
     "name": "stdout",
     "output_type": "stream",
     "text": [
      "***************************  Simulation:4/16 ==> 19/21      ***********\n",
      "                           ------- Bloc PF/OPF ---------         \n",
      "importing numpy on engine(s)\n",
      "importing pandapower on engine(s)\n",
      "importing pandas on engine(s)\n",
      "importing Par_myFunctions on engine(s)\n"
     ]
    },
    {
     "data": {
      "application/vnd.jupyter.widget-view+json": {
       "model_id": "980d658a95e643cfa9a07accedcd1962",
       "version_major": 2,
       "version_minor": 0
      },
      "text/plain": [
       "%px:   0%|          | 0/48 [00:00<?, ?tasks/s]"
      ]
     },
     "metadata": {},
     "output_type": "display_data"
    },
    {
     "name": "stdout",
     "output_type": "stream",
     "text": [
      "***************************  Simulation:4/16 ==> 20/21      ***********\n",
      "                           ------- Bloc PF/OPF ---------         \n",
      "importing numpy on engine(s)\n",
      "importing pandapower on engine(s)\n",
      "importing pandas on engine(s)\n",
      "importing Par_myFunctions on engine(s)\n"
     ]
    },
    {
     "data": {
      "application/vnd.jupyter.widget-view+json": {
       "model_id": "23d4f1fcbf484a8b8dd47722333b79ad",
       "version_major": 2,
       "version_minor": 0
      },
      "text/plain": [
       "%px:   0%|          | 0/48 [00:00<?, ?tasks/s]"
      ]
     },
     "metadata": {},
     "output_type": "display_data"
    },
    {
     "name": "stdout",
     "output_type": "stream",
     "text": [
      "***************************  Simulation:4/16 ==> 21/21      ***********\n",
      "                           ------- Bloc PF/OPF ---------         \n",
      "importing numpy on engine(s)\n",
      "importing pandapower on engine(s)\n",
      "importing pandas on engine(s)\n",
      "importing Par_myFunctions on engine(s)\n"
     ]
    },
    {
     "data": {
      "application/vnd.jupyter.widget-view+json": {
       "model_id": "835a2c3029af4fa5978c0d067058b6d5",
       "version_major": 2,
       "version_minor": 0
      },
      "text/plain": [
       "%px:   0%|          | 0/48 [00:00<?, ?tasks/s]"
      ]
     },
     "metadata": {},
     "output_type": "display_data"
    },
    {
     "name": "stdout",
     "output_type": "stream",
     "text": [
      "***************************  Simulation:5/16 ==> 1/21      ***********\n",
      "                           ------- Bloc PF/OPF ---------         \n",
      "importing numpy on engine(s)\n",
      "importing pandapower on engine(s)\n",
      "importing pandas on engine(s)\n",
      "importing Par_myFunctions on engine(s)\n"
     ]
    },
    {
     "data": {
      "application/vnd.jupyter.widget-view+json": {
       "model_id": "018c345989f949628ce5707194aed07f",
       "version_major": 2,
       "version_minor": 0
      },
      "text/plain": [
       "%px:   0%|          | 0/48 [00:00<?, ?tasks/s]"
      ]
     },
     "metadata": {},
     "output_type": "display_data"
    },
    {
     "name": "stdout",
     "output_type": "stream",
     "text": [
      "***************************  Simulation:5/16 ==> 2/21      ***********\n",
      "                           ------- Bloc PF/OPF ---------         \n",
      "importing numpy on engine(s)\n",
      "importing pandapower on engine(s)\n",
      "importing pandas on engine(s)\n",
      "importing Par_myFunctions on engine(s)\n"
     ]
    },
    {
     "data": {
      "application/vnd.jupyter.widget-view+json": {
       "model_id": "a17982d96c5f46d39cd95ae3477682e4",
       "version_major": 2,
       "version_minor": 0
      },
      "text/plain": [
       "%px:   0%|          | 0/48 [00:00<?, ?tasks/s]"
      ]
     },
     "metadata": {},
     "output_type": "display_data"
    },
    {
     "name": "stdout",
     "output_type": "stream",
     "text": [
      "***************************  Simulation:5/16 ==> 3/21      ***********\n",
      "                           ------- Bloc PF/OPF ---------         \n",
      "importing numpy on engine(s)\n",
      "importing pandapower on engine(s)\n",
      "importing pandas on engine(s)\n",
      "importing Par_myFunctions on engine(s)\n"
     ]
    },
    {
     "data": {
      "application/vnd.jupyter.widget-view+json": {
       "model_id": "a0f0e62d47654c678941b265aeb22f56",
       "version_major": 2,
       "version_minor": 0
      },
      "text/plain": [
       "%px:   0%|          | 0/48 [00:00<?, ?tasks/s]"
      ]
     },
     "metadata": {},
     "output_type": "display_data"
    },
    {
     "name": "stdout",
     "output_type": "stream",
     "text": [
      "***************************  Simulation:5/16 ==> 4/21      ***********\n",
      "                           ------- Bloc PF/OPF ---------         \n",
      "importing numpy on engine(s)\n",
      "importing pandapower on engine(s)\n",
      "importing pandas on engine(s)\n",
      "importing Par_myFunctions on engine(s)\n"
     ]
    },
    {
     "data": {
      "application/vnd.jupyter.widget-view+json": {
       "model_id": "71d805d8b72840b5a24bf6f659a7bf31",
       "version_major": 2,
       "version_minor": 0
      },
      "text/plain": [
       "%px:   0%|          | 0/48 [00:00<?, ?tasks/s]"
      ]
     },
     "metadata": {},
     "output_type": "display_data"
    },
    {
     "name": "stdout",
     "output_type": "stream",
     "text": [
      "***************************  Simulation:5/16 ==> 5/21      ***********\n",
      "                           ------- Bloc PF/OPF ---------         \n",
      "importing numpy on engine(s)\n",
      "importing pandapower on engine(s)\n",
      "importing pandas on engine(s)\n",
      "importing Par_myFunctions on engine(s)\n"
     ]
    },
    {
     "data": {
      "application/vnd.jupyter.widget-view+json": {
       "model_id": "a034c33cd59d4e739619466932e0868e",
       "version_major": 2,
       "version_minor": 0
      },
      "text/plain": [
       "%px:   0%|          | 0/48 [00:00<?, ?tasks/s]"
      ]
     },
     "metadata": {},
     "output_type": "display_data"
    },
    {
     "name": "stdout",
     "output_type": "stream",
     "text": [
      "***************************  Simulation:5/16 ==> 6/21      ***********\n",
      "                           ------- Bloc PF/OPF ---------         \n",
      "importing numpy on engine(s)\n",
      "importing pandapower on engine(s)\n",
      "importing pandas on engine(s)\n",
      "importing Par_myFunctions on engine(s)\n"
     ]
    },
    {
     "data": {
      "application/vnd.jupyter.widget-view+json": {
       "model_id": "3f75a6b997e54ef3807e8d099e738bf7",
       "version_major": 2,
       "version_minor": 0
      },
      "text/plain": [
       "%px:   0%|          | 0/48 [00:00<?, ?tasks/s]"
      ]
     },
     "metadata": {},
     "output_type": "display_data"
    },
    {
     "name": "stdout",
     "output_type": "stream",
     "text": [
      "***************************  Simulation:5/16 ==> 7/21      ***********\n",
      "                           ------- Bloc PF/OPF ---------         \n",
      "importing numpy on engine(s)\n",
      "importing pandapower on engine(s)\n",
      "importing pandas on engine(s)\n",
      "importing Par_myFunctions on engine(s)\n"
     ]
    },
    {
     "data": {
      "application/vnd.jupyter.widget-view+json": {
       "model_id": "0a7b4bd53ef34b0286940da569e4c778",
       "version_major": 2,
       "version_minor": 0
      },
      "text/plain": [
       "%px:   0%|          | 0/48 [00:00<?, ?tasks/s]"
      ]
     },
     "metadata": {},
     "output_type": "display_data"
    },
    {
     "name": "stdout",
     "output_type": "stream",
     "text": [
      "***************************  Simulation:5/16 ==> 8/21      ***********\n",
      "                           ------- Bloc PF/OPF ---------         \n",
      "importing numpy on engine(s)\n",
      "importing pandapower on engine(s)\n",
      "importing pandas on engine(s)\n",
      "importing Par_myFunctions on engine(s)\n"
     ]
    },
    {
     "data": {
      "application/vnd.jupyter.widget-view+json": {
       "model_id": "886a6e64b29849658c26bf0e8cb0c2b0",
       "version_major": 2,
       "version_minor": 0
      },
      "text/plain": [
       "%px:   0%|          | 0/48 [00:00<?, ?tasks/s]"
      ]
     },
     "metadata": {},
     "output_type": "display_data"
    },
    {
     "name": "stdout",
     "output_type": "stream",
     "text": [
      "***************************  Simulation:5/16 ==> 9/21      ***********\n",
      "                           ------- Bloc PF/OPF ---------         \n",
      "importing numpy on engine(s)\n",
      "importing pandapower on engine(s)\n",
      "importing pandas on engine(s)\n",
      "importing Par_myFunctions on engine(s)\n"
     ]
    },
    {
     "data": {
      "application/vnd.jupyter.widget-view+json": {
       "model_id": "8c2535e5c55c46babbf9797b171fee8e",
       "version_major": 2,
       "version_minor": 0
      },
      "text/plain": [
       "%px:   0%|          | 0/48 [00:00<?, ?tasks/s]"
      ]
     },
     "metadata": {},
     "output_type": "display_data"
    },
    {
     "name": "stdout",
     "output_type": "stream",
     "text": [
      "***************************  Simulation:5/16 ==> 10/21      ***********\n",
      "                           ------- Bloc PF/OPF ---------         \n",
      "importing numpy on engine(s)\n",
      "importing pandapower on engine(s)\n",
      "importing pandas on engine(s)\n",
      "importing Par_myFunctions on engine(s)\n"
     ]
    },
    {
     "data": {
      "application/vnd.jupyter.widget-view+json": {
       "model_id": "9eff31d08e1842de8fadc08278468af7",
       "version_major": 2,
       "version_minor": 0
      },
      "text/plain": [
       "%px:   0%|          | 0/48 [00:00<?, ?tasks/s]"
      ]
     },
     "metadata": {},
     "output_type": "display_data"
    },
    {
     "name": "stdout",
     "output_type": "stream",
     "text": [
      "***************************  Simulation:5/16 ==> 11/21      ***********\n",
      "                           ------- Bloc PF/OPF ---------         \n",
      "importing numpy on engine(s)\n",
      "importing pandapower on engine(s)\n",
      "importing pandas on engine(s)\n",
      "importing Par_myFunctions on engine(s)\n"
     ]
    },
    {
     "data": {
      "application/vnd.jupyter.widget-view+json": {
       "model_id": "5b162e3a2ad74e6f8e17222be3120bba",
       "version_major": 2,
       "version_minor": 0
      },
      "text/plain": [
       "%px:   0%|          | 0/48 [00:00<?, ?tasks/s]"
      ]
     },
     "metadata": {},
     "output_type": "display_data"
    },
    {
     "name": "stdout",
     "output_type": "stream",
     "text": [
      "***************************  Simulation:5/16 ==> 12/21      ***********\n",
      "                           ------- Bloc PF/OPF ---------         \n",
      "importing numpy on engine(s)\n",
      "importing pandapower on engine(s)\n",
      "importing pandas on engine(s)\n",
      "importing Par_myFunctions on engine(s)\n"
     ]
    },
    {
     "data": {
      "application/vnd.jupyter.widget-view+json": {
       "model_id": "847584784a5e4399970c1a5358e9432f",
       "version_major": 2,
       "version_minor": 0
      },
      "text/plain": [
       "%px:   0%|          | 0/48 [00:00<?, ?tasks/s]"
      ]
     },
     "metadata": {},
     "output_type": "display_data"
    },
    {
     "name": "stdout",
     "output_type": "stream",
     "text": [
      "***************************  Simulation:5/16 ==> 13/21      ***********\n",
      "                           ------- Bloc PF/OPF ---------         \n",
      "importing numpy on engine(s)\n",
      "importing pandapower on engine(s)\n",
      "importing pandas on engine(s)\n",
      "importing Par_myFunctions on engine(s)\n"
     ]
    },
    {
     "data": {
      "application/vnd.jupyter.widget-view+json": {
       "model_id": "34b6172efa5642e590343c83635527a4",
       "version_major": 2,
       "version_minor": 0
      },
      "text/plain": [
       "%px:   0%|          | 0/48 [00:00<?, ?tasks/s]"
      ]
     },
     "metadata": {},
     "output_type": "display_data"
    },
    {
     "name": "stdout",
     "output_type": "stream",
     "text": [
      "***************************  Simulation:5/16 ==> 14/21      ***********\n",
      "                           ------- Bloc PF/OPF ---------         \n",
      "importing numpy on engine(s)\n",
      "importing pandapower on engine(s)\n",
      "importing pandas on engine(s)\n",
      "importing Par_myFunctions on engine(s)\n"
     ]
    },
    {
     "data": {
      "application/vnd.jupyter.widget-view+json": {
       "model_id": "4421ed96a0f84f5e83b0f3f17eadd183",
       "version_major": 2,
       "version_minor": 0
      },
      "text/plain": [
       "%px:   0%|          | 0/48 [00:00<?, ?tasks/s]"
      ]
     },
     "metadata": {},
     "output_type": "display_data"
    },
    {
     "name": "stdout",
     "output_type": "stream",
     "text": [
      "***************************  Simulation:5/16 ==> 15/21      ***********\n",
      "                           ------- Bloc PF/OPF ---------         \n",
      "importing numpy on engine(s)\n",
      "importing pandapower on engine(s)\n",
      "importing pandas on engine(s)\n",
      "importing Par_myFunctions on engine(s)\n"
     ]
    },
    {
     "data": {
      "application/vnd.jupyter.widget-view+json": {
       "model_id": "ae9141176fb9474ba729e58f92986473",
       "version_major": 2,
       "version_minor": 0
      },
      "text/plain": [
       "%px:   0%|          | 0/48 [00:00<?, ?tasks/s]"
      ]
     },
     "metadata": {},
     "output_type": "display_data"
    },
    {
     "name": "stdout",
     "output_type": "stream",
     "text": [
      "***************************  Simulation:5/16 ==> 16/21      ***********\n",
      "                           ------- Bloc PF/OPF ---------         \n",
      "importing numpy on engine(s)\n",
      "importing pandapower on engine(s)\n",
      "importing pandas on engine(s)\n",
      "importing Par_myFunctions on engine(s)\n"
     ]
    },
    {
     "data": {
      "application/vnd.jupyter.widget-view+json": {
       "model_id": "557aa86081144655bbc04ceab7708678",
       "version_major": 2,
       "version_minor": 0
      },
      "text/plain": [
       "%px:   0%|          | 0/48 [00:00<?, ?tasks/s]"
      ]
     },
     "metadata": {},
     "output_type": "display_data"
    },
    {
     "name": "stdout",
     "output_type": "stream",
     "text": [
      "***************************  Simulation:5/16 ==> 17/21      ***********\n",
      "                           ------- Bloc PF/OPF ---------         \n",
      "importing numpy on engine(s)\n",
      "importing pandapower on engine(s)\n",
      "importing pandas on engine(s)\n",
      "importing Par_myFunctions on engine(s)\n"
     ]
    },
    {
     "data": {
      "application/vnd.jupyter.widget-view+json": {
       "model_id": "6d95d1b8eb954d769f3bbbdb5ebf04de",
       "version_major": 2,
       "version_minor": 0
      },
      "text/plain": [
       "%px:   0%|          | 0/48 [00:00<?, ?tasks/s]"
      ]
     },
     "metadata": {},
     "output_type": "display_data"
    },
    {
     "name": "stdout",
     "output_type": "stream",
     "text": [
      "***************************  Simulation:5/16 ==> 18/21      ***********\n",
      "                           ------- Bloc PF/OPF ---------         \n",
      "importing numpy on engine(s)\n",
      "importing pandapower on engine(s)\n",
      "importing pandas on engine(s)\n",
      "importing Par_myFunctions on engine(s)\n"
     ]
    },
    {
     "data": {
      "application/vnd.jupyter.widget-view+json": {
       "model_id": "f9c55184bdf140b6b84d15cf5139d517",
       "version_major": 2,
       "version_minor": 0
      },
      "text/plain": [
       "%px:   0%|          | 0/48 [00:00<?, ?tasks/s]"
      ]
     },
     "metadata": {},
     "output_type": "display_data"
    },
    {
     "name": "stdout",
     "output_type": "stream",
     "text": [
      "***************************  Simulation:5/16 ==> 19/21      ***********\n",
      "                           ------- Bloc PF/OPF ---------         \n",
      "importing numpy on engine(s)\n",
      "importing pandapower on engine(s)\n",
      "importing pandas on engine(s)\n",
      "importing Par_myFunctions on engine(s)\n"
     ]
    },
    {
     "data": {
      "application/vnd.jupyter.widget-view+json": {
       "model_id": "bd1df30a14f64ca994c49058522842f8",
       "version_major": 2,
       "version_minor": 0
      },
      "text/plain": [
       "%px:   0%|          | 0/48 [00:00<?, ?tasks/s]"
      ]
     },
     "metadata": {},
     "output_type": "display_data"
    },
    {
     "name": "stdout",
     "output_type": "stream",
     "text": [
      "***************************  Simulation:5/16 ==> 20/21      ***********\n",
      "                           ------- Bloc PF/OPF ---------         \n",
      "importing numpy on engine(s)\n",
      "importing pandapower on engine(s)\n",
      "importing pandas on engine(s)\n",
      "importing Par_myFunctions on engine(s)\n"
     ]
    },
    {
     "data": {
      "application/vnd.jupyter.widget-view+json": {
       "model_id": "fe82b99b74394b6d8612a132098f8546",
       "version_major": 2,
       "version_minor": 0
      },
      "text/plain": [
       "%px:   0%|          | 0/48 [00:00<?, ?tasks/s]"
      ]
     },
     "metadata": {},
     "output_type": "display_data"
    },
    {
     "name": "stdout",
     "output_type": "stream",
     "text": [
      "***************************  Simulation:5/16 ==> 21/21      ***********\n",
      "                           ------- Bloc PF/OPF ---------         \n",
      "importing numpy on engine(s)\n",
      "importing pandapower on engine(s)\n",
      "importing pandas on engine(s)\n",
      "importing Par_myFunctions on engine(s)\n"
     ]
    },
    {
     "data": {
      "application/vnd.jupyter.widget-view+json": {
       "model_id": "9ecb6d17cfae424fb0d79a478dde54c9",
       "version_major": 2,
       "version_minor": 0
      },
      "text/plain": [
       "%px:   0%|          | 0/48 [00:00<?, ?tasks/s]"
      ]
     },
     "metadata": {},
     "output_type": "display_data"
    },
    {
     "name": "stdout",
     "output_type": "stream",
     "text": [
      "***************************  Simulation:6/16 ==> 1/21      ***********\n",
      "                           ------- Bloc PF/OPF ---------         \n",
      "importing numpy on engine(s)\n",
      "importing pandapower on engine(s)\n",
      "importing pandas on engine(s)\n",
      "importing Par_myFunctions on engine(s)\n"
     ]
    },
    {
     "data": {
      "application/vnd.jupyter.widget-view+json": {
       "model_id": "d157e18cf6494c31a7c0bf42512a6414",
       "version_major": 2,
       "version_minor": 0
      },
      "text/plain": [
       "%px:   0%|          | 0/48 [00:00<?, ?tasks/s]"
      ]
     },
     "metadata": {},
     "output_type": "display_data"
    },
    {
     "name": "stdout",
     "output_type": "stream",
     "text": [
      "***************************  Simulation:6/16 ==> 2/21      ***********\n",
      "                           ------- Bloc PF/OPF ---------         \n",
      "importing numpy on engine(s)\n",
      "importing pandapower on engine(s)\n",
      "importing pandas on engine(s)\n",
      "importing Par_myFunctions on engine(s)\n"
     ]
    },
    {
     "data": {
      "application/vnd.jupyter.widget-view+json": {
       "model_id": "800bf7c3cf324674a8a95947f7707d97",
       "version_major": 2,
       "version_minor": 0
      },
      "text/plain": [
       "%px:   0%|          | 0/48 [00:00<?, ?tasks/s]"
      ]
     },
     "metadata": {},
     "output_type": "display_data"
    },
    {
     "name": "stdout",
     "output_type": "stream",
     "text": [
      "***************************  Simulation:6/16 ==> 3/21      ***********\n",
      "                           ------- Bloc PF/OPF ---------         \n",
      "importing numpy on engine(s)\n",
      "importing pandapower on engine(s)\n",
      "importing pandas on engine(s)\n",
      "importing Par_myFunctions on engine(s)\n"
     ]
    },
    {
     "data": {
      "application/vnd.jupyter.widget-view+json": {
       "model_id": "5bebccefbb63411ab5415870f08e74af",
       "version_major": 2,
       "version_minor": 0
      },
      "text/plain": [
       "%px:   0%|          | 0/48 [00:00<?, ?tasks/s]"
      ]
     },
     "metadata": {},
     "output_type": "display_data"
    },
    {
     "name": "stdout",
     "output_type": "stream",
     "text": [
      "***************************  Simulation:6/16 ==> 4/21      ***********\n",
      "                           ------- Bloc PF/OPF ---------         \n",
      "importing numpy on engine(s)\n",
      "importing pandapower on engine(s)\n",
      "importing pandas on engine(s)\n",
      "importing Par_myFunctions on engine(s)\n"
     ]
    },
    {
     "data": {
      "application/vnd.jupyter.widget-view+json": {
       "model_id": "09578999b0b342b4a482f7e065d9abd7",
       "version_major": 2,
       "version_minor": 0
      },
      "text/plain": [
       "%px:   0%|          | 0/48 [00:00<?, ?tasks/s]"
      ]
     },
     "metadata": {},
     "output_type": "display_data"
    },
    {
     "name": "stdout",
     "output_type": "stream",
     "text": [
      "***************************  Simulation:6/16 ==> 5/21      ***********\n",
      "                           ------- Bloc PF/OPF ---------         \n",
      "importing numpy on engine(s)\n",
      "importing pandapower on engine(s)\n",
      "importing pandas on engine(s)\n",
      "importing Par_myFunctions on engine(s)\n"
     ]
    },
    {
     "data": {
      "application/vnd.jupyter.widget-view+json": {
       "model_id": "fad93f9ff64149a5aa6d3b363d555dc0",
       "version_major": 2,
       "version_minor": 0
      },
      "text/plain": [
       "%px:   0%|          | 0/48 [00:00<?, ?tasks/s]"
      ]
     },
     "metadata": {},
     "output_type": "display_data"
    },
    {
     "name": "stdout",
     "output_type": "stream",
     "text": [
      "***************************  Simulation:6/16 ==> 6/21      ***********\n",
      "                           ------- Bloc PF/OPF ---------         \n",
      "importing numpy on engine(s)\n",
      "importing pandapower on engine(s)\n",
      "importing pandas on engine(s)\n",
      "importing Par_myFunctions on engine(s)\n"
     ]
    },
    {
     "data": {
      "application/vnd.jupyter.widget-view+json": {
       "model_id": "15210615f2ff4b54a24a7d6a5a993eda",
       "version_major": 2,
       "version_minor": 0
      },
      "text/plain": [
       "%px:   0%|          | 0/48 [00:00<?, ?tasks/s]"
      ]
     },
     "metadata": {},
     "output_type": "display_data"
    },
    {
     "name": "stdout",
     "output_type": "stream",
     "text": [
      "***************************  Simulation:6/16 ==> 7/21      ***********\n",
      "                           ------- Bloc PF/OPF ---------         \n",
      "importing numpy on engine(s)\n",
      "importing pandapower on engine(s)\n",
      "importing pandas on engine(s)\n",
      "importing Par_myFunctions on engine(s)\n"
     ]
    },
    {
     "data": {
      "application/vnd.jupyter.widget-view+json": {
       "model_id": "2f29cb45bd3546f8b143667c7e8d7fb9",
       "version_major": 2,
       "version_minor": 0
      },
      "text/plain": [
       "%px:   0%|          | 0/48 [00:00<?, ?tasks/s]"
      ]
     },
     "metadata": {},
     "output_type": "display_data"
    },
    {
     "name": "stdout",
     "output_type": "stream",
     "text": [
      "***************************  Simulation:6/16 ==> 8/21      ***********\n",
      "                           ------- Bloc PF/OPF ---------         \n",
      "importing numpy on engine(s)\n",
      "importing pandapower on engine(s)\n",
      "importing pandas on engine(s)\n",
      "importing Par_myFunctions on engine(s)\n"
     ]
    },
    {
     "data": {
      "application/vnd.jupyter.widget-view+json": {
       "model_id": "2df4c1e3a23f466785cf808ffa43becb",
       "version_major": 2,
       "version_minor": 0
      },
      "text/plain": [
       "%px:   0%|          | 0/48 [00:00<?, ?tasks/s]"
      ]
     },
     "metadata": {},
     "output_type": "display_data"
    },
    {
     "name": "stdout",
     "output_type": "stream",
     "text": [
      "***************************  Simulation:6/16 ==> 9/21      ***********\n",
      "                           ------- Bloc PF/OPF ---------         \n",
      "importing numpy on engine(s)\n",
      "importing pandapower on engine(s)\n",
      "importing pandas on engine(s)\n",
      "importing Par_myFunctions on engine(s)\n"
     ]
    },
    {
     "data": {
      "application/vnd.jupyter.widget-view+json": {
       "model_id": "51e830fd6e074b56a969d12176373df6",
       "version_major": 2,
       "version_minor": 0
      },
      "text/plain": [
       "%px:   0%|          | 0/48 [00:00<?, ?tasks/s]"
      ]
     },
     "metadata": {},
     "output_type": "display_data"
    },
    {
     "name": "stdout",
     "output_type": "stream",
     "text": [
      "***************************  Simulation:6/16 ==> 10/21      ***********\n",
      "                           ------- Bloc PF/OPF ---------         \n",
      "importing numpy on engine(s)\n",
      "importing pandapower on engine(s)\n",
      "importing pandas on engine(s)\n",
      "importing Par_myFunctions on engine(s)\n"
     ]
    },
    {
     "data": {
      "application/vnd.jupyter.widget-view+json": {
       "model_id": "d93a5793b30a4adbad8ec449d2e2ab6e",
       "version_major": 2,
       "version_minor": 0
      },
      "text/plain": [
       "%px:   0%|          | 0/48 [00:00<?, ?tasks/s]"
      ]
     },
     "metadata": {},
     "output_type": "display_data"
    },
    {
     "name": "stdout",
     "output_type": "stream",
     "text": [
      "***************************  Simulation:6/16 ==> 11/21      ***********\n",
      "                           ------- Bloc PF/OPF ---------         \n",
      "importing numpy on engine(s)\n",
      "importing pandapower on engine(s)\n",
      "importing pandas on engine(s)\n",
      "importing Par_myFunctions on engine(s)\n"
     ]
    },
    {
     "data": {
      "application/vnd.jupyter.widget-view+json": {
       "model_id": "79eb724807ff40768f2cf0c05b647889",
       "version_major": 2,
       "version_minor": 0
      },
      "text/plain": [
       "%px:   0%|          | 0/48 [00:00<?, ?tasks/s]"
      ]
     },
     "metadata": {},
     "output_type": "display_data"
    },
    {
     "name": "stdout",
     "output_type": "stream",
     "text": [
      "***************************  Simulation:6/16 ==> 12/21      ***********\n",
      "                           ------- Bloc PF/OPF ---------         \n",
      "importing numpy on engine(s)\n",
      "importing pandapower on engine(s)\n",
      "importing pandas on engine(s)\n",
      "importing Par_myFunctions on engine(s)\n"
     ]
    },
    {
     "data": {
      "application/vnd.jupyter.widget-view+json": {
       "model_id": "b139e5c759544ebea4fa80d058fd028b",
       "version_major": 2,
       "version_minor": 0
      },
      "text/plain": [
       "%px:   0%|          | 0/48 [00:00<?, ?tasks/s]"
      ]
     },
     "metadata": {},
     "output_type": "display_data"
    },
    {
     "name": "stdout",
     "output_type": "stream",
     "text": [
      "***************************  Simulation:6/16 ==> 13/21      ***********\n",
      "                           ------- Bloc PF/OPF ---------         \n",
      "importing numpy on engine(s)\n",
      "importing pandapower on engine(s)\n",
      "importing pandas on engine(s)\n",
      "importing Par_myFunctions on engine(s)\n"
     ]
    },
    {
     "data": {
      "application/vnd.jupyter.widget-view+json": {
       "model_id": "31ab79ba63594d70b53ef6c4563794e1",
       "version_major": 2,
       "version_minor": 0
      },
      "text/plain": [
       "%px:   0%|          | 0/48 [00:00<?, ?tasks/s]"
      ]
     },
     "metadata": {},
     "output_type": "display_data"
    },
    {
     "name": "stdout",
     "output_type": "stream",
     "text": [
      "***************************  Simulation:6/16 ==> 14/21      ***********\n",
      "                           ------- Bloc PF/OPF ---------         \n",
      "importing numpy on engine(s)\n",
      "importing pandapower on engine(s)\n",
      "importing pandas on engine(s)\n",
      "importing Par_myFunctions on engine(s)\n"
     ]
    },
    {
     "data": {
      "application/vnd.jupyter.widget-view+json": {
       "model_id": "a2eb833e33444bb9b075eecf0301c7c0",
       "version_major": 2,
       "version_minor": 0
      },
      "text/plain": [
       "%px:   0%|          | 0/48 [00:00<?, ?tasks/s]"
      ]
     },
     "metadata": {},
     "output_type": "display_data"
    },
    {
     "name": "stdout",
     "output_type": "stream",
     "text": [
      "***************************  Simulation:6/16 ==> 15/21      ***********\n",
      "                           ------- Bloc PF/OPF ---------         \n",
      "importing numpy on engine(s)\n",
      "importing pandapower on engine(s)\n",
      "importing pandas on engine(s)\n",
      "importing Par_myFunctions on engine(s)\n"
     ]
    },
    {
     "data": {
      "application/vnd.jupyter.widget-view+json": {
       "model_id": "dbb0058412464ab5bbdfe76d2e59b67a",
       "version_major": 2,
       "version_minor": 0
      },
      "text/plain": [
       "%px:   0%|          | 0/48 [00:00<?, ?tasks/s]"
      ]
     },
     "metadata": {},
     "output_type": "display_data"
    },
    {
     "name": "stdout",
     "output_type": "stream",
     "text": [
      "***************************  Simulation:6/16 ==> 16/21      ***********\n",
      "                           ------- Bloc PF/OPF ---------         \n",
      "importing numpy on engine(s)\n",
      "importing pandapower on engine(s)\n",
      "importing pandas on engine(s)\n",
      "importing Par_myFunctions on engine(s)\n"
     ]
    },
    {
     "data": {
      "application/vnd.jupyter.widget-view+json": {
       "model_id": "cb7acab8d8074099a3c588586a8d31ca",
       "version_major": 2,
       "version_minor": 0
      },
      "text/plain": [
       "%px:   0%|          | 0/48 [00:00<?, ?tasks/s]"
      ]
     },
     "metadata": {},
     "output_type": "display_data"
    },
    {
     "name": "stdout",
     "output_type": "stream",
     "text": [
      "***************************  Simulation:6/16 ==> 17/21      ***********\n",
      "                           ------- Bloc PF/OPF ---------         \n",
      "importing numpy on engine(s)\n",
      "importing pandapower on engine(s)\n",
      "importing pandas on engine(s)\n",
      "importing Par_myFunctions on engine(s)\n"
     ]
    },
    {
     "data": {
      "application/vnd.jupyter.widget-view+json": {
       "model_id": "dd7a88287cc8491bad6cd3e0caf62bc9",
       "version_major": 2,
       "version_minor": 0
      },
      "text/plain": [
       "%px:   0%|          | 0/48 [00:00<?, ?tasks/s]"
      ]
     },
     "metadata": {},
     "output_type": "display_data"
    },
    {
     "name": "stdout",
     "output_type": "stream",
     "text": [
      "***************************  Simulation:6/16 ==> 18/21      ***********\n",
      "                           ------- Bloc PF/OPF ---------         \n",
      "importing numpy on engine(s)\n",
      "importing pandapower on engine(s)\n",
      "importing pandas on engine(s)\n",
      "importing Par_myFunctions on engine(s)\n"
     ]
    },
    {
     "data": {
      "application/vnd.jupyter.widget-view+json": {
       "model_id": "27cdf4b0383043c2b887958f796e780a",
       "version_major": 2,
       "version_minor": 0
      },
      "text/plain": [
       "%px:   0%|          | 0/48 [00:00<?, ?tasks/s]"
      ]
     },
     "metadata": {},
     "output_type": "display_data"
    },
    {
     "name": "stdout",
     "output_type": "stream",
     "text": [
      "***************************  Simulation:6/16 ==> 19/21      ***********\n",
      "                           ------- Bloc PF/OPF ---------         \n",
      "importing numpy on engine(s)\n",
      "importing pandapower on engine(s)\n",
      "importing pandas on engine(s)\n",
      "importing Par_myFunctions on engine(s)\n"
     ]
    },
    {
     "data": {
      "application/vnd.jupyter.widget-view+json": {
       "model_id": "23c1e5ad01c641618f65e296dd869273",
       "version_major": 2,
       "version_minor": 0
      },
      "text/plain": [
       "%px:   0%|          | 0/48 [00:00<?, ?tasks/s]"
      ]
     },
     "metadata": {},
     "output_type": "display_data"
    },
    {
     "name": "stdout",
     "output_type": "stream",
     "text": [
      "***************************  Simulation:6/16 ==> 20/21      ***********\n",
      "                           ------- Bloc PF/OPF ---------         \n",
      "importing numpy on engine(s)\n",
      "importing pandapower on engine(s)\n",
      "importing pandas on engine(s)\n",
      "importing Par_myFunctions on engine(s)\n"
     ]
    },
    {
     "data": {
      "application/vnd.jupyter.widget-view+json": {
       "model_id": "a097e1561f3447f7a0e365633a223e65",
       "version_major": 2,
       "version_minor": 0
      },
      "text/plain": [
       "%px:   0%|          | 0/48 [00:00<?, ?tasks/s]"
      ]
     },
     "metadata": {},
     "output_type": "display_data"
    },
    {
     "name": "stdout",
     "output_type": "stream",
     "text": [
      "***************************  Simulation:6/16 ==> 21/21      ***********\n",
      "                           ------- Bloc PF/OPF ---------         \n",
      "importing numpy on engine(s)\n",
      "importing pandapower on engine(s)\n",
      "importing pandas on engine(s)\n",
      "importing Par_myFunctions on engine(s)\n"
     ]
    },
    {
     "data": {
      "application/vnd.jupyter.widget-view+json": {
       "model_id": "045575e8306e402fbab481db1389e888",
       "version_major": 2,
       "version_minor": 0
      },
      "text/plain": [
       "%px:   0%|          | 0/48 [00:00<?, ?tasks/s]"
      ]
     },
     "metadata": {},
     "output_type": "display_data"
    },
    {
     "name": "stdout",
     "output_type": "stream",
     "text": [
      "***************************  Simulation:7/16 ==> 1/21      ***********\n",
      "                           ------- Bloc PF/OPF ---------         \n",
      "importing numpy on engine(s)\n",
      "importing pandapower on engine(s)\n",
      "importing pandas on engine(s)\n",
      "importing Par_myFunctions on engine(s)\n"
     ]
    },
    {
     "data": {
      "application/vnd.jupyter.widget-view+json": {
       "model_id": "e890be590e9b44e09f4f28a83d9abbc7",
       "version_major": 2,
       "version_minor": 0
      },
      "text/plain": [
       "%px:   0%|          | 0/48 [00:00<?, ?tasks/s]"
      ]
     },
     "metadata": {},
     "output_type": "display_data"
    },
    {
     "name": "stdout",
     "output_type": "stream",
     "text": [
      "***************************  Simulation:7/16 ==> 2/21      ***********\n",
      "                           ------- Bloc PF/OPF ---------         \n",
      "importing numpy on engine(s)\n",
      "importing pandapower on engine(s)\n",
      "importing pandas on engine(s)\n",
      "importing Par_myFunctions on engine(s)\n"
     ]
    },
    {
     "data": {
      "application/vnd.jupyter.widget-view+json": {
       "model_id": "5f86c169fe7f4d35b9ad060a2ae46778",
       "version_major": 2,
       "version_minor": 0
      },
      "text/plain": [
       "%px:   0%|          | 0/48 [00:00<?, ?tasks/s]"
      ]
     },
     "metadata": {},
     "output_type": "display_data"
    },
    {
     "name": "stdout",
     "output_type": "stream",
     "text": [
      "***************************  Simulation:7/16 ==> 3/21      ***********\n",
      "                           ------- Bloc PF/OPF ---------         \n",
      "importing numpy on engine(s)\n",
      "importing pandapower on engine(s)\n",
      "importing pandas on engine(s)\n",
      "importing Par_myFunctions on engine(s)\n"
     ]
    },
    {
     "data": {
      "application/vnd.jupyter.widget-view+json": {
       "model_id": "0d17745ccc604f91898fcaa45caecbb6",
       "version_major": 2,
       "version_minor": 0
      },
      "text/plain": [
       "%px:   0%|          | 0/48 [00:00<?, ?tasks/s]"
      ]
     },
     "metadata": {},
     "output_type": "display_data"
    },
    {
     "name": "stdout",
     "output_type": "stream",
     "text": [
      "***************************  Simulation:7/16 ==> 4/21      ***********\n",
      "                           ------- Bloc PF/OPF ---------         \n",
      "importing numpy on engine(s)\n",
      "importing pandapower on engine(s)\n",
      "importing pandas on engine(s)\n",
      "importing Par_myFunctions on engine(s)\n"
     ]
    },
    {
     "data": {
      "application/vnd.jupyter.widget-view+json": {
       "model_id": "d8412c3692824e7db29f7298f9c2e414",
       "version_major": 2,
       "version_minor": 0
      },
      "text/plain": [
       "%px:   0%|          | 0/48 [00:00<?, ?tasks/s]"
      ]
     },
     "metadata": {},
     "output_type": "display_data"
    },
    {
     "name": "stdout",
     "output_type": "stream",
     "text": [
      "***************************  Simulation:7/16 ==> 5/21      ***********\n",
      "                           ------- Bloc PF/OPF ---------         \n",
      "importing numpy on engine(s)\n",
      "importing pandapower on engine(s)\n",
      "importing pandas on engine(s)\n",
      "importing Par_myFunctions on engine(s)\n"
     ]
    },
    {
     "data": {
      "application/vnd.jupyter.widget-view+json": {
       "model_id": "e65702d0f8654358ad06b344696acb20",
       "version_major": 2,
       "version_minor": 0
      },
      "text/plain": [
       "%px:   0%|          | 0/48 [00:00<?, ?tasks/s]"
      ]
     },
     "metadata": {},
     "output_type": "display_data"
    },
    {
     "name": "stdout",
     "output_type": "stream",
     "text": [
      "***************************  Simulation:7/16 ==> 6/21      ***********\n",
      "                           ------- Bloc PF/OPF ---------         \n",
      "importing numpy on engine(s)\n",
      "importing pandapower on engine(s)\n",
      "importing pandas on engine(s)\n",
      "importing Par_myFunctions on engine(s)\n"
     ]
    },
    {
     "data": {
      "application/vnd.jupyter.widget-view+json": {
       "model_id": "089216f264b6479886e8088706a6ad25",
       "version_major": 2,
       "version_minor": 0
      },
      "text/plain": [
       "%px:   0%|          | 0/48 [00:00<?, ?tasks/s]"
      ]
     },
     "metadata": {},
     "output_type": "display_data"
    },
    {
     "name": "stdout",
     "output_type": "stream",
     "text": [
      "***************************  Simulation:7/16 ==> 7/21      ***********\n",
      "                           ------- Bloc PF/OPF ---------         \n",
      "importing numpy on engine(s)\n",
      "importing pandapower on engine(s)\n",
      "importing pandas on engine(s)\n",
      "importing Par_myFunctions on engine(s)\n"
     ]
    },
    {
     "data": {
      "application/vnd.jupyter.widget-view+json": {
       "model_id": "1bcb5c30663e43a995e155a4ef3f3742",
       "version_major": 2,
       "version_minor": 0
      },
      "text/plain": [
       "%px:   0%|          | 0/48 [00:00<?, ?tasks/s]"
      ]
     },
     "metadata": {},
     "output_type": "display_data"
    },
    {
     "name": "stdout",
     "output_type": "stream",
     "text": [
      "***************************  Simulation:7/16 ==> 8/21      ***********\n",
      "                           ------- Bloc PF/OPF ---------         \n",
      "importing numpy on engine(s)\n",
      "importing pandapower on engine(s)\n",
      "importing pandas on engine(s)\n",
      "importing Par_myFunctions on engine(s)\n"
     ]
    },
    {
     "data": {
      "application/vnd.jupyter.widget-view+json": {
       "model_id": "a13f3020eb84400ebd2524e2530e6250",
       "version_major": 2,
       "version_minor": 0
      },
      "text/plain": [
       "%px:   0%|          | 0/48 [00:00<?, ?tasks/s]"
      ]
     },
     "metadata": {},
     "output_type": "display_data"
    },
    {
     "name": "stdout",
     "output_type": "stream",
     "text": [
      "***************************  Simulation:7/16 ==> 9/21      ***********\n",
      "                           ------- Bloc PF/OPF ---------         \n",
      "importing numpy on engine(s)\n",
      "importing pandapower on engine(s)\n",
      "importing pandas on engine(s)\n",
      "importing Par_myFunctions on engine(s)\n"
     ]
    },
    {
     "data": {
      "application/vnd.jupyter.widget-view+json": {
       "model_id": "f2ba9248657f454580336f71b8bf64f1",
       "version_major": 2,
       "version_minor": 0
      },
      "text/plain": [
       "%px:   0%|          | 0/48 [00:00<?, ?tasks/s]"
      ]
     },
     "metadata": {},
     "output_type": "display_data"
    },
    {
     "name": "stdout",
     "output_type": "stream",
     "text": [
      "***************************  Simulation:7/16 ==> 10/21      ***********\n",
      "                           ------- Bloc PF/OPF ---------         \n",
      "importing numpy on engine(s)\n",
      "importing pandapower on engine(s)\n",
      "importing pandas on engine(s)\n",
      "importing Par_myFunctions on engine(s)\n"
     ]
    },
    {
     "data": {
      "application/vnd.jupyter.widget-view+json": {
       "model_id": "ae04d3a49db94836ac5baa05694fbd69",
       "version_major": 2,
       "version_minor": 0
      },
      "text/plain": [
       "%px:   0%|          | 0/48 [00:00<?, ?tasks/s]"
      ]
     },
     "metadata": {},
     "output_type": "display_data"
    },
    {
     "name": "stdout",
     "output_type": "stream",
     "text": [
      "***************************  Simulation:7/16 ==> 11/21      ***********\n",
      "                           ------- Bloc PF/OPF ---------         \n",
      "importing numpy on engine(s)\n",
      "importing pandapower on engine(s)\n",
      "importing pandas on engine(s)\n",
      "importing Par_myFunctions on engine(s)\n"
     ]
    },
    {
     "data": {
      "application/vnd.jupyter.widget-view+json": {
       "model_id": "fcb84b2d14f741bba9fb2b1097759d6a",
       "version_major": 2,
       "version_minor": 0
      },
      "text/plain": [
       "%px:   0%|          | 0/48 [00:00<?, ?tasks/s]"
      ]
     },
     "metadata": {},
     "output_type": "display_data"
    },
    {
     "name": "stdout",
     "output_type": "stream",
     "text": [
      "***************************  Simulation:7/16 ==> 12/21      ***********\n",
      "                           ------- Bloc PF/OPF ---------         \n",
      "importing numpy on engine(s)\n",
      "importing pandapower on engine(s)\n",
      "importing pandas on engine(s)\n",
      "importing Par_myFunctions on engine(s)\n"
     ]
    },
    {
     "data": {
      "application/vnd.jupyter.widget-view+json": {
       "model_id": "b0d92f4f099a4c76a93e6daf6a7c8e45",
       "version_major": 2,
       "version_minor": 0
      },
      "text/plain": [
       "%px:   0%|          | 0/48 [00:00<?, ?tasks/s]"
      ]
     },
     "metadata": {},
     "output_type": "display_data"
    },
    {
     "name": "stdout",
     "output_type": "stream",
     "text": [
      "***************************  Simulation:7/16 ==> 13/21      ***********\n",
      "                           ------- Bloc PF/OPF ---------         \n",
      "importing numpy on engine(s)\n",
      "importing pandapower on engine(s)\n",
      "importing pandas on engine(s)\n",
      "importing Par_myFunctions on engine(s)\n"
     ]
    },
    {
     "data": {
      "application/vnd.jupyter.widget-view+json": {
       "model_id": "25b3535c2c10444f90c68b3c974ce2bc",
       "version_major": 2,
       "version_minor": 0
      },
      "text/plain": [
       "%px:   0%|          | 0/48 [00:00<?, ?tasks/s]"
      ]
     },
     "metadata": {},
     "output_type": "display_data"
    },
    {
     "name": "stdout",
     "output_type": "stream",
     "text": [
      "***************************  Simulation:7/16 ==> 14/21      ***********\n",
      "                           ------- Bloc PF/OPF ---------         \n",
      "importing numpy on engine(s)\n",
      "importing pandapower on engine(s)\n",
      "importing pandas on engine(s)\n",
      "importing Par_myFunctions on engine(s)\n"
     ]
    },
    {
     "data": {
      "application/vnd.jupyter.widget-view+json": {
       "model_id": "3925ba08389847f583184e90629567eb",
       "version_major": 2,
       "version_minor": 0
      },
      "text/plain": [
       "%px:   0%|          | 0/48 [00:00<?, ?tasks/s]"
      ]
     },
     "metadata": {},
     "output_type": "display_data"
    },
    {
     "name": "stdout",
     "output_type": "stream",
     "text": [
      "***************************  Simulation:7/16 ==> 15/21      ***********\n",
      "                           ------- Bloc PF/OPF ---------         \n",
      "importing numpy on engine(s)\n",
      "importing pandapower on engine(s)\n",
      "importing pandas on engine(s)\n",
      "importing Par_myFunctions on engine(s)\n"
     ]
    },
    {
     "data": {
      "application/vnd.jupyter.widget-view+json": {
       "model_id": "bb0923f7a49a477b98cc16cf977bfe08",
       "version_major": 2,
       "version_minor": 0
      },
      "text/plain": [
       "%px:   0%|          | 0/48 [00:00<?, ?tasks/s]"
      ]
     },
     "metadata": {},
     "output_type": "display_data"
    },
    {
     "name": "stdout",
     "output_type": "stream",
     "text": [
      "***************************  Simulation:7/16 ==> 16/21      ***********\n",
      "                           ------- Bloc PF/OPF ---------         \n",
      "importing numpy on engine(s)\n",
      "importing pandapower on engine(s)\n",
      "importing pandas on engine(s)\n",
      "importing Par_myFunctions on engine(s)\n"
     ]
    },
    {
     "data": {
      "application/vnd.jupyter.widget-view+json": {
       "model_id": "0dbc47a3dd45440e87584ee7ba21bf79",
       "version_major": 2,
       "version_minor": 0
      },
      "text/plain": [
       "%px:   0%|          | 0/48 [00:00<?, ?tasks/s]"
      ]
     },
     "metadata": {},
     "output_type": "display_data"
    },
    {
     "name": "stdout",
     "output_type": "stream",
     "text": [
      "***************************  Simulation:7/16 ==> 17/21      ***********\n",
      "                           ------- Bloc PF/OPF ---------         \n",
      "importing numpy on engine(s)\n",
      "importing pandapower on engine(s)\n",
      "importing pandas on engine(s)\n",
      "importing Par_myFunctions on engine(s)\n"
     ]
    },
    {
     "data": {
      "application/vnd.jupyter.widget-view+json": {
       "model_id": "c4ffcdffa59b4142aca28dc8bfb80dba",
       "version_major": 2,
       "version_minor": 0
      },
      "text/plain": [
       "%px:   0%|          | 0/48 [00:00<?, ?tasks/s]"
      ]
     },
     "metadata": {},
     "output_type": "display_data"
    },
    {
     "name": "stdout",
     "output_type": "stream",
     "text": [
      "***************************  Simulation:7/16 ==> 18/21      ***********\n",
      "                           ------- Bloc PF/OPF ---------         \n",
      "importing numpy on engine(s)\n",
      "importing pandapower on engine(s)\n",
      "importing pandas on engine(s)\n",
      "importing Par_myFunctions on engine(s)\n"
     ]
    },
    {
     "data": {
      "application/vnd.jupyter.widget-view+json": {
       "model_id": "57c817c4be194f4db6e1e4a7afe3f1f2",
       "version_major": 2,
       "version_minor": 0
      },
      "text/plain": [
       "%px:   0%|          | 0/48 [00:00<?, ?tasks/s]"
      ]
     },
     "metadata": {},
     "output_type": "display_data"
    },
    {
     "name": "stdout",
     "output_type": "stream",
     "text": [
      "***************************  Simulation:7/16 ==> 19/21      ***********\n",
      "                           ------- Bloc PF/OPF ---------         \n",
      "importing numpy on engine(s)\n",
      "importing pandapower on engine(s)\n",
      "importing pandas on engine(s)\n",
      "importing Par_myFunctions on engine(s)\n"
     ]
    },
    {
     "data": {
      "application/vnd.jupyter.widget-view+json": {
       "model_id": "b3c1a9d4e7e2493da00d9983b9a38740",
       "version_major": 2,
       "version_minor": 0
      },
      "text/plain": [
       "%px:   0%|          | 0/48 [00:00<?, ?tasks/s]"
      ]
     },
     "metadata": {},
     "output_type": "display_data"
    },
    {
     "name": "stdout",
     "output_type": "stream",
     "text": [
      "***************************  Simulation:7/16 ==> 20/21      ***********\n",
      "                           ------- Bloc PF/OPF ---------         \n",
      "importing numpy on engine(s)\n",
      "importing pandapower on engine(s)\n",
      "importing pandas on engine(s)\n",
      "importing Par_myFunctions on engine(s)\n"
     ]
    },
    {
     "data": {
      "application/vnd.jupyter.widget-view+json": {
       "model_id": "85b7cd93e5c245ea94e81f517d11bc7f",
       "version_major": 2,
       "version_minor": 0
      },
      "text/plain": [
       "%px:   0%|          | 0/48 [00:00<?, ?tasks/s]"
      ]
     },
     "metadata": {},
     "output_type": "display_data"
    },
    {
     "name": "stdout",
     "output_type": "stream",
     "text": [
      "***************************  Simulation:7/16 ==> 21/21      ***********\n",
      "                           ------- Bloc PF/OPF ---------         \n",
      "importing numpy on engine(s)\n",
      "importing pandapower on engine(s)\n",
      "importing pandas on engine(s)\n",
      "importing Par_myFunctions on engine(s)\n"
     ]
    },
    {
     "data": {
      "application/vnd.jupyter.widget-view+json": {
       "model_id": "e5c60d9baa514faab7c4035286bdc62c",
       "version_major": 2,
       "version_minor": 0
      },
      "text/plain": [
       "%px:   0%|          | 0/48 [00:00<?, ?tasks/s]"
      ]
     },
     "metadata": {},
     "output_type": "display_data"
    },
    {
     "name": "stdout",
     "output_type": "stream",
     "text": [
      "***************************  Simulation:8/16 ==> 1/21      ***********\n",
      "                           ------- Bloc PF/OPF ---------         \n",
      "importing numpy on engine(s)\n",
      "importing pandapower on engine(s)\n",
      "importing pandas on engine(s)\n",
      "importing Par_myFunctions on engine(s)\n"
     ]
    },
    {
     "data": {
      "application/vnd.jupyter.widget-view+json": {
       "model_id": "13d4978edee84a0387e8ff25bfaa5041",
       "version_major": 2,
       "version_minor": 0
      },
      "text/plain": [
       "%px:   0%|          | 0/48 [00:00<?, ?tasks/s]"
      ]
     },
     "metadata": {},
     "output_type": "display_data"
    },
    {
     "name": "stdout",
     "output_type": "stream",
     "text": [
      "***************************  Simulation:8/16 ==> 2/21      ***********\n",
      "                           ------- Bloc PF/OPF ---------         \n",
      "importing numpy on engine(s)\n",
      "importing pandapower on engine(s)\n",
      "importing pandas on engine(s)\n",
      "importing Par_myFunctions on engine(s)\n"
     ]
    },
    {
     "data": {
      "application/vnd.jupyter.widget-view+json": {
       "model_id": "64ed6b4dcca2499991eea00e1baeea0f",
       "version_major": 2,
       "version_minor": 0
      },
      "text/plain": [
       "%px:   0%|          | 0/48 [00:00<?, ?tasks/s]"
      ]
     },
     "metadata": {},
     "output_type": "display_data"
    },
    {
     "name": "stdout",
     "output_type": "stream",
     "text": [
      "***************************  Simulation:8/16 ==> 3/21      ***********\n",
      "                           ------- Bloc PF/OPF ---------         \n",
      "importing numpy on engine(s)\n",
      "importing pandapower on engine(s)\n",
      "importing pandas on engine(s)\n",
      "importing Par_myFunctions on engine(s)\n"
     ]
    },
    {
     "data": {
      "application/vnd.jupyter.widget-view+json": {
       "model_id": "9205d8be52b340129c0fc200a073ab72",
       "version_major": 2,
       "version_minor": 0
      },
      "text/plain": [
       "%px:   0%|          | 0/48 [00:00<?, ?tasks/s]"
      ]
     },
     "metadata": {},
     "output_type": "display_data"
    },
    {
     "name": "stdout",
     "output_type": "stream",
     "text": [
      "***************************  Simulation:8/16 ==> 4/21      ***********\n",
      "                           ------- Bloc PF/OPF ---------         \n",
      "importing numpy on engine(s)\n",
      "importing pandapower on engine(s)\n",
      "importing pandas on engine(s)\n",
      "importing Par_myFunctions on engine(s)\n"
     ]
    },
    {
     "data": {
      "application/vnd.jupyter.widget-view+json": {
       "model_id": "868194239ad64796b174584183d731c9",
       "version_major": 2,
       "version_minor": 0
      },
      "text/plain": [
       "%px:   0%|          | 0/48 [00:00<?, ?tasks/s]"
      ]
     },
     "metadata": {},
     "output_type": "display_data"
    },
    {
     "name": "stdout",
     "output_type": "stream",
     "text": [
      "***************************  Simulation:8/16 ==> 5/21      ***********\n",
      "                           ------- Bloc PF/OPF ---------         \n",
      "importing numpy on engine(s)\n",
      "importing pandapower on engine(s)\n",
      "importing pandas on engine(s)\n",
      "importing Par_myFunctions on engine(s)\n"
     ]
    },
    {
     "data": {
      "application/vnd.jupyter.widget-view+json": {
       "model_id": "38c8d98bbad44343b315217321a6448d",
       "version_major": 2,
       "version_minor": 0
      },
      "text/plain": [
       "%px:   0%|          | 0/48 [00:00<?, ?tasks/s]"
      ]
     },
     "metadata": {},
     "output_type": "display_data"
    },
    {
     "name": "stdout",
     "output_type": "stream",
     "text": [
      "***************************  Simulation:8/16 ==> 6/21      ***********\n",
      "                           ------- Bloc PF/OPF ---------         \n",
      "importing numpy on engine(s)\n",
      "importing pandapower on engine(s)\n",
      "importing pandas on engine(s)\n",
      "importing Par_myFunctions on engine(s)\n"
     ]
    },
    {
     "data": {
      "application/vnd.jupyter.widget-view+json": {
       "model_id": "5ec694f21b64472080b5b13ddd6108fd",
       "version_major": 2,
       "version_minor": 0
      },
      "text/plain": [
       "%px:   0%|          | 0/48 [00:00<?, ?tasks/s]"
      ]
     },
     "metadata": {},
     "output_type": "display_data"
    },
    {
     "name": "stdout",
     "output_type": "stream",
     "text": [
      "***************************  Simulation:8/16 ==> 7/21      ***********\n",
      "                           ------- Bloc PF/OPF ---------         \n",
      "importing numpy on engine(s)\n",
      "importing pandapower on engine(s)\n",
      "importing pandas on engine(s)\n",
      "importing Par_myFunctions on engine(s)\n"
     ]
    },
    {
     "data": {
      "application/vnd.jupyter.widget-view+json": {
       "model_id": "5cc5ac426ce8410780088efc9d67a0e6",
       "version_major": 2,
       "version_minor": 0
      },
      "text/plain": [
       "%px:   0%|          | 0/48 [00:00<?, ?tasks/s]"
      ]
     },
     "metadata": {},
     "output_type": "display_data"
    },
    {
     "name": "stdout",
     "output_type": "stream",
     "text": [
      "***************************  Simulation:8/16 ==> 8/21      ***********\n",
      "                           ------- Bloc PF/OPF ---------         \n",
      "importing numpy on engine(s)\n",
      "importing pandapower on engine(s)\n",
      "importing pandas on engine(s)\n",
      "importing Par_myFunctions on engine(s)\n"
     ]
    },
    {
     "data": {
      "application/vnd.jupyter.widget-view+json": {
       "model_id": "428b9ef3a7794d60bda78c8d851b1150",
       "version_major": 2,
       "version_minor": 0
      },
      "text/plain": [
       "%px:   0%|          | 0/48 [00:00<?, ?tasks/s]"
      ]
     },
     "metadata": {},
     "output_type": "display_data"
    },
    {
     "name": "stdout",
     "output_type": "stream",
     "text": [
      "***************************  Simulation:8/16 ==> 9/21      ***********\n",
      "                           ------- Bloc PF/OPF ---------         \n",
      "importing numpy on engine(s)\n",
      "importing pandapower on engine(s)\n",
      "importing pandas on engine(s)\n",
      "importing Par_myFunctions on engine(s)\n"
     ]
    },
    {
     "data": {
      "application/vnd.jupyter.widget-view+json": {
       "model_id": "e74a30f644234e1d87e3c36c37df8dc2",
       "version_major": 2,
       "version_minor": 0
      },
      "text/plain": [
       "%px:   0%|          | 0/48 [00:00<?, ?tasks/s]"
      ]
     },
     "metadata": {},
     "output_type": "display_data"
    },
    {
     "name": "stdout",
     "output_type": "stream",
     "text": [
      "***************************  Simulation:8/16 ==> 10/21      ***********\n",
      "                           ------- Bloc PF/OPF ---------         \n",
      "importing numpy on engine(s)\n",
      "importing pandapower on engine(s)\n",
      "importing pandas on engine(s)\n",
      "importing Par_myFunctions on engine(s)\n"
     ]
    },
    {
     "data": {
      "application/vnd.jupyter.widget-view+json": {
       "model_id": "9502119840d840538bb3f72aeec2f058",
       "version_major": 2,
       "version_minor": 0
      },
      "text/plain": [
       "%px:   0%|          | 0/48 [00:00<?, ?tasks/s]"
      ]
     },
     "metadata": {},
     "output_type": "display_data"
    },
    {
     "name": "stdout",
     "output_type": "stream",
     "text": [
      "***************************  Simulation:8/16 ==> 11/21      ***********\n",
      "                           ------- Bloc PF/OPF ---------         \n",
      "importing numpy on engine(s)\n",
      "importing pandapower on engine(s)\n",
      "importing pandas on engine(s)\n",
      "importing Par_myFunctions on engine(s)\n"
     ]
    },
    {
     "data": {
      "application/vnd.jupyter.widget-view+json": {
       "model_id": "750ec899361547da9beda20d55a5acde",
       "version_major": 2,
       "version_minor": 0
      },
      "text/plain": [
       "%px:   0%|          | 0/48 [00:00<?, ?tasks/s]"
      ]
     },
     "metadata": {},
     "output_type": "display_data"
    },
    {
     "name": "stdout",
     "output_type": "stream",
     "text": [
      "***************************  Simulation:8/16 ==> 12/21      ***********\n",
      "                           ------- Bloc PF/OPF ---------         \n",
      "importing numpy on engine(s)\n",
      "importing pandapower on engine(s)\n",
      "importing pandas on engine(s)\n",
      "importing Par_myFunctions on engine(s)\n"
     ]
    },
    {
     "data": {
      "application/vnd.jupyter.widget-view+json": {
       "model_id": "604343815d184fe9a07a80cceb6bb8a8",
       "version_major": 2,
       "version_minor": 0
      },
      "text/plain": [
       "%px:   0%|          | 0/48 [00:00<?, ?tasks/s]"
      ]
     },
     "metadata": {},
     "output_type": "display_data"
    },
    {
     "name": "stdout",
     "output_type": "stream",
     "text": [
      "***************************  Simulation:8/16 ==> 13/21      ***********\n",
      "                           ------- Bloc PF/OPF ---------         \n",
      "importing numpy on engine(s)\n",
      "importing pandapower on engine(s)\n",
      "importing pandas on engine(s)\n",
      "importing Par_myFunctions on engine(s)\n"
     ]
    },
    {
     "data": {
      "application/vnd.jupyter.widget-view+json": {
       "model_id": "ed5fb22f64e44c8e9a7eed3d66de98af",
       "version_major": 2,
       "version_minor": 0
      },
      "text/plain": [
       "%px:   0%|          | 0/48 [00:00<?, ?tasks/s]"
      ]
     },
     "metadata": {},
     "output_type": "display_data"
    },
    {
     "name": "stdout",
     "output_type": "stream",
     "text": [
      "***************************  Simulation:8/16 ==> 14/21      ***********\n",
      "                           ------- Bloc PF/OPF ---------         \n",
      "importing numpy on engine(s)\n",
      "importing pandapower on engine(s)\n",
      "importing pandas on engine(s)\n",
      "importing Par_myFunctions on engine(s)\n"
     ]
    },
    {
     "data": {
      "application/vnd.jupyter.widget-view+json": {
       "model_id": "46d79c620da94316b3ea20c0f5c806e2",
       "version_major": 2,
       "version_minor": 0
      },
      "text/plain": [
       "%px:   0%|          | 0/48 [00:00<?, ?tasks/s]"
      ]
     },
     "metadata": {},
     "output_type": "display_data"
    },
    {
     "name": "stdout",
     "output_type": "stream",
     "text": [
      "***************************  Simulation:8/16 ==> 15/21      ***********\n",
      "                           ------- Bloc PF/OPF ---------         \n",
      "importing numpy on engine(s)\n",
      "importing pandapower on engine(s)\n",
      "importing pandas on engine(s)\n",
      "importing Par_myFunctions on engine(s)\n"
     ]
    },
    {
     "data": {
      "application/vnd.jupyter.widget-view+json": {
       "model_id": "7ce6137a54b24671a33a5c87fee041a3",
       "version_major": 2,
       "version_minor": 0
      },
      "text/plain": [
       "%px:   0%|          | 0/48 [00:00<?, ?tasks/s]"
      ]
     },
     "metadata": {},
     "output_type": "display_data"
    },
    {
     "name": "stdout",
     "output_type": "stream",
     "text": [
      "***************************  Simulation:8/16 ==> 16/21      ***********\n",
      "                           ------- Bloc PF/OPF ---------         \n",
      "importing numpy on engine(s)\n",
      "importing pandapower on engine(s)\n",
      "importing pandas on engine(s)\n",
      "importing Par_myFunctions on engine(s)\n"
     ]
    },
    {
     "data": {
      "application/vnd.jupyter.widget-view+json": {
       "model_id": "fd9d668a00834c46b16bbb9a8d6f91c1",
       "version_major": 2,
       "version_minor": 0
      },
      "text/plain": [
       "%px:   0%|          | 0/48 [00:00<?, ?tasks/s]"
      ]
     },
     "metadata": {},
     "output_type": "display_data"
    },
    {
     "name": "stdout",
     "output_type": "stream",
     "text": [
      "***************************  Simulation:8/16 ==> 17/21      ***********\n",
      "                           ------- Bloc PF/OPF ---------         \n",
      "importing numpy on engine(s)\n",
      "importing pandapower on engine(s)\n",
      "importing pandas on engine(s)\n",
      "importing Par_myFunctions on engine(s)\n"
     ]
    },
    {
     "data": {
      "application/vnd.jupyter.widget-view+json": {
       "model_id": "e310233729f74e0baf0dcf81073f2cda",
       "version_major": 2,
       "version_minor": 0
      },
      "text/plain": [
       "%px:   0%|          | 0/48 [00:00<?, ?tasks/s]"
      ]
     },
     "metadata": {},
     "output_type": "display_data"
    },
    {
     "name": "stdout",
     "output_type": "stream",
     "text": [
      "***************************  Simulation:8/16 ==> 18/21      ***********\n",
      "                           ------- Bloc PF/OPF ---------         \n",
      "importing numpy on engine(s)\n",
      "importing pandapower on engine(s)\n",
      "importing pandas on engine(s)\n",
      "importing Par_myFunctions on engine(s)\n"
     ]
    },
    {
     "data": {
      "application/vnd.jupyter.widget-view+json": {
       "model_id": "c82e9e07869646609a08e9f5fde0578e",
       "version_major": 2,
       "version_minor": 0
      },
      "text/plain": [
       "%px:   0%|          | 0/48 [00:00<?, ?tasks/s]"
      ]
     },
     "metadata": {},
     "output_type": "display_data"
    },
    {
     "name": "stdout",
     "output_type": "stream",
     "text": [
      "***************************  Simulation:8/16 ==> 19/21      ***********\n",
      "                           ------- Bloc PF/OPF ---------         \n",
      "importing numpy on engine(s)\n",
      "importing pandapower on engine(s)\n",
      "importing pandas on engine(s)\n",
      "importing Par_myFunctions on engine(s)\n"
     ]
    },
    {
     "data": {
      "application/vnd.jupyter.widget-view+json": {
       "model_id": "187d0f092d2c49e08737ce2529d2c0cb",
       "version_major": 2,
       "version_minor": 0
      },
      "text/plain": [
       "%px:   0%|          | 0/48 [00:00<?, ?tasks/s]"
      ]
     },
     "metadata": {},
     "output_type": "display_data"
    },
    {
     "name": "stdout",
     "output_type": "stream",
     "text": [
      "***************************  Simulation:8/16 ==> 20/21      ***********\n",
      "                           ------- Bloc PF/OPF ---------         \n",
      "importing numpy on engine(s)\n",
      "importing pandapower on engine(s)\n",
      "importing pandas on engine(s)\n",
      "importing Par_myFunctions on engine(s)\n"
     ]
    },
    {
     "data": {
      "application/vnd.jupyter.widget-view+json": {
       "model_id": "94ccfeac82684190835d671483315fd7",
       "version_major": 2,
       "version_minor": 0
      },
      "text/plain": [
       "%px:   0%|          | 0/48 [00:00<?, ?tasks/s]"
      ]
     },
     "metadata": {},
     "output_type": "display_data"
    },
    {
     "name": "stdout",
     "output_type": "stream",
     "text": [
      "***************************  Simulation:8/16 ==> 21/21      ***********\n",
      "                           ------- Bloc PF/OPF ---------         \n",
      "importing numpy on engine(s)\n",
      "importing pandapower on engine(s)\n",
      "importing pandas on engine(s)\n",
      "importing Par_myFunctions on engine(s)\n"
     ]
    },
    {
     "data": {
      "application/vnd.jupyter.widget-view+json": {
       "model_id": "586d354fe9f94754b365030cf2723d68",
       "version_major": 2,
       "version_minor": 0
      },
      "text/plain": [
       "%px:   0%|          | 0/48 [00:00<?, ?tasks/s]"
      ]
     },
     "metadata": {},
     "output_type": "display_data"
    },
    {
     "name": "stdout",
     "output_type": "stream",
     "text": [
      "***************************  Simulation:9/16 ==> 1/21      ***********\n",
      "                           ------- Bloc PF/OPF ---------         \n",
      "importing numpy on engine(s)\n",
      "importing pandapower on engine(s)\n",
      "importing pandas on engine(s)\n",
      "importing Par_myFunctions on engine(s)\n"
     ]
    },
    {
     "data": {
      "application/vnd.jupyter.widget-view+json": {
       "model_id": "901e14db95354d2e8ce7db6baf16389d",
       "version_major": 2,
       "version_minor": 0
      },
      "text/plain": [
       "%px:   0%|          | 0/48 [00:00<?, ?tasks/s]"
      ]
     },
     "metadata": {},
     "output_type": "display_data"
    },
    {
     "name": "stdout",
     "output_type": "stream",
     "text": [
      "***************************  Simulation:9/16 ==> 2/21      ***********\n",
      "                           ------- Bloc PF/OPF ---------         \n",
      "importing numpy on engine(s)\n",
      "importing pandapower on engine(s)\n",
      "importing pandas on engine(s)\n",
      "importing Par_myFunctions on engine(s)\n"
     ]
    },
    {
     "data": {
      "application/vnd.jupyter.widget-view+json": {
       "model_id": "bc08ee519c8241dc874681fa5ddea092",
       "version_major": 2,
       "version_minor": 0
      },
      "text/plain": [
       "%px:   0%|          | 0/48 [00:00<?, ?tasks/s]"
      ]
     },
     "metadata": {},
     "output_type": "display_data"
    },
    {
     "name": "stdout",
     "output_type": "stream",
     "text": [
      "***************************  Simulation:9/16 ==> 3/21      ***********\n",
      "                           ------- Bloc PF/OPF ---------         \n",
      "importing numpy on engine(s)\n",
      "importing pandapower on engine(s)\n",
      "importing pandas on engine(s)\n",
      "importing Par_myFunctions on engine(s)\n"
     ]
    },
    {
     "data": {
      "application/vnd.jupyter.widget-view+json": {
       "model_id": "d7cfe34415144ef7b2489d8ab86977cf",
       "version_major": 2,
       "version_minor": 0
      },
      "text/plain": [
       "%px:   0%|          | 0/48 [00:00<?, ?tasks/s]"
      ]
     },
     "metadata": {},
     "output_type": "display_data"
    },
    {
     "name": "stdout",
     "output_type": "stream",
     "text": [
      "***************************  Simulation:9/16 ==> 4/21      ***********\n",
      "                           ------- Bloc PF/OPF ---------         \n",
      "importing numpy on engine(s)\n",
      "importing pandapower on engine(s)\n",
      "importing pandas on engine(s)\n",
      "importing Par_myFunctions on engine(s)\n"
     ]
    },
    {
     "data": {
      "application/vnd.jupyter.widget-view+json": {
       "model_id": "223c199818544438a5fc808f10519d26",
       "version_major": 2,
       "version_minor": 0
      },
      "text/plain": [
       "%px:   0%|          | 0/48 [00:00<?, ?tasks/s]"
      ]
     },
     "metadata": {},
     "output_type": "display_data"
    },
    {
     "name": "stdout",
     "output_type": "stream",
     "text": [
      "***************************  Simulation:9/16 ==> 5/21      ***********\n",
      "                           ------- Bloc PF/OPF ---------         \n",
      "importing numpy on engine(s)\n",
      "importing pandapower on engine(s)\n",
      "importing pandas on engine(s)\n",
      "importing Par_myFunctions on engine(s)\n"
     ]
    },
    {
     "data": {
      "application/vnd.jupyter.widget-view+json": {
       "model_id": "3f640ad4a4464f37bb67490ddd2a4844",
       "version_major": 2,
       "version_minor": 0
      },
      "text/plain": [
       "%px:   0%|          | 0/48 [00:00<?, ?tasks/s]"
      ]
     },
     "metadata": {},
     "output_type": "display_data"
    },
    {
     "name": "stdout",
     "output_type": "stream",
     "text": [
      "***************************  Simulation:9/16 ==> 6/21      ***********\n",
      "                           ------- Bloc PF/OPF ---------         \n",
      "importing numpy on engine(s)\n",
      "importing pandapower on engine(s)\n",
      "importing pandas on engine(s)\n",
      "importing Par_myFunctions on engine(s)\n"
     ]
    },
    {
     "data": {
      "application/vnd.jupyter.widget-view+json": {
       "model_id": "1aec6b196fe443c8a5010cece8482f51",
       "version_major": 2,
       "version_minor": 0
      },
      "text/plain": [
       "%px:   0%|          | 0/48 [00:00<?, ?tasks/s]"
      ]
     },
     "metadata": {},
     "output_type": "display_data"
    },
    {
     "name": "stdout",
     "output_type": "stream",
     "text": [
      "***************************  Simulation:9/16 ==> 7/21      ***********\n",
      "                           ------- Bloc PF/OPF ---------         \n",
      "importing numpy on engine(s)\n",
      "importing pandapower on engine(s)\n",
      "importing pandas on engine(s)\n",
      "importing Par_myFunctions on engine(s)\n"
     ]
    },
    {
     "data": {
      "application/vnd.jupyter.widget-view+json": {
       "model_id": "afdc406aa474475f943219cd11158093",
       "version_major": 2,
       "version_minor": 0
      },
      "text/plain": [
       "%px:   0%|          | 0/48 [00:00<?, ?tasks/s]"
      ]
     },
     "metadata": {},
     "output_type": "display_data"
    },
    {
     "name": "stdout",
     "output_type": "stream",
     "text": [
      "***************************  Simulation:9/16 ==> 8/21      ***********\n",
      "                           ------- Bloc PF/OPF ---------         \n",
      "importing numpy on engine(s)\n",
      "importing pandapower on engine(s)\n",
      "importing pandas on engine(s)\n",
      "importing Par_myFunctions on engine(s)\n"
     ]
    },
    {
     "data": {
      "application/vnd.jupyter.widget-view+json": {
       "model_id": "06f4396888bf45d8bf3ea871e6f9ba61",
       "version_major": 2,
       "version_minor": 0
      },
      "text/plain": [
       "%px:   0%|          | 0/48 [00:00<?, ?tasks/s]"
      ]
     },
     "metadata": {},
     "output_type": "display_data"
    },
    {
     "name": "stdout",
     "output_type": "stream",
     "text": [
      "***************************  Simulation:9/16 ==> 9/21      ***********\n",
      "                           ------- Bloc PF/OPF ---------         \n",
      "importing numpy on engine(s)\n",
      "importing pandapower on engine(s)\n",
      "importing pandas on engine(s)\n",
      "importing Par_myFunctions on engine(s)\n"
     ]
    },
    {
     "data": {
      "application/vnd.jupyter.widget-view+json": {
       "model_id": "fd90b39077fc4cb1b0ab6115e732c0f4",
       "version_major": 2,
       "version_minor": 0
      },
      "text/plain": [
       "%px:   0%|          | 0/48 [00:00<?, ?tasks/s]"
      ]
     },
     "metadata": {},
     "output_type": "display_data"
    },
    {
     "name": "stdout",
     "output_type": "stream",
     "text": [
      "***************************  Simulation:9/16 ==> 10/21      ***********\n",
      "                           ------- Bloc PF/OPF ---------         \n",
      "importing numpy on engine(s)\n",
      "importing pandapower on engine(s)\n",
      "importing pandas on engine(s)\n",
      "importing Par_myFunctions on engine(s)\n"
     ]
    },
    {
     "data": {
      "application/vnd.jupyter.widget-view+json": {
       "model_id": "3ac16bcbbc9b4fb8b3adab21f5d0dceb",
       "version_major": 2,
       "version_minor": 0
      },
      "text/plain": [
       "%px:   0%|          | 0/48 [00:00<?, ?tasks/s]"
      ]
     },
     "metadata": {},
     "output_type": "display_data"
    },
    {
     "name": "stdout",
     "output_type": "stream",
     "text": [
      "***************************  Simulation:9/16 ==> 11/21      ***********\n",
      "                           ------- Bloc PF/OPF ---------         \n",
      "importing numpy on engine(s)\n",
      "importing pandapower on engine(s)\n",
      "importing pandas on engine(s)\n",
      "importing Par_myFunctions on engine(s)\n"
     ]
    },
    {
     "data": {
      "application/vnd.jupyter.widget-view+json": {
       "model_id": "f8c6e9fdf8aa426fbc1238346b00f5b3",
       "version_major": 2,
       "version_minor": 0
      },
      "text/plain": [
       "%px:   0%|          | 0/48 [00:00<?, ?tasks/s]"
      ]
     },
     "metadata": {},
     "output_type": "display_data"
    },
    {
     "name": "stdout",
     "output_type": "stream",
     "text": [
      "***************************  Simulation:9/16 ==> 12/21      ***********\n",
      "                           ------- Bloc PF/OPF ---------         \n",
      "importing numpy on engine(s)\n",
      "importing pandapower on engine(s)\n",
      "importing pandas on engine(s)\n",
      "importing Par_myFunctions on engine(s)\n"
     ]
    },
    {
     "data": {
      "application/vnd.jupyter.widget-view+json": {
       "model_id": "6f8723a04dbc40ed90853f998692c8b7",
       "version_major": 2,
       "version_minor": 0
      },
      "text/plain": [
       "%px:   0%|          | 0/48 [00:00<?, ?tasks/s]"
      ]
     },
     "metadata": {},
     "output_type": "display_data"
    },
    {
     "name": "stdout",
     "output_type": "stream",
     "text": [
      "***************************  Simulation:9/16 ==> 13/21      ***********\n",
      "                           ------- Bloc PF/OPF ---------         \n",
      "importing numpy on engine(s)\n",
      "importing pandapower on engine(s)\n",
      "importing pandas on engine(s)\n",
      "importing Par_myFunctions on engine(s)\n"
     ]
    },
    {
     "data": {
      "application/vnd.jupyter.widget-view+json": {
       "model_id": "a661062adec34ca6bf5cb90af1e0b7bb",
       "version_major": 2,
       "version_minor": 0
      },
      "text/plain": [
       "%px:   0%|          | 0/48 [00:00<?, ?tasks/s]"
      ]
     },
     "metadata": {},
     "output_type": "display_data"
    },
    {
     "name": "stdout",
     "output_type": "stream",
     "text": [
      "***************************  Simulation:9/16 ==> 14/21      ***********\n",
      "                           ------- Bloc PF/OPF ---------         \n",
      "importing numpy on engine(s)\n",
      "importing pandapower on engine(s)\n",
      "importing pandas on engine(s)\n",
      "importing Par_myFunctions on engine(s)\n"
     ]
    },
    {
     "data": {
      "application/vnd.jupyter.widget-view+json": {
       "model_id": "426c975fc4914c60b18156723eb748c4",
       "version_major": 2,
       "version_minor": 0
      },
      "text/plain": [
       "%px:   0%|          | 0/48 [00:00<?, ?tasks/s]"
      ]
     },
     "metadata": {},
     "output_type": "display_data"
    },
    {
     "name": "stdout",
     "output_type": "stream",
     "text": [
      "***************************  Simulation:9/16 ==> 15/21      ***********\n",
      "                           ------- Bloc PF/OPF ---------         \n",
      "importing numpy on engine(s)\n",
      "importing pandapower on engine(s)\n",
      "importing pandas on engine(s)\n",
      "importing Par_myFunctions on engine(s)\n"
     ]
    },
    {
     "data": {
      "application/vnd.jupyter.widget-view+json": {
       "model_id": "e8065ac2175a40ab96039b143bfd801f",
       "version_major": 2,
       "version_minor": 0
      },
      "text/plain": [
       "%px:   0%|          | 0/48 [00:00<?, ?tasks/s]"
      ]
     },
     "metadata": {},
     "output_type": "display_data"
    },
    {
     "name": "stdout",
     "output_type": "stream",
     "text": [
      "***************************  Simulation:9/16 ==> 16/21      ***********\n",
      "                           ------- Bloc PF/OPF ---------         \n",
      "importing numpy on engine(s)\n",
      "importing pandapower on engine(s)\n",
      "importing pandas on engine(s)\n",
      "importing Par_myFunctions on engine(s)\n"
     ]
    },
    {
     "data": {
      "application/vnd.jupyter.widget-view+json": {
       "model_id": "30e7e9d120f84a7eb5487b8238d7768b",
       "version_major": 2,
       "version_minor": 0
      },
      "text/plain": [
       "%px:   0%|          | 0/48 [00:00<?, ?tasks/s]"
      ]
     },
     "metadata": {},
     "output_type": "display_data"
    },
    {
     "name": "stdout",
     "output_type": "stream",
     "text": [
      "***************************  Simulation:9/16 ==> 17/21      ***********\n",
      "                           ------- Bloc PF/OPF ---------         \n",
      "importing numpy on engine(s)\n",
      "importing pandapower on engine(s)\n",
      "importing pandas on engine(s)\n",
      "importing Par_myFunctions on engine(s)\n"
     ]
    },
    {
     "data": {
      "application/vnd.jupyter.widget-view+json": {
       "model_id": "11b6b397bf174dc3b633cded408c13e1",
       "version_major": 2,
       "version_minor": 0
      },
      "text/plain": [
       "%px:   0%|          | 0/48 [00:00<?, ?tasks/s]"
      ]
     },
     "metadata": {},
     "output_type": "display_data"
    },
    {
     "name": "stdout",
     "output_type": "stream",
     "text": [
      "***************************  Simulation:9/16 ==> 18/21      ***********\n",
      "                           ------- Bloc PF/OPF ---------         \n",
      "importing numpy on engine(s)\n",
      "importing pandapower on engine(s)\n",
      "importing pandas on engine(s)\n",
      "importing Par_myFunctions on engine(s)\n"
     ]
    },
    {
     "data": {
      "application/vnd.jupyter.widget-view+json": {
       "model_id": "a8fc1d7eefac4dddb153b96425b4f899",
       "version_major": 2,
       "version_minor": 0
      },
      "text/plain": [
       "%px:   0%|          | 0/48 [00:00<?, ?tasks/s]"
      ]
     },
     "metadata": {},
     "output_type": "display_data"
    },
    {
     "name": "stdout",
     "output_type": "stream",
     "text": [
      "***************************  Simulation:9/16 ==> 19/21      ***********\n",
      "                           ------- Bloc PF/OPF ---------         \n",
      "importing numpy on engine(s)\n",
      "importing pandapower on engine(s)\n",
      "importing pandas on engine(s)\n",
      "importing Par_myFunctions on engine(s)\n"
     ]
    },
    {
     "data": {
      "application/vnd.jupyter.widget-view+json": {
       "model_id": "342f8cabf2a14ffa803744ba2bdbb704",
       "version_major": 2,
       "version_minor": 0
      },
      "text/plain": [
       "%px:   0%|          | 0/48 [00:00<?, ?tasks/s]"
      ]
     },
     "metadata": {},
     "output_type": "display_data"
    },
    {
     "name": "stdout",
     "output_type": "stream",
     "text": [
      "***************************  Simulation:9/16 ==> 20/21      ***********\n",
      "                           ------- Bloc PF/OPF ---------         \n",
      "importing numpy on engine(s)\n",
      "importing pandapower on engine(s)\n",
      "importing pandas on engine(s)\n",
      "importing Par_myFunctions on engine(s)\n"
     ]
    },
    {
     "data": {
      "application/vnd.jupyter.widget-view+json": {
       "model_id": "b30427fe00d74bb6946579a01d2ce4c0",
       "version_major": 2,
       "version_minor": 0
      },
      "text/plain": [
       "%px:   0%|          | 0/48 [00:00<?, ?tasks/s]"
      ]
     },
     "metadata": {},
     "output_type": "display_data"
    },
    {
     "name": "stdout",
     "output_type": "stream",
     "text": [
      "***************************  Simulation:9/16 ==> 21/21      ***********\n",
      "                           ------- Bloc PF/OPF ---------         \n",
      "importing numpy on engine(s)\n",
      "importing pandapower on engine(s)\n",
      "importing pandas on engine(s)\n",
      "importing Par_myFunctions on engine(s)\n"
     ]
    },
    {
     "data": {
      "application/vnd.jupyter.widget-view+json": {
       "model_id": "4d1ae1f645124375b4b5a6eba7499452",
       "version_major": 2,
       "version_minor": 0
      },
      "text/plain": [
       "%px:   0%|          | 0/48 [00:00<?, ?tasks/s]"
      ]
     },
     "metadata": {},
     "output_type": "display_data"
    },
    {
     "name": "stdout",
     "output_type": "stream",
     "text": [
      "***************************  Simulation:10/16 ==> 1/21      ***********\n",
      "                           ------- Bloc PF/OPF ---------         \n",
      "importing numpy on engine(s)\n",
      "importing pandapower on engine(s)\n",
      "importing pandas on engine(s)\n",
      "importing Par_myFunctions on engine(s)\n"
     ]
    },
    {
     "data": {
      "application/vnd.jupyter.widget-view+json": {
       "model_id": "c36a33e075a24c6ea4b9eaad46d94bee",
       "version_major": 2,
       "version_minor": 0
      },
      "text/plain": [
       "%px:   0%|          | 0/48 [00:00<?, ?tasks/s]"
      ]
     },
     "metadata": {},
     "output_type": "display_data"
    },
    {
     "name": "stdout",
     "output_type": "stream",
     "text": [
      "***************************  Simulation:10/16 ==> 2/21      ***********\n",
      "                           ------- Bloc PF/OPF ---------         \n",
      "importing numpy on engine(s)\n",
      "importing pandapower on engine(s)\n",
      "importing pandas on engine(s)\n",
      "importing Par_myFunctions on engine(s)\n"
     ]
    },
    {
     "data": {
      "application/vnd.jupyter.widget-view+json": {
       "model_id": "b39062af053d4d4699aee37607eecf56",
       "version_major": 2,
       "version_minor": 0
      },
      "text/plain": [
       "%px:   0%|          | 0/48 [00:00<?, ?tasks/s]"
      ]
     },
     "metadata": {},
     "output_type": "display_data"
    },
    {
     "name": "stdout",
     "output_type": "stream",
     "text": [
      "***************************  Simulation:10/16 ==> 3/21      ***********\n",
      "                           ------- Bloc PF/OPF ---------         \n",
      "importing numpy on engine(s)\n",
      "importing pandapower on engine(s)\n",
      "importing pandas on engine(s)\n",
      "importing Par_myFunctions on engine(s)\n"
     ]
    },
    {
     "data": {
      "application/vnd.jupyter.widget-view+json": {
       "model_id": "c29a53507d6c48dab38342756a4928d8",
       "version_major": 2,
       "version_minor": 0
      },
      "text/plain": [
       "%px:   0%|          | 0/48 [00:00<?, ?tasks/s]"
      ]
     },
     "metadata": {},
     "output_type": "display_data"
    },
    {
     "name": "stdout",
     "output_type": "stream",
     "text": [
      "***************************  Simulation:10/16 ==> 4/21      ***********\n",
      "                           ------- Bloc PF/OPF ---------         \n",
      "importing numpy on engine(s)\n",
      "importing pandapower on engine(s)\n",
      "importing pandas on engine(s)\n",
      "importing Par_myFunctions on engine(s)\n"
     ]
    },
    {
     "data": {
      "application/vnd.jupyter.widget-view+json": {
       "model_id": "d76678a9dee7472ca868ebebd911c0f0",
       "version_major": 2,
       "version_minor": 0
      },
      "text/plain": [
       "%px:   0%|          | 0/48 [00:00<?, ?tasks/s]"
      ]
     },
     "metadata": {},
     "output_type": "display_data"
    },
    {
     "name": "stdout",
     "output_type": "stream",
     "text": [
      "***************************  Simulation:10/16 ==> 5/21      ***********\n",
      "                           ------- Bloc PF/OPF ---------         \n",
      "importing numpy on engine(s)\n",
      "importing pandapower on engine(s)\n",
      "importing pandas on engine(s)\n",
      "importing Par_myFunctions on engine(s)\n"
     ]
    },
    {
     "data": {
      "application/vnd.jupyter.widget-view+json": {
       "model_id": "a486a9841fb549bfa31f92ae707ea11c",
       "version_major": 2,
       "version_minor": 0
      },
      "text/plain": [
       "%px:   0%|          | 0/48 [00:00<?, ?tasks/s]"
      ]
     },
     "metadata": {},
     "output_type": "display_data"
    },
    {
     "name": "stdout",
     "output_type": "stream",
     "text": [
      "***************************  Simulation:10/16 ==> 6/21      ***********\n",
      "                           ------- Bloc PF/OPF ---------         \n",
      "importing numpy on engine(s)\n",
      "importing pandapower on engine(s)\n",
      "importing pandas on engine(s)\n",
      "importing Par_myFunctions on engine(s)\n"
     ]
    },
    {
     "data": {
      "application/vnd.jupyter.widget-view+json": {
       "model_id": "633838a75c7b44a4a96f7962fab7f2be",
       "version_major": 2,
       "version_minor": 0
      },
      "text/plain": [
       "%px:   0%|          | 0/48 [00:00<?, ?tasks/s]"
      ]
     },
     "metadata": {},
     "output_type": "display_data"
    },
    {
     "name": "stdout",
     "output_type": "stream",
     "text": [
      "***************************  Simulation:10/16 ==> 7/21      ***********\n",
      "                           ------- Bloc PF/OPF ---------         \n",
      "importing numpy on engine(s)\n",
      "importing pandapower on engine(s)\n",
      "importing pandas on engine(s)\n",
      "importing Par_myFunctions on engine(s)\n"
     ]
    },
    {
     "data": {
      "application/vnd.jupyter.widget-view+json": {
       "model_id": "97145bff094440a78ca2569faa163f07",
       "version_major": 2,
       "version_minor": 0
      },
      "text/plain": [
       "%px:   0%|          | 0/48 [00:00<?, ?tasks/s]"
      ]
     },
     "metadata": {},
     "output_type": "display_data"
    },
    {
     "name": "stdout",
     "output_type": "stream",
     "text": [
      "***************************  Simulation:10/16 ==> 8/21      ***********\n",
      "                           ------- Bloc PF/OPF ---------         \n",
      "importing numpy on engine(s)\n",
      "importing pandapower on engine(s)\n",
      "importing pandas on engine(s)\n",
      "importing Par_myFunctions on engine(s)\n"
     ]
    },
    {
     "data": {
      "application/vnd.jupyter.widget-view+json": {
       "model_id": "985301ba07d841de9adfb2adef04ce9b",
       "version_major": 2,
       "version_minor": 0
      },
      "text/plain": [
       "%px:   0%|          | 0/48 [00:00<?, ?tasks/s]"
      ]
     },
     "metadata": {},
     "output_type": "display_data"
    },
    {
     "name": "stdout",
     "output_type": "stream",
     "text": [
      "***************************  Simulation:10/16 ==> 9/21      ***********\n",
      "                           ------- Bloc PF/OPF ---------         \n",
      "importing numpy on engine(s)\n",
      "importing pandapower on engine(s)\n",
      "importing pandas on engine(s)\n",
      "importing Par_myFunctions on engine(s)\n"
     ]
    },
    {
     "data": {
      "application/vnd.jupyter.widget-view+json": {
       "model_id": "b700a9bce1de42cb9600275b9bc0ffc1",
       "version_major": 2,
       "version_minor": 0
      },
      "text/plain": [
       "%px:   0%|          | 0/48 [00:00<?, ?tasks/s]"
      ]
     },
     "metadata": {},
     "output_type": "display_data"
    },
    {
     "name": "stdout",
     "output_type": "stream",
     "text": [
      "***************************  Simulation:10/16 ==> 10/21      ***********\n",
      "                           ------- Bloc PF/OPF ---------         \n",
      "importing numpy on engine(s)\n",
      "importing pandapower on engine(s)\n",
      "importing pandas on engine(s)\n",
      "importing Par_myFunctions on engine(s)\n"
     ]
    },
    {
     "data": {
      "application/vnd.jupyter.widget-view+json": {
       "model_id": "7ed93fed7dbb4308b41f0c606e443c6a",
       "version_major": 2,
       "version_minor": 0
      },
      "text/plain": [
       "%px:   0%|          | 0/48 [00:00<?, ?tasks/s]"
      ]
     },
     "metadata": {},
     "output_type": "display_data"
    },
    {
     "name": "stdout",
     "output_type": "stream",
     "text": [
      "***************************  Simulation:10/16 ==> 11/21      ***********\n",
      "                           ------- Bloc PF/OPF ---------         \n",
      "importing numpy on engine(s)\n",
      "importing pandapower on engine(s)\n",
      "importing pandas on engine(s)\n",
      "importing Par_myFunctions on engine(s)\n"
     ]
    },
    {
     "data": {
      "application/vnd.jupyter.widget-view+json": {
       "model_id": "583ad6e28a494eb58c280e5a221ac2bd",
       "version_major": 2,
       "version_minor": 0
      },
      "text/plain": [
       "%px:   0%|          | 0/48 [00:00<?, ?tasks/s]"
      ]
     },
     "metadata": {},
     "output_type": "display_data"
    },
    {
     "name": "stdout",
     "output_type": "stream",
     "text": [
      "***************************  Simulation:10/16 ==> 12/21      ***********\n",
      "                           ------- Bloc PF/OPF ---------         \n",
      "importing numpy on engine(s)\n",
      "importing pandapower on engine(s)\n",
      "importing pandas on engine(s)\n",
      "importing Par_myFunctions on engine(s)\n"
     ]
    },
    {
     "data": {
      "application/vnd.jupyter.widget-view+json": {
       "model_id": "cf76a9cb9b5d4c5f91099f9fc03abd8d",
       "version_major": 2,
       "version_minor": 0
      },
      "text/plain": [
       "%px:   0%|          | 0/48 [00:00<?, ?tasks/s]"
      ]
     },
     "metadata": {},
     "output_type": "display_data"
    },
    {
     "name": "stdout",
     "output_type": "stream",
     "text": [
      "***************************  Simulation:10/16 ==> 13/21      ***********\n",
      "                           ------- Bloc PF/OPF ---------         \n",
      "importing numpy on engine(s)\n",
      "importing pandapower on engine(s)\n",
      "importing pandas on engine(s)\n",
      "importing Par_myFunctions on engine(s)\n"
     ]
    },
    {
     "data": {
      "application/vnd.jupyter.widget-view+json": {
       "model_id": "148e91f204b84b3f8c83351c149f7ff3",
       "version_major": 2,
       "version_minor": 0
      },
      "text/plain": [
       "%px:   0%|          | 0/48 [00:00<?, ?tasks/s]"
      ]
     },
     "metadata": {},
     "output_type": "display_data"
    },
    {
     "name": "stdout",
     "output_type": "stream",
     "text": [
      "***************************  Simulation:10/16 ==> 14/21      ***********\n",
      "                           ------- Bloc PF/OPF ---------         \n",
      "importing numpy on engine(s)\n",
      "importing pandapower on engine(s)\n",
      "importing pandas on engine(s)\n",
      "importing Par_myFunctions on engine(s)\n"
     ]
    },
    {
     "data": {
      "application/vnd.jupyter.widget-view+json": {
       "model_id": "af92737256a04d3fb067d512db3695d5",
       "version_major": 2,
       "version_minor": 0
      },
      "text/plain": [
       "%px:   0%|          | 0/48 [00:00<?, ?tasks/s]"
      ]
     },
     "metadata": {},
     "output_type": "display_data"
    },
    {
     "name": "stdout",
     "output_type": "stream",
     "text": [
      "***************************  Simulation:10/16 ==> 15/21      ***********\n",
      "                           ------- Bloc PF/OPF ---------         \n",
      "importing numpy on engine(s)\n",
      "importing pandapower on engine(s)\n",
      "importing pandas on engine(s)\n",
      "importing Par_myFunctions on engine(s)\n"
     ]
    },
    {
     "data": {
      "application/vnd.jupyter.widget-view+json": {
       "model_id": "7bccd19bfc1141a0bb6585a2bd95d092",
       "version_major": 2,
       "version_minor": 0
      },
      "text/plain": [
       "%px:   0%|          | 0/48 [00:00<?, ?tasks/s]"
      ]
     },
     "metadata": {},
     "output_type": "display_data"
    },
    {
     "name": "stdout",
     "output_type": "stream",
     "text": [
      "***************************  Simulation:10/16 ==> 16/21      ***********\n",
      "                           ------- Bloc PF/OPF ---------         \n",
      "importing numpy on engine(s)\n",
      "importing pandapower on engine(s)\n",
      "importing pandas on engine(s)\n",
      "importing Par_myFunctions on engine(s)\n"
     ]
    },
    {
     "data": {
      "application/vnd.jupyter.widget-view+json": {
       "model_id": "f47d5aa5b3c04492a6eb802d912df829",
       "version_major": 2,
       "version_minor": 0
      },
      "text/plain": [
       "%px:   0%|          | 0/48 [00:00<?, ?tasks/s]"
      ]
     },
     "metadata": {},
     "output_type": "display_data"
    },
    {
     "name": "stdout",
     "output_type": "stream",
     "text": [
      "***************************  Simulation:10/16 ==> 17/21      ***********\n",
      "                           ------- Bloc PF/OPF ---------         \n",
      "importing numpy on engine(s)\n",
      "importing pandapower on engine(s)\n",
      "importing pandas on engine(s)\n",
      "importing Par_myFunctions on engine(s)\n"
     ]
    },
    {
     "data": {
      "application/vnd.jupyter.widget-view+json": {
       "model_id": "8124b399f29f4ad4ac35aa2c7a8c379d",
       "version_major": 2,
       "version_minor": 0
      },
      "text/plain": [
       "%px:   0%|          | 0/48 [00:00<?, ?tasks/s]"
      ]
     },
     "metadata": {},
     "output_type": "display_data"
    },
    {
     "name": "stdout",
     "output_type": "stream",
     "text": [
      "***************************  Simulation:10/16 ==> 18/21      ***********\n",
      "                           ------- Bloc PF/OPF ---------         \n",
      "importing numpy on engine(s)\n",
      "importing pandapower on engine(s)\n",
      "importing pandas on engine(s)\n",
      "importing Par_myFunctions on engine(s)\n"
     ]
    },
    {
     "data": {
      "application/vnd.jupyter.widget-view+json": {
       "model_id": "0eb96af3658541d18c350c823d545aae",
       "version_major": 2,
       "version_minor": 0
      },
      "text/plain": [
       "%px:   0%|          | 0/48 [00:00<?, ?tasks/s]"
      ]
     },
     "metadata": {},
     "output_type": "display_data"
    },
    {
     "name": "stdout",
     "output_type": "stream",
     "text": [
      "***************************  Simulation:10/16 ==> 19/21      ***********\n",
      "                           ------- Bloc PF/OPF ---------         \n",
      "importing numpy on engine(s)\n",
      "importing pandapower on engine(s)\n",
      "importing pandas on engine(s)\n",
      "importing Par_myFunctions on engine(s)\n"
     ]
    },
    {
     "data": {
      "application/vnd.jupyter.widget-view+json": {
       "model_id": "c1dd44b4662d4d908cb43d7597e47146",
       "version_major": 2,
       "version_minor": 0
      },
      "text/plain": [
       "%px:   0%|          | 0/48 [00:00<?, ?tasks/s]"
      ]
     },
     "metadata": {},
     "output_type": "display_data"
    },
    {
     "name": "stdout",
     "output_type": "stream",
     "text": [
      "***************************  Simulation:10/16 ==> 20/21      ***********\n",
      "                           ------- Bloc PF/OPF ---------         \n",
      "importing numpy on engine(s)\n",
      "importing pandapower on engine(s)\n",
      "importing pandas on engine(s)\n",
      "importing Par_myFunctions on engine(s)\n"
     ]
    },
    {
     "data": {
      "application/vnd.jupyter.widget-view+json": {
       "model_id": "7dd0cc1e07314ed0b75add890689da81",
       "version_major": 2,
       "version_minor": 0
      },
      "text/plain": [
       "%px:   0%|          | 0/48 [00:00<?, ?tasks/s]"
      ]
     },
     "metadata": {},
     "output_type": "display_data"
    },
    {
     "name": "stdout",
     "output_type": "stream",
     "text": [
      "***************************  Simulation:10/16 ==> 21/21      ***********\n",
      "                           ------- Bloc PF/OPF ---------         \n",
      "importing numpy on engine(s)\n",
      "importing pandapower on engine(s)\n",
      "importing pandas on engine(s)\n",
      "importing Par_myFunctions on engine(s)\n"
     ]
    },
    {
     "data": {
      "application/vnd.jupyter.widget-view+json": {
       "model_id": "8c558e2de584493983ef84671de0557a",
       "version_major": 2,
       "version_minor": 0
      },
      "text/plain": [
       "%px:   0%|          | 0/48 [00:00<?, ?tasks/s]"
      ]
     },
     "metadata": {},
     "output_type": "display_data"
    },
    {
     "name": "stdout",
     "output_type": "stream",
     "text": [
      "***************************  Simulation:11/16 ==> 1/21      ***********\n",
      "                           ------- Bloc PF/OPF ---------         \n",
      "importing numpy on engine(s)\n",
      "importing pandapower on engine(s)\n",
      "importing pandas on engine(s)\n",
      "importing Par_myFunctions on engine(s)\n"
     ]
    },
    {
     "data": {
      "application/vnd.jupyter.widget-view+json": {
       "model_id": "2c988bfc858148698a28ad800a158abd",
       "version_major": 2,
       "version_minor": 0
      },
      "text/plain": [
       "%px:   0%|          | 0/48 [00:00<?, ?tasks/s]"
      ]
     },
     "metadata": {},
     "output_type": "display_data"
    },
    {
     "name": "stdout",
     "output_type": "stream",
     "text": [
      "***************************  Simulation:11/16 ==> 2/21      ***********\n",
      "                           ------- Bloc PF/OPF ---------         \n",
      "importing numpy on engine(s)\n",
      "importing pandapower on engine(s)\n",
      "importing pandas on engine(s)\n",
      "importing Par_myFunctions on engine(s)\n"
     ]
    },
    {
     "data": {
      "application/vnd.jupyter.widget-view+json": {
       "model_id": "f25a83959f60491e9c15ab9c4e0fd667",
       "version_major": 2,
       "version_minor": 0
      },
      "text/plain": [
       "%px:   0%|          | 0/48 [00:00<?, ?tasks/s]"
      ]
     },
     "metadata": {},
     "output_type": "display_data"
    },
    {
     "name": "stdout",
     "output_type": "stream",
     "text": [
      "***************************  Simulation:11/16 ==> 3/21      ***********\n",
      "                           ------- Bloc PF/OPF ---------         \n",
      "importing numpy on engine(s)\n",
      "importing pandapower on engine(s)\n",
      "importing pandas on engine(s)\n",
      "importing Par_myFunctions on engine(s)\n"
     ]
    },
    {
     "data": {
      "application/vnd.jupyter.widget-view+json": {
       "model_id": "88b58948164746dea5f6194a0c15f3cc",
       "version_major": 2,
       "version_minor": 0
      },
      "text/plain": [
       "%px:   0%|          | 0/48 [00:00<?, ?tasks/s]"
      ]
     },
     "metadata": {},
     "output_type": "display_data"
    },
    {
     "name": "stdout",
     "output_type": "stream",
     "text": [
      "***************************  Simulation:11/16 ==> 4/21      ***********\n",
      "                           ------- Bloc PF/OPF ---------         \n",
      "importing numpy on engine(s)\n",
      "importing pandapower on engine(s)\n",
      "importing pandas on engine(s)\n",
      "importing Par_myFunctions on engine(s)\n"
     ]
    },
    {
     "data": {
      "application/vnd.jupyter.widget-view+json": {
       "model_id": "bba65410db394eb3b124c3db6c7fc88b",
       "version_major": 2,
       "version_minor": 0
      },
      "text/plain": [
       "%px:   0%|          | 0/48 [00:00<?, ?tasks/s]"
      ]
     },
     "metadata": {},
     "output_type": "display_data"
    },
    {
     "name": "stdout",
     "output_type": "stream",
     "text": [
      "***************************  Simulation:11/16 ==> 5/21      ***********\n",
      "                           ------- Bloc PF/OPF ---------         \n",
      "importing numpy on engine(s)\n",
      "importing pandapower on engine(s)\n",
      "importing pandas on engine(s)\n",
      "importing Par_myFunctions on engine(s)\n"
     ]
    },
    {
     "data": {
      "application/vnd.jupyter.widget-view+json": {
       "model_id": "2e208a4290644feb94f18aa2a92ccf32",
       "version_major": 2,
       "version_minor": 0
      },
      "text/plain": [
       "%px:   0%|          | 0/48 [00:00<?, ?tasks/s]"
      ]
     },
     "metadata": {},
     "output_type": "display_data"
    },
    {
     "name": "stdout",
     "output_type": "stream",
     "text": [
      "***************************  Simulation:11/16 ==> 6/21      ***********\n",
      "                           ------- Bloc PF/OPF ---------         \n",
      "importing numpy on engine(s)\n",
      "importing pandapower on engine(s)\n",
      "importing pandas on engine(s)\n",
      "importing Par_myFunctions on engine(s)\n"
     ]
    },
    {
     "data": {
      "application/vnd.jupyter.widget-view+json": {
       "model_id": "53545e12c5f7427eadfa339b70bc24b6",
       "version_major": 2,
       "version_minor": 0
      },
      "text/plain": [
       "%px:   0%|          | 0/48 [00:00<?, ?tasks/s]"
      ]
     },
     "metadata": {},
     "output_type": "display_data"
    },
    {
     "name": "stdout",
     "output_type": "stream",
     "text": [
      "***************************  Simulation:11/16 ==> 7/21      ***********\n",
      "                           ------- Bloc PF/OPF ---------         \n",
      "importing numpy on engine(s)\n",
      "importing pandapower on engine(s)\n",
      "importing pandas on engine(s)\n",
      "importing Par_myFunctions on engine(s)\n"
     ]
    },
    {
     "data": {
      "application/vnd.jupyter.widget-view+json": {
       "model_id": "00df329197d8421b846022db9866a76b",
       "version_major": 2,
       "version_minor": 0
      },
      "text/plain": [
       "%px:   0%|          | 0/48 [00:00<?, ?tasks/s]"
      ]
     },
     "metadata": {},
     "output_type": "display_data"
    },
    {
     "name": "stdout",
     "output_type": "stream",
     "text": [
      "***************************  Simulation:11/16 ==> 8/21      ***********\n",
      "                           ------- Bloc PF/OPF ---------         \n",
      "importing numpy on engine(s)\n",
      "importing pandapower on engine(s)\n",
      "importing pandas on engine(s)\n",
      "importing Par_myFunctions on engine(s)\n"
     ]
    },
    {
     "data": {
      "application/vnd.jupyter.widget-view+json": {
       "model_id": "3766e31d607144eea67d8ab54f7eed98",
       "version_major": 2,
       "version_minor": 0
      },
      "text/plain": [
       "%px:   0%|          | 0/48 [00:00<?, ?tasks/s]"
      ]
     },
     "metadata": {},
     "output_type": "display_data"
    },
    {
     "name": "stdout",
     "output_type": "stream",
     "text": [
      "***************************  Simulation:11/16 ==> 9/21      ***********\n",
      "                           ------- Bloc PF/OPF ---------         \n",
      "importing numpy on engine(s)\n",
      "importing pandapower on engine(s)\n",
      "importing pandas on engine(s)\n",
      "importing Par_myFunctions on engine(s)\n"
     ]
    },
    {
     "data": {
      "application/vnd.jupyter.widget-view+json": {
       "model_id": "125c2ce0da3a447583ef665a41eebbe6",
       "version_major": 2,
       "version_minor": 0
      },
      "text/plain": [
       "%px:   0%|          | 0/48 [00:00<?, ?tasks/s]"
      ]
     },
     "metadata": {},
     "output_type": "display_data"
    },
    {
     "name": "stdout",
     "output_type": "stream",
     "text": [
      "***************************  Simulation:11/16 ==> 10/21      ***********\n",
      "                           ------- Bloc PF/OPF ---------         \n",
      "importing numpy on engine(s)\n",
      "importing pandapower on engine(s)\n",
      "importing pandas on engine(s)\n",
      "importing Par_myFunctions on engine(s)\n"
     ]
    },
    {
     "data": {
      "application/vnd.jupyter.widget-view+json": {
       "model_id": "c23c8d2fda474f9aa1a25f72a400cd0e",
       "version_major": 2,
       "version_minor": 0
      },
      "text/plain": [
       "%px:   0%|          | 0/48 [00:00<?, ?tasks/s]"
      ]
     },
     "metadata": {},
     "output_type": "display_data"
    },
    {
     "name": "stdout",
     "output_type": "stream",
     "text": [
      "***************************  Simulation:11/16 ==> 11/21      ***********\n",
      "                           ------- Bloc PF/OPF ---------         \n",
      "importing numpy on engine(s)\n",
      "importing pandapower on engine(s)\n",
      "importing pandas on engine(s)\n",
      "importing Par_myFunctions on engine(s)\n"
     ]
    },
    {
     "data": {
      "application/vnd.jupyter.widget-view+json": {
       "model_id": "9699ecd10b234bf28df1869c079b9ceb",
       "version_major": 2,
       "version_minor": 0
      },
      "text/plain": [
       "%px:   0%|          | 0/48 [00:00<?, ?tasks/s]"
      ]
     },
     "metadata": {},
     "output_type": "display_data"
    },
    {
     "name": "stdout",
     "output_type": "stream",
     "text": [
      "***************************  Simulation:11/16 ==> 12/21      ***********\n",
      "                           ------- Bloc PF/OPF ---------         \n",
      "importing numpy on engine(s)\n",
      "importing pandapower on engine(s)\n",
      "importing pandas on engine(s)\n",
      "importing Par_myFunctions on engine(s)\n"
     ]
    },
    {
     "data": {
      "application/vnd.jupyter.widget-view+json": {
       "model_id": "b78d82c34d71400ebd725aae4c81bd1a",
       "version_major": 2,
       "version_minor": 0
      },
      "text/plain": [
       "%px:   0%|          | 0/48 [00:00<?, ?tasks/s]"
      ]
     },
     "metadata": {},
     "output_type": "display_data"
    },
    {
     "name": "stdout",
     "output_type": "stream",
     "text": [
      "***************************  Simulation:11/16 ==> 13/21      ***********\n",
      "                           ------- Bloc PF/OPF ---------         \n",
      "importing numpy on engine(s)\n",
      "importing pandapower on engine(s)\n",
      "importing pandas on engine(s)\n",
      "importing Par_myFunctions on engine(s)\n"
     ]
    },
    {
     "data": {
      "application/vnd.jupyter.widget-view+json": {
       "model_id": "c09669fcee1f4796a8108a87898c6323",
       "version_major": 2,
       "version_minor": 0
      },
      "text/plain": [
       "%px:   0%|          | 0/48 [00:00<?, ?tasks/s]"
      ]
     },
     "metadata": {},
     "output_type": "display_data"
    },
    {
     "name": "stdout",
     "output_type": "stream",
     "text": [
      "***************************  Simulation:11/16 ==> 14/21      ***********\n",
      "                           ------- Bloc PF/OPF ---------         \n",
      "importing numpy on engine(s)\n",
      "importing pandapower on engine(s)\n",
      "importing pandas on engine(s)\n",
      "importing Par_myFunctions on engine(s)\n"
     ]
    },
    {
     "data": {
      "application/vnd.jupyter.widget-view+json": {
       "model_id": "56ce23b872054680965a2249c2c01b97",
       "version_major": 2,
       "version_minor": 0
      },
      "text/plain": [
       "%px:   0%|          | 0/48 [00:00<?, ?tasks/s]"
      ]
     },
     "metadata": {},
     "output_type": "display_data"
    },
    {
     "name": "stdout",
     "output_type": "stream",
     "text": [
      "***************************  Simulation:11/16 ==> 15/21      ***********\n",
      "                           ------- Bloc PF/OPF ---------         \n",
      "importing numpy on engine(s)\n",
      "importing pandapower on engine(s)\n",
      "importing pandas on engine(s)\n",
      "importing Par_myFunctions on engine(s)\n"
     ]
    },
    {
     "data": {
      "application/vnd.jupyter.widget-view+json": {
       "model_id": "02b0c4f14b264e50a646b5f8850ca225",
       "version_major": 2,
       "version_minor": 0
      },
      "text/plain": [
       "%px:   0%|          | 0/48 [00:00<?, ?tasks/s]"
      ]
     },
     "metadata": {},
     "output_type": "display_data"
    },
    {
     "name": "stdout",
     "output_type": "stream",
     "text": [
      "***************************  Simulation:11/16 ==> 16/21      ***********\n",
      "                           ------- Bloc PF/OPF ---------         \n",
      "importing numpy on engine(s)\n",
      "importing pandapower on engine(s)\n",
      "importing pandas on engine(s)\n",
      "importing Par_myFunctions on engine(s)\n"
     ]
    },
    {
     "data": {
      "application/vnd.jupyter.widget-view+json": {
       "model_id": "77d59e543c45430eb5d629163a380b2a",
       "version_major": 2,
       "version_minor": 0
      },
      "text/plain": [
       "%px:   0%|          | 0/48 [00:00<?, ?tasks/s]"
      ]
     },
     "metadata": {},
     "output_type": "display_data"
    },
    {
     "name": "stdout",
     "output_type": "stream",
     "text": [
      "***************************  Simulation:11/16 ==> 17/21      ***********\n",
      "                           ------- Bloc PF/OPF ---------         \n",
      "importing numpy on engine(s)\n",
      "importing pandapower on engine(s)\n",
      "importing pandas on engine(s)\n",
      "importing Par_myFunctions on engine(s)\n"
     ]
    },
    {
     "data": {
      "application/vnd.jupyter.widget-view+json": {
       "model_id": "295355acf9a24febb01625482c37b744",
       "version_major": 2,
       "version_minor": 0
      },
      "text/plain": [
       "%px:   0%|          | 0/48 [00:00<?, ?tasks/s]"
      ]
     },
     "metadata": {},
     "output_type": "display_data"
    },
    {
     "name": "stdout",
     "output_type": "stream",
     "text": [
      "***************************  Simulation:11/16 ==> 18/21      ***********\n",
      "                           ------- Bloc PF/OPF ---------         \n",
      "importing numpy on engine(s)\n",
      "importing pandapower on engine(s)\n",
      "importing pandas on engine(s)\n",
      "importing Par_myFunctions on engine(s)\n"
     ]
    },
    {
     "data": {
      "application/vnd.jupyter.widget-view+json": {
       "model_id": "3604060510a548ffaa6b2a8117b4e5a6",
       "version_major": 2,
       "version_minor": 0
      },
      "text/plain": [
       "%px:   0%|          | 0/48 [00:00<?, ?tasks/s]"
      ]
     },
     "metadata": {},
     "output_type": "display_data"
    },
    {
     "name": "stdout",
     "output_type": "stream",
     "text": [
      "***************************  Simulation:11/16 ==> 19/21      ***********\n",
      "                           ------- Bloc PF/OPF ---------         \n",
      "importing numpy on engine(s)\n",
      "importing pandapower on engine(s)\n",
      "importing pandas on engine(s)\n",
      "importing Par_myFunctions on engine(s)\n"
     ]
    },
    {
     "data": {
      "application/vnd.jupyter.widget-view+json": {
       "model_id": "11a2b9ad46fb4688a09902e2c7c3f746",
       "version_major": 2,
       "version_minor": 0
      },
      "text/plain": [
       "%px:   0%|          | 0/48 [00:00<?, ?tasks/s]"
      ]
     },
     "metadata": {},
     "output_type": "display_data"
    },
    {
     "name": "stdout",
     "output_type": "stream",
     "text": [
      "***************************  Simulation:11/16 ==> 20/21      ***********\n",
      "                           ------- Bloc PF/OPF ---------         \n",
      "importing numpy on engine(s)\n",
      "importing pandapower on engine(s)\n",
      "importing pandas on engine(s)\n",
      "importing Par_myFunctions on engine(s)\n"
     ]
    },
    {
     "data": {
      "application/vnd.jupyter.widget-view+json": {
       "model_id": "65d75289e96d44fd80a1d55005bf98f9",
       "version_major": 2,
       "version_minor": 0
      },
      "text/plain": [
       "%px:   0%|          | 0/48 [00:00<?, ?tasks/s]"
      ]
     },
     "metadata": {},
     "output_type": "display_data"
    },
    {
     "name": "stdout",
     "output_type": "stream",
     "text": [
      "***************************  Simulation:11/16 ==> 21/21      ***********\n",
      "                           ------- Bloc PF/OPF ---------         \n",
      "importing numpy on engine(s)\n",
      "importing pandapower on engine(s)\n",
      "importing pandas on engine(s)\n",
      "importing Par_myFunctions on engine(s)\n"
     ]
    },
    {
     "data": {
      "application/vnd.jupyter.widget-view+json": {
       "model_id": "a99d3e7b12fa423a86331506c95c5dd7",
       "version_major": 2,
       "version_minor": 0
      },
      "text/plain": [
       "%px:   0%|          | 0/48 [00:00<?, ?tasks/s]"
      ]
     },
     "metadata": {},
     "output_type": "display_data"
    },
    {
     "name": "stdout",
     "output_type": "stream",
     "text": [
      "***************************  Simulation:12/16 ==> 1/21      ***********\n",
      "                           ------- Bloc PF/OPF ---------         \n",
      "importing numpy on engine(s)\n",
      "importing pandapower on engine(s)\n",
      "importing pandas on engine(s)\n",
      "importing Par_myFunctions on engine(s)\n"
     ]
    },
    {
     "data": {
      "application/vnd.jupyter.widget-view+json": {
       "model_id": "3e3bb5fed31d4b7381650b515cebe621",
       "version_major": 2,
       "version_minor": 0
      },
      "text/plain": [
       "%px:   0%|          | 0/48 [00:00<?, ?tasks/s]"
      ]
     },
     "metadata": {},
     "output_type": "display_data"
    },
    {
     "name": "stdout",
     "output_type": "stream",
     "text": [
      "***************************  Simulation:12/16 ==> 2/21      ***********\n",
      "                           ------- Bloc PF/OPF ---------         \n",
      "importing numpy on engine(s)\n",
      "importing pandapower on engine(s)\n",
      "importing pandas on engine(s)\n",
      "importing Par_myFunctions on engine(s)\n"
     ]
    },
    {
     "data": {
      "application/vnd.jupyter.widget-view+json": {
       "model_id": "b6c68e7597a04712827e89757fce3057",
       "version_major": 2,
       "version_minor": 0
      },
      "text/plain": [
       "%px:   0%|          | 0/48 [00:00<?, ?tasks/s]"
      ]
     },
     "metadata": {},
     "output_type": "display_data"
    },
    {
     "name": "stdout",
     "output_type": "stream",
     "text": [
      "***************************  Simulation:12/16 ==> 3/21      ***********\n",
      "                           ------- Bloc PF/OPF ---------         \n",
      "importing numpy on engine(s)\n",
      "importing pandapower on engine(s)\n",
      "importing pandas on engine(s)\n",
      "importing Par_myFunctions on engine(s)\n"
     ]
    },
    {
     "data": {
      "application/vnd.jupyter.widget-view+json": {
       "model_id": "ba174adb3dae4c50b12a797113dbeca5",
       "version_major": 2,
       "version_minor": 0
      },
      "text/plain": [
       "%px:   0%|          | 0/48 [00:00<?, ?tasks/s]"
      ]
     },
     "metadata": {},
     "output_type": "display_data"
    },
    {
     "name": "stdout",
     "output_type": "stream",
     "text": [
      "***************************  Simulation:12/16 ==> 4/21      ***********\n",
      "                           ------- Bloc PF/OPF ---------         \n",
      "importing numpy on engine(s)\n",
      "importing pandapower on engine(s)\n",
      "importing pandas on engine(s)\n",
      "importing Par_myFunctions on engine(s)\n"
     ]
    },
    {
     "data": {
      "application/vnd.jupyter.widget-view+json": {
       "model_id": "02d3837ad4a24f6eb62491fa9ee4da65",
       "version_major": 2,
       "version_minor": 0
      },
      "text/plain": [
       "%px:   0%|          | 0/48 [00:00<?, ?tasks/s]"
      ]
     },
     "metadata": {},
     "output_type": "display_data"
    },
    {
     "name": "stdout",
     "output_type": "stream",
     "text": [
      "***************************  Simulation:12/16 ==> 5/21      ***********\n",
      "                           ------- Bloc PF/OPF ---------         \n",
      "importing numpy on engine(s)\n",
      "importing pandapower on engine(s)\n",
      "importing pandas on engine(s)\n",
      "importing Par_myFunctions on engine(s)\n"
     ]
    },
    {
     "data": {
      "application/vnd.jupyter.widget-view+json": {
       "model_id": "98b21891b5a9454787f30eac5e9aa136",
       "version_major": 2,
       "version_minor": 0
      },
      "text/plain": [
       "%px:   0%|          | 0/48 [00:00<?, ?tasks/s]"
      ]
     },
     "metadata": {},
     "output_type": "display_data"
    },
    {
     "name": "stdout",
     "output_type": "stream",
     "text": [
      "***************************  Simulation:12/16 ==> 6/21      ***********\n",
      "                           ------- Bloc PF/OPF ---------         \n",
      "importing numpy on engine(s)\n",
      "importing pandapower on engine(s)\n",
      "importing pandas on engine(s)\n",
      "importing Par_myFunctions on engine(s)\n"
     ]
    },
    {
     "data": {
      "application/vnd.jupyter.widget-view+json": {
       "model_id": "a86fd730707a41f19a81586714be7a92",
       "version_major": 2,
       "version_minor": 0
      },
      "text/plain": [
       "%px:   0%|          | 0/48 [00:00<?, ?tasks/s]"
      ]
     },
     "metadata": {},
     "output_type": "display_data"
    },
    {
     "name": "stdout",
     "output_type": "stream",
     "text": [
      "***************************  Simulation:12/16 ==> 7/21      ***********\n",
      "                           ------- Bloc PF/OPF ---------         \n",
      "importing numpy on engine(s)\n",
      "importing pandapower on engine(s)\n",
      "importing pandas on engine(s)\n",
      "importing Par_myFunctions on engine(s)\n"
     ]
    },
    {
     "data": {
      "application/vnd.jupyter.widget-view+json": {
       "model_id": "4363f2cfad9c4a86a0060c06f60c8bb4",
       "version_major": 2,
       "version_minor": 0
      },
      "text/plain": [
       "%px:   0%|          | 0/48 [00:01<?, ?tasks/s]"
      ]
     },
     "metadata": {},
     "output_type": "display_data"
    },
    {
     "name": "stdout",
     "output_type": "stream",
     "text": [
      "***************************  Simulation:12/16 ==> 8/21      ***********\n",
      "                           ------- Bloc PF/OPF ---------         \n",
      "importing numpy on engine(s)\n",
      "importing pandapower on engine(s)\n",
      "importing pandas on engine(s)\n",
      "importing Par_myFunctions on engine(s)\n"
     ]
    },
    {
     "data": {
      "application/vnd.jupyter.widget-view+json": {
       "model_id": "797aad623694419b8633fff9ead769ce",
       "version_major": 2,
       "version_minor": 0
      },
      "text/plain": [
       "%px:   0%|          | 0/48 [00:00<?, ?tasks/s]"
      ]
     },
     "metadata": {},
     "output_type": "display_data"
    },
    {
     "name": "stdout",
     "output_type": "stream",
     "text": [
      "***************************  Simulation:12/16 ==> 9/21      ***********\n",
      "                           ------- Bloc PF/OPF ---------         \n",
      "importing numpy on engine(s)\n",
      "importing pandapower on engine(s)\n",
      "importing pandas on engine(s)\n",
      "importing Par_myFunctions on engine(s)\n"
     ]
    },
    {
     "data": {
      "application/vnd.jupyter.widget-view+json": {
       "model_id": "a8cdb566b5064faf8825b1253dbec427",
       "version_major": 2,
       "version_minor": 0
      },
      "text/plain": [
       "%px:   0%|          | 0/48 [00:00<?, ?tasks/s]"
      ]
     },
     "metadata": {},
     "output_type": "display_data"
    },
    {
     "name": "stdout",
     "output_type": "stream",
     "text": [
      "***************************  Simulation:12/16 ==> 10/21      ***********\n",
      "                           ------- Bloc PF/OPF ---------         \n",
      "importing numpy on engine(s)\n",
      "importing pandapower on engine(s)\n",
      "importing pandas on engine(s)\n",
      "importing Par_myFunctions on engine(s)\n"
     ]
    },
    {
     "data": {
      "application/vnd.jupyter.widget-view+json": {
       "model_id": "929f4172c06c4f3eb61bfc1a359214fb",
       "version_major": 2,
       "version_minor": 0
      },
      "text/plain": [
       "%px:   0%|          | 0/48 [00:00<?, ?tasks/s]"
      ]
     },
     "metadata": {},
     "output_type": "display_data"
    },
    {
     "name": "stdout",
     "output_type": "stream",
     "text": [
      "***************************  Simulation:12/16 ==> 11/21      ***********\n",
      "                           ------- Bloc PF/OPF ---------         \n",
      "importing numpy on engine(s)\n",
      "importing pandapower on engine(s)\n",
      "importing pandas on engine(s)\n",
      "importing Par_myFunctions on engine(s)\n"
     ]
    },
    {
     "data": {
      "application/vnd.jupyter.widget-view+json": {
       "model_id": "db6d7534668149a588f86778b50956c3",
       "version_major": 2,
       "version_minor": 0
      },
      "text/plain": [
       "%px:   0%|          | 0/48 [00:00<?, ?tasks/s]"
      ]
     },
     "metadata": {},
     "output_type": "display_data"
    },
    {
     "name": "stdout",
     "output_type": "stream",
     "text": [
      "***************************  Simulation:12/16 ==> 12/21      ***********\n",
      "                           ------- Bloc PF/OPF ---------         \n",
      "importing numpy on engine(s)\n",
      "importing pandapower on engine(s)\n",
      "importing pandas on engine(s)\n",
      "importing Par_myFunctions on engine(s)\n"
     ]
    },
    {
     "data": {
      "application/vnd.jupyter.widget-view+json": {
       "model_id": "a27fcb1cb4e24e03a7462f0182df6c9c",
       "version_major": 2,
       "version_minor": 0
      },
      "text/plain": [
       "%px:   0%|          | 0/48 [00:00<?, ?tasks/s]"
      ]
     },
     "metadata": {},
     "output_type": "display_data"
    },
    {
     "name": "stdout",
     "output_type": "stream",
     "text": [
      "***************************  Simulation:12/16 ==> 13/21      ***********\n",
      "                           ------- Bloc PF/OPF ---------         \n",
      "importing numpy on engine(s)\n",
      "importing pandapower on engine(s)\n",
      "importing pandas on engine(s)\n",
      "importing Par_myFunctions on engine(s)\n"
     ]
    },
    {
     "data": {
      "application/vnd.jupyter.widget-view+json": {
       "model_id": "fb55e50d6970466cb579a4c40c565b8e",
       "version_major": 2,
       "version_minor": 0
      },
      "text/plain": [
       "%px:   0%|          | 0/48 [00:00<?, ?tasks/s]"
      ]
     },
     "metadata": {},
     "output_type": "display_data"
    },
    {
     "name": "stdout",
     "output_type": "stream",
     "text": [
      "***************************  Simulation:12/16 ==> 14/21      ***********\n",
      "                           ------- Bloc PF/OPF ---------         \n",
      "importing numpy on engine(s)\n",
      "importing pandapower on engine(s)\n",
      "importing pandas on engine(s)\n",
      "importing Par_myFunctions on engine(s)\n"
     ]
    },
    {
     "data": {
      "application/vnd.jupyter.widget-view+json": {
       "model_id": "adaf35f8e1254ab78d71c707d2b82e58",
       "version_major": 2,
       "version_minor": 0
      },
      "text/plain": [
       "%px:   0%|          | 0/48 [00:00<?, ?tasks/s]"
      ]
     },
     "metadata": {},
     "output_type": "display_data"
    },
    {
     "name": "stdout",
     "output_type": "stream",
     "text": [
      "***************************  Simulation:12/16 ==> 15/21      ***********\n",
      "                           ------- Bloc PF/OPF ---------         \n",
      "importing numpy on engine(s)\n",
      "importing pandapower on engine(s)\n",
      "importing pandas on engine(s)\n",
      "importing Par_myFunctions on engine(s)\n"
     ]
    },
    {
     "data": {
      "application/vnd.jupyter.widget-view+json": {
       "model_id": "8b64add615e34b518d78beba6b592405",
       "version_major": 2,
       "version_minor": 0
      },
      "text/plain": [
       "%px:   0%|          | 0/48 [00:00<?, ?tasks/s]"
      ]
     },
     "metadata": {},
     "output_type": "display_data"
    },
    {
     "name": "stdout",
     "output_type": "stream",
     "text": [
      "***************************  Simulation:12/16 ==> 16/21      ***********\n",
      "                           ------- Bloc PF/OPF ---------         \n",
      "importing numpy on engine(s)\n",
      "importing pandapower on engine(s)\n",
      "importing pandas on engine(s)\n",
      "importing Par_myFunctions on engine(s)\n"
     ]
    },
    {
     "data": {
      "application/vnd.jupyter.widget-view+json": {
       "model_id": "fc453beb8fd24b4f9b1c3917d3a75f60",
       "version_major": 2,
       "version_minor": 0
      },
      "text/plain": [
       "%px:   0%|          | 0/48 [00:00<?, ?tasks/s]"
      ]
     },
     "metadata": {},
     "output_type": "display_data"
    },
    {
     "name": "stdout",
     "output_type": "stream",
     "text": [
      "***************************  Simulation:12/16 ==> 17/21      ***********\n",
      "                           ------- Bloc PF/OPF ---------         \n",
      "importing numpy on engine(s)\n",
      "importing pandapower on engine(s)\n",
      "importing pandas on engine(s)\n",
      "importing Par_myFunctions on engine(s)\n"
     ]
    },
    {
     "data": {
      "application/vnd.jupyter.widget-view+json": {
       "model_id": "23d9c154f0004e98bfcbc7ee32f512aa",
       "version_major": 2,
       "version_minor": 0
      },
      "text/plain": [
       "%px:   0%|          | 0/48 [00:00<?, ?tasks/s]"
      ]
     },
     "metadata": {},
     "output_type": "display_data"
    },
    {
     "name": "stdout",
     "output_type": "stream",
     "text": [
      "***************************  Simulation:12/16 ==> 18/21      ***********\n",
      "                           ------- Bloc PF/OPF ---------         \n",
      "importing numpy on engine(s)\n",
      "importing pandapower on engine(s)\n",
      "importing pandas on engine(s)\n",
      "importing Par_myFunctions on engine(s)\n"
     ]
    },
    {
     "data": {
      "application/vnd.jupyter.widget-view+json": {
       "model_id": "f77584b20bc647d1937c5555759ab4a3",
       "version_major": 2,
       "version_minor": 0
      },
      "text/plain": [
       "%px:   0%|          | 0/48 [00:00<?, ?tasks/s]"
      ]
     },
     "metadata": {},
     "output_type": "display_data"
    },
    {
     "name": "stdout",
     "output_type": "stream",
     "text": [
      "***************************  Simulation:12/16 ==> 19/21      ***********\n",
      "                           ------- Bloc PF/OPF ---------         \n",
      "importing numpy on engine(s)\n",
      "importing pandapower on engine(s)\n",
      "importing pandas on engine(s)\n",
      "importing Par_myFunctions on engine(s)\n"
     ]
    },
    {
     "data": {
      "application/vnd.jupyter.widget-view+json": {
       "model_id": "1659907fa5854325ac9ce579991cfa9a",
       "version_major": 2,
       "version_minor": 0
      },
      "text/plain": [
       "%px:   0%|          | 0/48 [00:00<?, ?tasks/s]"
      ]
     },
     "metadata": {},
     "output_type": "display_data"
    },
    {
     "name": "stdout",
     "output_type": "stream",
     "text": [
      "***************************  Simulation:12/16 ==> 20/21      ***********\n",
      "                           ------- Bloc PF/OPF ---------         \n",
      "importing numpy on engine(s)\n",
      "importing pandapower on engine(s)\n",
      "importing pandas on engine(s)\n",
      "importing Par_myFunctions on engine(s)\n"
     ]
    },
    {
     "data": {
      "application/vnd.jupyter.widget-view+json": {
       "model_id": "e6651191ddc4451d809d7aa86c0ee004",
       "version_major": 2,
       "version_minor": 0
      },
      "text/plain": [
       "%px:   0%|          | 0/48 [00:00<?, ?tasks/s]"
      ]
     },
     "metadata": {},
     "output_type": "display_data"
    },
    {
     "name": "stdout",
     "output_type": "stream",
     "text": [
      "***************************  Simulation:12/16 ==> 21/21      ***********\n",
      "                           ------- Bloc PF/OPF ---------         \n",
      "importing numpy on engine(s)\n",
      "importing pandapower on engine(s)\n",
      "importing pandas on engine(s)\n",
      "importing Par_myFunctions on engine(s)\n"
     ]
    },
    {
     "data": {
      "application/vnd.jupyter.widget-view+json": {
       "model_id": "d112e4990e954293b09c396d4d141826",
       "version_major": 2,
       "version_minor": 0
      },
      "text/plain": [
       "%px:   0%|          | 0/48 [00:00<?, ?tasks/s]"
      ]
     },
     "metadata": {},
     "output_type": "display_data"
    },
    {
     "name": "stdout",
     "output_type": "stream",
     "text": [
      "***************************  Simulation:13/16 ==> 1/21      ***********\n",
      "                           ------- Bloc PF/OPF ---------         \n",
      "importing numpy on engine(s)\n",
      "importing pandapower on engine(s)\n",
      "importing pandas on engine(s)\n",
      "importing Par_myFunctions on engine(s)\n"
     ]
    },
    {
     "data": {
      "application/vnd.jupyter.widget-view+json": {
       "model_id": "85a42c9596db4bb191603b78d967cab4",
       "version_major": 2,
       "version_minor": 0
      },
      "text/plain": [
       "%px:   0%|          | 0/48 [00:00<?, ?tasks/s]"
      ]
     },
     "metadata": {},
     "output_type": "display_data"
    },
    {
     "name": "stdout",
     "output_type": "stream",
     "text": [
      "***************************  Simulation:13/16 ==> 2/21      ***********\n",
      "                           ------- Bloc PF/OPF ---------         \n",
      "importing numpy on engine(s)\n",
      "importing pandapower on engine(s)\n",
      "importing pandas on engine(s)\n",
      "importing Par_myFunctions on engine(s)\n"
     ]
    },
    {
     "data": {
      "application/vnd.jupyter.widget-view+json": {
       "model_id": "4012791048b7499a8291a05671291455",
       "version_major": 2,
       "version_minor": 0
      },
      "text/plain": [
       "%px:   0%|          | 0/48 [00:00<?, ?tasks/s]"
      ]
     },
     "metadata": {},
     "output_type": "display_data"
    },
    {
     "name": "stdout",
     "output_type": "stream",
     "text": [
      "***************************  Simulation:13/16 ==> 3/21      ***********\n",
      "                           ------- Bloc PF/OPF ---------         \n",
      "importing numpy on engine(s)\n",
      "importing pandapower on engine(s)\n",
      "importing pandas on engine(s)\n",
      "importing Par_myFunctions on engine(s)\n"
     ]
    },
    {
     "data": {
      "application/vnd.jupyter.widget-view+json": {
       "model_id": "63bdbb7f397d4386ae382afc0ca42463",
       "version_major": 2,
       "version_minor": 0
      },
      "text/plain": [
       "%px:   0%|          | 0/48 [00:00<?, ?tasks/s]"
      ]
     },
     "metadata": {},
     "output_type": "display_data"
    },
    {
     "name": "stdout",
     "output_type": "stream",
     "text": [
      "***************************  Simulation:13/16 ==> 4/21      ***********\n",
      "                           ------- Bloc PF/OPF ---------         \n",
      "importing numpy on engine(s)\n",
      "importing pandapower on engine(s)\n",
      "importing pandas on engine(s)\n",
      "importing Par_myFunctions on engine(s)\n"
     ]
    },
    {
     "data": {
      "application/vnd.jupyter.widget-view+json": {
       "model_id": "25c5be6ca8dc4075994ea48321a6889b",
       "version_major": 2,
       "version_minor": 0
      },
      "text/plain": [
       "%px:   0%|          | 0/48 [00:00<?, ?tasks/s]"
      ]
     },
     "metadata": {},
     "output_type": "display_data"
    },
    {
     "name": "stdout",
     "output_type": "stream",
     "text": [
      "***************************  Simulation:13/16 ==> 5/21      ***********\n",
      "                           ------- Bloc PF/OPF ---------         \n",
      "importing numpy on engine(s)\n",
      "importing pandapower on engine(s)\n",
      "importing pandas on engine(s)\n",
      "importing Par_myFunctions on engine(s)\n"
     ]
    },
    {
     "data": {
      "application/vnd.jupyter.widget-view+json": {
       "model_id": "fae78a84ef6f44389c6369ab1733adf9",
       "version_major": 2,
       "version_minor": 0
      },
      "text/plain": [
       "%px:   0%|          | 0/48 [00:00<?, ?tasks/s]"
      ]
     },
     "metadata": {},
     "output_type": "display_data"
    },
    {
     "name": "stdout",
     "output_type": "stream",
     "text": [
      "***************************  Simulation:13/16 ==> 6/21      ***********\n",
      "                           ------- Bloc PF/OPF ---------         \n",
      "importing numpy on engine(s)\n",
      "importing pandapower on engine(s)\n",
      "importing pandas on engine(s)\n",
      "importing Par_myFunctions on engine(s)\n"
     ]
    },
    {
     "data": {
      "application/vnd.jupyter.widget-view+json": {
       "model_id": "e374117f7dc245cc8e2bbd278bbd6e97",
       "version_major": 2,
       "version_minor": 0
      },
      "text/plain": [
       "%px:   0%|          | 0/48 [00:00<?, ?tasks/s]"
      ]
     },
     "metadata": {},
     "output_type": "display_data"
    },
    {
     "name": "stdout",
     "output_type": "stream",
     "text": [
      "***************************  Simulation:13/16 ==> 7/21      ***********\n",
      "                           ------- Bloc PF/OPF ---------         \n",
      "importing numpy on engine(s)\n",
      "importing pandapower on engine(s)\n",
      "importing pandas on engine(s)\n",
      "importing Par_myFunctions on engine(s)\n"
     ]
    },
    {
     "data": {
      "application/vnd.jupyter.widget-view+json": {
       "model_id": "45e5c03c418442cbbf529bcea241ae01",
       "version_major": 2,
       "version_minor": 0
      },
      "text/plain": [
       "%px:   0%|          | 0/48 [00:00<?, ?tasks/s]"
      ]
     },
     "metadata": {},
     "output_type": "display_data"
    },
    {
     "name": "stdout",
     "output_type": "stream",
     "text": [
      "***************************  Simulation:13/16 ==> 8/21      ***********\n",
      "                           ------- Bloc PF/OPF ---------         \n",
      "importing numpy on engine(s)\n",
      "importing pandapower on engine(s)\n",
      "importing pandas on engine(s)\n",
      "importing Par_myFunctions on engine(s)\n"
     ]
    },
    {
     "data": {
      "application/vnd.jupyter.widget-view+json": {
       "model_id": "ad85afe92e8645cb8f1a38d172eae3d6",
       "version_major": 2,
       "version_minor": 0
      },
      "text/plain": [
       "%px:   0%|          | 0/48 [00:00<?, ?tasks/s]"
      ]
     },
     "metadata": {},
     "output_type": "display_data"
    },
    {
     "name": "stdout",
     "output_type": "stream",
     "text": [
      "***************************  Simulation:13/16 ==> 9/21      ***********\n",
      "                           ------- Bloc PF/OPF ---------         \n",
      "importing numpy on engine(s)\n",
      "importing pandapower on engine(s)\n",
      "importing pandas on engine(s)\n",
      "importing Par_myFunctions on engine(s)\n"
     ]
    },
    {
     "data": {
      "application/vnd.jupyter.widget-view+json": {
       "model_id": "f27a6124b8d1453ab7e260e57806fe98",
       "version_major": 2,
       "version_minor": 0
      },
      "text/plain": [
       "%px:   0%|          | 0/48 [00:00<?, ?tasks/s]"
      ]
     },
     "metadata": {},
     "output_type": "display_data"
    },
    {
     "name": "stdout",
     "output_type": "stream",
     "text": [
      "***************************  Simulation:13/16 ==> 10/21      ***********\n",
      "                           ------- Bloc PF/OPF ---------         \n",
      "importing numpy on engine(s)\n",
      "importing pandapower on engine(s)\n",
      "importing pandas on engine(s)\n",
      "importing Par_myFunctions on engine(s)\n"
     ]
    },
    {
     "data": {
      "application/vnd.jupyter.widget-view+json": {
       "model_id": "e9587fd074554e5fb37e8f6059245cf3",
       "version_major": 2,
       "version_minor": 0
      },
      "text/plain": [
       "%px:   0%|          | 0/48 [00:00<?, ?tasks/s]"
      ]
     },
     "metadata": {},
     "output_type": "display_data"
    },
    {
     "name": "stdout",
     "output_type": "stream",
     "text": [
      "***************************  Simulation:13/16 ==> 11/21      ***********\n",
      "                           ------- Bloc PF/OPF ---------         \n",
      "importing numpy on engine(s)\n",
      "importing pandapower on engine(s)\n",
      "importing pandas on engine(s)\n",
      "importing Par_myFunctions on engine(s)\n"
     ]
    },
    {
     "data": {
      "application/vnd.jupyter.widget-view+json": {
       "model_id": "205463ee17f944f8ab9f411beaa698a7",
       "version_major": 2,
       "version_minor": 0
      },
      "text/plain": [
       "%px:   0%|          | 0/48 [00:00<?, ?tasks/s]"
      ]
     },
     "metadata": {},
     "output_type": "display_data"
    },
    {
     "name": "stdout",
     "output_type": "stream",
     "text": [
      "***************************  Simulation:13/16 ==> 12/21      ***********\n",
      "                           ------- Bloc PF/OPF ---------         \n",
      "importing numpy on engine(s)\n",
      "importing pandapower on engine(s)\n",
      "importing pandas on engine(s)\n",
      "importing Par_myFunctions on engine(s)\n"
     ]
    },
    {
     "data": {
      "application/vnd.jupyter.widget-view+json": {
       "model_id": "d8900bc8a6404e6381b4096dd512febd",
       "version_major": 2,
       "version_minor": 0
      },
      "text/plain": [
       "%px:   0%|          | 0/48 [00:00<?, ?tasks/s]"
      ]
     },
     "metadata": {},
     "output_type": "display_data"
    },
    {
     "name": "stdout",
     "output_type": "stream",
     "text": [
      "***************************  Simulation:13/16 ==> 13/21      ***********\n",
      "                           ------- Bloc PF/OPF ---------         \n",
      "importing numpy on engine(s)\n",
      "importing pandapower on engine(s)\n",
      "importing pandas on engine(s)\n",
      "importing Par_myFunctions on engine(s)\n"
     ]
    },
    {
     "data": {
      "application/vnd.jupyter.widget-view+json": {
       "model_id": "6811eeeda10f481d845bded07592e827",
       "version_major": 2,
       "version_minor": 0
      },
      "text/plain": [
       "%px:   0%|          | 0/48 [00:00<?, ?tasks/s]"
      ]
     },
     "metadata": {},
     "output_type": "display_data"
    },
    {
     "name": "stdout",
     "output_type": "stream",
     "text": [
      "***************************  Simulation:13/16 ==> 14/21      ***********\n",
      "                           ------- Bloc PF/OPF ---------         \n",
      "importing numpy on engine(s)\n",
      "importing pandapower on engine(s)\n",
      "importing pandas on engine(s)\n",
      "importing Par_myFunctions on engine(s)\n"
     ]
    },
    {
     "data": {
      "application/vnd.jupyter.widget-view+json": {
       "model_id": "df9f9f70a4ea418aa67fb563293350e8",
       "version_major": 2,
       "version_minor": 0
      },
      "text/plain": [
       "%px:   0%|          | 0/48 [00:00<?, ?tasks/s]"
      ]
     },
     "metadata": {},
     "output_type": "display_data"
    },
    {
     "name": "stdout",
     "output_type": "stream",
     "text": [
      "***************************  Simulation:13/16 ==> 15/21      ***********\n",
      "                           ------- Bloc PF/OPF ---------         \n",
      "importing numpy on engine(s)\n",
      "importing pandapower on engine(s)\n",
      "importing pandas on engine(s)\n",
      "importing Par_myFunctions on engine(s)\n"
     ]
    },
    {
     "data": {
      "application/vnd.jupyter.widget-view+json": {
       "model_id": "f36f829540b84030b1c9604b6e6b0a0e",
       "version_major": 2,
       "version_minor": 0
      },
      "text/plain": [
       "%px:   0%|          | 0/48 [00:00<?, ?tasks/s]"
      ]
     },
     "metadata": {},
     "output_type": "display_data"
    },
    {
     "name": "stdout",
     "output_type": "stream",
     "text": [
      "***************************  Simulation:13/16 ==> 16/21      ***********\n",
      "                           ------- Bloc PF/OPF ---------         \n",
      "importing numpy on engine(s)\n",
      "importing pandapower on engine(s)\n",
      "importing pandas on engine(s)\n",
      "importing Par_myFunctions on engine(s)\n"
     ]
    },
    {
     "data": {
      "application/vnd.jupyter.widget-view+json": {
       "model_id": "ce820ae9d66d4085a42572164e77ee76",
       "version_major": 2,
       "version_minor": 0
      },
      "text/plain": [
       "%px:   0%|          | 0/48 [00:00<?, ?tasks/s]"
      ]
     },
     "metadata": {},
     "output_type": "display_data"
    },
    {
     "name": "stdout",
     "output_type": "stream",
     "text": [
      "***************************  Simulation:13/16 ==> 17/21      ***********\n",
      "                           ------- Bloc PF/OPF ---------         \n",
      "importing numpy on engine(s)\n",
      "importing pandapower on engine(s)\n",
      "importing pandas on engine(s)\n",
      "importing Par_myFunctions on engine(s)\n"
     ]
    },
    {
     "data": {
      "application/vnd.jupyter.widget-view+json": {
       "model_id": "7873e73d0df448c985141a3cc714cae2",
       "version_major": 2,
       "version_minor": 0
      },
      "text/plain": [
       "%px:   0%|          | 0/48 [00:00<?, ?tasks/s]"
      ]
     },
     "metadata": {},
     "output_type": "display_data"
    },
    {
     "name": "stdout",
     "output_type": "stream",
     "text": [
      "***************************  Simulation:13/16 ==> 18/21      ***********\n",
      "                           ------- Bloc PF/OPF ---------         \n",
      "importing numpy on engine(s)\n",
      "importing pandapower on engine(s)\n",
      "importing pandas on engine(s)\n",
      "importing Par_myFunctions on engine(s)\n"
     ]
    },
    {
     "data": {
      "application/vnd.jupyter.widget-view+json": {
       "model_id": "6f5f392877184176a7fe1dce3b3783d6",
       "version_major": 2,
       "version_minor": 0
      },
      "text/plain": [
       "%px:   0%|          | 0/48 [00:00<?, ?tasks/s]"
      ]
     },
     "metadata": {},
     "output_type": "display_data"
    },
    {
     "name": "stdout",
     "output_type": "stream",
     "text": [
      "***************************  Simulation:13/16 ==> 19/21      ***********\n",
      "                           ------- Bloc PF/OPF ---------         \n",
      "importing numpy on engine(s)\n",
      "importing pandapower on engine(s)\n",
      "importing pandas on engine(s)\n",
      "importing Par_myFunctions on engine(s)\n"
     ]
    },
    {
     "data": {
      "application/vnd.jupyter.widget-view+json": {
       "model_id": "3a0b1d24b0a74e8caf31443ea3bced0d",
       "version_major": 2,
       "version_minor": 0
      },
      "text/plain": [
       "%px:   0%|          | 0/48 [00:00<?, ?tasks/s]"
      ]
     },
     "metadata": {},
     "output_type": "display_data"
    },
    {
     "name": "stdout",
     "output_type": "stream",
     "text": [
      "***************************  Simulation:13/16 ==> 20/21      ***********\n",
      "                           ------- Bloc PF/OPF ---------         \n",
      "importing numpy on engine(s)\n",
      "importing pandapower on engine(s)\n",
      "importing pandas on engine(s)\n",
      "importing Par_myFunctions on engine(s)\n"
     ]
    },
    {
     "data": {
      "application/vnd.jupyter.widget-view+json": {
       "model_id": "2284194fb7d244e9b193a352d74905fe",
       "version_major": 2,
       "version_minor": 0
      },
      "text/plain": [
       "%px:   0%|          | 0/48 [00:00<?, ?tasks/s]"
      ]
     },
     "metadata": {},
     "output_type": "display_data"
    },
    {
     "name": "stdout",
     "output_type": "stream",
     "text": [
      "***************************  Simulation:13/16 ==> 21/21      ***********\n",
      "                           ------- Bloc PF/OPF ---------         \n",
      "importing numpy on engine(s)\n",
      "importing pandapower on engine(s)\n",
      "importing pandas on engine(s)\n",
      "importing Par_myFunctions on engine(s)\n"
     ]
    },
    {
     "data": {
      "application/vnd.jupyter.widget-view+json": {
       "model_id": "01a129eb2d85405a9178b2bfeddc8105",
       "version_major": 2,
       "version_minor": 0
      },
      "text/plain": [
       "%px:   0%|          | 0/48 [00:00<?, ?tasks/s]"
      ]
     },
     "metadata": {},
     "output_type": "display_data"
    },
    {
     "name": "stdout",
     "output_type": "stream",
     "text": [
      "***************************  Simulation:14/16 ==> 1/21      ***********\n",
      "                           ------- Bloc PF/OPF ---------         \n",
      "importing numpy on engine(s)\n",
      "importing pandapower on engine(s)\n",
      "importing pandas on engine(s)\n",
      "importing Par_myFunctions on engine(s)\n"
     ]
    },
    {
     "data": {
      "application/vnd.jupyter.widget-view+json": {
       "model_id": "d785843451eb45c68a8a0da3ea583872",
       "version_major": 2,
       "version_minor": 0
      },
      "text/plain": [
       "%px:   0%|          | 0/48 [00:00<?, ?tasks/s]"
      ]
     },
     "metadata": {},
     "output_type": "display_data"
    },
    {
     "name": "stdout",
     "output_type": "stream",
     "text": [
      "***************************  Simulation:14/16 ==> 2/21      ***********\n",
      "                           ------- Bloc PF/OPF ---------         \n",
      "importing numpy on engine(s)\n",
      "importing pandapower on engine(s)\n",
      "importing pandas on engine(s)\n",
      "importing Par_myFunctions on engine(s)\n"
     ]
    },
    {
     "data": {
      "application/vnd.jupyter.widget-view+json": {
       "model_id": "bbb0f945d1b0413f889f9e1c713cfa1f",
       "version_major": 2,
       "version_minor": 0
      },
      "text/plain": [
       "%px:   0%|          | 0/48 [00:00<?, ?tasks/s]"
      ]
     },
     "metadata": {},
     "output_type": "display_data"
    },
    {
     "name": "stdout",
     "output_type": "stream",
     "text": [
      "***************************  Simulation:14/16 ==> 3/21      ***********\n",
      "                           ------- Bloc PF/OPF ---------         \n",
      "importing numpy on engine(s)\n",
      "importing pandapower on engine(s)\n",
      "importing pandas on engine(s)\n",
      "importing Par_myFunctions on engine(s)\n"
     ]
    },
    {
     "data": {
      "application/vnd.jupyter.widget-view+json": {
       "model_id": "6cc362f86549420e92f3295a2bddc5bf",
       "version_major": 2,
       "version_minor": 0
      },
      "text/plain": [
       "%px:   0%|          | 0/48 [00:00<?, ?tasks/s]"
      ]
     },
     "metadata": {},
     "output_type": "display_data"
    },
    {
     "name": "stdout",
     "output_type": "stream",
     "text": [
      "***************************  Simulation:14/16 ==> 4/21      ***********\n",
      "                           ------- Bloc PF/OPF ---------         \n",
      "importing numpy on engine(s)\n",
      "importing pandapower on engine(s)\n",
      "importing pandas on engine(s)\n",
      "importing Par_myFunctions on engine(s)\n"
     ]
    },
    {
     "data": {
      "application/vnd.jupyter.widget-view+json": {
       "model_id": "655ed98adf70449f8a19f52459f39f44",
       "version_major": 2,
       "version_minor": 0
      },
      "text/plain": [
       "%px:   0%|          | 0/48 [00:00<?, ?tasks/s]"
      ]
     },
     "metadata": {},
     "output_type": "display_data"
    },
    {
     "name": "stdout",
     "output_type": "stream",
     "text": [
      "***************************  Simulation:14/16 ==> 5/21      ***********\n",
      "                           ------- Bloc PF/OPF ---------         \n",
      "importing numpy on engine(s)\n",
      "importing pandapower on engine(s)\n",
      "importing pandas on engine(s)\n",
      "importing Par_myFunctions on engine(s)\n"
     ]
    },
    {
     "data": {
      "application/vnd.jupyter.widget-view+json": {
       "model_id": "8da86352253746d3a7618b24cb732c4a",
       "version_major": 2,
       "version_minor": 0
      },
      "text/plain": [
       "%px:   0%|          | 0/48 [00:00<?, ?tasks/s]"
      ]
     },
     "metadata": {},
     "output_type": "display_data"
    },
    {
     "name": "stdout",
     "output_type": "stream",
     "text": [
      "***************************  Simulation:14/16 ==> 6/21      ***********\n",
      "                           ------- Bloc PF/OPF ---------         \n",
      "importing numpy on engine(s)\n",
      "importing pandapower on engine(s)\n",
      "importing pandas on engine(s)\n",
      "importing Par_myFunctions on engine(s)\n"
     ]
    },
    {
     "data": {
      "application/vnd.jupyter.widget-view+json": {
       "model_id": "a5ca7e5a09d948bea995b732bb6888b9",
       "version_major": 2,
       "version_minor": 0
      },
      "text/plain": [
       "%px:   0%|          | 0/48 [00:00<?, ?tasks/s]"
      ]
     },
     "metadata": {},
     "output_type": "display_data"
    },
    {
     "name": "stdout",
     "output_type": "stream",
     "text": [
      "***************************  Simulation:14/16 ==> 7/21      ***********\n",
      "                           ------- Bloc PF/OPF ---------         \n",
      "importing numpy on engine(s)\n",
      "importing pandapower on engine(s)\n",
      "importing pandas on engine(s)\n",
      "importing Par_myFunctions on engine(s)\n"
     ]
    },
    {
     "data": {
      "application/vnd.jupyter.widget-view+json": {
       "model_id": "5ddf34a12d434a5ba5f0c91e0e3f4247",
       "version_major": 2,
       "version_minor": 0
      },
      "text/plain": [
       "%px:   0%|          | 0/48 [00:00<?, ?tasks/s]"
      ]
     },
     "metadata": {},
     "output_type": "display_data"
    },
    {
     "name": "stdout",
     "output_type": "stream",
     "text": [
      "***************************  Simulation:14/16 ==> 8/21      ***********\n",
      "                           ------- Bloc PF/OPF ---------         \n",
      "importing numpy on engine(s)\n",
      "importing pandapower on engine(s)\n",
      "importing pandas on engine(s)\n",
      "importing Par_myFunctions on engine(s)\n"
     ]
    },
    {
     "data": {
      "application/vnd.jupyter.widget-view+json": {
       "model_id": "b0a624cef0b74aafbb0911427677409a",
       "version_major": 2,
       "version_minor": 0
      },
      "text/plain": [
       "%px:   0%|          | 0/48 [00:00<?, ?tasks/s]"
      ]
     },
     "metadata": {},
     "output_type": "display_data"
    },
    {
     "name": "stdout",
     "output_type": "stream",
     "text": [
      "***************************  Simulation:14/16 ==> 9/21      ***********\n",
      "                           ------- Bloc PF/OPF ---------         \n",
      "importing numpy on engine(s)\n",
      "importing pandapower on engine(s)\n",
      "importing pandas on engine(s)\n",
      "importing Par_myFunctions on engine(s)\n"
     ]
    },
    {
     "data": {
      "application/vnd.jupyter.widget-view+json": {
       "model_id": "b7765b58b5fb482fa7affc78cd777cde",
       "version_major": 2,
       "version_minor": 0
      },
      "text/plain": [
       "%px:   0%|          | 0/48 [00:00<?, ?tasks/s]"
      ]
     },
     "metadata": {},
     "output_type": "display_data"
    },
    {
     "name": "stdout",
     "output_type": "stream",
     "text": [
      "***************************  Simulation:14/16 ==> 10/21      ***********\n",
      "                           ------- Bloc PF/OPF ---------         \n",
      "importing numpy on engine(s)\n",
      "importing pandapower on engine(s)\n",
      "importing pandas on engine(s)\n",
      "importing Par_myFunctions on engine(s)\n"
     ]
    },
    {
     "data": {
      "application/vnd.jupyter.widget-view+json": {
       "model_id": "ead763e528b34b46af04f91b628da557",
       "version_major": 2,
       "version_minor": 0
      },
      "text/plain": [
       "%px:   0%|          | 0/48 [00:00<?, ?tasks/s]"
      ]
     },
     "metadata": {},
     "output_type": "display_data"
    },
    {
     "name": "stdout",
     "output_type": "stream",
     "text": [
      "***************************  Simulation:14/16 ==> 11/21      ***********\n",
      "                           ------- Bloc PF/OPF ---------         \n",
      "importing numpy on engine(s)\n",
      "importing pandapower on engine(s)\n",
      "importing pandas on engine(s)\n",
      "importing Par_myFunctions on engine(s)\n"
     ]
    },
    {
     "data": {
      "application/vnd.jupyter.widget-view+json": {
       "model_id": "eb46fa1154a344ed82c4ad6e065e96a7",
       "version_major": 2,
       "version_minor": 0
      },
      "text/plain": [
       "%px:   0%|          | 0/48 [00:00<?, ?tasks/s]"
      ]
     },
     "metadata": {},
     "output_type": "display_data"
    },
    {
     "name": "stdout",
     "output_type": "stream",
     "text": [
      "***************************  Simulation:14/16 ==> 12/21      ***********\n",
      "                           ------- Bloc PF/OPF ---------         \n",
      "importing numpy on engine(s)\n",
      "importing pandapower on engine(s)\n",
      "importing pandas on engine(s)\n",
      "importing Par_myFunctions on engine(s)\n"
     ]
    },
    {
     "data": {
      "application/vnd.jupyter.widget-view+json": {
       "model_id": "a00a42c10c5e4c56b1c891e5d0452928",
       "version_major": 2,
       "version_minor": 0
      },
      "text/plain": [
       "%px:   0%|          | 0/48 [00:00<?, ?tasks/s]"
      ]
     },
     "metadata": {},
     "output_type": "display_data"
    },
    {
     "name": "stdout",
     "output_type": "stream",
     "text": [
      "***************************  Simulation:14/16 ==> 13/21      ***********\n",
      "                           ------- Bloc PF/OPF ---------         \n",
      "importing numpy on engine(s)\n",
      "importing pandapower on engine(s)\n",
      "importing pandas on engine(s)\n",
      "importing Par_myFunctions on engine(s)\n"
     ]
    },
    {
     "data": {
      "application/vnd.jupyter.widget-view+json": {
       "model_id": "0fb7d999a7ba409ab351c56b0dcc7b24",
       "version_major": 2,
       "version_minor": 0
      },
      "text/plain": [
       "%px:   0%|          | 0/48 [00:00<?, ?tasks/s]"
      ]
     },
     "metadata": {},
     "output_type": "display_data"
    },
    {
     "name": "stdout",
     "output_type": "stream",
     "text": [
      "***************************  Simulation:14/16 ==> 14/21      ***********\n",
      "                           ------- Bloc PF/OPF ---------         \n",
      "importing numpy on engine(s)\n",
      "importing pandapower on engine(s)\n",
      "importing pandas on engine(s)\n",
      "importing Par_myFunctions on engine(s)\n"
     ]
    },
    {
     "data": {
      "application/vnd.jupyter.widget-view+json": {
       "model_id": "783425b6489b416ab57440b125eb57f2",
       "version_major": 2,
       "version_minor": 0
      },
      "text/plain": [
       "%px:   0%|          | 0/48 [00:00<?, ?tasks/s]"
      ]
     },
     "metadata": {},
     "output_type": "display_data"
    },
    {
     "name": "stdout",
     "output_type": "stream",
     "text": [
      "***************************  Simulation:14/16 ==> 15/21      ***********\n",
      "                           ------- Bloc PF/OPF ---------         \n",
      "importing numpy on engine(s)\n",
      "importing pandapower on engine(s)\n",
      "importing pandas on engine(s)\n",
      "importing Par_myFunctions on engine(s)\n"
     ]
    },
    {
     "data": {
      "application/vnd.jupyter.widget-view+json": {
       "model_id": "f8d0fd470cbe43cc943c045d0f5a8acb",
       "version_major": 2,
       "version_minor": 0
      },
      "text/plain": [
       "%px:   0%|          | 0/48 [00:00<?, ?tasks/s]"
      ]
     },
     "metadata": {},
     "output_type": "display_data"
    },
    {
     "name": "stdout",
     "output_type": "stream",
     "text": [
      "***************************  Simulation:14/16 ==> 16/21      ***********\n",
      "                           ------- Bloc PF/OPF ---------         \n",
      "importing numpy on engine(s)\n",
      "importing pandapower on engine(s)\n",
      "importing pandas on engine(s)\n",
      "importing Par_myFunctions on engine(s)\n"
     ]
    },
    {
     "data": {
      "application/vnd.jupyter.widget-view+json": {
       "model_id": "59a336bbba3b4d68bed9a0b5f3bc0527",
       "version_major": 2,
       "version_minor": 0
      },
      "text/plain": [
       "%px:   0%|          | 0/48 [00:00<?, ?tasks/s]"
      ]
     },
     "metadata": {},
     "output_type": "display_data"
    },
    {
     "name": "stdout",
     "output_type": "stream",
     "text": [
      "***************************  Simulation:14/16 ==> 17/21      ***********\n",
      "                           ------- Bloc PF/OPF ---------         \n",
      "importing numpy on engine(s)\n",
      "importing pandapower on engine(s)\n",
      "importing pandas on engine(s)\n",
      "importing Par_myFunctions on engine(s)\n"
     ]
    },
    {
     "data": {
      "application/vnd.jupyter.widget-view+json": {
       "model_id": "1dbd1c9cdbf448d0b29b20a78a0b167c",
       "version_major": 2,
       "version_minor": 0
      },
      "text/plain": [
       "%px:   0%|          | 0/48 [00:00<?, ?tasks/s]"
      ]
     },
     "metadata": {},
     "output_type": "display_data"
    },
    {
     "name": "stdout",
     "output_type": "stream",
     "text": [
      "***************************  Simulation:14/16 ==> 18/21      ***********\n",
      "                           ------- Bloc PF/OPF ---------         \n",
      "importing numpy on engine(s)\n",
      "importing pandapower on engine(s)\n",
      "importing pandas on engine(s)\n",
      "importing Par_myFunctions on engine(s)\n"
     ]
    },
    {
     "data": {
      "application/vnd.jupyter.widget-view+json": {
       "model_id": "2ed01098ad7d448eaffc79adb26e6a1b",
       "version_major": 2,
       "version_minor": 0
      },
      "text/plain": [
       "%px:   0%|          | 0/48 [00:00<?, ?tasks/s]"
      ]
     },
     "metadata": {},
     "output_type": "display_data"
    },
    {
     "name": "stdout",
     "output_type": "stream",
     "text": [
      "***************************  Simulation:14/16 ==> 19/21      ***********\n",
      "                           ------- Bloc PF/OPF ---------         \n",
      "importing numpy on engine(s)\n",
      "importing pandapower on engine(s)\n",
      "importing pandas on engine(s)\n",
      "importing Par_myFunctions on engine(s)\n"
     ]
    },
    {
     "data": {
      "application/vnd.jupyter.widget-view+json": {
       "model_id": "7bd4b505675c468888693c28a101e3a9",
       "version_major": 2,
       "version_minor": 0
      },
      "text/plain": [
       "%px:   0%|          | 0/48 [00:00<?, ?tasks/s]"
      ]
     },
     "metadata": {},
     "output_type": "display_data"
    },
    {
     "name": "stdout",
     "output_type": "stream",
     "text": [
      "***************************  Simulation:14/16 ==> 20/21      ***********\n",
      "                           ------- Bloc PF/OPF ---------         \n",
      "importing numpy on engine(s)\n",
      "importing pandapower on engine(s)\n",
      "importing pandas on engine(s)\n",
      "importing Par_myFunctions on engine(s)\n"
     ]
    },
    {
     "data": {
      "application/vnd.jupyter.widget-view+json": {
       "model_id": "128d021a189340f890a06aa1534a52e8",
       "version_major": 2,
       "version_minor": 0
      },
      "text/plain": [
       "%px:   0%|          | 0/48 [00:00<?, ?tasks/s]"
      ]
     },
     "metadata": {},
     "output_type": "display_data"
    },
    {
     "name": "stdout",
     "output_type": "stream",
     "text": [
      "***************************  Simulation:14/16 ==> 21/21      ***********\n",
      "                           ------- Bloc PF/OPF ---------         \n",
      "importing numpy on engine(s)\n",
      "importing pandapower on engine(s)\n",
      "importing pandas on engine(s)\n",
      "importing Par_myFunctions on engine(s)\n"
     ]
    },
    {
     "data": {
      "application/vnd.jupyter.widget-view+json": {
       "model_id": "c4c065ed7a234bf5ae31a20936dec970",
       "version_major": 2,
       "version_minor": 0
      },
      "text/plain": [
       "%px:   0%|          | 0/48 [00:00<?, ?tasks/s]"
      ]
     },
     "metadata": {},
     "output_type": "display_data"
    },
    {
     "name": "stdout",
     "output_type": "stream",
     "text": [
      "***************************  Simulation:15/16 ==> 1/21      ***********\n",
      "                           ------- Bloc PF/OPF ---------         \n",
      "importing numpy on engine(s)\n",
      "importing pandapower on engine(s)\n",
      "importing pandas on engine(s)\n",
      "importing Par_myFunctions on engine(s)\n"
     ]
    },
    {
     "data": {
      "application/vnd.jupyter.widget-view+json": {
       "model_id": "8856066db949477b98c51c50a387625c",
       "version_major": 2,
       "version_minor": 0
      },
      "text/plain": [
       "%px:   0%|          | 0/48 [00:00<?, ?tasks/s]"
      ]
     },
     "metadata": {},
     "output_type": "display_data"
    },
    {
     "name": "stdout",
     "output_type": "stream",
     "text": [
      "***************************  Simulation:15/16 ==> 2/21      ***********\n",
      "                           ------- Bloc PF/OPF ---------         \n",
      "importing numpy on engine(s)\n",
      "importing pandapower on engine(s)\n",
      "importing pandas on engine(s)\n",
      "importing Par_myFunctions on engine(s)\n"
     ]
    },
    {
     "data": {
      "application/vnd.jupyter.widget-view+json": {
       "model_id": "c8e39e8ae7844047a437ba4563838091",
       "version_major": 2,
       "version_minor": 0
      },
      "text/plain": [
       "%px:   0%|          | 0/48 [00:00<?, ?tasks/s]"
      ]
     },
     "metadata": {},
     "output_type": "display_data"
    },
    {
     "name": "stdout",
     "output_type": "stream",
     "text": [
      "***************************  Simulation:15/16 ==> 3/21      ***********\n",
      "                           ------- Bloc PF/OPF ---------         \n",
      "importing numpy on engine(s)\n",
      "importing pandapower on engine(s)\n",
      "importing pandas on engine(s)\n",
      "importing Par_myFunctions on engine(s)\n"
     ]
    },
    {
     "data": {
      "application/vnd.jupyter.widget-view+json": {
       "model_id": "a79235d6a81b49a59b948369cbe80a7c",
       "version_major": 2,
       "version_minor": 0
      },
      "text/plain": [
       "%px:   0%|          | 0/48 [00:00<?, ?tasks/s]"
      ]
     },
     "metadata": {},
     "output_type": "display_data"
    },
    {
     "name": "stdout",
     "output_type": "stream",
     "text": [
      "***************************  Simulation:15/16 ==> 4/21      ***********\n",
      "                           ------- Bloc PF/OPF ---------         \n",
      "importing numpy on engine(s)\n",
      "importing pandapower on engine(s)\n",
      "importing pandas on engine(s)\n",
      "importing Par_myFunctions on engine(s)\n"
     ]
    },
    {
     "data": {
      "application/vnd.jupyter.widget-view+json": {
       "model_id": "d66b7606fc0741adba2032442f590251",
       "version_major": 2,
       "version_minor": 0
      },
      "text/plain": [
       "%px:   0%|          | 0/48 [00:00<?, ?tasks/s]"
      ]
     },
     "metadata": {},
     "output_type": "display_data"
    },
    {
     "name": "stdout",
     "output_type": "stream",
     "text": [
      "***************************  Simulation:15/16 ==> 5/21      ***********\n",
      "                           ------- Bloc PF/OPF ---------         \n",
      "importing numpy on engine(s)\n",
      "importing pandapower on engine(s)\n",
      "importing pandas on engine(s)\n",
      "importing Par_myFunctions on engine(s)\n"
     ]
    },
    {
     "data": {
      "application/vnd.jupyter.widget-view+json": {
       "model_id": "a934969164df43ea839787d7eb093dc2",
       "version_major": 2,
       "version_minor": 0
      },
      "text/plain": [
       "%px:   0%|          | 0/48 [00:00<?, ?tasks/s]"
      ]
     },
     "metadata": {},
     "output_type": "display_data"
    },
    {
     "name": "stdout",
     "output_type": "stream",
     "text": [
      "***************************  Simulation:15/16 ==> 6/21      ***********\n",
      "                           ------- Bloc PF/OPF ---------         \n",
      "importing numpy on engine(s)\n",
      "importing pandapower on engine(s)\n",
      "importing pandas on engine(s)\n",
      "importing Par_myFunctions on engine(s)\n"
     ]
    },
    {
     "data": {
      "application/vnd.jupyter.widget-view+json": {
       "model_id": "9487b6b8dc8542709bbbf157406aef01",
       "version_major": 2,
       "version_minor": 0
      },
      "text/plain": [
       "%px:   0%|          | 0/48 [00:00<?, ?tasks/s]"
      ]
     },
     "metadata": {},
     "output_type": "display_data"
    },
    {
     "name": "stdout",
     "output_type": "stream",
     "text": [
      "***************************  Simulation:15/16 ==> 7/21      ***********\n",
      "                           ------- Bloc PF/OPF ---------         \n",
      "importing numpy on engine(s)\n",
      "importing pandapower on engine(s)\n",
      "importing pandas on engine(s)\n",
      "importing Par_myFunctions on engine(s)\n"
     ]
    },
    {
     "data": {
      "application/vnd.jupyter.widget-view+json": {
       "model_id": "765bdadee84440c5a807694379000149",
       "version_major": 2,
       "version_minor": 0
      },
      "text/plain": [
       "%px:   0%|          | 0/48 [00:00<?, ?tasks/s]"
      ]
     },
     "metadata": {},
     "output_type": "display_data"
    },
    {
     "name": "stdout",
     "output_type": "stream",
     "text": [
      "***************************  Simulation:15/16 ==> 8/21      ***********\n",
      "                           ------- Bloc PF/OPF ---------         \n",
      "importing numpy on engine(s)\n",
      "importing pandapower on engine(s)\n",
      "importing pandas on engine(s)\n",
      "importing Par_myFunctions on engine(s)\n"
     ]
    },
    {
     "data": {
      "application/vnd.jupyter.widget-view+json": {
       "model_id": "873ff2e48f0f401abe336a1fe00d80bb",
       "version_major": 2,
       "version_minor": 0
      },
      "text/plain": [
       "%px:   0%|          | 0/48 [00:00<?, ?tasks/s]"
      ]
     },
     "metadata": {},
     "output_type": "display_data"
    },
    {
     "name": "stdout",
     "output_type": "stream",
     "text": [
      "***************************  Simulation:15/16 ==> 9/21      ***********\n",
      "                           ------- Bloc PF/OPF ---------         \n",
      "importing numpy on engine(s)\n",
      "importing pandapower on engine(s)\n",
      "importing pandas on engine(s)\n",
      "importing Par_myFunctions on engine(s)\n"
     ]
    },
    {
     "data": {
      "application/vnd.jupyter.widget-view+json": {
       "model_id": "18cd5252958d435f8c6c83921c935223",
       "version_major": 2,
       "version_minor": 0
      },
      "text/plain": [
       "%px:   0%|          | 0/48 [00:00<?, ?tasks/s]"
      ]
     },
     "metadata": {},
     "output_type": "display_data"
    },
    {
     "name": "stdout",
     "output_type": "stream",
     "text": [
      "***************************  Simulation:15/16 ==> 10/21      ***********\n",
      "                           ------- Bloc PF/OPF ---------         \n",
      "importing numpy on engine(s)\n",
      "importing pandapower on engine(s)\n",
      "importing pandas on engine(s)\n",
      "importing Par_myFunctions on engine(s)\n"
     ]
    },
    {
     "data": {
      "application/vnd.jupyter.widget-view+json": {
       "model_id": "ae4e7be2dcdb4178837c3b07c31f4d12",
       "version_major": 2,
       "version_minor": 0
      },
      "text/plain": [
       "%px:   0%|          | 0/48 [00:00<?, ?tasks/s]"
      ]
     },
     "metadata": {},
     "output_type": "display_data"
    },
    {
     "name": "stdout",
     "output_type": "stream",
     "text": [
      "***************************  Simulation:15/16 ==> 11/21      ***********\n",
      "                           ------- Bloc PF/OPF ---------         \n",
      "importing numpy on engine(s)\n",
      "importing pandapower on engine(s)\n",
      "importing pandas on engine(s)\n",
      "importing Par_myFunctions on engine(s)\n"
     ]
    },
    {
     "data": {
      "application/vnd.jupyter.widget-view+json": {
       "model_id": "75325205330e4679bd2c168ee8c9c8ca",
       "version_major": 2,
       "version_minor": 0
      },
      "text/plain": [
       "%px:   0%|          | 0/48 [00:00<?, ?tasks/s]"
      ]
     },
     "metadata": {},
     "output_type": "display_data"
    },
    {
     "name": "stdout",
     "output_type": "stream",
     "text": [
      "***************************  Simulation:15/16 ==> 12/21      ***********\n",
      "                           ------- Bloc PF/OPF ---------         \n",
      "importing numpy on engine(s)\n",
      "importing pandapower on engine(s)\n",
      "importing pandas on engine(s)\n",
      "importing Par_myFunctions on engine(s)\n"
     ]
    },
    {
     "data": {
      "application/vnd.jupyter.widget-view+json": {
       "model_id": "25a275db902d4140a4f27f4b2c387a25",
       "version_major": 2,
       "version_minor": 0
      },
      "text/plain": [
       "%px:   0%|          | 0/48 [00:00<?, ?tasks/s]"
      ]
     },
     "metadata": {},
     "output_type": "display_data"
    },
    {
     "name": "stdout",
     "output_type": "stream",
     "text": [
      "***************************  Simulation:15/16 ==> 13/21      ***********\n",
      "                           ------- Bloc PF/OPF ---------         \n",
      "importing numpy on engine(s)\n",
      "importing pandapower on engine(s)\n",
      "importing pandas on engine(s)\n",
      "importing Par_myFunctions on engine(s)\n"
     ]
    },
    {
     "data": {
      "application/vnd.jupyter.widget-view+json": {
       "model_id": "5439d950a9974cff81d61a92bcd84a8b",
       "version_major": 2,
       "version_minor": 0
      },
      "text/plain": [
       "%px:   0%|          | 0/48 [00:00<?, ?tasks/s]"
      ]
     },
     "metadata": {},
     "output_type": "display_data"
    },
    {
     "name": "stdout",
     "output_type": "stream",
     "text": [
      "***************************  Simulation:15/16 ==> 14/21      ***********\n",
      "                           ------- Bloc PF/OPF ---------         \n",
      "importing numpy on engine(s)\n",
      "importing pandapower on engine(s)\n",
      "importing pandas on engine(s)\n",
      "importing Par_myFunctions on engine(s)\n"
     ]
    },
    {
     "data": {
      "application/vnd.jupyter.widget-view+json": {
       "model_id": "c39f62e6b125471a8d8f7725deb12e9e",
       "version_major": 2,
       "version_minor": 0
      },
      "text/plain": [
       "%px:   0%|          | 0/48 [00:00<?, ?tasks/s]"
      ]
     },
     "metadata": {},
     "output_type": "display_data"
    },
    {
     "name": "stdout",
     "output_type": "stream",
     "text": [
      "***************************  Simulation:15/16 ==> 15/21      ***********\n",
      "                           ------- Bloc PF/OPF ---------         \n",
      "importing numpy on engine(s)\n",
      "importing pandapower on engine(s)\n",
      "importing pandas on engine(s)\n",
      "importing Par_myFunctions on engine(s)\n"
     ]
    },
    {
     "data": {
      "application/vnd.jupyter.widget-view+json": {
       "model_id": "9d56e1bbf5a5486cba6039fa4431bb67",
       "version_major": 2,
       "version_minor": 0
      },
      "text/plain": [
       "%px:   0%|          | 0/48 [00:00<?, ?tasks/s]"
      ]
     },
     "metadata": {},
     "output_type": "display_data"
    },
    {
     "name": "stdout",
     "output_type": "stream",
     "text": [
      "***************************  Simulation:15/16 ==> 16/21      ***********\n",
      "                           ------- Bloc PF/OPF ---------         \n",
      "importing numpy on engine(s)\n",
      "importing pandapower on engine(s)\n",
      "importing pandas on engine(s)\n",
      "importing Par_myFunctions on engine(s)\n"
     ]
    },
    {
     "data": {
      "application/vnd.jupyter.widget-view+json": {
       "model_id": "7926514ee9e3493ba6bbacf6e859e1ba",
       "version_major": 2,
       "version_minor": 0
      },
      "text/plain": [
       "%px:   0%|          | 0/48 [00:00<?, ?tasks/s]"
      ]
     },
     "metadata": {},
     "output_type": "display_data"
    },
    {
     "name": "stdout",
     "output_type": "stream",
     "text": [
      "***************************  Simulation:15/16 ==> 17/21      ***********\n",
      "                           ------- Bloc PF/OPF ---------         \n",
      "importing numpy on engine(s)\n",
      "importing pandapower on engine(s)\n",
      "importing pandas on engine(s)\n",
      "importing Par_myFunctions on engine(s)\n"
     ]
    },
    {
     "data": {
      "application/vnd.jupyter.widget-view+json": {
       "model_id": "284670aa07b0408d817bc9f9fe1043e8",
       "version_major": 2,
       "version_minor": 0
      },
      "text/plain": [
       "%px:   0%|          | 0/48 [00:00<?, ?tasks/s]"
      ]
     },
     "metadata": {},
     "output_type": "display_data"
    },
    {
     "name": "stdout",
     "output_type": "stream",
     "text": [
      "***************************  Simulation:15/16 ==> 18/21      ***********\n",
      "                           ------- Bloc PF/OPF ---------         \n",
      "importing numpy on engine(s)\n",
      "importing pandapower on engine(s)\n",
      "importing pandas on engine(s)\n",
      "importing Par_myFunctions on engine(s)\n"
     ]
    },
    {
     "data": {
      "application/vnd.jupyter.widget-view+json": {
       "model_id": "c42dc13462f94988a872ae2e5cf7ca8a",
       "version_major": 2,
       "version_minor": 0
      },
      "text/plain": [
       "%px:   0%|          | 0/48 [00:00<?, ?tasks/s]"
      ]
     },
     "metadata": {},
     "output_type": "display_data"
    },
    {
     "name": "stdout",
     "output_type": "stream",
     "text": [
      "***************************  Simulation:15/16 ==> 19/21      ***********\n",
      "                           ------- Bloc PF/OPF ---------         \n",
      "importing numpy on engine(s)\n",
      "importing pandapower on engine(s)\n",
      "importing pandas on engine(s)\n",
      "importing Par_myFunctions on engine(s)\n"
     ]
    },
    {
     "data": {
      "application/vnd.jupyter.widget-view+json": {
       "model_id": "6dea3aa94ca241d98e774b7c28360124",
       "version_major": 2,
       "version_minor": 0
      },
      "text/plain": [
       "%px:   0%|          | 0/48 [00:00<?, ?tasks/s]"
      ]
     },
     "metadata": {},
     "output_type": "display_data"
    },
    {
     "name": "stdout",
     "output_type": "stream",
     "text": [
      "***************************  Simulation:15/16 ==> 20/21      ***********\n",
      "                           ------- Bloc PF/OPF ---------         \n",
      "importing numpy on engine(s)\n",
      "importing pandapower on engine(s)\n",
      "importing pandas on engine(s)\n",
      "importing Par_myFunctions on engine(s)\n"
     ]
    },
    {
     "data": {
      "application/vnd.jupyter.widget-view+json": {
       "model_id": "aad711b37b0f445a8ba1c13fa30f1e3c",
       "version_major": 2,
       "version_minor": 0
      },
      "text/plain": [
       "%px:   0%|          | 0/48 [00:00<?, ?tasks/s]"
      ]
     },
     "metadata": {},
     "output_type": "display_data"
    },
    {
     "name": "stdout",
     "output_type": "stream",
     "text": [
      "***************************  Simulation:15/16 ==> 21/21      ***********\n",
      "                           ------- Bloc PF/OPF ---------         \n",
      "importing numpy on engine(s)\n",
      "importing pandapower on engine(s)\n",
      "importing pandas on engine(s)\n",
      "importing Par_myFunctions on engine(s)\n"
     ]
    },
    {
     "data": {
      "application/vnd.jupyter.widget-view+json": {
       "model_id": "894dc8704ed54067ab4ccd08122e5d84",
       "version_major": 2,
       "version_minor": 0
      },
      "text/plain": [
       "%px:   0%|          | 0/48 [00:00<?, ?tasks/s]"
      ]
     },
     "metadata": {},
     "output_type": "display_data"
    },
    {
     "name": "stdout",
     "output_type": "stream",
     "text": [
      "***************************  Simulation:16/16 ==> 1/21      ***********\n",
      "                           ------- Bloc PF/OPF ---------         \n",
      "importing numpy on engine(s)\n",
      "importing pandapower on engine(s)\n",
      "importing pandas on engine(s)\n",
      "importing Par_myFunctions on engine(s)\n"
     ]
    },
    {
     "data": {
      "application/vnd.jupyter.widget-view+json": {
       "model_id": "c787b3e0d6aa46c0a69ae7fee9f6ae63",
       "version_major": 2,
       "version_minor": 0
      },
      "text/plain": [
       "%px:   0%|          | 0/48 [00:00<?, ?tasks/s]"
      ]
     },
     "metadata": {},
     "output_type": "display_data"
    },
    {
     "name": "stdout",
     "output_type": "stream",
     "text": [
      "***************************  Simulation:16/16 ==> 2/21      ***********\n",
      "                           ------- Bloc PF/OPF ---------         \n",
      "importing numpy on engine(s)\n",
      "importing pandapower on engine(s)\n",
      "importing pandas on engine(s)\n",
      "importing Par_myFunctions on engine(s)\n"
     ]
    },
    {
     "data": {
      "application/vnd.jupyter.widget-view+json": {
       "model_id": "5e6e2ee077b84fce8398bc13bb4f4901",
       "version_major": 2,
       "version_minor": 0
      },
      "text/plain": [
       "%px:   0%|          | 0/48 [00:00<?, ?tasks/s]"
      ]
     },
     "metadata": {},
     "output_type": "display_data"
    },
    {
     "name": "stdout",
     "output_type": "stream",
     "text": [
      "***************************  Simulation:16/16 ==> 3/21      ***********\n",
      "                           ------- Bloc PF/OPF ---------         \n",
      "importing numpy on engine(s)\n",
      "importing pandapower on engine(s)\n",
      "importing pandas on engine(s)\n",
      "importing Par_myFunctions on engine(s)\n"
     ]
    },
    {
     "data": {
      "application/vnd.jupyter.widget-view+json": {
       "model_id": "5b8b04cf71e14237969d33dfdfc80d9b",
       "version_major": 2,
       "version_minor": 0
      },
      "text/plain": [
       "%px:   0%|          | 0/48 [00:00<?, ?tasks/s]"
      ]
     },
     "metadata": {},
     "output_type": "display_data"
    },
    {
     "name": "stdout",
     "output_type": "stream",
     "text": [
      "***************************  Simulation:16/16 ==> 4/21      ***********\n",
      "                           ------- Bloc PF/OPF ---------         \n",
      "importing numpy on engine(s)\n",
      "importing pandapower on engine(s)\n",
      "importing pandas on engine(s)\n",
      "importing Par_myFunctions on engine(s)\n"
     ]
    },
    {
     "data": {
      "application/vnd.jupyter.widget-view+json": {
       "model_id": "aa46804683b94b4cb4d35ea62069bcda",
       "version_major": 2,
       "version_minor": 0
      },
      "text/plain": [
       "%px:   0%|          | 0/48 [00:00<?, ?tasks/s]"
      ]
     },
     "metadata": {},
     "output_type": "display_data"
    },
    {
     "name": "stdout",
     "output_type": "stream",
     "text": [
      "***************************  Simulation:16/16 ==> 5/21      ***********\n",
      "                           ------- Bloc PF/OPF ---------         \n",
      "importing numpy on engine(s)\n",
      "importing pandapower on engine(s)\n",
      "importing pandas on engine(s)\n",
      "importing Par_myFunctions on engine(s)\n"
     ]
    },
    {
     "data": {
      "application/vnd.jupyter.widget-view+json": {
       "model_id": "85d5724d8c0d4fd19df60d954d84f8cb",
       "version_major": 2,
       "version_minor": 0
      },
      "text/plain": [
       "%px:   0%|          | 0/48 [00:00<?, ?tasks/s]"
      ]
     },
     "metadata": {},
     "output_type": "display_data"
    },
    {
     "name": "stdout",
     "output_type": "stream",
     "text": [
      "***************************  Simulation:16/16 ==> 6/21      ***********\n",
      "                           ------- Bloc PF/OPF ---------         \n",
      "importing numpy on engine(s)\n",
      "importing pandapower on engine(s)\n",
      "importing pandas on engine(s)\n",
      "importing Par_myFunctions on engine(s)\n"
     ]
    },
    {
     "data": {
      "application/vnd.jupyter.widget-view+json": {
       "model_id": "25946d5fbe6b4a31ad001ecf7a267e45",
       "version_major": 2,
       "version_minor": 0
      },
      "text/plain": [
       "%px:   0%|          | 0/48 [00:00<?, ?tasks/s]"
      ]
     },
     "metadata": {},
     "output_type": "display_data"
    },
    {
     "name": "stdout",
     "output_type": "stream",
     "text": [
      "***************************  Simulation:16/16 ==> 7/21      ***********\n",
      "                           ------- Bloc PF/OPF ---------         \n",
      "importing numpy on engine(s)\n",
      "importing pandapower on engine(s)\n",
      "importing pandas on engine(s)\n",
      "importing Par_myFunctions on engine(s)\n"
     ]
    },
    {
     "data": {
      "application/vnd.jupyter.widget-view+json": {
       "model_id": "5a924e3f97ac4115b03e2000048aeac5",
       "version_major": 2,
       "version_minor": 0
      },
      "text/plain": [
       "%px:   0%|          | 0/48 [00:00<?, ?tasks/s]"
      ]
     },
     "metadata": {},
     "output_type": "display_data"
    },
    {
     "name": "stdout",
     "output_type": "stream",
     "text": [
      "***************************  Simulation:16/16 ==> 8/21      ***********\n",
      "                           ------- Bloc PF/OPF ---------         \n",
      "importing numpy on engine(s)\n",
      "importing pandapower on engine(s)\n",
      "importing pandas on engine(s)\n",
      "importing Par_myFunctions on engine(s)\n"
     ]
    },
    {
     "data": {
      "application/vnd.jupyter.widget-view+json": {
       "model_id": "c809148344ff4fe4b99806f18d8bdc6f",
       "version_major": 2,
       "version_minor": 0
      },
      "text/plain": [
       "%px:   0%|          | 0/48 [00:00<?, ?tasks/s]"
      ]
     },
     "metadata": {},
     "output_type": "display_data"
    },
    {
     "name": "stdout",
     "output_type": "stream",
     "text": [
      "***************************  Simulation:16/16 ==> 9/21      ***********\n",
      "                           ------- Bloc PF/OPF ---------         \n",
      "importing numpy on engine(s)\n",
      "importing pandapower on engine(s)\n",
      "importing pandas on engine(s)\n",
      "importing Par_myFunctions on engine(s)\n"
     ]
    },
    {
     "data": {
      "application/vnd.jupyter.widget-view+json": {
       "model_id": "faa69bb7d4214a8aba79c5302bb5091c",
       "version_major": 2,
       "version_minor": 0
      },
      "text/plain": [
       "%px:   0%|          | 0/48 [00:00<?, ?tasks/s]"
      ]
     },
     "metadata": {},
     "output_type": "display_data"
    },
    {
     "name": "stdout",
     "output_type": "stream",
     "text": [
      "***************************  Simulation:16/16 ==> 10/21      ***********\n",
      "                           ------- Bloc PF/OPF ---------         \n",
      "importing numpy on engine(s)\n",
      "importing pandapower on engine(s)\n",
      "importing pandas on engine(s)\n",
      "importing Par_myFunctions on engine(s)\n"
     ]
    },
    {
     "data": {
      "application/vnd.jupyter.widget-view+json": {
       "model_id": "98ecca85a5ad43408135d15edd7f09f0",
       "version_major": 2,
       "version_minor": 0
      },
      "text/plain": [
       "%px:   0%|          | 0/48 [00:00<?, ?tasks/s]"
      ]
     },
     "metadata": {},
     "output_type": "display_data"
    },
    {
     "name": "stdout",
     "output_type": "stream",
     "text": [
      "***************************  Simulation:16/16 ==> 11/21      ***********\n",
      "                           ------- Bloc PF/OPF ---------         \n",
      "importing numpy on engine(s)\n",
      "importing pandapower on engine(s)\n",
      "importing pandas on engine(s)\n",
      "importing Par_myFunctions on engine(s)\n"
     ]
    },
    {
     "data": {
      "application/vnd.jupyter.widget-view+json": {
       "model_id": "f502b4220b614bbc852090395b3ad114",
       "version_major": 2,
       "version_minor": 0
      },
      "text/plain": [
       "%px:   0%|          | 0/48 [00:00<?, ?tasks/s]"
      ]
     },
     "metadata": {},
     "output_type": "display_data"
    },
    {
     "name": "stdout",
     "output_type": "stream",
     "text": [
      "***************************  Simulation:16/16 ==> 12/21      ***********\n",
      "                           ------- Bloc PF/OPF ---------         \n",
      "importing numpy on engine(s)\n",
      "importing pandapower on engine(s)\n",
      "importing pandas on engine(s)\n",
      "importing Par_myFunctions on engine(s)\n"
     ]
    },
    {
     "data": {
      "application/vnd.jupyter.widget-view+json": {
       "model_id": "6e20e084fbf04d10876c4c3a57f1c364",
       "version_major": 2,
       "version_minor": 0
      },
      "text/plain": [
       "%px:   0%|          | 0/48 [00:00<?, ?tasks/s]"
      ]
     },
     "metadata": {},
     "output_type": "display_data"
    },
    {
     "name": "stdout",
     "output_type": "stream",
     "text": [
      "***************************  Simulation:16/16 ==> 13/21      ***********\n",
      "                           ------- Bloc PF/OPF ---------         \n",
      "importing numpy on engine(s)\n",
      "importing pandapower on engine(s)\n",
      "importing pandas on engine(s)\n",
      "importing Par_myFunctions on engine(s)\n"
     ]
    },
    {
     "data": {
      "application/vnd.jupyter.widget-view+json": {
       "model_id": "b57fe7f24bab48eeba835bb1ef586840",
       "version_major": 2,
       "version_minor": 0
      },
      "text/plain": [
       "%px:   0%|          | 0/48 [00:00<?, ?tasks/s]"
      ]
     },
     "metadata": {},
     "output_type": "display_data"
    },
    {
     "name": "stdout",
     "output_type": "stream",
     "text": [
      "***************************  Simulation:16/16 ==> 14/21      ***********\n",
      "                           ------- Bloc PF/OPF ---------         \n",
      "importing numpy on engine(s)\n",
      "importing pandapower on engine(s)\n",
      "importing pandas on engine(s)\n",
      "importing Par_myFunctions on engine(s)\n"
     ]
    },
    {
     "data": {
      "application/vnd.jupyter.widget-view+json": {
       "model_id": "b32ce758a69842fd9e74351d21d0ae5c",
       "version_major": 2,
       "version_minor": 0
      },
      "text/plain": [
       "%px:   0%|          | 0/48 [00:00<?, ?tasks/s]"
      ]
     },
     "metadata": {},
     "output_type": "display_data"
    },
    {
     "name": "stdout",
     "output_type": "stream",
     "text": [
      "***************************  Simulation:16/16 ==> 15/21      ***********\n",
      "                           ------- Bloc PF/OPF ---------         \n",
      "importing numpy on engine(s)\n",
      "importing pandapower on engine(s)\n",
      "importing pandas on engine(s)\n",
      "importing Par_myFunctions on engine(s)\n"
     ]
    },
    {
     "data": {
      "application/vnd.jupyter.widget-view+json": {
       "model_id": "7b235566b52c490d977e056cf5bc8552",
       "version_major": 2,
       "version_minor": 0
      },
      "text/plain": [
       "%px:   0%|          | 0/48 [00:00<?, ?tasks/s]"
      ]
     },
     "metadata": {},
     "output_type": "display_data"
    },
    {
     "name": "stdout",
     "output_type": "stream",
     "text": [
      "***************************  Simulation:16/16 ==> 16/21      ***********\n",
      "                           ------- Bloc PF/OPF ---------         \n",
      "importing numpy on engine(s)\n",
      "importing pandapower on engine(s)\n",
      "importing pandas on engine(s)\n",
      "importing Par_myFunctions on engine(s)\n"
     ]
    },
    {
     "data": {
      "application/vnd.jupyter.widget-view+json": {
       "model_id": "ca906a95946f4b92b44a525cdff27d41",
       "version_major": 2,
       "version_minor": 0
      },
      "text/plain": [
       "%px:   0%|          | 0/48 [00:00<?, ?tasks/s]"
      ]
     },
     "metadata": {},
     "output_type": "display_data"
    },
    {
     "name": "stdout",
     "output_type": "stream",
     "text": [
      "***************************  Simulation:16/16 ==> 17/21      ***********\n",
      "                           ------- Bloc PF/OPF ---------         \n",
      "importing numpy on engine(s)\n",
      "importing pandapower on engine(s)\n",
      "importing pandas on engine(s)\n",
      "importing Par_myFunctions on engine(s)\n"
     ]
    },
    {
     "data": {
      "application/vnd.jupyter.widget-view+json": {
       "model_id": "d2300528855e48c58d3ff5cafbe17ca5",
       "version_major": 2,
       "version_minor": 0
      },
      "text/plain": [
       "%px:   0%|          | 0/48 [00:00<?, ?tasks/s]"
      ]
     },
     "metadata": {},
     "output_type": "display_data"
    },
    {
     "name": "stdout",
     "output_type": "stream",
     "text": [
      "***************************  Simulation:16/16 ==> 18/21      ***********\n",
      "                           ------- Bloc PF/OPF ---------         \n",
      "importing numpy on engine(s)\n",
      "importing pandapower on engine(s)\n",
      "importing pandas on engine(s)\n",
      "importing Par_myFunctions on engine(s)\n"
     ]
    },
    {
     "data": {
      "application/vnd.jupyter.widget-view+json": {
       "model_id": "b8b33086ec2a47458133175a59f9accf",
       "version_major": 2,
       "version_minor": 0
      },
      "text/plain": [
       "%px:   0%|          | 0/48 [00:00<?, ?tasks/s]"
      ]
     },
     "metadata": {},
     "output_type": "display_data"
    },
    {
     "name": "stdout",
     "output_type": "stream",
     "text": [
      "***************************  Simulation:16/16 ==> 19/21      ***********\n",
      "                           ------- Bloc PF/OPF ---------         \n",
      "importing numpy on engine(s)\n",
      "importing pandapower on engine(s)\n",
      "importing pandas on engine(s)\n",
      "importing Par_myFunctions on engine(s)\n"
     ]
    },
    {
     "data": {
      "application/vnd.jupyter.widget-view+json": {
       "model_id": "e5a1fadacaad4281ad0bd53e15bd4f96",
       "version_major": 2,
       "version_minor": 0
      },
      "text/plain": [
       "%px:   0%|          | 0/48 [00:00<?, ?tasks/s]"
      ]
     },
     "metadata": {},
     "output_type": "display_data"
    },
    {
     "name": "stdout",
     "output_type": "stream",
     "text": [
      "***************************  Simulation:16/16 ==> 20/21      ***********\n",
      "                           ------- Bloc PF/OPF ---------         \n",
      "importing numpy on engine(s)\n",
      "importing pandapower on engine(s)\n",
      "importing pandas on engine(s)\n",
      "importing Par_myFunctions on engine(s)\n"
     ]
    },
    {
     "data": {
      "application/vnd.jupyter.widget-view+json": {
       "model_id": "0b033f557cf844a4903f43b50d97ca0e",
       "version_major": 2,
       "version_minor": 0
      },
      "text/plain": [
       "%px:   0%|          | 0/48 [00:00<?, ?tasks/s]"
      ]
     },
     "metadata": {},
     "output_type": "display_data"
    },
    {
     "name": "stdout",
     "output_type": "stream",
     "text": [
      "***************************  Simulation:16/16 ==> 21/21      ***********\n",
      "                           ------- Bloc PF/OPF ---------         \n",
      "importing numpy on engine(s)\n",
      "importing pandapower on engine(s)\n",
      "importing pandas on engine(s)\n",
      "importing Par_myFunctions on engine(s)\n"
     ]
    },
    {
     "data": {
      "application/vnd.jupyter.widget-view+json": {
       "model_id": "9f3e45b5d604445d8e36a2d42d2f6324",
       "version_major": 2,
       "version_minor": 0
      },
      "text/plain": [
       "%px:   0%|          | 0/48 [00:00<?, ?tasks/s]"
      ]
     },
     "metadata": {},
     "output_type": "display_data"
    }
   ],
   "source": [
    "ctrld_hvProd_df = df_final_copy[[ctrld_hvProdName]]\n",
    "n_start, n_end = 0, -1\n",
    "\n",
    "for bt_elm_index, coef_add_bt in enumerate(bt_add_range[n_start:]):\n",
    "    # Set Network\n",
    "    networks = oriFc.setNetwork_params(upperNet_file, lowerNet_file, ctrld_hvProdName,\n",
    "                                       (coef_add_bt, coef_add_bt_dist), \n",
    "                                       (vm_mu_max, vm_mu_min))\n",
    "    \n",
    "    # Create dictionnary that will be sent to the parallel engines\n",
    "    lowerNet_hv_activated_bus = networks.get_lowerNet_hvActivatedBuses(networks.get_lowerNet_hv_bus_df().index)\n",
    "    parameters_dict = dict({'lowerNet':networks.get_lowerNet(), \n",
    "                            'lowerNet_hv_activated_bus':lowerNet_hv_activated_bus, \n",
    "                            'uppNet_sum_max_lvProdLoad':networks.get_upperNet_sum_max_lvProdLoad(), \n",
    "                            'vm_mu_max':vm_mu_max,\n",
    "                           })\n",
    "\n",
    "    sim_res_Dict = {}  # Dictionnary to save variables\n",
    "    bt_elm_index = bt_elm_index+n_start\n",
    "\n",
    "    for mr_index in range(len(ctrld_hvProd_max_range)):\n",
    "        ctrld_hvUpscaling_coef = ctrld_hvProd_max_range[mr_index]  # Define Higher voltage upsacaling coeff\n",
    "\n",
    "        # Create dictionnary of main variable i.e. Prod BT, HT, Cons to used in parallel engines \n",
    "        dict_df_sgenLoad = oriFc.createDict_prodHtBt_Load(df_final,\n",
    "                                                          networks, \n",
    "                                                          ctrld_hvUpscaling_coef,\n",
    "                                                          ctrld_hvProd_max\n",
    "                                                         )\n",
    "\n",
    "        print(f'***************************  Simulation:{bt_elm_index+1}/{len(bt_add_range) } ==> {mr_index+1}/{len(ctrld_hvProd_max_range)}      ***********')\n",
    "        print(\"                           ------- Bloc PF/OPF ---------         \")\n",
    "        ##          ---------------------------  BLOCK PF/OPF  ------------------------         ##\n",
    "        # Initialize the parallel engine parameters i.e. send varible into each local space\n",
    "        opf_status = 'Both'\n",
    "        parEngines.sendVar_to_localSpace(df_prodHT.index, opf_status, dict_df_sgenLoad, parameters_dict, 0 )\n",
    "\n",
    "        # cALL Block pf/op\n",
    "        pf_opf_block_result = block_pf_Opf(parEngines)    \n",
    "\n",
    "        \n",
    "        # Get maximum voltage over the network \n",
    "        max_vm_pu_df_known = pf_opf_block_result[['max_vm_pu']]\n",
    "        max_vm_pu_df_known.rename(columns={'max_vm_pu':'Fut_Known'}, inplace=True)\n",
    "        max_vm_pu_pf_df = pf_opf_block_result[['max_vm_pu_pf']] \n",
    "        \n",
    "\n",
    "        #####   Saving Results \n",
    "        mask = per_index2[day_tot_per-1:]\n",
    "        P0100_known_df = pd.DataFrame(data=pf_opf_block_result.loc[mask][ctrd_hvProdName].values, \n",
    "                                     index=pf_opf_block_result.loc[mask].index, \n",
    "                                     columns=['Fut_Known Sim'+str(mr_index+1)] )\n",
    "        \n",
    "        \n",
    "        ctrld_hvProd_concat_df = pd.concat([ctrld_hvProd_max_range[mr_index]*ctrld_hvProd_df.loc[mask]/ctrld_hvProd_max,\n",
    "                                     P0100_known_df], axis=1)\n",
    "        # Rename\n",
    "        ctrld_hvProd_concat_df.rename(columns=({ctrld_hvProdName:'No_Control'}), inplace=True);\n",
    "\n",
    "\n",
    "        int_sim_res = {'maxV_rise_df':max_vm_pu_df_known,              # Intermediate results\n",
    "                       'Power Sgen': ctrld_hvProd_concat_df}   \n",
    "        \n",
    "        sim_res_Dict.update([ (simNames[bt_elm_index, mr_index], int_sim_res) ])   # Final results\n",
    "        \n",
    "    file_name= 'Fut_Known_btRangeIndex_' +str(bt_elm_index)+ '.plk'\n",
    "    folder_name = 'pickle_files/simulationResults/SensAnalysis/FutureKnown2/'\n",
    "    joblib.dump(sim_res_Dict,folder_name+file_name)"
   ]
  },
  {
   "cell_type": "markdown",
   "id": "41a908e5-7e68-4fd0-bb4a-69343f586da6",
   "metadata": {},
   "source": [
    "---"
   ]
  },
  {
   "cell_type": "markdown",
   "id": "1f7f0928-f289-4b43-8c2d-a58fafd37138",
   "metadata": {
    "tags": []
   },
   "source": [
    "#### USING ROBUST RNN "
   ]
  },
  {
   "cell_type": "markdown",
   "id": "7b54e33b-3b86-4342-9f1c-556425001896",
   "metadata": {},
   "source": [
    "##### Load prediction file"
   ]
  },
  {
   "cell_type": "code",
   "execution_count": 22,
   "id": "cbf2e722-789c-402b-8c74-410cfd583eb8",
   "metadata": {},
   "outputs": [],
   "source": [
    "rnnPred_df = joblib.load('pickle_files/simulationResults/RNN_pred.pkl')\n",
    "\n",
    "# Rename the collumn of the saved df before sending to  simulation\n",
    "rnnPred_df.columns = df_final.columns"
   ]
  },
  {
   "cell_type": "code",
   "execution_count": 14,
   "id": "6856b696-b5d1-4a9f-912a-42e854d67d38",
   "metadata": {
    "scrolled": true,
    "tags": []
   },
   "outputs": [
    {
     "name": "stdout",
     "output_type": "stream",
     "text": [
      "***************************  Simulation:21/21 ==> 1/21      ***********\n",
      "                           ------- Bloc PF/OPF ---------         \n",
      "importing numpy on engine(s)\n",
      "importing pandapower on engine(s)\n",
      "importing pandas on engine(s)\n",
      "importing Par_myFunctions on engine(s)\n"
     ]
    },
    {
     "data": {
      "application/vnd.jupyter.widget-view+json": {
       "model_id": "c76255401700419fadb10fd2bc4a5da2",
       "version_major": 2,
       "version_minor": 0
      },
      "text/plain": [
       "%px:   0%|          | 0/7 [00:00<?, ?tasks/s]"
      ]
     },
     "metadata": {},
     "output_type": "display_data"
    },
    {
     "name": "stdout",
     "output_type": "stream",
     "text": [
      "                            ------- Bloc PF/OPF ---------         \n"
     ]
    },
    {
     "data": {
      "application/vnd.jupyter.widget-view+json": {
       "model_id": "663e2584fe694923953fce02c8809488",
       "version_major": 2,
       "version_minor": 0
      },
      "text/plain": [
       "%px:   0%|          | 0/7 [00:00<?, ?tasks/s]"
      ]
     },
     "metadata": {},
     "output_type": "display_data"
    },
    {
     "name": "stdout",
     "output_type": "stream",
     "text": [
      "***************************  Simulation:21/21 ==> 2/21      ***********\n",
      "                           ------- Bloc PF/OPF ---------         \n",
      "importing numpy on engine(s)\n",
      "importing pandapower on engine(s)\n",
      "importing pandas on engine(s)\n",
      "importing Par_myFunctions on engine(s)\n"
     ]
    },
    {
     "data": {
      "application/vnd.jupyter.widget-view+json": {
       "model_id": "f275b902e3704ad7bec3da66a6192b71",
       "version_major": 2,
       "version_minor": 0
      },
      "text/plain": [
       "%px:   0%|          | 0/7 [00:00<?, ?tasks/s]"
      ]
     },
     "metadata": {},
     "output_type": "display_data"
    },
    {
     "name": "stdout",
     "output_type": "stream",
     "text": [
      "                            ------- Bloc PF/OPF ---------         \n"
     ]
    },
    {
     "data": {
      "application/vnd.jupyter.widget-view+json": {
       "model_id": "dee9334cea5e4a9c85d34d9307565514",
       "version_major": 2,
       "version_minor": 0
      },
      "text/plain": [
       "%px:   0%|          | 0/7 [00:00<?, ?tasks/s]"
      ]
     },
     "metadata": {},
     "output_type": "display_data"
    },
    {
     "name": "stdout",
     "output_type": "stream",
     "text": [
      "***************************  Simulation:21/21 ==> 3/21      ***********\n",
      "                           ------- Bloc PF/OPF ---------         \n",
      "importing numpy on engine(s)\n",
      "importing pandapower on engine(s)\n",
      "importing pandas on engine(s)\n",
      "importing Par_myFunctions on engine(s)\n"
     ]
    },
    {
     "data": {
      "application/vnd.jupyter.widget-view+json": {
       "model_id": "734ddac65b6b46ffbdfb4b9b0fb8723a",
       "version_major": 2,
       "version_minor": 0
      },
      "text/plain": [
       "%px:   0%|          | 0/7 [00:00<?, ?tasks/s]"
      ]
     },
     "metadata": {},
     "output_type": "display_data"
    },
    {
     "name": "stdout",
     "output_type": "stream",
     "text": [
      "                            ------- Bloc PF/OPF ---------         \n"
     ]
    },
    {
     "data": {
      "application/vnd.jupyter.widget-view+json": {
       "model_id": "6878d9f12325470b9b28a363ed4373ce",
       "version_major": 2,
       "version_minor": 0
      },
      "text/plain": [
       "%px:   0%|          | 0/7 [00:00<?, ?tasks/s]"
      ]
     },
     "metadata": {},
     "output_type": "display_data"
    },
    {
     "name": "stdout",
     "output_type": "stream",
     "text": [
      "***************************  Simulation:21/21 ==> 4/21      ***********\n",
      "                           ------- Bloc PF/OPF ---------         \n",
      "importing numpy on engine(s)\n",
      "importing pandapower on engine(s)\n",
      "importing pandas on engine(s)\n",
      "importing Par_myFunctions on engine(s)\n"
     ]
    },
    {
     "data": {
      "application/vnd.jupyter.widget-view+json": {
       "model_id": "dfe9f9d97c0b4da88ab4f207f6df3a9c",
       "version_major": 2,
       "version_minor": 0
      },
      "text/plain": [
       "%px:   0%|          | 0/7 [00:00<?, ?tasks/s]"
      ]
     },
     "metadata": {},
     "output_type": "display_data"
    },
    {
     "name": "stdout",
     "output_type": "stream",
     "text": [
      "                            ------- Bloc PF/OPF ---------         \n"
     ]
    },
    {
     "data": {
      "application/vnd.jupyter.widget-view+json": {
       "model_id": "a41f13438d9a4c54b7c5ad38013b7d54",
       "version_major": 2,
       "version_minor": 0
      },
      "text/plain": [
       "%px:   0%|          | 0/7 [00:00<?, ?tasks/s]"
      ]
     },
     "metadata": {},
     "output_type": "display_data"
    },
    {
     "name": "stdout",
     "output_type": "stream",
     "text": [
      "***************************  Simulation:21/21 ==> 5/21      ***********\n",
      "                           ------- Bloc PF/OPF ---------         \n",
      "importing numpy on engine(s)\n",
      "importing pandapower on engine(s)\n",
      "importing pandas on engine(s)\n",
      "importing Par_myFunctions on engine(s)\n"
     ]
    },
    {
     "data": {
      "application/vnd.jupyter.widget-view+json": {
       "model_id": "e45f6d5e8622423b835d344a41981f24",
       "version_major": 2,
       "version_minor": 0
      },
      "text/plain": [
       "%px:   0%|          | 0/7 [00:00<?, ?tasks/s]"
      ]
     },
     "metadata": {},
     "output_type": "display_data"
    },
    {
     "name": "stdout",
     "output_type": "stream",
     "text": [
      "                            ------- Bloc PF/OPF ---------         \n"
     ]
    },
    {
     "data": {
      "application/vnd.jupyter.widget-view+json": {
       "model_id": "8c92a09b1674415c92ff17e7ee4ae0ae",
       "version_major": 2,
       "version_minor": 0
      },
      "text/plain": [
       "%px:   0%|          | 0/7 [00:00<?, ?tasks/s]"
      ]
     },
     "metadata": {},
     "output_type": "display_data"
    },
    {
     "name": "stdout",
     "output_type": "stream",
     "text": [
      "***************************  Simulation:21/21 ==> 6/21      ***********\n",
      "                           ------- Bloc PF/OPF ---------         \n",
      "importing numpy on engine(s)\n",
      "importing pandapower on engine(s)\n",
      "importing pandas on engine(s)\n",
      "importing Par_myFunctions on engine(s)\n"
     ]
    },
    {
     "data": {
      "application/vnd.jupyter.widget-view+json": {
       "model_id": "b9b23afb9ee9461ba13cdb61f9194f28",
       "version_major": 2,
       "version_minor": 0
      },
      "text/plain": [
       "%px:   0%|          | 0/7 [00:00<?, ?tasks/s]"
      ]
     },
     "metadata": {},
     "output_type": "display_data"
    },
    {
     "name": "stdout",
     "output_type": "stream",
     "text": [
      "                            ------- Bloc PF/OPF ---------         \n"
     ]
    },
    {
     "data": {
      "application/vnd.jupyter.widget-view+json": {
       "model_id": "3dca3a7d42d3440098845661736c589b",
       "version_major": 2,
       "version_minor": 0
      },
      "text/plain": [
       "%px:   0%|          | 0/7 [00:00<?, ?tasks/s]"
      ]
     },
     "metadata": {},
     "output_type": "display_data"
    },
    {
     "name": "stdout",
     "output_type": "stream",
     "text": [
      "***************************  Simulation:21/21 ==> 7/21      ***********\n",
      "                           ------- Bloc PF/OPF ---------         \n",
      "importing numpy on engine(s)\n",
      "importing pandapower on engine(s)\n",
      "importing pandas on engine(s)\n",
      "importing Par_myFunctions on engine(s)\n"
     ]
    },
    {
     "data": {
      "application/vnd.jupyter.widget-view+json": {
       "model_id": "b0593071ef614ff697542e8c37e47d7d",
       "version_major": 2,
       "version_minor": 0
      },
      "text/plain": [
       "%px:   0%|          | 0/7 [00:00<?, ?tasks/s]"
      ]
     },
     "metadata": {},
     "output_type": "display_data"
    },
    {
     "name": "stdout",
     "output_type": "stream",
     "text": [
      "                            ------- Bloc PF/OPF ---------         \n"
     ]
    },
    {
     "data": {
      "application/vnd.jupyter.widget-view+json": {
       "model_id": "96b14867b8e7496e9cf8012b169ccafe",
       "version_major": 2,
       "version_minor": 0
      },
      "text/plain": [
       "%px:   0%|          | 0/7 [00:00<?, ?tasks/s]"
      ]
     },
     "metadata": {},
     "output_type": "display_data"
    },
    {
     "name": "stdout",
     "output_type": "stream",
     "text": [
      "***************************  Simulation:21/21 ==> 8/21      ***********\n",
      "                           ------- Bloc PF/OPF ---------         \n",
      "importing numpy on engine(s)\n",
      "importing pandapower on engine(s)\n",
      "importing pandas on engine(s)\n",
      "importing Par_myFunctions on engine(s)\n"
     ]
    },
    {
     "data": {
      "application/vnd.jupyter.widget-view+json": {
       "model_id": "9bd91404211f4503852ed9bd0a0862d7",
       "version_major": 2,
       "version_minor": 0
      },
      "text/plain": [
       "%px:   0%|          | 0/7 [00:00<?, ?tasks/s]"
      ]
     },
     "metadata": {},
     "output_type": "display_data"
    },
    {
     "name": "stdout",
     "output_type": "stream",
     "text": [
      "                            ------- Bloc PF/OPF ---------         \n"
     ]
    },
    {
     "data": {
      "application/vnd.jupyter.widget-view+json": {
       "model_id": "e619d0d2797e4cfcb32bec3b34ab88e5",
       "version_major": 2,
       "version_minor": 0
      },
      "text/plain": [
       "%px:   0%|          | 0/7 [00:00<?, ?tasks/s]"
      ]
     },
     "metadata": {},
     "output_type": "display_data"
    },
    {
     "name": "stdout",
     "output_type": "stream",
     "text": [
      "***************************  Simulation:21/21 ==> 9/21      ***********\n",
      "                           ------- Bloc PF/OPF ---------         \n",
      "importing numpy on engine(s)\n",
      "importing pandapower on engine(s)\n",
      "importing pandas on engine(s)\n",
      "importing Par_myFunctions on engine(s)\n"
     ]
    },
    {
     "data": {
      "application/vnd.jupyter.widget-view+json": {
       "model_id": "50134fff32c3491fb6a9df17d11ff919",
       "version_major": 2,
       "version_minor": 0
      },
      "text/plain": [
       "%px:   0%|          | 0/7 [00:00<?, ?tasks/s]"
      ]
     },
     "metadata": {},
     "output_type": "display_data"
    },
    {
     "name": "stdout",
     "output_type": "stream",
     "text": [
      "                            ------- Bloc PF/OPF ---------         \n"
     ]
    },
    {
     "data": {
      "application/vnd.jupyter.widget-view+json": {
       "model_id": "707562c50511475598b3c05bba814212",
       "version_major": 2,
       "version_minor": 0
      },
      "text/plain": [
       "%px:   0%|          | 0/7 [00:00<?, ?tasks/s]"
      ]
     },
     "metadata": {},
     "output_type": "display_data"
    },
    {
     "name": "stdout",
     "output_type": "stream",
     "text": [
      "***************************  Simulation:21/21 ==> 10/21      ***********\n",
      "                           ------- Bloc PF/OPF ---------         \n",
      "importing numpy on engine(s)\n",
      "importing pandapower on engine(s)\n",
      "importing pandas on engine(s)\n",
      "importing Par_myFunctions on engine(s)\n"
     ]
    },
    {
     "data": {
      "application/vnd.jupyter.widget-view+json": {
       "model_id": "0a915c4602c545839f9547895ca43d48",
       "version_major": 2,
       "version_minor": 0
      },
      "text/plain": [
       "%px:   0%|          | 0/7 [00:00<?, ?tasks/s]"
      ]
     },
     "metadata": {},
     "output_type": "display_data"
    },
    {
     "name": "stdout",
     "output_type": "stream",
     "text": [
      "                            ------- Bloc PF/OPF ---------         \n"
     ]
    },
    {
     "data": {
      "application/vnd.jupyter.widget-view+json": {
       "model_id": "61fbaa0e6b4a4a85b2fe3469831152ee",
       "version_major": 2,
       "version_minor": 0
      },
      "text/plain": [
       "%px:   0%|          | 0/7 [00:00<?, ?tasks/s]"
      ]
     },
     "metadata": {},
     "output_type": "display_data"
    },
    {
     "name": "stdout",
     "output_type": "stream",
     "text": [
      "***************************  Simulation:21/21 ==> 11/21      ***********\n",
      "                           ------- Bloc PF/OPF ---------         \n",
      "importing numpy on engine(s)\n",
      "importing pandapower on engine(s)\n",
      "importing pandas on engine(s)\n",
      "importing Par_myFunctions on engine(s)\n"
     ]
    },
    {
     "data": {
      "application/vnd.jupyter.widget-view+json": {
       "model_id": "7e701c2d32b74c04940561fcf1991dab",
       "version_major": 2,
       "version_minor": 0
      },
      "text/plain": [
       "%px:   0%|          | 0/7 [00:00<?, ?tasks/s]"
      ]
     },
     "metadata": {},
     "output_type": "display_data"
    },
    {
     "name": "stdout",
     "output_type": "stream",
     "text": [
      "                            ------- Bloc PF/OPF ---------         \n"
     ]
    },
    {
     "data": {
      "application/vnd.jupyter.widget-view+json": {
       "model_id": "be61da24b6294467a55e9b4589231e40",
       "version_major": 2,
       "version_minor": 0
      },
      "text/plain": [
       "%px:   0%|          | 0/7 [00:00<?, ?tasks/s]"
      ]
     },
     "metadata": {},
     "output_type": "display_data"
    },
    {
     "name": "stdout",
     "output_type": "stream",
     "text": [
      "***************************  Simulation:21/21 ==> 12/21      ***********\n",
      "                           ------- Bloc PF/OPF ---------         \n",
      "importing numpy on engine(s)\n",
      "importing pandapower on engine(s)\n",
      "importing pandas on engine(s)\n",
      "importing Par_myFunctions on engine(s)\n"
     ]
    },
    {
     "data": {
      "application/vnd.jupyter.widget-view+json": {
       "model_id": "5eca465dec084925a3589461189f6f28",
       "version_major": 2,
       "version_minor": 0
      },
      "text/plain": [
       "%px:   0%|          | 0/7 [00:00<?, ?tasks/s]"
      ]
     },
     "metadata": {},
     "output_type": "display_data"
    },
    {
     "name": "stdout",
     "output_type": "stream",
     "text": [
      "                            ------- Bloc PF/OPF ---------         \n"
     ]
    },
    {
     "data": {
      "application/vnd.jupyter.widget-view+json": {
       "model_id": "8f3ef1c864874d1da03910a7758a585f",
       "version_major": 2,
       "version_minor": 0
      },
      "text/plain": [
       "%px:   0%|          | 0/7 [00:00<?, ?tasks/s]"
      ]
     },
     "metadata": {},
     "output_type": "display_data"
    },
    {
     "name": "stdout",
     "output_type": "stream",
     "text": [
      "***************************  Simulation:21/21 ==> 13/21      ***********\n",
      "                           ------- Bloc PF/OPF ---------         \n",
      "importing numpy on engine(s)\n",
      "importing pandapower on engine(s)\n",
      "importing pandas on engine(s)\n",
      "importing Par_myFunctions on engine(s)\n"
     ]
    },
    {
     "data": {
      "application/vnd.jupyter.widget-view+json": {
       "model_id": "b7490dcd9364428785bcff67983207ed",
       "version_major": 2,
       "version_minor": 0
      },
      "text/plain": [
       "%px:   0%|          | 0/7 [00:00<?, ?tasks/s]"
      ]
     },
     "metadata": {},
     "output_type": "display_data"
    },
    {
     "name": "stdout",
     "output_type": "stream",
     "text": [
      "                            ------- Bloc PF/OPF ---------         \n"
     ]
    },
    {
     "data": {
      "application/vnd.jupyter.widget-view+json": {
       "model_id": "bafafc905e9f4548b977ed89dc052618",
       "version_major": 2,
       "version_minor": 0
      },
      "text/plain": [
       "%px:   0%|          | 0/7 [00:00<?, ?tasks/s]"
      ]
     },
     "metadata": {},
     "output_type": "display_data"
    },
    {
     "name": "stdout",
     "output_type": "stream",
     "text": [
      "***************************  Simulation:21/21 ==> 14/21      ***********\n",
      "                           ------- Bloc PF/OPF ---------         \n",
      "importing numpy on engine(s)\n",
      "importing pandapower on engine(s)\n",
      "importing pandas on engine(s)\n",
      "importing Par_myFunctions on engine(s)\n"
     ]
    },
    {
     "data": {
      "application/vnd.jupyter.widget-view+json": {
       "model_id": "4e3c490ca87d440f8af59ebfb07f6e92",
       "version_major": 2,
       "version_minor": 0
      },
      "text/plain": [
       "%px:   0%|          | 0/7 [00:00<?, ?tasks/s]"
      ]
     },
     "metadata": {},
     "output_type": "display_data"
    },
    {
     "name": "stdout",
     "output_type": "stream",
     "text": [
      "                            ------- Bloc PF/OPF ---------         \n"
     ]
    },
    {
     "data": {
      "application/vnd.jupyter.widget-view+json": {
       "model_id": "1ca3a9b815d44495a57d6eb50f088aef",
       "version_major": 2,
       "version_minor": 0
      },
      "text/plain": [
       "%px:   0%|          | 0/7 [00:00<?, ?tasks/s]"
      ]
     },
     "metadata": {},
     "output_type": "display_data"
    },
    {
     "name": "stdout",
     "output_type": "stream",
     "text": [
      "***************************  Simulation:21/21 ==> 15/21      ***********\n",
      "                           ------- Bloc PF/OPF ---------         \n",
      "importing numpy on engine(s)\n",
      "importing pandapower on engine(s)\n",
      "importing pandas on engine(s)\n",
      "importing Par_myFunctions on engine(s)\n"
     ]
    },
    {
     "data": {
      "application/vnd.jupyter.widget-view+json": {
       "model_id": "ce99945faabb4cb884ba531ea4bf6d2e",
       "version_major": 2,
       "version_minor": 0
      },
      "text/plain": [
       "%px:   0%|          | 0/7 [00:00<?, ?tasks/s]"
      ]
     },
     "metadata": {},
     "output_type": "display_data"
    },
    {
     "name": "stdout",
     "output_type": "stream",
     "text": [
      "                            ------- Bloc PF/OPF ---------         \n"
     ]
    },
    {
     "data": {
      "application/vnd.jupyter.widget-view+json": {
       "model_id": "94e2381a13d440678d6f29f35d54014b",
       "version_major": 2,
       "version_minor": 0
      },
      "text/plain": [
       "%px:   0%|          | 0/7 [00:00<?, ?tasks/s]"
      ]
     },
     "metadata": {},
     "output_type": "display_data"
    },
    {
     "name": "stdout",
     "output_type": "stream",
     "text": [
      "***************************  Simulation:21/21 ==> 16/21      ***********\n",
      "                           ------- Bloc PF/OPF ---------         \n",
      "importing numpy on engine(s)\n",
      "importing pandapower on engine(s)\n",
      "importing pandas on engine(s)\n",
      "importing Par_myFunctions on engine(s)\n"
     ]
    },
    {
     "data": {
      "application/vnd.jupyter.widget-view+json": {
       "model_id": "68c1ab1bfc6847388b47ba0cb6e802dd",
       "version_major": 2,
       "version_minor": 0
      },
      "text/plain": [
       "%px:   0%|          | 0/7 [00:00<?, ?tasks/s]"
      ]
     },
     "metadata": {},
     "output_type": "display_data"
    },
    {
     "name": "stdout",
     "output_type": "stream",
     "text": [
      "                            ------- Bloc PF/OPF ---------         \n"
     ]
    },
    {
     "data": {
      "application/vnd.jupyter.widget-view+json": {
       "model_id": "05fdef06993446dabc29a16306f3488d",
       "version_major": 2,
       "version_minor": 0
      },
      "text/plain": [
       "%px:   0%|          | 0/7 [00:00<?, ?tasks/s]"
      ]
     },
     "metadata": {},
     "output_type": "display_data"
    },
    {
     "name": "stdout",
     "output_type": "stream",
     "text": [
      "***************************  Simulation:21/21 ==> 17/21      ***********\n",
      "                           ------- Bloc PF/OPF ---------         \n",
      "importing numpy on engine(s)\n",
      "importing pandapower on engine(s)\n",
      "importing pandas on engine(s)\n",
      "importing Par_myFunctions on engine(s)\n"
     ]
    },
    {
     "data": {
      "application/vnd.jupyter.widget-view+json": {
       "model_id": "eba23eeb6f8a4653b33f430bff384ddf",
       "version_major": 2,
       "version_minor": 0
      },
      "text/plain": [
       "%px:   0%|          | 0/7 [00:00<?, ?tasks/s]"
      ]
     },
     "metadata": {},
     "output_type": "display_data"
    },
    {
     "name": "stdout",
     "output_type": "stream",
     "text": [
      "                            ------- Bloc PF/OPF ---------         \n"
     ]
    },
    {
     "data": {
      "application/vnd.jupyter.widget-view+json": {
       "model_id": "04ecb13ba5ce4940a4ffd76270404ab2",
       "version_major": 2,
       "version_minor": 0
      },
      "text/plain": [
       "%px:   0%|          | 0/7 [00:00<?, ?tasks/s]"
      ]
     },
     "metadata": {},
     "output_type": "display_data"
    },
    {
     "name": "stdout",
     "output_type": "stream",
     "text": [
      "***************************  Simulation:21/21 ==> 18/21      ***********\n",
      "                           ------- Bloc PF/OPF ---------         \n",
      "importing numpy on engine(s)\n",
      "importing pandapower on engine(s)\n",
      "importing pandas on engine(s)\n",
      "importing Par_myFunctions on engine(s)\n"
     ]
    },
    {
     "data": {
      "application/vnd.jupyter.widget-view+json": {
       "model_id": "f49dc3c7a6f14c5fa8c19313263727f8",
       "version_major": 2,
       "version_minor": 0
      },
      "text/plain": [
       "%px:   0%|          | 0/7 [00:00<?, ?tasks/s]"
      ]
     },
     "metadata": {},
     "output_type": "display_data"
    },
    {
     "name": "stdout",
     "output_type": "stream",
     "text": [
      "                            ------- Bloc PF/OPF ---------         \n"
     ]
    },
    {
     "data": {
      "application/vnd.jupyter.widget-view+json": {
       "model_id": "f283b2e56b2345a9bf6eac4ffb6a22ee",
       "version_major": 2,
       "version_minor": 0
      },
      "text/plain": [
       "%px:   0%|          | 0/7 [00:00<?, ?tasks/s]"
      ]
     },
     "metadata": {},
     "output_type": "display_data"
    },
    {
     "name": "stdout",
     "output_type": "stream",
     "text": [
      "***************************  Simulation:21/21 ==> 19/21      ***********\n",
      "                           ------- Bloc PF/OPF ---------         \n",
      "importing numpy on engine(s)\n",
      "importing pandapower on engine(s)\n",
      "importing pandas on engine(s)\n",
      "importing Par_myFunctions on engine(s)\n"
     ]
    },
    {
     "data": {
      "application/vnd.jupyter.widget-view+json": {
       "model_id": "ee8dcc3469b04848915ebb427f48f7ff",
       "version_major": 2,
       "version_minor": 0
      },
      "text/plain": [
       "%px:   0%|          | 0/7 [00:00<?, ?tasks/s]"
      ]
     },
     "metadata": {},
     "output_type": "display_data"
    },
    {
     "name": "stdout",
     "output_type": "stream",
     "text": [
      "                            ------- Bloc PF/OPF ---------         \n"
     ]
    },
    {
     "data": {
      "application/vnd.jupyter.widget-view+json": {
       "model_id": "1d31839bd1374933af8c11692938cb08",
       "version_major": 2,
       "version_minor": 0
      },
      "text/plain": [
       "%px:   0%|          | 0/7 [00:00<?, ?tasks/s]"
      ]
     },
     "metadata": {},
     "output_type": "display_data"
    },
    {
     "name": "stdout",
     "output_type": "stream",
     "text": [
      "***************************  Simulation:21/21 ==> 20/21      ***********\n",
      "                           ------- Bloc PF/OPF ---------         \n",
      "importing numpy on engine(s)\n",
      "importing pandapower on engine(s)\n",
      "importing pandas on engine(s)\n",
      "importing Par_myFunctions on engine(s)\n"
     ]
    },
    {
     "data": {
      "application/vnd.jupyter.widget-view+json": {
       "model_id": "1e6d1ba8b68f43c9a7f208a80d9ede3b",
       "version_major": 2,
       "version_minor": 0
      },
      "text/plain": [
       "%px:   0%|          | 0/7 [00:00<?, ?tasks/s]"
      ]
     },
     "metadata": {},
     "output_type": "display_data"
    },
    {
     "name": "stdout",
     "output_type": "stream",
     "text": [
      "                            ------- Bloc PF/OPF ---------         \n"
     ]
    },
    {
     "data": {
      "application/vnd.jupyter.widget-view+json": {
       "model_id": "78d13d9d38ad48c9bd7d41052fb2d8b9",
       "version_major": 2,
       "version_minor": 0
      },
      "text/plain": [
       "%px:   0%|          | 0/7 [00:00<?, ?tasks/s]"
      ]
     },
     "metadata": {},
     "output_type": "display_data"
    },
    {
     "name": "stdout",
     "output_type": "stream",
     "text": [
      "***************************  Simulation:21/21 ==> 21/21      ***********\n",
      "                           ------- Bloc PF/OPF ---------         \n",
      "importing numpy on engine(s)\n",
      "importing pandapower on engine(s)\n",
      "importing pandas on engine(s)\n",
      "importing Par_myFunctions on engine(s)\n"
     ]
    },
    {
     "data": {
      "application/vnd.jupyter.widget-view+json": {
       "model_id": "6cb6780c18444a37b5d08b82a1e7c2b6",
       "version_major": 2,
       "version_minor": 0
      },
      "text/plain": [
       "%px:   0%|          | 0/7 [00:00<?, ?tasks/s]"
      ]
     },
     "metadata": {},
     "output_type": "display_data"
    },
    {
     "name": "stdout",
     "output_type": "stream",
     "text": [
      "                            ------- Bloc PF/OPF ---------         \n"
     ]
    },
    {
     "data": {
      "application/vnd.jupyter.widget-view+json": {
       "model_id": "85dc880617944017abba6d40cf760fe1",
       "version_major": 2,
       "version_minor": 0
      },
      "text/plain": [
       "%px:   0%|          | 0/7 [00:00<?, ?tasks/s]"
      ]
     },
     "metadata": {},
     "output_type": "display_data"
    }
   ],
   "source": [
    "n_start, n_end = 0,- 1\n",
    "# n_end = len(bt_add_range)\n",
    "for bt_elm_index, coef_add_bt in enumerate(bt_add_range[n_start:]):\n",
    "    # Set Network\n",
    "    networks = oriFc.setNetwork_params(upperNet_file, lowerNet_file, ctrld_hvProdName,\n",
    "                                       (coef_add_bt, coef_add_bt_dist), \n",
    "                                       (vm_mu_max, vm_mu_min))\n",
    "    \n",
    "    # Create dictionnary that will be sent to the parallel engines\n",
    "    lowerNet_hv_activated_bus = networks.get_lowerNet_hvActivatedBuses(networks.get_lowerNet_hv_bus_df().index)\n",
    "    parameters_dict = dict({'lowerNet':networks.get_lowerNet(), \n",
    "                            'lowerNet_hv_activated_bus':lowerNet_hv_activated_bus, \n",
    "                            'uppNet_sum_max_lvProdLoad':networks.get_upperNet_sum_max_lvProdLoad(), \n",
    "                            'vm_mu_max':vm_mu_max,\n",
    "                           })\n",
    "    \n",
    "    sim_res_rnn_Dict = {}  # Dictionnary to save variables\n",
    "    bt_elm_index = bt_elm_index+n_start\n",
    "\n",
    "    for mr_index in range(len(ctrld_hvProd_max_range)): \n",
    "        ctrld_hvUpscaling_coef = ctrld_hvProd_max_range[mr_index]  # Define upsacaling coeff\n",
    "       # Create dictionnary of main variable i.e. Prod BT, HT, Cons to used in parallel engines \n",
    "        dict_df_sgenLoad = oriFc.createDict_prodHtBt_Load(rnnPred_df,\n",
    "                                                          networks, \n",
    "                                                          ctrld_hvUpscaling_coef,\n",
    "                                                          ctrld_hvProd_max\n",
    "                                                         )\n",
    "\n",
    "        print(f'***************************  Simulation:{bt_elm_index+1}/{len(bt_add_range) } ==> {mr_index+1}/{len(ctrld_hvProd_max_range)}      ***********')\n",
    "        print(\"                           ------- Bloc PF/OPF ---------         \")\n",
    "        df_prodHT = dict_df_sgenLoad['df_prodHT']\n",
    "        \n",
    "        ##          ---------------------------  BLOCK PF/OPF  ------------------------         ##\n",
    "        # Initialize the parallel engine parameters i.e. send varible into each local space\n",
    "        opf_status = 'Both'\n",
    "        parEngines.sendVar_to_localSpace(df_prodHT.index, opf_status, dict_df_sgenLoad, parameters_dict, 0 )\n",
    "\n",
    "        # cALL Block pf/op\n",
    "        pf_opf_block_result = block_pf_Opf(parEngines)    \n",
    "\n",
    "        # ----------------------   Implement Robusteness   ------------------------------------\n",
    "        # TODO: Change function robustPersistence() name in persistence()\n",
    "        oriFc.robustPersistence(pf_opf_block_result, df_final[[ctrld_hvProdName]],\n",
    "                                ctrld_hvUpscaling_coef, ctrld_hvProd_max, vm_mu_max)\n",
    "        \n",
    "       ##             ---------------------------  BLOCK PROD  ------------------------         ##\n",
    "        oriFc.block_prod(pf_opf_block_result, df_final[[ctrld_hvProdName]],ctrld_hvUpscaling_coef, ctrld_hvProd_max)\n",
    "\n",
    "        # get periods in order\n",
    "        per_index2 = (pf_opf_block_result.index.to_timestamp().to_series(\n",
    "                                        ).between_time(*dailyPeriod_interval).index.to_period('10T')\n",
    ")\n",
    "\n",
    "        # Update Values for the dict to use for final power flow bloc\n",
    "        day_totPer = day_tot_per-1\n",
    "        hvProd_df = pd.concat([df_final.loc[per_index2[day_totPer:], non_ctrld_hvProdNames_list],\n",
    "                                pf_opf_block_result.loc[per_index2[day_totPer:], [ctrld_hvProdName]]], axis=1)\n",
    "\n",
    "        dict_df_sgenLoad = dict({'df_prodHT': hvProd_df, \n",
    "                                 'df_prod_bt_total':df_final.loc[per_index2[day_totPer:], ['Prod_BT']], \n",
    "                                 'df_cons_total':df_final.loc[per_index2[day_totPer:], ['Cons']] } )\n",
    "\n",
    "\n",
    "        ##             ---------------------------  BLOCK PF  ------------------------         ##\n",
    "        print(\"                            ------- Bloc PF/OPF ---------         \")\n",
    "\n",
    "        opf_status = False\n",
    "        # Initialize the parallel engine parameters i.e. send varible into each local space for PF\n",
    "        parEngines.sendVar_to_localSpace(hvProd_df.index, opf_status, dict_df_sgenLoad, parameters_dict, 1)\n",
    "\n",
    "        # cALL Block pf\n",
    "        max_vm_pu_rnn_df = block_pf_Opf(parEngines)     \n",
    "\n",
    "\n",
    "        #####   Saving Results \n",
    "        ctrld_hvProd_noControl_df = df_final.loc[hvProd_df.index, [ctrld_hvProdName]]\n",
    "        ctrld_hvProd_noControl_upscaled_df = ctrld_hvProd_max_range[mr_index]*ctrld_hvProd_noControl_df/ctrld_hvProd_max\n",
    "        P0100_rnn_df = pd.DataFrame(data=pf_opf_block_result.loc[hvProd_df.index][ctrd_hvProdName].values, \n",
    "                                     index=pf_opf_block_result.loc[hvProd_df.index].index, \n",
    "                                     columns=['RNN Sim'+str(mr_index+1)] )\n",
    "        # Concat\n",
    "        ctrld_hvProd_concat_df = pd.concat([ctrld_hvProd_noControl_upscaled_df,\n",
    "                                     P0100_rnn_df], axis=1)\n",
    "        # Rename\n",
    "        ctrld_hvProd_concat_df.rename(columns=({ctrld_hvProdName:'No_Control'}), inplace=True);\n",
    "\n",
    "\n",
    "        int_sim_res = {'maxV_rise_df':max_vm_pu_rnn_df,              # Intermediate results\n",
    "                       'Power Sgen': ctrld_hvProd_concat_df}         \n",
    "        sim_res_rnn_Dict.update([(simNames[bt_elm_index, mr_index],int_sim_res)])   # Final results\n",
    "\n",
    "    file_name= 'RNN_btRangeIndex_' +str(bt_elm_index)+ '.plk'\n",
    "    folder_name = 'pickle_files/simulationResults/SensAnalysis/RNNRob/'\n",
    "    joblib.dump(sim_res_rnn_Dict,folder_name+file_name)"
   ]
  }
 ],
 "metadata": {
  "kernelspec": {
   "display_name": "Python 3 (ipykernel)",
   "language": "python",
   "name": "python3"
  },
  "language_info": {
   "codemirror_mode": {
    "name": "ipython",
    "version": 3
   },
   "file_extension": ".py",
   "mimetype": "text/x-python",
   "name": "python",
   "nbconvert_exporter": "python",
   "pygments_lexer": "ipython3",
   "version": "3.7.15"
  },
  "widgets": {
   "application/vnd.jupyter.widget-state+json": {
    "state": {
     "003a4c19e6f245a3bacac7385e3f9941": {
      "model_module": "@jupyter-widgets/controls",
      "model_module_version": "2.0.0",
      "model_name": "FloatProgressModel",
      "state": {
       "bar_style": "success",
       "layout": "IPY_MODEL_cad9686355de47d0be722aac3d4a6cda",
       "max": 7,
       "style": "IPY_MODEL_17bccce4efd145dda44cee7996602e44",
       "value": 7
      }
     },
     "0e5e735ec98945fe9059b68e2b9dbb10": {
      "model_module": "@jupyter-widgets/controls",
      "model_module_version": "2.0.0",
      "model_name": "HTMLModel",
      "state": {
       "layout": "IPY_MODEL_fd9d25c1034948ae899ff6371f5bc839",
       "style": "IPY_MODEL_1fa8b6f1c81149e084418567caf32bd8",
       "value": "%px: 100%"
      }
     },
     "17bccce4efd145dda44cee7996602e44": {
      "model_module": "@jupyter-widgets/controls",
      "model_module_version": "2.0.0",
      "model_name": "ProgressStyleModel",
      "state": {
       "description_width": ""
      }
     },
     "18da1320aa0643f38bbb44140df0a1aa": {
      "model_module": "@jupyter-widgets/controls",
      "model_module_version": "2.0.0",
      "model_name": "HTMLModel",
      "state": {
       "layout": "IPY_MODEL_5b9bb4e122c54356a266985037790c50",
       "style": "IPY_MODEL_bdedc6c10e16486d9daed3b8229219cb",
       "value": "%px: 100%"
      }
     },
     "1fa8b6f1c81149e084418567caf32bd8": {
      "model_module": "@jupyter-widgets/controls",
      "model_module_version": "2.0.0",
      "model_name": "HTMLStyleModel",
      "state": {
       "description_width": "",
       "font_size": null,
       "text_color": null
      }
     },
     "2192c4a4fd6e47daa04ffdb5bb4fe137": {
      "model_module": "@jupyter-widgets/base",
      "model_module_version": "2.0.0",
      "model_name": "LayoutModel",
      "state": {}
     },
     "2b21aca34ab64f57935f3d45ab099369": {
      "model_module": "@jupyter-widgets/controls",
      "model_module_version": "2.0.0",
      "model_name": "HTMLModel",
      "state": {
       "layout": "IPY_MODEL_2192c4a4fd6e47daa04ffdb5bb4fe137",
       "style": "IPY_MODEL_cd66d75d8c3e4d038c291bb418a5aa53",
       "value": " 7/7 [00:06&lt;00:00,  6.63s/engine]"
      }
     },
     "2e788e01af1f48ce8d987c143a4a627c": {
      "model_module": "@jupyter-widgets/controls",
      "model_module_version": "2.0.0",
      "model_name": "HTMLModel",
      "state": {
       "layout": "IPY_MODEL_4c40392ae5e64b17ac7121d48bb687cb",
       "style": "IPY_MODEL_89709155e35c4527ad0a69054a3d4a20",
       "value": " 7/7 [13:02&lt;00:00, 136.66s/tasks]"
      }
     },
     "4c40392ae5e64b17ac7121d48bb687cb": {
      "model_module": "@jupyter-widgets/base",
      "model_module_version": "2.0.0",
      "model_name": "LayoutModel",
      "state": {}
     },
     "4ca22e36ac8141ad9c446ca677be9083": {
      "model_module": "@jupyter-widgets/controls",
      "model_module_version": "2.0.0",
      "model_name": "ProgressStyleModel",
      "state": {
       "description_width": ""
      }
     },
     "5b9bb4e122c54356a266985037790c50": {
      "model_module": "@jupyter-widgets/base",
      "model_module_version": "2.0.0",
      "model_name": "LayoutModel",
      "state": {}
     },
     "67035876b8384465bde3a02c3074b106": {
      "model_module": "@jupyter-widgets/controls",
      "model_module_version": "2.0.0",
      "model_name": "FloatProgressModel",
      "state": {
       "bar_style": "success",
       "layout": "IPY_MODEL_9cf19c8deed84f95bf37fdc48ab743f3",
       "max": 7,
       "style": "IPY_MODEL_882f48978cdb4c06bccc6796d23052dc",
       "value": 7
      }
     },
     "8453522f461144b2a130f7f629f6b9d1": {
      "model_module": "@jupyter-widgets/controls",
      "model_module_version": "2.0.0",
      "model_name": "FloatProgressModel",
      "state": {
       "bar_style": "success",
       "layout": "IPY_MODEL_ad95038ed58640e3bb34bf867452cb65",
       "max": 7,
       "style": "IPY_MODEL_4ca22e36ac8141ad9c446ca677be9083",
       "value": 7
      }
     },
     "865b9da2bde047919f896bc18f6e2830": {
      "model_module": "@jupyter-widgets/base",
      "model_module_version": "2.0.0",
      "model_name": "LayoutModel",
      "state": {}
     },
     "87eb7dea9461408f861a352905e206ad": {
      "model_module": "@jupyter-widgets/controls",
      "model_module_version": "2.0.0",
      "model_name": "HBoxModel",
      "state": {
       "children": [
        "IPY_MODEL_18da1320aa0643f38bbb44140df0a1aa",
        "IPY_MODEL_003a4c19e6f245a3bacac7385e3f9941",
        "IPY_MODEL_2e788e01af1f48ce8d987c143a4a627c"
       ],
       "layout": "IPY_MODEL_865b9da2bde047919f896bc18f6e2830"
      }
     },
     "882f48978cdb4c06bccc6796d23052dc": {
      "model_module": "@jupyter-widgets/controls",
      "model_module_version": "2.0.0",
      "model_name": "ProgressStyleModel",
      "state": {
       "description_width": ""
      }
     },
     "89709155e35c4527ad0a69054a3d4a20": {
      "model_module": "@jupyter-widgets/controls",
      "model_module_version": "2.0.0",
      "model_name": "HTMLStyleModel",
      "state": {
       "description_width": "",
       "font_size": null,
       "text_color": null
      }
     },
     "8a4c335599a840d18895032de12acf83": {
      "model_module": "@jupyter-widgets/controls",
      "model_module_version": "2.0.0",
      "model_name": "HTMLStyleModel",
      "state": {
       "description_width": "",
       "font_size": null,
       "text_color": null
      }
     },
     "8e33733b7a604661a13d7f7ee9302e46": {
      "model_module": "@jupyter-widgets/controls",
      "model_module_version": "2.0.0",
      "model_name": "HTMLModel",
      "state": {
       "layout": "IPY_MODEL_c02d0a8179e74f75989c65fa49fa0ac7",
       "style": "IPY_MODEL_d30be678e111411f848c7e7d10554f88",
       "value": "100%"
      }
     },
     "9a0cde16bd2c4a8c9d4c344ee0da5c54": {
      "model_module": "@jupyter-widgets/base",
      "model_module_version": "2.0.0",
      "model_name": "LayoutModel",
      "state": {}
     },
     "9cf19c8deed84f95bf37fdc48ab743f3": {
      "model_module": "@jupyter-widgets/base",
      "model_module_version": "2.0.0",
      "model_name": "LayoutModel",
      "state": {}
     },
     "a313e8910cfa4049aaca394791efaa22": {
      "model_module": "@jupyter-widgets/controls",
      "model_module_version": "2.0.0",
      "model_name": "HTMLModel",
      "state": {
       "layout": "IPY_MODEL_b24a23441a1f41c3bf8aa08aa3854cc8",
       "style": "IPY_MODEL_8a4c335599a840d18895032de12acf83",
       "value": " 7/7 [02:19&lt;00:00,  2.09tasks/s]"
      }
     },
     "ad95038ed58640e3bb34bf867452cb65": {
      "model_module": "@jupyter-widgets/base",
      "model_module_version": "2.0.0",
      "model_name": "LayoutModel",
      "state": {}
     },
     "b24a23441a1f41c3bf8aa08aa3854cc8": {
      "model_module": "@jupyter-widgets/base",
      "model_module_version": "2.0.0",
      "model_name": "LayoutModel",
      "state": {}
     },
     "b836cf691b624223aef356302fe78e26": {
      "model_module": "@jupyter-widgets/base",
      "model_module_version": "2.0.0",
      "model_name": "LayoutModel",
      "state": {}
     },
     "bdedc6c10e16486d9daed3b8229219cb": {
      "model_module": "@jupyter-widgets/controls",
      "model_module_version": "2.0.0",
      "model_name": "HTMLStyleModel",
      "state": {
       "description_width": "",
       "font_size": null,
       "text_color": null
      }
     },
     "c02d0a8179e74f75989c65fa49fa0ac7": {
      "model_module": "@jupyter-widgets/base",
      "model_module_version": "2.0.0",
      "model_name": "LayoutModel",
      "state": {}
     },
     "cad9686355de47d0be722aac3d4a6cda": {
      "model_module": "@jupyter-widgets/base",
      "model_module_version": "2.0.0",
      "model_name": "LayoutModel",
      "state": {}
     },
     "cd66d75d8c3e4d038c291bb418a5aa53": {
      "model_module": "@jupyter-widgets/controls",
      "model_module_version": "2.0.0",
      "model_name": "HTMLStyleModel",
      "state": {
       "description_width": "",
       "font_size": null,
       "text_color": null
      }
     },
     "d30be678e111411f848c7e7d10554f88": {
      "model_module": "@jupyter-widgets/controls",
      "model_module_version": "2.0.0",
      "model_name": "HTMLStyleModel",
      "state": {
       "description_width": "",
       "font_size": null,
       "text_color": null
      }
     },
     "d99d159ed0154e7aac716df96e741ad2": {
      "model_module": "@jupyter-widgets/controls",
      "model_module_version": "2.0.0",
      "model_name": "HBoxModel",
      "state": {
       "children": [
        "IPY_MODEL_8e33733b7a604661a13d7f7ee9302e46",
        "IPY_MODEL_67035876b8384465bde3a02c3074b106",
        "IPY_MODEL_2b21aca34ab64f57935f3d45ab099369"
       ],
       "layout": "IPY_MODEL_9a0cde16bd2c4a8c9d4c344ee0da5c54"
      }
     },
     "faa5e2ad51984bd281aecbca42036609": {
      "model_module": "@jupyter-widgets/controls",
      "model_module_version": "2.0.0",
      "model_name": "HBoxModel",
      "state": {
       "children": [
        "IPY_MODEL_0e5e735ec98945fe9059b68e2b9dbb10",
        "IPY_MODEL_8453522f461144b2a130f7f629f6b9d1",
        "IPY_MODEL_a313e8910cfa4049aaca394791efaa22"
       ],
       "layout": "IPY_MODEL_b836cf691b624223aef356302fe78e26"
      }
     },
     "fd9d25c1034948ae899ff6371f5bc839": {
      "model_module": "@jupyter-widgets/base",
      "model_module_version": "2.0.0",
      "model_name": "LayoutModel",
      "state": {}
     }
    },
    "version_major": 2,
    "version_minor": 0
   }
  }
 },
 "nbformat": 4,
 "nbformat_minor": 5
}
