{
 "cells": [
  {
   "cell_type": "markdown",
   "id": "d5bc9f77-4df7-4f9e-b87e-96e0097ed0ec",
   "metadata": {},
   "source": [
    "###    Create a multi input  Neural Network Based on the functional API of Keras Tensor FLow"
   ]
  },
  {
   "cell_type": "markdown",
   "id": "1a73d9e7-86f9-4df3-b605-da3df2a9d8f2",
   "metadata": {},
   "source": [
    "* Input 1 : dims = 5 [load, Bt_Prod, Ht_Prod] where Ht_Prod = [P0010, P0018,P0100]\n",
    "* Input 2 : dims = 4 [hourly_cycle, daily_cycle, weekly_cycle, yearly_cycle]\n",
    "* Input 3 : dims = 1 [Boolean var (0,1) indicating wether voltage rise occurs durings past periods ]\n",
    "* Input 4 : dims = 1 [float var indicating the value of voltage rize that occurs durings past periods ]"
   ]
  },
  {
   "cell_type": "code",
   "execution_count": 1,
   "id": "5c27f2cb-1d80-4d9c-bb3e-34520dfb98ff",
   "metadata": {},
   "outputs": [],
   "source": [
    "import numpy as np\n",
    "import tensorflow as tf\n",
    "from tensorflow import keras\n",
    "from tensorflow.keras import layers\n",
    "import pydot"
   ]
  },
  {
   "cell_type": "code",
   "execution_count": 2,
   "id": "9929793c-9cc8-468d-9c25-4f74884e7ac5",
   "metadata": {},
   "outputs": [],
   "source": [
    "from sklearn.preprocessing import OneHotEncoder"
   ]
  },
  {
   "cell_type": "markdown",
   "id": "9dc1d125-e2c3-4895-9d80-12ec1c186da5",
   "metadata": {},
   "source": [
    "#### Define Inputs i.e. total features for each inputs "
   ]
  },
  {
   "cell_type": "code",
   "execution_count": 3,
   "id": "f4aad870-8c3b-417f-9ae8-f5ee837c2183",
   "metadata": {},
   "outputs": [],
   "source": [
    "n1 =  5  ;       # [load, Bt_Prod, Ht_Prod] where Ht_Prod = [P0010, P0018,P0100]\n",
    "# n2 = 12+12+7+6   # 12 months || 6h-18h ==> 12 H || 7 days in a week || 6 periods (1:0mn ,2:10mn ... 6:50mn)\n",
    "n2 = 4   # 12 months || 6h-18h ==> 12 H || 7 days in a week || 6 periods (1:0mn ,2:10mn ... 6:50mn)\n",
    "\n",
    "n3 = 1\n",
    "\n",
    "n4 = 1\n",
    "\n",
    "\n",
    "actv_func ='relu'\n",
    "in1_ts = 60      # Number of time steps per batch for the input 1\n",
    "in2_ts = 18      # Number of time steps per batch for the second input\n",
    "in3_ts = 18     # \n",
    "in4_ts = 18\n",
    "\n",
    "\n",
    "# Define model output_features\n",
    "n_out_mod1 = n1 # The model must to predict all the input n1 \n",
    "\n",
    "# batchSizes = 32\n",
    "\n",
    "in1 = keras.Input(shape=(in1_ts,n1), name='Numeric')  # Input 1 | For the input intanciate only the feature dimension. i.e. create a tensor as \n",
    "                                  # in1.shape = [None, n1]\n",
    "# Input 2 \n",
    "in2 = keras.Input(shape=(in2_ts, n2), name='cyclingdata')   # Input 2 \n",
    "\n",
    "\n",
    "in3 = keras.Input(shape=(in2_ts, n3), name='BinaryVoltageRise')   # Input 23\n",
    "\n",
    "in4 = keras.Input(shape=(in4_ts, n4), name='NumericVoltageRise')"
   ]
  },
  {
   "cell_type": "markdown",
   "id": "7408923b-ceb7-44d9-b3a0-6e31d1c900e5",
   "metadata": {
    "tags": []
   },
   "source": [
    "#### Define number of cell on different layers"
   ]
  },
  {
   "cell_type": "code",
   "execution_count": 4,
   "id": "2c144237-e0a8-4b72-b648-48c708478201",
   "metadata": {},
   "outputs": [],
   "source": [
    "neur_lstm_layer1 = 40\n",
    "neur_lstm_layer2 = 40\n",
    "neur_lstm_layer3 = 30"
   ]
  },
  {
   "cell_type": "markdown",
   "id": "a934a40b-1347-47d7-9740-b15f90628d1b",
   "metadata": {
    "tags": []
   },
   "source": [
    "#### Input 1 \n",
    "\n",
    "##### Create hidden layers"
   ]
  },
  {
   "cell_type": "code",
   "execution_count": 5,
   "id": "7d22dbcc-2c95-433e-ac71-28a820eb0f98",
   "metadata": {},
   "outputs": [],
   "source": [
    "in1_layer1    = layers.LSTM(128, activation=actv_func) # Create the first layer of model 1\n",
    "# in1_layer2    = layers.LSTM(neur_lstm_layer2, activation=actv_func, )                        # Create the second layer of model 1\n",
    "# in1_layer3    = layers.LSTM(neur_lstm_layer3, activation=actv_func)"
   ]
  },
  {
   "cell_type": "markdown",
   "id": "7745225b-4a46-4317-b727-abc29d1f21f5",
   "metadata": {},
   "source": [
    "##### Link input 1 to hidden layer 1\n",
    "Since the layer is an LSTM,  one needs to reshape the input such that its dimension in [x,y,z] so they can correspond to a LSTM's. \n",
    "- x ==> batch size, \n",
    "- y ==> nber_time_step_per batch ,\n",
    "- z ==> number of feature"
   ]
  },
  {
   "cell_type": "code",
   "execution_count": 6,
   "id": "37ddf7ae-cd6c-49a4-bc0b-9c2e8742b5ca",
   "metadata": {},
   "outputs": [],
   "source": [
    "in1_layer1_out = in1_layer1(in1)        \n",
    "# in1_layer1_out = in1_layer1(tf.reshape(in1, (-1, in1_ts, n1 )))        \n",
    "\n",
    "# Since we are returning the sequence of the previous lstm layer it can be directly link to the second layer\n",
    "# in1_layer2_out = in1_layer2(in1_layer1_out)  # Link output of hiddend layer 1 to to hidden layer 2\n",
    "# in1_layer3_out = in1_layer3(in1_layer2_out)"
   ]
  },
  {
   "cell_type": "markdown",
   "id": "8facd992-ac71-4152-8884-b9c084e9f187",
   "metadata": {},
   "source": [
    "#### Input 2\n",
    "\n",
    "##### Create hidden layers"
   ]
  },
  {
   "cell_type": "code",
   "execution_count": 7,
   "id": "22b1cd3e-43f4-42c3-8409-b50f9b9e0fbf",
   "metadata": {},
   "outputs": [],
   "source": [
    "in2_layer1 = layers.LSTM(64,activation=actv_func)\n",
    "# in2_layer2 = layers.LSTM(neur_lstm_layer1, activation=actv_func, )\n",
    "# in2_layer3 = layers.LSTM(neur_lstm_layer1, activation=actv_func)"
   ]
  },
  {
   "cell_type": "markdown",
   "id": "05161875-f948-46d2-8ee9-8053d3471538",
   "metadata": {},
   "source": [
    "##### Link input 2 to hidden layer 1\n",
    "**<span style='color:red'> SAME PROCESS AS WITH INPUT 1 </span>**"
   ]
  },
  {
   "cell_type": "code",
   "execution_count": 8,
   "id": "9db347c6-5af5-4db5-b7c3-fba0cc28f0e4",
   "metadata": {},
   "outputs": [],
   "source": [
    "# in2_layer1_out = in2_layer1(tf.reshape(in2, (-1, in2_ts, n2)),)\n",
    "in2_layer1_out = in2_layer1(in2)\n",
    "# in2_layer2_out = in2_layer2(in2_layer1_out)\n",
    "# in2_layer3_out = in2_layer3(in2_layer2_out)"
   ]
  },
  {
   "cell_type": "markdown",
   "id": "6aeac1ff-67d9-4c9a-8831-b105a739d426",
   "metadata": {
    "tags": []
   },
   "source": [
    "#### Input 3"
   ]
  },
  {
   "cell_type": "code",
   "execution_count": 9,
   "id": "90702bf5-87fe-47eb-a068-a2841ad86073",
   "metadata": {},
   "outputs": [],
   "source": [
    "##### Create hidden layers\n",
    "in3_layer1 = layers.LSTM(64,activation=actv_func)\n",
    "# in2_layer2 = layers.LSTM(neur_lstm_layer1, activation=actv_func, )\n",
    "# in2_layer3 = layers.LSTM(neur_lstm_layer1, activation=actv_func)\n",
    "\n",
    "# Link input to output\n",
    "# in2_layer1_out = in2_layer1(tf.reshape(in2, (-1, in2_ts, n2)),)\n",
    "in3_layer1_out = in3_layer1(in3)\n",
    "# in2_layer2_out = in2_layer2(in2_layer1_out)\n",
    "# in2_layer3_out = in2_layer3(in2_layer2_out)"
   ]
  },
  {
   "cell_type": "markdown",
   "id": "540fc336-dfa6-4fad-9808-20b41c6c777d",
   "metadata": {
    "tags": []
   },
   "source": [
    "#### Input 4"
   ]
  },
  {
   "cell_type": "code",
   "execution_count": 10,
   "id": "e7501ab7-1d61-4a60-8883-4c71dfdfdbbc",
   "metadata": {},
   "outputs": [],
   "source": [
    "##### Create hidden layers\n",
    "in4_layer1 = layers.LSTM(64,activation=actv_func)\n",
    "# in2_layer2 = layers.LSTM(neur_lstm_layer1, activation=actv_func, )\n",
    "# in2_layer3 = layers.LSTM(neur_lstm_layer1, activation=actv_func)\n",
    "\n",
    "# Link input to output\n",
    "# in2_layer1_out = in2_layer1(tf.reshape(in2, (-1, in2_ts, n2)),)\n",
    "in4_layer1_out = in4_layer1(in4)\n",
    "# in2_layer2_out = in2_layer2(in2_layer1_out)\n",
    "# in2_layer3_out = in2_layer3(in2_layer2_out)"
   ]
  },
  {
   "cell_type": "markdown",
   "id": "219b2222-2ef1-4a77-9dc4-bb658ccfcd72",
   "metadata": {},
   "source": [
    "#### Combine layers"
   ]
  },
  {
   "cell_type": "code",
   "execution_count": 11,
   "id": "e562d66d-da94-462b-aacb-1804011e6e5f",
   "metadata": {},
   "outputs": [],
   "source": [
    "# # concatanate output of hidden layer2\n",
    "\n",
    "comb_main = layers.concatenate([in1_layer1_out, in2_layer1_out]) # numeric var and cycling data \n",
    "comb_out2 = layers.concatenate([comb_main, in3_layer1_out])      # \n",
    "comb_out3 = layers.concatenate([comb_main, in4_layer1_out])\n"
   ]
  },
  {
   "cell_type": "markdown",
   "id": "96009e36-9187-41e4-b676-af51ac5cef18",
   "metadata": {},
   "source": [
    "#### Create an intermediate and the output layer and link them together with "
   ]
  },
  {
   "cell_type": "code",
   "execution_count": 12,
   "id": "59a49c9a-6504-4a62-9611-a8f2de00ac55",
   "metadata": {},
   "outputs": [],
   "source": [
    "# create new dense Layer and connect to the concatanation layers\n",
    "in12_layer_out = layers.Dense(60)(comb_main)\n",
    "int123_layer_out = layers.Dense(10)(comb_out2)\n",
    "int124_layer_out = layers.Dense(10)(comb_out3)\n",
    "\n",
    "\n",
    "out_numPred = layers.Dense(n1, activation='relu', name='NumPred' )(in12_layer_out)\n",
    "out_vriseBin = layers.Dense(n3, activation='sigmoid', name='binVrisePred')(int123_layer_out)\n",
    "out_vriseNum = layers.Dense(n4, activation='relu', name='numVrisePred')(int124_layer_out)\n"
   ]
  },
  {
   "cell_type": "markdown",
   "id": "85a651a4-2688-4128-9697-69daa67a19e6",
   "metadata": {},
   "source": [
    "#### Create final model "
   ]
  },
  {
   "cell_type": "code",
   "execution_count": 13,
   "id": "3719eef6-b8ef-4b54-bbfe-1e70d45514bf",
   "metadata": {},
   "outputs": [],
   "source": [
    "mixed_model = keras.Model(inputs=[in1,in2, in3, in4], outputs=[out_numPred, out_vriseBin, out_vriseNum])"
   ]
  },
  {
   "cell_type": "markdown",
   "id": "8b4edc0c-7c74-4f51-8ae7-d0c2821387c4",
   "metadata": {},
   "source": [
    "#### Show model parameters"
   ]
  },
  {
   "cell_type": "code",
   "execution_count": 14,
   "id": "abbe332e-71d9-4ada-b41b-921ee63dcb88",
   "metadata": {},
   "outputs": [
    {
     "name": "stdout",
     "output_type": "stream",
     "text": [
      "Model: \"model\"\n",
      "__________________________________________________________________________________________________\n",
      " Layer (type)                   Output Shape         Param #     Connected to                     \n",
      "==================================================================================================\n",
      " Numeric (InputLayer)           [(None, 60, 5)]      0           []                               \n",
      "                                                                                                  \n",
      " cyclingdata (InputLayer)       [(None, 18, 4)]      0           []                               \n",
      "                                                                                                  \n",
      " lstm (LSTM)                    (None, 128)          68608       ['Numeric[0][0]']                \n",
      "                                                                                                  \n",
      " lstm_1 (LSTM)                  (None, 64)           17664       ['cyclingdata[0][0]']            \n",
      "                                                                                                  \n",
      " BinaryVoltageRise (InputLayer)  [(None, 18, 1)]     0           []                               \n",
      "                                                                                                  \n",
      " NumericVoltageRise (InputLayer  [(None, 18, 1)]     0           []                               \n",
      " )                                                                                                \n",
      "                                                                                                  \n",
      " concatenate (Concatenate)      (None, 192)          0           ['lstm[0][0]',                   \n",
      "                                                                  'lstm_1[0][0]']                 \n",
      "                                                                                                  \n",
      " lstm_2 (LSTM)                  (None, 64)           16896       ['BinaryVoltageRise[0][0]']      \n",
      "                                                                                                  \n",
      " lstm_3 (LSTM)                  (None, 64)           16896       ['NumericVoltageRise[0][0]']     \n",
      "                                                                                                  \n",
      " concatenate_1 (Concatenate)    (None, 256)          0           ['concatenate[0][0]',            \n",
      "                                                                  'lstm_2[0][0]']                 \n",
      "                                                                                                  \n",
      " concatenate_2 (Concatenate)    (None, 256)          0           ['concatenate[0][0]',            \n",
      "                                                                  'lstm_3[0][0]']                 \n",
      "                                                                                                  \n",
      " dense (Dense)                  (None, 60)           11580       ['concatenate[0][0]']            \n",
      "                                                                                                  \n",
      " dense_1 (Dense)                (None, 10)           2570        ['concatenate_1[0][0]']          \n",
      "                                                                                                  \n",
      " dense_2 (Dense)                (None, 10)           2570        ['concatenate_2[0][0]']          \n",
      "                                                                                                  \n",
      " NumPred (Dense)                (None, 5)            305         ['dense[0][0]']                  \n",
      "                                                                                                  \n",
      " binVrisePred (Dense)           (None, 1)            11          ['dense_1[0][0]']                \n",
      "                                                                                                  \n",
      " numVrisePred (Dense)           (None, 1)            11          ['dense_2[0][0]']                \n",
      "                                                                                                  \n",
      "==================================================================================================\n",
      "Total params: 137,111\n",
      "Trainable params: 137,111\n",
      "Non-trainable params: 0\n",
      "__________________________________________________________________________________________________\n"
     ]
    }
   ],
   "source": [
    "mixed_model.summary()"
   ]
  },
  {
   "cell_type": "code",
   "execution_count": 18,
   "id": "578aafa3-e9e6-4efb-a422-8dc8ca8b880d",
   "metadata": {},
   "outputs": [
    {
     "data": {
      "image/png": "[encoded data removed]",
      "text/plain": [
       "<IPython.core.display.Image object>"
      ]
     },
     "execution_count": 18,
     "metadata": {},
     "output_type": "execute_result"
    }
   ],
   "source": [
    "keras.utils.plot_model(mixed_model,show_shapes=True  )"
   ]
  },
  {
   "cell_type": "code",
   "execution_count": 17,
   "id": "bef9ddb5-4995-47e0-94b8-a8410c0a2447",
   "metadata": {},
   "outputs": [
    {
     "name": "stdout",
     "output_type": "stream",
     "text": [
      "WARNING:tensorflow:Compiled the loaded model, but the compiled metrics have yet to be built. `model.compile_metrics` will be empty until you train or evaluate the model.\n"
     ]
    },
    {
     "name": "stderr",
     "output_type": "stream",
     "text": [
      "WARNING:absl:Function `_wrapped_model` contains input name(s) Numeric, BinaryVoltageRise, NumericVoltageRise with unsupported characters which will be renamed to numeric, binaryvoltagerise, numericvoltagerise in the SavedModel.\n"
     ]
    },
    {
     "name": "stdout",
     "output_type": "stream",
     "text": [
      "INFO:tensorflow:Assets written to: pickle_files/RNN/Multi3_Input\\assets\n"
     ]
    },
    {
     "name": "stderr",
     "output_type": "stream",
     "text": [
      "INFO:tensorflow:Assets written to: pickle_files/RNN/Multi3_Input\\assets\n"
     ]
    }
   ],
   "source": [
    "mixed_model.save(\"pickle_files/RNN/Multi3_Input\")"
   ]
  },
  {
   "cell_type": "code",
   "execution_count": 46,
   "id": "eec00288-f13b-4cf9-bedb-2b7c0fbbd76a",
   "metadata": {},
   "outputs": [
    {
     "data": {
      "text/plain": [
       "[<KerasTensor: shape=(None, 72, 5) dtype=float32 (created by layer 'Numeric')>,\n",
       " <KerasTensor: shape=(None, 72, 4) dtype=float32 (created by layer 'Categorical')>]"
      ]
     },
     "execution_count": 46,
     "metadata": {},
     "output_type": "execute_result"
    }
   ],
   "source": [
    "mixed_model.input"
   ]
  },
  {
   "cell_type": "markdown",
   "id": "b60b4646-f07e-4fdb-916c-a071f2d88f86",
   "metadata": {},
   "source": [
    "### Reading [# Forecasting: Principles and Practice](https://otexts.com/fpp3/)\n",
    "\n",
    "\n",
    "\n",
    "#### Getting Started\n",
    "\n",
    "###### Time Series Data :\n",
    "Data collected at regular spaced interval over time\n",
    "\n",
    "\n",
    "###### Cross -sectional data : \n",
    "Data collected at asogle point in time\n",
    "\n",
    "###### Decomposition method's role in time series prediction: \n",
    "They are useful for studying the trend and seasonal pattern in a time series\n",
    "\n",
    "Supposing $ED$ represent the Electricity demand, its <span>Explanatory model </span> \n",
    "Helps explain what couses the variation in a variable to predict. , "
   ]
  }
 ],
 "metadata": {
  "kernelspec": {
   "display_name": "Python 3 (ipykernel)",
   "language": "python",
   "name": "python3"
  },
  "language_info": {
   "codemirror_mode": {
    "name": "ipython",
    "version": 3
   },
   "file_extension": ".py",
   "mimetype": "text/x-python",
   "name": "python",
   "nbconvert_exporter": "python",
   "pygments_lexer": "ipython3",
   "version": "3.7.15"
  },
  "widgets": {
   "application/vnd.jupyter.widget-state+json": {
    "state": {},
    "version_major": 2,
    "version_minor": 0
   }
  }
 },
 "nbformat": 4,
 "nbformat_minor": 5
}
