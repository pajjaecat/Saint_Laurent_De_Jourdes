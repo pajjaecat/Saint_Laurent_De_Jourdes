{
 "cells": [
  {
   "cell_type": "markdown",
   "id": "20b19448-c448-4130-a879-ec0455818ae2",
   "metadata": {},
   "source": [
    "##### Sensitivity Analysis Simulation of the effect of Energy Producer Maximum outPut on the Voltage Rise Detected "
   ]
  },
  {
   "cell_type": "markdown",
   "id": "fc065a87-7dbd-47b1-babf-3e39a2cb365d",
   "metadata": {
    "tags": []
   },
   "source": [
    "Simulation based on  : \n",
    "* Prediction block RNN trained in [RNN_Train_StLaurentDeJourdes](RNN_Train_StLaurentDeJourdes.ipynb) \n",
    "    * To predict $X(k)$ and $Y(k)$  as respectively  $\\tilde{X(k)}$ an  $\\tilde{Y(k)}$ (Predictions on testing set are done in [RNN_Sim_StLaurentDeJourdes](RNN_Sim_StLaurentDeJourdµes.ipynb))\n",
    "* RObust RNN To predict $X(k)$ and $Y(k)$  as respectively  $\\tilde{X(k)}$ an  $\\tilde{Y(k)}$ based on robust Model1 and Model 3[2021_2022_RNN_Robust_All_Models](2021_2022_RNN_Robust_All_Models.ipynb))\n",
    "* Prediction Block Future Known [2021_2022_KnownFuture](2021_2022_KnownFuture.ipynb)\n",
    "* Persistence Model [2021_2022_Persistence](2021_2022_Persistence.ipynb)\n",
    "\n",
    "\n",
    "Maximum voltage rise $vm_{pu}^{max} = 1.0250 $"
   ]
  },
  {
   "cell_type": "markdown",
   "id": "96c067fd-725f-4694-a4e0-d0f55adcae39",
   "metadata": {},
   "source": [
    "---"
   ]
  },
  {
   "cell_type": "code",
   "execution_count": 32,
   "id": "d7be9346-c94c-47a1-9e68-22c0494b4fb0",
   "metadata": {
    "tags": []
   },
   "outputs": [],
   "source": [
    "def initVarsFor_ParEngines(pred_df, upscaling_coef):\n",
    "\n",
    "    \n",
    "    df_prodHT = pred_df.iloc[:,2:]\n",
    "    df_prodHT.columns = ['P0013','P0018','P0100'] # Rename column \n",
    "    \n",
    "    # Upscale P0100 based on its maximum value range\n",
    "    df_prodHT.P0100 = upscaling_coef*df_prodHT.P0100/P0100_max\n",
    "\n",
    "    df_prod_bt_total = pred_df.iloc[:,[1]]\n",
    "    df_prod_bt_total.columns = ['Prod_BT']\n",
    "\n",
    "    df_cons_total = pred_df.iloc[:,[0]]\n",
    "    df_cons_total.columns = ['Cons']\n",
    "\n",
    "    # Define a dict \n",
    "    dict_df_sgenLoad = dict({'df_prodHT':df_prodHT, \n",
    "                             'df_prod_bt_total':df_prod_bt_total, \n",
    "                             'df_cons_total':df_cons_total } )\n",
    "    \n",
    "    return df_prodHT, dict_df_sgenLoad\n",
    "\n",
    "\n",
    "\n",
    "def Init_ParEngines_Parameters (df_prodHT, opf_status, dict_df_sgenLoad, parameters_dict, nb_exec ):\n",
    "\n",
    "    if nb_exec == 0 : \n",
    "        # Clear the localspace of all engines\n",
    "        dview.clear() \n",
    "\n",
    "        # # Import following modules on the local space of clients or engines\n",
    "        with rc[:].sync_imports():\n",
    "            import numpy, pandapower,pandas, Par_myFunctions\n",
    "\n",
    "    # Share the total number of period in df_prodHT.index among all the created engines\n",
    "    dview.scatter('period_part', df_prodHT.index)\n",
    "    \n",
    "    # Add all variables in the parameters_dict  to  the local space of each client\n",
    "    dview.push(parameters_dict) \n",
    "                       \n",
    "    # Send following Variables to local space of parallel engines\n",
    "    dview['opf_status'] = opf_status  \n",
    "    dview['dict_df_sgenLoad'] = dict_df_sgenLoad   \n",
    "    \n",
    "    \n",
    "    \n",
    "def block_pf_Opf(df_prodHT, opf_status, pred_model=None): \n",
    "    \n",
    "    if pred_model == 'Pers': \n",
    "    # Run problem in parallel\n",
    "        %px par_run_Results = [Par_myFunctions.run_powerflow_at(net_civaux, cur_period+1, net_civaux_hv_activated_bus, sum_max_main_network,  dict_df_sgenLoad, vm_mu_max, opf_status, pred_model) for cur_period in period_part]\n",
    "    else:\n",
    "        %px par_run_Results = [Par_myFunctions.run_powerflow_at(net_civaux, cur_period, net_civaux_hv_activated_bus, sum_max_main_network,  dict_df_sgenLoad, vm_mu_max, opf_status) for cur_period in period_part]\n",
    "        \n",
    "        \n",
    "    results = dview.gather('par_run_Results')\n",
    "    time.sleep(2) # Wait before continuing the execution\n",
    "\n",
    "    if opf_status =='Both': \n",
    "        # Extract results\n",
    "        extracted_results = mf.extract_par_results(results, df_prodHT)\n",
    "        return extracted_results\n",
    "    \n",
    "    elif opf_status== False: \n",
    "        # Put data in dataframe\n",
    "        max_vm_pu_rnn_df = pd.DataFrame(data=np.array(results), \n",
    "                                        index=df_prodHT.index, columns=['RNN'],)\n",
    "        return max_vm_pu_rnn_df\n",
    "    \n",
    "    else: raise valueError ('<opf_status> must be either of [False, ''Both'']')\n",
    "\n",
    "\n",
    "def block_prod(extracted_results, df_final, upscaling_coef):\n",
    "    extracted_results.loc[per_index2[day_tot_per:], ['P0100']] = (np.minimum(df_final.loc[per_index2[day_tot_per:], 'P0100']*upscaling_coef/P0100_max,\n",
    "                                                                             extracted_results.loc[per_index2[day_tot_per:], 'P0100']))\n",
    "    \n",
    "    return extracted_results"
   ]
  },
  {
   "cell_type": "markdown",
   "id": "16cf0dd9-6d42-4120-b539-b29c337fbdef",
   "metadata": {},
   "source": [
    "#### Import Modules \n"
   ]
  },
  {
   "cell_type": "code",
   "execution_count": 2,
   "id": "2346d4b8-6911-477a-84a3-c8eb55f5e446",
   "metadata": {},
   "outputs": [],
   "source": [
    "import pandas as pd\n",
    "import pandapower as pp\n",
    "import matplotlib.pyplot as plt\n",
    "import numpy as np\n",
    "from pandapower.control.controller.const_control import ConstControl\n",
    "from pandapower.timeseries.data_sources.frame_data import DFData\n",
    "from pandapower.timeseries.run_time_series import run_timeseries\n",
    "from pandapower.timeseries.output_writer import OutputWriter\n",
    "from pandapower.plotting import simple_plot,simple_plotly,pf_res_plotly\n",
    "import ipyparallel as ipp\n",
    "import math as mt\n",
    "import pandapower.plotting as pt\n",
    "from pandapower.plotting.plotly import simple_plotly\n",
    "from tqdm import tqdm # Profiling \n",
    "import seaborn as sbn\n",
    "import pickle, sys, importlib,  time\n",
    "import os\n",
    "from pickle import load\n",
    "import tensorflow as tf\n",
    "import joblib"
   ]
  },
  {
   "cell_type": "code",
   "execution_count": 3,
   "id": "221fcb98-4ddc-4d75-b03d-379c3778d93d",
   "metadata": {},
   "outputs": [],
   "source": [
    "function_folder = 'py_files/' \n",
    "# Add function folder to path if it is not already\n",
    "if function_folder not in sys.path: sys.path.append(function_folder)\n",
    "\n",
    "import myFunctions as mf\n",
    "from myFunctions import network_folder, excel_folder, py_folder, Δt, attr_list"
   ]
  },
  {
   "cell_type": "markdown",
   "id": "c7208954-c894-4437-9b2c-1488e0825c00",
   "metadata": {},
   "source": [
    "#### Import Networks\n"
   ]
  },
  {
   "cell_type": "code",
   "execution_count": 4,
   "id": "984342d1-0910-4cc7-b4a1-9d7070995f0c",
   "metadata": {},
   "outputs": [],
   "source": [
    "net_civaux=pp.from_pickle(f'{network_folder}CIVAUX.p')\n",
    "net_stlaurent=pp.from_pickle(f'{network_folder}ST LAURENT.p')\n",
    "\n",
    "# Compute the total of BT prod and Load on St Laurent\n",
    "sum_max_p_mw_StLaurent_prodBT =net_stlaurent.sgen[net_stlaurent.sgen.name.isna()].max_p_mw.sum()\n",
    "sum_max_p_mw_StLaurent_load = net_stlaurent.load.max_p_mw.sum()\n",
    "\n",
    "# To use later in functions \n",
    "sum_max_main_network = (sum_max_p_mw_StLaurent_prodBT, sum_max_p_mw_StLaurent_load)\n"
   ]
  },
  {
   "cell_type": "markdown",
   "id": "5e405f88-f008-44b6-a62f-5a5fc10f61b9",
   "metadata": {},
   "source": [
    "#### Import and dataClead files for component of the network"
   ]
  },
  {
   "cell_type": "code",
   "execution_count": 5,
   "id": "e7f153e2-aba8-4fde-8edf-d7aab38f196d",
   "metadata": {},
   "outputs": [],
   "source": [
    "#Load files\n",
    "file_p_inj_0013 = 'Prod_HTA/PROD_Bis/P0013/PROD-BATISOLAIRE 6-CIVAUX - Actif injecte (P-).csv'\n",
    "file_p_inj_0018 = 'Prod_HTA/PROD_Bis/P0018/PROD-SUN POITOU 2516 (Z.I de la Pitage)-LHOMMAIZE - Actif injecte (P-).csv'\n",
    "\n",
    "\n",
    "# The  commissioning of the Prod P0100 is recent (2022). I therefore use the data of the closer energy \n",
    "# producer that is P0058  and consider it as that of Prod P0100 \n",
    "file_p_inj_0100 = 'Prod_HTA/PROD_Bis/PROD-SERGIES 2204 (LA ROCHE A CORNUCHON)-PINDRAY - Actif P-.csv'\n",
    "\n",
    "file_prod_bt_total = 'PROD_BTSUP36_SAINT LAURENT.csv'\n",
    "file_cons_total = 'CONSO_POSTE_SAINT LAURENT.csv'\n",
    "\n",
    "\n",
    "# Get files data \n",
    "p_mw_0013 = mf.readAndReshape_input(file_p_inj_0013 ,excel_folder, )\n",
    "p_mw_0018 = mf.readAndReshape_input(file_p_inj_0018 ,excel_folder,)\n",
    "p_mw_0100 = mf.readAndReshape_input(file_p_inj_0100 ,excel_folder,)\n",
    "\n",
    "\n",
    "p_mw_prod_bt_total = mf.readAndReshape_input(file_prod_bt_total, excel_folder)\n",
    "p_mw_cons_total = mf.readAndReshape_input(file_cons_total, excel_folder)\n",
    "\n",
    "# Create dict for all HT producers\n",
    "dict_prod_hv = {'P0013': p_mw_0013[:len(p_mw_0100)], \n",
    "                'P0018': p_mw_0018[:len(p_mw_0100)],\n",
    "                'P0100': p_mw_0100[:len(p_mw_0100)]\n",
    "               }\n",
    "# Create index to use for dataframe\n",
    "per_index = pd.period_range('01 01 2020', periods=len(p_mw_0100), freq='10T')\n",
    "\n",
    "# Use the create dict to create a dataFrame for Prod P0100\n",
    "df_prodP0100 = pd.DataFrame(p_mw_0100, index=per_index)\n",
    "\n",
    "# Use the create dict to create a dataFrame for all HT producers\n",
    "df_prodHT = pd.DataFrame(dict_prod_hv, index=per_index)\n",
    "\n",
    "# Dataframe prod BT \n",
    "per_index = pd.period_range('01 01 2020', periods=len(p_mw_prod_bt_total), freq='10T')\n",
    "df_prod_bt_total = pd.DataFrame(p_mw_prod_bt_total, index=per_index, columns=['Prod_BT'])\n",
    "\n",
    "\n",
    "# Dataframe Conso BT \n",
    "per_index = pd.period_range('01 01 2020', periods=len(p_mw_cons_total), freq='10T')\n",
    "df_cons_total = pd.DataFrame(p_mw_cons_total, index=per_index, columns=['Cons'])\n",
    "# Data cleaning on Consumption\n",
    "previous_days = df_cons_total[(per_index>='2022 02 12') & (per_index<='2022 02 21 23:50')]\n",
    "following_days = df_cons_total[(per_index>='2022 03 03') & (per_index<='2022 03 12 23:50')]\n",
    "# # Put the interpolated data into the dataframe\n",
    "df_cons_total[(per_index>='2022 02 21') & (per_index<='2022 03 02 23:50')] = (np.array(following_days) + \n",
    "                                                                              np.array(previous_days) )/2\n",
    "\n",
    "\n",
    "# Get total Power of BT producers\n",
    "# Bt producers are indexed by the name None\n",
    "max_p_mw_total_prodBT = net_civaux.sgen.max_p_mw[net_civaux.sgen.name.isna()].sum()\n",
    "\n",
    "# # Get total power of load in the network\n",
    "max_p_mw_total_load = net_civaux.load.max_p_mw.sum()\n",
    "\n",
    "# Select relevant data up to 2022 06 01\n",
    "df_prodHT = df_prodHT[df_prodHT.index<='2022 06 01 23:50']\n",
    "df_prod_bt_total = df_prod_bt_total[df_prod_bt_total.index<='2022 06 01 23:50']\n",
    "df_cons_total = df_cons_total[df_cons_total.index<='2022 06 01 23:50']\n",
    "\n",
    "\n",
    "# Extract only dailight period i.e. from 07am to 7PM\n",
    "# The daylight period is considered to be defined betwenn 07am and 7Pm excluded. \n",
    "h_start_end = ('07:00','18:50') # for the persistance model, the previous period i.e. 06:50 \n",
    "                                # is needed to compute the first instant i.e. 07:00\n",
    "per_index = df_prodHT.index\n",
    "per_daylight = ( pd.Series(index=per_index.to_timestamp(), dtype=object).between_time(*h_start_end) ).index.to_period('10T')\n",
    "day_tot_per = len(per_daylight[(per_daylight.year==2020)&(per_daylight.month==1)&(per_daylight.day==1)])\n",
    "\n",
    "\n",
    "# Put all the data in a unique dataframe\n",
    "df_data = pd.concat([df_cons_total, df_prod_bt_total, df_prodHT], axis=1).loc[per_daylight]\n",
    "\n",
    "# # Extract only the relavant testing set since the training set covers the first part of the data\n",
    "df_final = df_data[df_data.index>='2021 06 01']\n",
    "per_index = df_final.index\n",
    "per_index2 = ( pd.Series(index=per_index.to_timestamp(), dtype=object\n",
    "                           ).between_time('07:00','18:50') ).index.to_period('10T')\n"
   ]
  },
  {
   "cell_type": "markdown",
   "id": "f0f3418b-ccb0-4bde-b99b-3c8f3c734332",
   "metadata": {},
   "source": [
    "##### Load prediction file"
   ]
  },
  {
   "cell_type": "code",
   "execution_count": 6,
   "id": "cabc433d-d018-4e84-907d-0246a827ae79",
   "metadata": {},
   "outputs": [],
   "source": [
    "rnnPred_df = joblib.load('pickle_files/simulationResults/RNN_pred.pkl')"
   ]
  },
  {
   "cell_type": "markdown",
   "id": "324bc5d2-b316-4fc4-badd-9b4d83f00a92",
   "metadata": {},
   "source": [
    "#### Data extraction on the network"
   ]
  },
  {
   "cell_type": "code",
   "execution_count": 7,
   "id": "890296b0-72bf-495c-b7c5-283ef054e20c",
   "metadata": {},
   "outputs": [],
   "source": [
    "net_civaux_hv_bus = list(net_civaux.bus.groupby('vn_kv'))[1][1] # Extract HV bus in the network\n",
    "\n",
    "pp.runpp(net_civaux) # Run network \n",
    "\n",
    "# Get the index of all the activated bus in the network\n",
    "activated_bus_index = list(net_civaux.res_bus.vm_pu[net_civaux.res_bus.vm_pu.notna()].index)\n",
    "\n",
    "# Extract the HV bus from the list of activated bus \n",
    "net_civaux_hv_activated_bus = [i for i in activated_bus_index \n",
    "                               if i in net_civaux_hv_bus.index]"
   ]
  },
  {
   "cell_type": "markdown",
   "id": "66f443a0-d716-4935-90a4-7635130ab253",
   "metadata": {},
   "source": [
    "#### Start Parallel engines"
   ]
  },
  {
   "cell_type": "code",
   "execution_count": 8,
   "id": "b00f1de0-a1de-49f6-a81a-1ab48129c8b4",
   "metadata": {},
   "outputs": [
    {
     "name": "stdout",
     "output_type": "stream",
     "text": [
      "Starting 6 engines with <class 'ipyparallel.cluster.launcher.LocalEngineSetLauncher'>\n"
     ]
    },
    {
     "data": {
      "application/vnd.jupyter.widget-view+json": {
       "model_id": "a60b3a98e9104fab856b3fd3baf2077e",
       "version_major": 2,
       "version_minor": 0
      },
      "text/plain": [
       "  0%|          | 0/6 [00:00<?, ?engine/s]"
      ]
     },
     "metadata": {},
     "output_type": "display_data"
    }
   ],
   "source": [
    "n_engines = 6                      # Total number of engines\n",
    "# (Use the real maximum cpu and not the logical)            \n",
    "cluster = ipp.Cluster(n=n_engines) # Create cluster\n",
    "cluster.start_cluster_sync()       # Start cluster \n",
    "rc = cluster.connect_client_sync() # connect client\n",
    "rc.wait_for_engines(n_engines)     # Wait for engines to be available for all clients\n",
    "dview = rc[:]                      # Create a direct view of all engine or clients that would\n",
    "                                   # be used to command each client"
   ]
  },
  {
   "cell_type": "markdown",
   "id": "90626953-634c-4b59-b932-9025f34cd27f",
   "metadata": {
    "tags": []
   },
   "source": [
    "## OPF  RNN"
   ]
  },
  {
   "cell_type": "markdown",
   "id": "a862287e-7d76-44f3-87e2-c12b2d32961a",
   "metadata": {},
   "source": [
    "#### Load network"
   ]
  },
  {
   "cell_type": "code",
   "execution_count": 9,
   "id": "4fb8a9cf-4b55-4369-bf89-955137fe4d4b",
   "metadata": {},
   "outputs": [],
   "source": [
    "net_civaux=pp.from_pickle(f'{network_folder}CIVAUX.p') # Reload network with new name \n",
    "\n",
    "# Add a controllable line to the static generators\n",
    "net_civaux.sgen['controllable'] = False \n",
    "\n",
    "# Set the producer P0100 as a controllable load\n",
    "net_civaux.sgen['controllable'][net_civaux.sgen.name=='P0100'] = True\n",
    "\n",
    "# Add Missing columns to be able to un an opf \n",
    "net_civaux.sgen[['min_p_mw', 'min_q_mvar', 'max_q_mvar']]=0.\n",
    "\n",
    "# Rename data in bus network because the names do not correspond to the parameters in pandapower \n",
    "net_civaux.bus.rename({'max_vw_pu':'max_vm_pu',}, axis=1, inplace=True)\n",
    "\n",
    "net_civaux.bus.drop(['max_vm', 'min_vm'], axis=1, inplace=True)    # Delete useless parameters\n",
    "net_civaux_hv_bus = list(net_civaux.bus.groupby('vn_kv'))[1][1]   # Extract HV bus in the network\n",
    "\n",
    "pp.runpp(net_civaux) # Run network \n",
    "\n",
    "# Get the index of all the activated bus in the network\n",
    "activated_bus_index2 = list(net_civaux.res_bus.vm_pu[net_civaux.res_bus.vm_pu.notna()].index)\n",
    "\n",
    "# Extract the HV bus from the list of activated bus \n",
    "net_civaux_hv_activated_bus = [i for i in activated_bus_index2 \n",
    "                               if i in net_civaux_hv_bus.index]"
   ]
  },
  {
   "cell_type": "markdown",
   "id": "3b36df26-a211-4e2c-8200-ec28b451a134",
   "metadata": {
    "tags": []
   },
   "source": [
    "#### Add maximum voltage constraints on the Buses in the network "
   ]
  },
  {
   "cell_type": "code",
   "execution_count": 10,
   "id": "eeec83c6-1389-4eb6-9f59-aa3af08e50d3",
   "metadata": {},
   "outputs": [],
   "source": [
    "vm_mu_max, vm_mu_min = 1.0250, 0.95  # Choosen \n",
    "# vm_mu_max, vm_mu_min = 1.0225, 0.95  # Choosen \n",
    "\n",
    "# net_civaux.bus.max_vm_pu[net_civaux.bus.max_vm_pu.notna()] = vm_mu_max\n",
    "net_civaux.bus.max_vm_pu[net_civaux_hv_activated_bus] = vm_mu_max\n",
    "net_civaux.bus.min_vm_pu[net_civaux_hv_activated_bus] = vm_mu_min\n"
   ]
  },
  {
   "cell_type": "code",
   "execution_count": 11,
   "id": "a25baf83-ed4f-4ecb-b45e-e9f300dff7ed",
   "metadata": {},
   "outputs": [
    {
     "data": {
      "text/html": [
       "<div>\n",
       "<style scoped>\n",
       "    .dataframe tbody tr th:only-of-type {\n",
       "        vertical-align: middle;\n",
       "    }\n",
       "\n",
       "    .dataframe tbody tr th {\n",
       "        vertical-align: top;\n",
       "    }\n",
       "\n",
       "    .dataframe thead th {\n",
       "        text-align: right;\n",
       "    }\n",
       "</style>\n",
       "<table border=\"1\" class=\"dataframe\">\n",
       "  <thead>\n",
       "    <tr style=\"text-align: right;\">\n",
       "      <th></th>\n",
       "      <th>element</th>\n",
       "      <th>et</th>\n",
       "      <th>cp0_eur</th>\n",
       "      <th>cp1_eur_per_mw</th>\n",
       "      <th>cp2_eur_per_mw2</th>\n",
       "      <th>cq0_eur</th>\n",
       "      <th>cq1_eur_per_mvar</th>\n",
       "      <th>cq2_eur_per_mvar2</th>\n",
       "    </tr>\n",
       "  </thead>\n",
       "  <tbody>\n",
       "    <tr>\n",
       "      <th>0</th>\n",
       "      <td>23</td>\n",
       "      <td>sgen</td>\n",
       "      <td>0.0</td>\n",
       "      <td>-1.0</td>\n",
       "      <td>0.0</td>\n",
       "      <td>0.0</td>\n",
       "      <td>0.0</td>\n",
       "      <td>0.0</td>\n",
       "    </tr>\n",
       "  </tbody>\n",
       "</table>\n",
       "</div>"
      ],
      "text/plain": [
       "   element    et  cp0_eur  cp1_eur_per_mw  cp2_eur_per_mw2  cq0_eur  \\\n",
       "0       23  sgen      0.0            -1.0              0.0      0.0   \n",
       "\n",
       "   cq1_eur_per_mvar  cq2_eur_per_mvar2  \n",
       "0               0.0                0.0  "
      ]
     },
     "execution_count": 11,
     "metadata": {},
     "output_type": "execute_result"
    }
   ],
   "source": [
    "# Add negative cost to usability of sgen P0100 so its usage can be maximised while respecting the constraints on the network\n",
    "cost_sgen_p0100 = pp.create_poly_cost(net_civaux,23,'sgen', cp1_eur_per_mw=-1)\n",
    "# net_civaux.poly_cost.cp1_eur_per_mw.at[cost_sgen_p0100]=-0.5\n",
    "net_civaux.poly_cost"
   ]
  },
  {
   "cell_type": "markdown",
   "id": "022ebed3-4751-45f9-82f6-3d892a9e7a34",
   "metadata": {},
   "source": [
    "#### Redefine Data to use in local space of engines"
   ]
  },
  {
   "cell_type": "code",
   "execution_count": 18,
   "id": "24dd7871-f29a-48cf-a321-eb529d07bd4c",
   "metadata": {
    "tags": []
   },
   "outputs": [],
   "source": [
    "# Create a dictionnary containing all the varible that will be used by each client or engine\n",
    "pred_model = 'Pers'\n",
    "\n",
    "parameters_dict = dict({'net_civaux':net_civaux, \n",
    "                        'net_civaux_hv_activated_bus':net_civaux_hv_activated_bus, \n",
    "                        'sum_max_main_network':sum_max_main_network, \n",
    "                        'vm_mu_max':vm_mu_max,\n",
    "                        'pred_model':pred_model\n",
    "                         })"
   ]
  },
  {
   "cell_type": "markdown",
   "id": "f8b242e9-1267-43bc-9a9e-61b263278f08",
   "metadata": {},
   "source": [
    "---"
   ]
  },
  {
   "cell_type": "markdown",
   "id": "6a9702a9-b848-4830-9c4d-20770f42a7be",
   "metadata": {
    "tags": []
   },
   "source": [
    "#### Robust Persistence"
   ]
  },
  {
   "cell_type": "code",
   "execution_count": 34,
   "id": "35917903-ace9-4988-8c17-7448b6f2c9bc",
   "metadata": {
    "scrolled": true,
    "tags": []
   },
   "outputs": [
    {
     "name": "stdout",
     "output_type": "stream",
     "text": [
      "                            ------- Bloc PF/OPF ---------         \n"
     ]
    },
    {
     "data": {
      "application/vnd.jupyter.widget-view+json": {
       "model_id": "a742932ee77a46c191e2156c31400334",
       "version_major": 2,
       "version_minor": 0
      },
      "text/plain": [
       "%px:   0%|          | 0/6 [00:00<?, ?tasks/s]"
      ]
     },
     "metadata": {},
     "output_type": "display_data"
    }
   ],
   "source": [
    "sim_res_Dict = {}  # Dictionnary to save variables\n",
    "\n",
    "P0100_max = 4      #Define the maximum power output subscribed by P0100 \n",
    "\n",
    "# Define Range for the maximum power output subscribed by P0100 \n",
    "P0100_max_range = np.arange(0, P0100_max+0.1 ,0.2)\n",
    "\n",
    "\n",
    "\n",
    "for mr_index in range(len(P0100_max_range)):\n",
    "    upscaling_coef = P0100_max_range[mr_index]  # Define upsacaling coeff\n",
    "\n",
    "    # Initialize variables for parallel engines\n",
    "    df_prodHT, dict_df_sgenLoad = initVarsFor_ParEngines(df_final, upscaling_coef)\n",
    "    print(f'***************************       Simulation {mr_index+1}/{len(P0100_max_range)}      ****************')\n",
    "    print(\"                           ------- Bloc PF/OPF ---------         \")\n",
    "    ##          ---------------------------  BLOCK PF/OPF  ------------------------         ##\n",
    "    # Initialize the parallel engine parameters i.e. send varible into each local space\n",
    "    opf_status = 'Both'\n",
    "    Init_ParEngines_Parameters(df_prodHT, opf_status, dict_df_sgenLoad, parameters_dict, 0 )\n",
    "\n",
    "    # cALL Block pf/op\n",
    "    extracted_results = block_pf_Opf(df_prodHT, opf_status, pred_model)    \n",
    "\n",
    "    \n",
    "    # ---------------------- Implement Robust Persistence ------------------------------------\n",
    "    # create new period index mask spaning from 08Am to 6PM\n",
    "    per_index2 = per_index.to_timestamp().to_series().between_time('07:10','18:50').index.to_period('10T')\n",
    "\n",
    "    # Create a new df for P0100 \n",
    "    df_p0100_pers_improved = pd.DataFrame(index=per_index2, columns=['P0100_Pers_Imp'])\n",
    "\n",
    "    # Get into the dataframe data of P0100 When there is no control\n",
    "    df_p0100_pers_improved.loc[per_index2,['P0100_Pers_Imp'] ] = upscaling_coef*df_final.loc[per_index2].P0100/P0100_max\n",
    "    \n",
    "    # Get a mask for the periods where a voltage rise above the threshold is predicted \n",
    "    mask_vrise_per = extracted_results.loc[per_index2, 'max_vm_pu_pf']>vm_mu_max\n",
    "    \n",
    "    # Replace the values of periods given by the mask by the value of P0100 period given \n",
    "    df_p0100_pers_improved[mask_vrise_per] = extracted_results.loc[mask_per_index].loc[mask_vrise_per,['P0100']]\n",
    "\n",
    "    # Replace the values of P0100 in the extracted results dataframe\n",
    "    extracted_results.loc[per_index2, ['P0100']] = df_p0100_pers_improved.loc[per_index2, 'P0100_Pers_Imp']  \n",
    "    \n",
    "    \n",
    "    \n",
    "    ##             ---------------------------  BLOCK PROD  ------------------------         ##\n",
    "    extracted_results = block_prod(extracted_results, df_final, upscaling_coef)\n",
    "\n",
    "\n",
    "    # Update Values for the dict to use for final power flow bloc\n",
    "    day_tot_per = day_tot_per-1\n",
    "    prod_hv_df = pd.concat([df_final.loc[per_index2[day_tot_per:], ['P0013', 'P0018']], \n",
    "                            extracted_results.loc[per_index2[day_tot_per:], ['P0100']]], axis=1)\n",
    "\n",
    "    dict_df_sgenLoad = dict({'df_prodHT': prod_hv_df, \n",
    "                             'df_prod_bt_total':df_final.loc[per_index2[day_tot_per:], ['Prod_BT']], \n",
    "                             'df_cons_total':df_final.loc[per_index2[day_tot_per:], ['Cons']] } )\n",
    "\n",
    "\n",
    "    ##             ---------------------------  BLOCK PF  ------------------------         ##\n",
    "    print(\"                            ------- Bloc PF/OPF ---------         \")\n",
    "\n",
    "    opf_status = False\n",
    "    # Initialize the parallel engine parameters i.e. send varible into each local space for PF\n",
    "    Init_ParEngines_Parameters(prod_hv_df, opf_status, dict_df_sgenLoad, parameters_dict, 1)\n",
    "\n",
    "    # cALL Block pf\n",
    "    max_vm_pu_pers_df = block_pf_Opf(prod_hv_df, opf_status)    \n",
    "\n",
    "\n",
    "\n",
    "    #####   Saving Results \n",
    "    P0100_df = df_final.loc[prod_hv_df.index, ['P0100']]\n",
    "    P0100_pers_df = pd.DataFrame(data=extracted_results.loc[prod_hv_df.index].P0100.values, \n",
    "                                 index=extracted_results.loc[prod_hv_df.index].index, \n",
    "                                 columns=['Pers_Rob Sim'+str(mr_index+1)] )\n",
    "    # Concat\n",
    "    P0100_concat_df = pd.concat([P0100_max_range[mr_index]*P0100_df/P0100_max,P0100_pers_df], axis=1)\n",
    "    # Rename\n",
    "    P0100_concat_df.rename(columns=({'P0100':'No_Control'}), inplace=True);\n",
    "\n",
    "\n",
    "    int_sim_res = {'maxV_rise_df':max_vm_pu_pers_df,              # Intermediate results\n",
    "                   'Power Sgen': P0100_concat_df}         \n",
    "    sim_res_Dict.update([('Sim'+str(mr_index+1),int_sim_res)])   # Final results\n"
   ]
  },
  {
   "cell_type": "markdown",
   "id": "e9e9f1af-78f6-4a21-b006-df0132942238",
   "metadata": {
    "tags": []
   },
   "source": [
    "#### FUTURE KNOWN"
   ]
  },
  {
   "cell_type": "code",
   "execution_count": 15,
   "id": "5aedf556-1d7e-4d37-b6b8-08e4b8373aaf",
   "metadata": {
    "scrolled": true,
    "tags": []
   },
   "outputs": [
    {
     "name": "stdout",
     "output_type": "stream",
     "text": [
      "***************************       Simulation 1/21      ****************\n",
      "                           ------- Bloc PF/OPF ---------         \n",
      "importing numpy on engine(s)\n",
      "importing pandapower on engine(s)\n",
      "importing pandas on engine(s)\n",
      "importing Par_myFunctions on engine(s)\n"
     ]
    },
    {
     "data": {
      "application/vnd.jupyter.widget-view+json": {
       "model_id": "4f1c8a7211554a8d9e0b1c37da2c1a8f",
       "version_major": 2,
       "version_minor": 0
      },
      "text/plain": [
       "%px:   0%|          | 0/6 [00:00<?, ?tasks/s]"
      ]
     },
     "metadata": {},
     "output_type": "display_data"
    },
    {
     "name": "stdout",
     "output_type": "stream",
     "text": [
      "***************************       Simulation 2/21      ****************\n",
      "                           ------- Bloc PF/OPF ---------         \n",
      "importing numpy on engine(s)\n",
      "importing pandapower on engine(s)\n",
      "importing pandas on engine(s)\n",
      "importing Par_myFunctions on engine(s)\n"
     ]
    },
    {
     "data": {
      "application/vnd.jupyter.widget-view+json": {
       "model_id": "2384b0371c24439cb47d1ec42d3212af",
       "version_major": 2,
       "version_minor": 0
      },
      "text/plain": [
       "%px:   0%|          | 0/6 [00:00<?, ?tasks/s]"
      ]
     },
     "metadata": {},
     "output_type": "display_data"
    },
    {
     "name": "stdout",
     "output_type": "stream",
     "text": [
      "***************************       Simulation 3/21      ****************\n",
      "                           ------- Bloc PF/OPF ---------         \n",
      "importing numpy on engine(s)\n",
      "importing pandapower on engine(s)\n",
      "importing pandas on engine(s)\n",
      "importing Par_myFunctions on engine(s)\n"
     ]
    },
    {
     "data": {
      "application/vnd.jupyter.widget-view+json": {
       "model_id": "1deecfe217da4f75a0a5ead5e02a4da6",
       "version_major": 2,
       "version_minor": 0
      },
      "text/plain": [
       "%px:   0%|          | 0/6 [00:00<?, ?tasks/s]"
      ]
     },
     "metadata": {},
     "output_type": "display_data"
    },
    {
     "name": "stdout",
     "output_type": "stream",
     "text": [
      "***************************       Simulation 4/21      ****************\n",
      "                           ------- Bloc PF/OPF ---------         \n",
      "importing numpy on engine(s)\n",
      "importing pandapower on engine(s)\n",
      "importing pandas on engine(s)\n",
      "importing Par_myFunctions on engine(s)\n"
     ]
    },
    {
     "data": {
      "application/vnd.jupyter.widget-view+json": {
       "model_id": "a584d6d0ce234902ab604cbb6a76c0f7",
       "version_major": 2,
       "version_minor": 0
      },
      "text/plain": [
       "%px:   0%|          | 0/6 [00:00<?, ?tasks/s]"
      ]
     },
     "metadata": {},
     "output_type": "display_data"
    },
    {
     "name": "stdout",
     "output_type": "stream",
     "text": [
      "***************************       Simulation 5/21      ****************\n",
      "                           ------- Bloc PF/OPF ---------         \n",
      "importing numpy on engine(s)\n",
      "importing pandapower on engine(s)\n",
      "importing pandas on engine(s)\n",
      "importing Par_myFunctions on engine(s)\n"
     ]
    },
    {
     "data": {
      "application/vnd.jupyter.widget-view+json": {
       "model_id": "50e5e18f37534c32943d57845c7ee0f7",
       "version_major": 2,
       "version_minor": 0
      },
      "text/plain": [
       "%px:   0%|          | 0/6 [00:00<?, ?tasks/s]"
      ]
     },
     "metadata": {},
     "output_type": "display_data"
    },
    {
     "name": "stdout",
     "output_type": "stream",
     "text": [
      "***************************       Simulation 6/21      ****************\n",
      "                           ------- Bloc PF/OPF ---------         \n",
      "importing numpy on engine(s)\n",
      "importing pandapower on engine(s)\n",
      "importing pandas on engine(s)\n",
      "importing Par_myFunctions on engine(s)\n"
     ]
    },
    {
     "data": {
      "application/vnd.jupyter.widget-view+json": {
       "model_id": "97401c2104ef4ea7838c85dab5baaa28",
       "version_major": 2,
       "version_minor": 0
      },
      "text/plain": [
       "%px:   0%|          | 0/6 [00:00<?, ?tasks/s]"
      ]
     },
     "metadata": {},
     "output_type": "display_data"
    },
    {
     "name": "stdout",
     "output_type": "stream",
     "text": [
      "***************************       Simulation 7/21      ****************\n",
      "                           ------- Bloc PF/OPF ---------         \n",
      "importing numpy on engine(s)\n",
      "importing pandapower on engine(s)\n",
      "importing pandas on engine(s)\n",
      "importing Par_myFunctions on engine(s)\n"
     ]
    },
    {
     "data": {
      "application/vnd.jupyter.widget-view+json": {
       "model_id": "fe8bb541bffa46e99d6826c06ff7622e",
       "version_major": 2,
       "version_minor": 0
      },
      "text/plain": [
       "%px:   0%|          | 0/6 [00:00<?, ?tasks/s]"
      ]
     },
     "metadata": {},
     "output_type": "display_data"
    },
    {
     "name": "stdout",
     "output_type": "stream",
     "text": [
      "***************************       Simulation 8/21      ****************\n",
      "                           ------- Bloc PF/OPF ---------         \n",
      "importing numpy on engine(s)\n",
      "importing pandapower on engine(s)\n",
      "importing pandas on engine(s)\n",
      "importing Par_myFunctions on engine(s)\n"
     ]
    },
    {
     "data": {
      "application/vnd.jupyter.widget-view+json": {
       "model_id": "c05ea4ba53d04714b2ed74b35405ba6f",
       "version_major": 2,
       "version_minor": 0
      },
      "text/plain": [
       "%px:   0%|          | 0/6 [00:00<?, ?tasks/s]"
      ]
     },
     "metadata": {},
     "output_type": "display_data"
    },
    {
     "name": "stdout",
     "output_type": "stream",
     "text": [
      "***************************       Simulation 9/21      ****************\n",
      "                           ------- Bloc PF/OPF ---------         \n",
      "importing numpy on engine(s)\n",
      "importing pandapower on engine(s)\n",
      "importing pandas on engine(s)\n",
      "importing Par_myFunctions on engine(s)\n"
     ]
    },
    {
     "data": {
      "application/vnd.jupyter.widget-view+json": {
       "model_id": "65073ab9be2c4422b7a2f6f9895c04c0",
       "version_major": 2,
       "version_minor": 0
      },
      "text/plain": [
       "%px:   0%|          | 0/6 [00:00<?, ?tasks/s]"
      ]
     },
     "metadata": {},
     "output_type": "display_data"
    },
    {
     "name": "stdout",
     "output_type": "stream",
     "text": [
      "***************************       Simulation 10/21      ****************\n",
      "                           ------- Bloc PF/OPF ---------         \n",
      "importing numpy on engine(s)\n",
      "importing pandapower on engine(s)\n",
      "importing pandas on engine(s)\n",
      "importing Par_myFunctions on engine(s)\n"
     ]
    },
    {
     "data": {
      "application/vnd.jupyter.widget-view+json": {
       "model_id": "c5a4f0052bf244458f896add7dc0af45",
       "version_major": 2,
       "version_minor": 0
      },
      "text/plain": [
       "%px:   0%|          | 0/6 [00:00<?, ?tasks/s]"
      ]
     },
     "metadata": {},
     "output_type": "display_data"
    },
    {
     "name": "stdout",
     "output_type": "stream",
     "text": [
      "***************************       Simulation 11/21      ****************\n",
      "                           ------- Bloc PF/OPF ---------         \n",
      "importing numpy on engine(s)\n",
      "importing pandapower on engine(s)\n",
      "importing pandas on engine(s)\n",
      "importing Par_myFunctions on engine(s)\n"
     ]
    },
    {
     "data": {
      "application/vnd.jupyter.widget-view+json": {
       "model_id": "fcf1ea0cea254c838db09ea4c13d223f",
       "version_major": 2,
       "version_minor": 0
      },
      "text/plain": [
       "%px:   0%|          | 0/6 [00:00<?, ?tasks/s]"
      ]
     },
     "metadata": {},
     "output_type": "display_data"
    },
    {
     "name": "stdout",
     "output_type": "stream",
     "text": [
      "***************************       Simulation 12/21      ****************\n",
      "                           ------- Bloc PF/OPF ---------         \n",
      "importing numpy on engine(s)\n",
      "importing pandapower on engine(s)\n",
      "importing pandas on engine(s)\n",
      "importing Par_myFunctions on engine(s)\n"
     ]
    },
    {
     "data": {
      "application/vnd.jupyter.widget-view+json": {
       "model_id": "fd73fbd7f7234dab89cd8a3b07da2099",
       "version_major": 2,
       "version_minor": 0
      },
      "text/plain": [
       "%px:   0%|          | 0/6 [00:00<?, ?tasks/s]"
      ]
     },
     "metadata": {},
     "output_type": "display_data"
    },
    {
     "name": "stdout",
     "output_type": "stream",
     "text": [
      "***************************       Simulation 13/21      ****************\n",
      "                           ------- Bloc PF/OPF ---------         \n",
      "importing numpy on engine(s)\n",
      "importing pandapower on engine(s)\n",
      "importing pandas on engine(s)\n",
      "importing Par_myFunctions on engine(s)\n"
     ]
    },
    {
     "data": {
      "application/vnd.jupyter.widget-view+json": {
       "model_id": "b3c195bf72ca4421a6639523b8b929d9",
       "version_major": 2,
       "version_minor": 0
      },
      "text/plain": [
       "%px:   0%|          | 0/6 [00:00<?, ?tasks/s]"
      ]
     },
     "metadata": {},
     "output_type": "display_data"
    },
    {
     "name": "stdout",
     "output_type": "stream",
     "text": [
      "***************************       Simulation 14/21      ****************\n",
      "                           ------- Bloc PF/OPF ---------         \n",
      "importing numpy on engine(s)\n",
      "importing pandapower on engine(s)\n",
      "importing pandas on engine(s)\n",
      "importing Par_myFunctions on engine(s)\n"
     ]
    },
    {
     "data": {
      "application/vnd.jupyter.widget-view+json": {
       "model_id": "be4e6f17cde9490ea7e1fc8f944b4419",
       "version_major": 2,
       "version_minor": 0
      },
      "text/plain": [
       "%px:   0%|          | 0/6 [00:00<?, ?tasks/s]"
      ]
     },
     "metadata": {},
     "output_type": "display_data"
    },
    {
     "name": "stdout",
     "output_type": "stream",
     "text": [
      "***************************       Simulation 15/21      ****************\n",
      "                           ------- Bloc PF/OPF ---------         \n",
      "importing numpy on engine(s)\n",
      "importing pandapower on engine(s)\n",
      "importing pandas on engine(s)\n",
      "importing Par_myFunctions on engine(s)\n"
     ]
    },
    {
     "data": {
      "application/vnd.jupyter.widget-view+json": {
       "model_id": "802b6d50036d466387381d36f166c046",
       "version_major": 2,
       "version_minor": 0
      },
      "text/plain": [
       "%px:   0%|          | 0/6 [00:00<?, ?tasks/s]"
      ]
     },
     "metadata": {},
     "output_type": "display_data"
    },
    {
     "name": "stdout",
     "output_type": "stream",
     "text": [
      "***************************       Simulation 16/21      ****************\n",
      "                           ------- Bloc PF/OPF ---------         \n",
      "importing numpy on engine(s)\n",
      "importing pandapower on engine(s)\n",
      "importing pandas on engine(s)\n",
      "importing Par_myFunctions on engine(s)\n"
     ]
    },
    {
     "data": {
      "application/vnd.jupyter.widget-view+json": {
       "model_id": "bfc634041da54cce9f75fdf3b0b96b23",
       "version_major": 2,
       "version_minor": 0
      },
      "text/plain": [
       "%px:   0%|          | 0/6 [00:00<?, ?tasks/s]"
      ]
     },
     "metadata": {},
     "output_type": "display_data"
    },
    {
     "name": "stdout",
     "output_type": "stream",
     "text": [
      "***************************       Simulation 17/21      ****************\n",
      "                           ------- Bloc PF/OPF ---------         \n",
      "importing numpy on engine(s)\n",
      "importing pandapower on engine(s)\n",
      "importing pandas on engine(s)\n",
      "importing Par_myFunctions on engine(s)\n"
     ]
    },
    {
     "data": {
      "application/vnd.jupyter.widget-view+json": {
       "model_id": "9ff3a63fda46423886efb7e6cd161fa2",
       "version_major": 2,
       "version_minor": 0
      },
      "text/plain": [
       "%px:   0%|          | 0/6 [00:00<?, ?tasks/s]"
      ]
     },
     "metadata": {},
     "output_type": "display_data"
    },
    {
     "name": "stdout",
     "output_type": "stream",
     "text": [
      "***************************       Simulation 18/21      ****************\n",
      "                           ------- Bloc PF/OPF ---------         \n",
      "importing numpy on engine(s)\n",
      "importing pandapower on engine(s)\n",
      "importing pandas on engine(s)\n",
      "importing Par_myFunctions on engine(s)\n"
     ]
    },
    {
     "data": {
      "application/vnd.jupyter.widget-view+json": {
       "model_id": "72e3c3a694a342cfa2a4a6ac76acb3cf",
       "version_major": 2,
       "version_minor": 0
      },
      "text/plain": [
       "%px:   0%|          | 0/6 [00:00<?, ?tasks/s]"
      ]
     },
     "metadata": {},
     "output_type": "display_data"
    },
    {
     "name": "stdout",
     "output_type": "stream",
     "text": [
      "***************************       Simulation 19/21      ****************\n",
      "                           ------- Bloc PF/OPF ---------         \n",
      "importing numpy on engine(s)\n",
      "importing pandapower on engine(s)\n",
      "importing pandas on engine(s)\n",
      "importing Par_myFunctions on engine(s)\n"
     ]
    },
    {
     "data": {
      "application/vnd.jupyter.widget-view+json": {
       "model_id": "d6635a64abfd47d5ad7cddaa49fdb3b7",
       "version_major": 2,
       "version_minor": 0
      },
      "text/plain": [
       "%px:   0%|          | 0/6 [00:00<?, ?tasks/s]"
      ]
     },
     "metadata": {},
     "output_type": "display_data"
    },
    {
     "name": "stdout",
     "output_type": "stream",
     "text": [
      "***************************       Simulation 20/21      ****************\n",
      "                           ------- Bloc PF/OPF ---------         \n",
      "importing numpy on engine(s)\n",
      "importing pandapower on engine(s)\n",
      "importing pandas on engine(s)\n",
      "importing Par_myFunctions on engine(s)\n"
     ]
    },
    {
     "data": {
      "application/vnd.jupyter.widget-view+json": {
       "model_id": "798fbfe7832b46d99f3d3831e7abcf13",
       "version_major": 2,
       "version_minor": 0
      },
      "text/plain": [
       "%px:   0%|          | 0/6 [00:00<?, ?tasks/s]"
      ]
     },
     "metadata": {},
     "output_type": "display_data"
    },
    {
     "name": "stdout",
     "output_type": "stream",
     "text": [
      "***************************       Simulation 21/21      ****************\n",
      "                           ------- Bloc PF/OPF ---------         \n",
      "importing numpy on engine(s)\n",
      "importing pandapower on engine(s)\n",
      "importing pandas on engine(s)\n",
      "importing Par_myFunctions on engine(s)\n"
     ]
    },
    {
     "data": {
      "application/vnd.jupyter.widget-view+json": {
       "model_id": "ecc507b1d2e54d21a6caa536cf153087",
       "version_major": 2,
       "version_minor": 0
      },
      "text/plain": [
       "%px:   0%|          | 0/6 [00:00<?, ?tasks/s]"
      ]
     },
     "metadata": {},
     "output_type": "display_data"
    }
   ],
   "source": [
    "sim_res_Dict = {}  # Dictionnary to save variables\n",
    "\n",
    "P0100_max = 4      #Define the maximum power output subscribed by P0100 \n",
    "\n",
    "# Define Range for the maximum power output subscribed by P0100 \n",
    "P0100_max_range = np.arange(0, P0100_max+0.1 ,0.2)\n",
    "\n",
    "\n",
    "\n",
    "for mr_index in range(len(P0100_max_range)):\n",
    "    upscaling_coef = P0100_max_range[mr_index]  # Define upsacaling coeff\n",
    "\n",
    "    # Initialize variables for parallel engines\n",
    "    df_prodHT, dict_df_sgenLoad = initVarsFor_ParEngines(df_final, upscaling_coef)\n",
    "    print(f'***************************       Simulation {mr_index+1}/{len(P0100_max_range)}      ****************')\n",
    "    print(\"                           ------- Bloc PF/OPF ---------         \")\n",
    "    ##          ---------------------------  BLOCK PF/OPF  ------------------------         ##\n",
    "    # Initialize the parallel engine parameters i.e. send varible into each local space\n",
    "    opf_status = 'Both'\n",
    "    Init_ParEngines_Parameters(df_prodHT, opf_status, dict_df_sgenLoad, parameters_dict, 0 )\n",
    "\n",
    "    # cALL Block pf/op\n",
    "    extracted_results = block_pf_Opf(df_prodHT, opf_status)    \n",
    "\n",
    "    # Get maximum voltage over the network \n",
    "    max_vm_pu_df_known = extracted_results[['max_vm_pu']]\n",
    "    max_vm_pu_df_known.rename(columns={'max_vm_pu':'Fut_Known'}, inplace=True)\n",
    "    max_vm_pu_pf_df = extracted_results[['max_vm_pu_pf']] \n",
    "    \n",
    "    \n",
    "    #####   Saving Results \n",
    "    mask = per_index2[day_tot_per:]\n",
    "    P0100_known_df = pd.DataFrame(data=extracted_results.loc[mask].P0100.values, \n",
    "                                 index=extracted_results.loc[mask].index, \n",
    "                                 columns=['Fut_Known Sim'+str(mr_index+1)] )\n",
    "    # Concat\n",
    "    P0100_df = df_final.loc[mask, ['P0100']]\n",
    "    P0100_concat_df = pd.concat([P0100_max_range[mr_index]*P0100_df/P0100_max, \n",
    "                                 P0100_known_df], axis=1)\n",
    "    # Rename\n",
    "    P0100_concat_df.rename(columns=({'P0100':'No_Control'}), inplace=True);\n",
    "\n",
    "\n",
    "    int_sim_res = {'maxV_rise_df':max_vm_pu_df_known,            # Intermediate results\n",
    "                   'Power Sgen': P0100_concat_df,\n",
    "                   'maxV_rise_pf_df':max_vm_pu_pf_df}         \n",
    "    sim_res_Dict.update([('Sim'+str(mr_index+1),int_sim_res)])   # Final results\n"
   ]
  },
  {
   "cell_type": "code",
   "execution_count": 16,
   "id": "f3e64df8-9e97-4f3a-90d4-79699ce8fce1",
   "metadata": {},
   "outputs": [
    {
     "data": {
      "text/plain": [
       "['pickle_files/simulationResults/SensAnalysisP0100_FutureKnown.pkl']"
      ]
     },
     "execution_count": 16,
     "metadata": {},
     "output_type": "execute_result"
    }
   ],
   "source": [
    "joblib.dump(sim_res_Dict,'pickle_files/simulationResults/SensAnalysisP0100_FutureKnown.pkl')"
   ]
  },
  {
   "cell_type": "markdown",
   "id": "41a908e5-7e68-4fd0-bb4a-69343f586da6",
   "metadata": {},
   "source": [
    "---"
   ]
  },
  {
   "cell_type": "markdown",
   "id": "d56e04fa-aa83-4661-a203-7a25d34f3791",
   "metadata": {
    "tags": []
   },
   "source": [
    "#### USING THE RNN "
   ]
  },
  {
   "cell_type": "code",
   "execution_count": 130,
   "id": "6856b696-b5d1-4a9f-912a-42e854d67d38",
   "metadata": {
    "scrolled": true,
    "tags": []
   },
   "outputs": [
    {
     "name": "stdout",
     "output_type": "stream",
     "text": [
      "0\n",
      "***************************       Simulation 1/21      ****************\n",
      "                           ------- Bloc PF/OPF ---------         \n",
      "importing numpy on engine(s)\n",
      "importing pandapower on engine(s)\n",
      "importing pandas on engine(s)\n",
      "importing Par_myFunctions on engine(s)\n"
     ]
    },
    {
     "data": {
      "application/vnd.jupyter.widget-view+json": {
       "model_id": "9a8583b34d224cd2a1130524b96e1074",
       "version_major": 2,
       "version_minor": 0
      },
      "text/plain": [
       "%px:   0%|          | 0/6 [00:00<?, ?tasks/s]"
      ]
     },
     "metadata": {},
     "output_type": "display_data"
    },
    {
     "name": "stdout",
     "output_type": "stream",
     "text": [
      "                            ------- Bloc PF/OPF ---------         \n"
     ]
    },
    {
     "data": {
      "application/vnd.jupyter.widget-view+json": {
       "model_id": "0eff58ec7c5f49d398ba9b8b3e668763",
       "version_major": 2,
       "version_minor": 0
      },
      "text/plain": [
       "%px:   0%|          | 0/6 [00:00<?, ?tasks/s]"
      ]
     },
     "metadata": {},
     "output_type": "display_data"
    },
    {
     "name": "stdout",
     "output_type": "stream",
     "text": [
      "1\n",
      "***************************       Simulation 2/21      ****************\n",
      "                           ------- Bloc PF/OPF ---------         \n",
      "importing numpy on engine(s)\n",
      "importing pandapower on engine(s)\n",
      "importing pandas on engine(s)\n",
      "importing Par_myFunctions on engine(s)\n"
     ]
    },
    {
     "data": {
      "application/vnd.jupyter.widget-view+json": {
       "model_id": "fcbce9da6d4342c48062dabea3046b25",
       "version_major": 2,
       "version_minor": 0
      },
      "text/plain": [
       "%px:   0%|          | 0/6 [00:00<?, ?tasks/s]"
      ]
     },
     "metadata": {},
     "output_type": "display_data"
    },
    {
     "name": "stdout",
     "output_type": "stream",
     "text": [
      "                            ------- Bloc PF/OPF ---------         \n"
     ]
    },
    {
     "data": {
      "application/vnd.jupyter.widget-view+json": {
       "model_id": "ceef75a9f92f4c1dab2c6f3ae9270c54",
       "version_major": 2,
       "version_minor": 0
      },
      "text/plain": [
       "%px:   0%|          | 0/6 [00:00<?, ?tasks/s]"
      ]
     },
     "metadata": {},
     "output_type": "display_data"
    },
    {
     "name": "stdout",
     "output_type": "stream",
     "text": [
      "2\n",
      "***************************       Simulation 3/21      ****************\n",
      "                           ------- Bloc PF/OPF ---------         \n",
      "importing numpy on engine(s)\n",
      "importing pandapower on engine(s)\n",
      "importing pandas on engine(s)\n",
      "importing Par_myFunctions on engine(s)\n"
     ]
    },
    {
     "data": {
      "application/vnd.jupyter.widget-view+json": {
       "model_id": "0abb4942856149c084476c66c9adf56c",
       "version_major": 2,
       "version_minor": 0
      },
      "text/plain": [
       "%px:   0%|          | 0/6 [00:00<?, ?tasks/s]"
      ]
     },
     "metadata": {},
     "output_type": "display_data"
    },
    {
     "name": "stdout",
     "output_type": "stream",
     "text": [
      "                            ------- Bloc PF/OPF ---------         \n"
     ]
    },
    {
     "data": {
      "application/vnd.jupyter.widget-view+json": {
       "model_id": "c687d4eda79f4fbd8e6151e49b214cd6",
       "version_major": 2,
       "version_minor": 0
      },
      "text/plain": [
       "%px:   0%|          | 0/6 [00:00<?, ?tasks/s]"
      ]
     },
     "metadata": {},
     "output_type": "display_data"
    },
    {
     "name": "stdout",
     "output_type": "stream",
     "text": [
      "3\n",
      "***************************       Simulation 4/21      ****************\n",
      "                           ------- Bloc PF/OPF ---------         \n",
      "importing numpy on engine(s)\n",
      "importing pandapower on engine(s)\n",
      "importing pandas on engine(s)\n",
      "importing Par_myFunctions on engine(s)\n"
     ]
    },
    {
     "data": {
      "application/vnd.jupyter.widget-view+json": {
       "model_id": "0f7a2d2fc0204b0f813652aede0e6ff9",
       "version_major": 2,
       "version_minor": 0
      },
      "text/plain": [
       "%px:   0%|          | 0/6 [00:00<?, ?tasks/s]"
      ]
     },
     "metadata": {},
     "output_type": "display_data"
    },
    {
     "name": "stdout",
     "output_type": "stream",
     "text": [
      "                            ------- Bloc PF/OPF ---------         \n"
     ]
    },
    {
     "data": {
      "application/vnd.jupyter.widget-view+json": {
       "model_id": "e89a03305fd7408795df2daef83be9ac",
       "version_major": 2,
       "version_minor": 0
      },
      "text/plain": [
       "%px:   0%|          | 0/6 [00:00<?, ?tasks/s]"
      ]
     },
     "metadata": {},
     "output_type": "display_data"
    },
    {
     "name": "stdout",
     "output_type": "stream",
     "text": [
      "4\n",
      "***************************       Simulation 5/21      ****************\n",
      "                           ------- Bloc PF/OPF ---------         \n",
      "importing numpy on engine(s)\n",
      "importing pandapower on engine(s)\n",
      "importing pandas on engine(s)\n",
      "importing Par_myFunctions on engine(s)\n"
     ]
    },
    {
     "data": {
      "application/vnd.jupyter.widget-view+json": {
       "model_id": "ea7fce6d1f1a4f188c3a9815cddd3383",
       "version_major": 2,
       "version_minor": 0
      },
      "text/plain": [
       "%px:   0%|          | 0/6 [00:00<?, ?tasks/s]"
      ]
     },
     "metadata": {},
     "output_type": "display_data"
    },
    {
     "name": "stdout",
     "output_type": "stream",
     "text": [
      "                            ------- Bloc PF/OPF ---------         \n"
     ]
    },
    {
     "data": {
      "application/vnd.jupyter.widget-view+json": {
       "model_id": "87becdc8579c4a72b3f2aaf16fdf9403",
       "version_major": 2,
       "version_minor": 0
      },
      "text/plain": [
       "%px:   0%|          | 0/6 [00:00<?, ?tasks/s]"
      ]
     },
     "metadata": {},
     "output_type": "display_data"
    },
    {
     "name": "stdout",
     "output_type": "stream",
     "text": [
      "5\n",
      "***************************       Simulation 6/21      ****************\n",
      "                           ------- Bloc PF/OPF ---------         \n",
      "importing numpy on engine(s)\n",
      "importing pandapower on engine(s)\n",
      "importing pandas on engine(s)\n",
      "importing Par_myFunctions on engine(s)\n"
     ]
    },
    {
     "data": {
      "application/vnd.jupyter.widget-view+json": {
       "model_id": "0bb184e216024d57aeb3ad4d5a8e1f4a",
       "version_major": 2,
       "version_minor": 0
      },
      "text/plain": [
       "%px:   0%|          | 0/6 [00:00<?, ?tasks/s]"
      ]
     },
     "metadata": {},
     "output_type": "display_data"
    },
    {
     "name": "stdout",
     "output_type": "stream",
     "text": [
      "                            ------- Bloc PF/OPF ---------         \n"
     ]
    },
    {
     "data": {
      "application/vnd.jupyter.widget-view+json": {
       "model_id": "10004db893094bc6b1491d804759f922",
       "version_major": 2,
       "version_minor": 0
      },
      "text/plain": [
       "%px:   0%|          | 0/6 [00:00<?, ?tasks/s]"
      ]
     },
     "metadata": {},
     "output_type": "display_data"
    },
    {
     "name": "stdout",
     "output_type": "stream",
     "text": [
      "6\n",
      "***************************       Simulation 7/21      ****************\n",
      "                           ------- Bloc PF/OPF ---------         \n",
      "importing numpy on engine(s)\n",
      "importing pandapower on engine(s)\n",
      "importing pandas on engine(s)\n",
      "importing Par_myFunctions on engine(s)\n"
     ]
    },
    {
     "data": {
      "application/vnd.jupyter.widget-view+json": {
       "model_id": "3088a420e8864533b74e7c8bf40bcc25",
       "version_major": 2,
       "version_minor": 0
      },
      "text/plain": [
       "%px:   0%|          | 0/6 [00:00<?, ?tasks/s]"
      ]
     },
     "metadata": {},
     "output_type": "display_data"
    },
    {
     "name": "stdout",
     "output_type": "stream",
     "text": [
      "                            ------- Bloc PF/OPF ---------         \n"
     ]
    },
    {
     "data": {
      "application/vnd.jupyter.widget-view+json": {
       "model_id": "3f4f19017b4e430f8a3bbe490dc26edb",
       "version_major": 2,
       "version_minor": 0
      },
      "text/plain": [
       "%px:   0%|          | 0/6 [00:00<?, ?tasks/s]"
      ]
     },
     "metadata": {},
     "output_type": "display_data"
    },
    {
     "name": "stdout",
     "output_type": "stream",
     "text": [
      "7\n",
      "***************************       Simulation 8/21      ****************\n",
      "                           ------- Bloc PF/OPF ---------         \n",
      "importing numpy on engine(s)\n",
      "importing pandapower on engine(s)\n",
      "importing pandas on engine(s)\n",
      "importing Par_myFunctions on engine(s)\n"
     ]
    },
    {
     "data": {
      "application/vnd.jupyter.widget-view+json": {
       "model_id": "2521db4b0edd492e9871504970a8dad8",
       "version_major": 2,
       "version_minor": 0
      },
      "text/plain": [
       "%px:   0%|          | 0/6 [00:00<?, ?tasks/s]"
      ]
     },
     "metadata": {},
     "output_type": "display_data"
    },
    {
     "name": "stdout",
     "output_type": "stream",
     "text": [
      "                            ------- Bloc PF/OPF ---------         \n"
     ]
    },
    {
     "data": {
      "application/vnd.jupyter.widget-view+json": {
       "model_id": "354075ca5ede4c068e19d8ca9cb44407",
       "version_major": 2,
       "version_minor": 0
      },
      "text/plain": [
       "%px:   0%|          | 0/6 [00:00<?, ?tasks/s]"
      ]
     },
     "metadata": {},
     "output_type": "display_data"
    },
    {
     "name": "stdout",
     "output_type": "stream",
     "text": [
      "8\n",
      "***************************       Simulation 9/21      ****************\n",
      "                           ------- Bloc PF/OPF ---------         \n",
      "importing numpy on engine(s)\n",
      "importing pandapower on engine(s)\n",
      "importing pandas on engine(s)\n",
      "importing Par_myFunctions on engine(s)\n"
     ]
    },
    {
     "data": {
      "application/vnd.jupyter.widget-view+json": {
       "model_id": "6c8921d859f44bfa9ec9505f6cec1990",
       "version_major": 2,
       "version_minor": 0
      },
      "text/plain": [
       "%px:   0%|          | 0/6 [00:00<?, ?tasks/s]"
      ]
     },
     "metadata": {},
     "output_type": "display_data"
    },
    {
     "name": "stdout",
     "output_type": "stream",
     "text": [
      "                            ------- Bloc PF/OPF ---------         \n"
     ]
    },
    {
     "data": {
      "application/vnd.jupyter.widget-view+json": {
       "model_id": "a634a15b7cb34462bb3b59fab39f9aa6",
       "version_major": 2,
       "version_minor": 0
      },
      "text/plain": [
       "%px:   0%|          | 0/6 [00:00<?, ?tasks/s]"
      ]
     },
     "metadata": {},
     "output_type": "display_data"
    },
    {
     "name": "stdout",
     "output_type": "stream",
     "text": [
      "9\n",
      "***************************       Simulation 10/21      ****************\n",
      "                           ------- Bloc PF/OPF ---------         \n",
      "importing numpy on engine(s)\n",
      "importing pandapower on engine(s)\n",
      "importing pandas on engine(s)\n",
      "importing Par_myFunctions on engine(s)\n"
     ]
    },
    {
     "data": {
      "application/vnd.jupyter.widget-view+json": {
       "model_id": "3dadb51a22c84c1483f75e4e2d7fc353",
       "version_major": 2,
       "version_minor": 0
      },
      "text/plain": [
       "%px:   0%|          | 0/6 [00:00<?, ?tasks/s]"
      ]
     },
     "metadata": {},
     "output_type": "display_data"
    },
    {
     "name": "stdout",
     "output_type": "stream",
     "text": [
      "                            ------- Bloc PF/OPF ---------         \n"
     ]
    },
    {
     "data": {
      "application/vnd.jupyter.widget-view+json": {
       "model_id": "0d9374fe4a35461989812dbec8c02773",
       "version_major": 2,
       "version_minor": 0
      },
      "text/plain": [
       "%px:   0%|          | 0/6 [00:00<?, ?tasks/s]"
      ]
     },
     "metadata": {},
     "output_type": "display_data"
    },
    {
     "name": "stdout",
     "output_type": "stream",
     "text": [
      "10\n",
      "***************************       Simulation 11/21      ****************\n",
      "                           ------- Bloc PF/OPF ---------         \n",
      "importing numpy on engine(s)\n",
      "importing pandapower on engine(s)\n",
      "importing pandas on engine(s)\n",
      "importing Par_myFunctions on engine(s)\n"
     ]
    },
    {
     "data": {
      "application/vnd.jupyter.widget-view+json": {
       "model_id": "b6ab07fe3eaa4b87b36c7f245769c007",
       "version_major": 2,
       "version_minor": 0
      },
      "text/plain": [
       "%px:   0%|          | 0/6 [00:00<?, ?tasks/s]"
      ]
     },
     "metadata": {},
     "output_type": "display_data"
    },
    {
     "name": "stdout",
     "output_type": "stream",
     "text": [
      "                            ------- Bloc PF/OPF ---------         \n"
     ]
    },
    {
     "data": {
      "application/vnd.jupyter.widget-view+json": {
       "model_id": "bdcd0e080b7e43229ca9014154d1f84b",
       "version_major": 2,
       "version_minor": 0
      },
      "text/plain": [
       "%px:   0%|          | 0/6 [00:00<?, ?tasks/s]"
      ]
     },
     "metadata": {},
     "output_type": "display_data"
    },
    {
     "name": "stdout",
     "output_type": "stream",
     "text": [
      "11\n",
      "***************************       Simulation 12/21      ****************\n",
      "                           ------- Bloc PF/OPF ---------         \n",
      "importing numpy on engine(s)\n",
      "importing pandapower on engine(s)\n",
      "importing pandas on engine(s)\n",
      "importing Par_myFunctions on engine(s)\n"
     ]
    },
    {
     "data": {
      "application/vnd.jupyter.widget-view+json": {
       "model_id": "1723b65802b54bbc8cacdfe7161a7c64",
       "version_major": 2,
       "version_minor": 0
      },
      "text/plain": [
       "%px:   0%|          | 0/6 [00:00<?, ?tasks/s]"
      ]
     },
     "metadata": {},
     "output_type": "display_data"
    },
    {
     "name": "stdout",
     "output_type": "stream",
     "text": [
      "                            ------- Bloc PF/OPF ---------         \n"
     ]
    },
    {
     "data": {
      "application/vnd.jupyter.widget-view+json": {
       "model_id": "899eb8da6f71429fb00e6348e974af53",
       "version_major": 2,
       "version_minor": 0
      },
      "text/plain": [
       "%px:   0%|          | 0/6 [00:00<?, ?tasks/s]"
      ]
     },
     "metadata": {},
     "output_type": "display_data"
    },
    {
     "name": "stdout",
     "output_type": "stream",
     "text": [
      "12\n",
      "***************************       Simulation 13/21      ****************\n",
      "                           ------- Bloc PF/OPF ---------         \n",
      "importing numpy on engine(s)\n",
      "importing pandapower on engine(s)\n",
      "importing pandas on engine(s)\n",
      "importing Par_myFunctions on engine(s)\n"
     ]
    },
    {
     "data": {
      "application/vnd.jupyter.widget-view+json": {
       "model_id": "ec42e37ca78b4dcda3cb6e975a0abc67",
       "version_major": 2,
       "version_minor": 0
      },
      "text/plain": [
       "%px:   0%|          | 0/6 [00:00<?, ?tasks/s]"
      ]
     },
     "metadata": {},
     "output_type": "display_data"
    },
    {
     "name": "stdout",
     "output_type": "stream",
     "text": [
      "                            ------- Bloc PF/OPF ---------         \n"
     ]
    },
    {
     "data": {
      "application/vnd.jupyter.widget-view+json": {
       "model_id": "9bb33c1c10fe46b8979a472be1786cad",
       "version_major": 2,
       "version_minor": 0
      },
      "text/plain": [
       "%px:   0%|          | 0/6 [00:00<?, ?tasks/s]"
      ]
     },
     "metadata": {},
     "output_type": "display_data"
    },
    {
     "name": "stdout",
     "output_type": "stream",
     "text": [
      "13\n",
      "***************************       Simulation 14/21      ****************\n",
      "                           ------- Bloc PF/OPF ---------         \n",
      "importing numpy on engine(s)\n",
      "importing pandapower on engine(s)\n",
      "importing pandas on engine(s)\n",
      "importing Par_myFunctions on engine(s)\n"
     ]
    },
    {
     "data": {
      "application/vnd.jupyter.widget-view+json": {
       "model_id": "bd9306df650c4bcf9f005c626bff1a38",
       "version_major": 2,
       "version_minor": 0
      },
      "text/plain": [
       "%px:   0%|          | 0/6 [00:00<?, ?tasks/s]"
      ]
     },
     "metadata": {},
     "output_type": "display_data"
    },
    {
     "name": "stdout",
     "output_type": "stream",
     "text": [
      "                            ------- Bloc PF/OPF ---------         \n"
     ]
    },
    {
     "data": {
      "application/vnd.jupyter.widget-view+json": {
       "model_id": "a38bc8d1d52d4f0abbb09e839185f19f",
       "version_major": 2,
       "version_minor": 0
      },
      "text/plain": [
       "%px:   0%|          | 0/6 [00:00<?, ?tasks/s]"
      ]
     },
     "metadata": {},
     "output_type": "display_data"
    },
    {
     "name": "stdout",
     "output_type": "stream",
     "text": [
      "14\n",
      "***************************       Simulation 15/21      ****************\n",
      "                           ------- Bloc PF/OPF ---------         \n",
      "importing numpy on engine(s)\n",
      "importing pandapower on engine(s)\n",
      "importing pandas on engine(s)\n",
      "importing Par_myFunctions on engine(s)\n"
     ]
    },
    {
     "data": {
      "application/vnd.jupyter.widget-view+json": {
       "model_id": "331febdd78a548c683c7941aae093eb9",
       "version_major": 2,
       "version_minor": 0
      },
      "text/plain": [
       "%px:   0%|          | 0/6 [00:00<?, ?tasks/s]"
      ]
     },
     "metadata": {},
     "output_type": "display_data"
    },
    {
     "name": "stdout",
     "output_type": "stream",
     "text": [
      "                            ------- Bloc PF/OPF ---------         \n"
     ]
    },
    {
     "data": {
      "application/vnd.jupyter.widget-view+json": {
       "model_id": "94d67c622b574be5a4493cb0d93650d5",
       "version_major": 2,
       "version_minor": 0
      },
      "text/plain": [
       "%px:   0%|          | 0/6 [00:00<?, ?tasks/s]"
      ]
     },
     "metadata": {},
     "output_type": "display_data"
    },
    {
     "name": "stdout",
     "output_type": "stream",
     "text": [
      "15\n",
      "***************************       Simulation 16/21      ****************\n",
      "                           ------- Bloc PF/OPF ---------         \n",
      "importing numpy on engine(s)\n",
      "importing pandapower on engine(s)\n",
      "importing pandas on engine(s)\n",
      "importing Par_myFunctions on engine(s)\n"
     ]
    },
    {
     "data": {
      "application/vnd.jupyter.widget-view+json": {
       "model_id": "e118c1d32d48463abec1b7c0138918d8",
       "version_major": 2,
       "version_minor": 0
      },
      "text/plain": [
       "%px:   0%|          | 0/6 [00:00<?, ?tasks/s]"
      ]
     },
     "metadata": {},
     "output_type": "display_data"
    },
    {
     "name": "stdout",
     "output_type": "stream",
     "text": [
      "                            ------- Bloc PF/OPF ---------         \n"
     ]
    },
    {
     "data": {
      "application/vnd.jupyter.widget-view+json": {
       "model_id": "d04f478ef6e34c80a1652cc62fa55d4a",
       "version_major": 2,
       "version_minor": 0
      },
      "text/plain": [
       "%px:   0%|          | 0/6 [00:00<?, ?tasks/s]"
      ]
     },
     "metadata": {},
     "output_type": "display_data"
    },
    {
     "name": "stdout",
     "output_type": "stream",
     "text": [
      "16\n",
      "***************************       Simulation 17/21      ****************\n",
      "                           ------- Bloc PF/OPF ---------         \n",
      "importing numpy on engine(s)\n",
      "importing pandapower on engine(s)\n",
      "importing pandas on engine(s)\n",
      "importing Par_myFunctions on engine(s)\n"
     ]
    },
    {
     "data": {
      "application/vnd.jupyter.widget-view+json": {
       "model_id": "b8dc3920d1c74742a7e5afb69b0bec7f",
       "version_major": 2,
       "version_minor": 0
      },
      "text/plain": [
       "%px:   0%|          | 0/6 [00:00<?, ?tasks/s]"
      ]
     },
     "metadata": {},
     "output_type": "display_data"
    },
    {
     "name": "stdout",
     "output_type": "stream",
     "text": [
      "                            ------- Bloc PF/OPF ---------         \n"
     ]
    },
    {
     "data": {
      "application/vnd.jupyter.widget-view+json": {
       "model_id": "b7d2551fb54b41609345e2c5b8b73700",
       "version_major": 2,
       "version_minor": 0
      },
      "text/plain": [
       "%px:   0%|          | 0/6 [00:00<?, ?tasks/s]"
      ]
     },
     "metadata": {},
     "output_type": "display_data"
    },
    {
     "name": "stdout",
     "output_type": "stream",
     "text": [
      "17\n",
      "***************************       Simulation 18/21      ****************\n",
      "                           ------- Bloc PF/OPF ---------         \n",
      "importing numpy on engine(s)\n",
      "importing pandapower on engine(s)\n",
      "importing pandas on engine(s)\n",
      "importing Par_myFunctions on engine(s)\n"
     ]
    },
    {
     "data": {
      "application/vnd.jupyter.widget-view+json": {
       "model_id": "b507ca7b33eb4685a12d36b092e86fbe",
       "version_major": 2,
       "version_minor": 0
      },
      "text/plain": [
       "%px:   0%|          | 0/6 [00:00<?, ?tasks/s]"
      ]
     },
     "metadata": {},
     "output_type": "display_data"
    },
    {
     "name": "stdout",
     "output_type": "stream",
     "text": [
      "                            ------- Bloc PF/OPF ---------         \n"
     ]
    },
    {
     "data": {
      "application/vnd.jupyter.widget-view+json": {
       "model_id": "82ea97318337417a8d1aa41c44aa5498",
       "version_major": 2,
       "version_minor": 0
      },
      "text/plain": [
       "%px:   0%|          | 0/6 [00:00<?, ?tasks/s]"
      ]
     },
     "metadata": {},
     "output_type": "display_data"
    },
    {
     "name": "stdout",
     "output_type": "stream",
     "text": [
      "18\n",
      "***************************       Simulation 19/21      ****************\n",
      "                           ------- Bloc PF/OPF ---------         \n",
      "importing numpy on engine(s)\n",
      "importing pandapower on engine(s)\n",
      "importing pandas on engine(s)\n",
      "importing Par_myFunctions on engine(s)\n"
     ]
    },
    {
     "data": {
      "application/vnd.jupyter.widget-view+json": {
       "model_id": "1bebead33321447ea9f647809a611716",
       "version_major": 2,
       "version_minor": 0
      },
      "text/plain": [
       "%px:   0%|          | 0/6 [00:00<?, ?tasks/s]"
      ]
     },
     "metadata": {},
     "output_type": "display_data"
    },
    {
     "name": "stdout",
     "output_type": "stream",
     "text": [
      "                            ------- Bloc PF/OPF ---------         \n"
     ]
    },
    {
     "data": {
      "application/vnd.jupyter.widget-view+json": {
       "model_id": "c058bbb3e9b141068a84e6d26502520d",
       "version_major": 2,
       "version_minor": 0
      },
      "text/plain": [
       "%px:   0%|          | 0/6 [00:00<?, ?tasks/s]"
      ]
     },
     "metadata": {},
     "output_type": "display_data"
    },
    {
     "name": "stdout",
     "output_type": "stream",
     "text": [
      "19\n",
      "***************************       Simulation 20/21      ****************\n",
      "                           ------- Bloc PF/OPF ---------         \n",
      "importing numpy on engine(s)\n",
      "importing pandapower on engine(s)\n",
      "importing pandas on engine(s)\n",
      "importing Par_myFunctions on engine(s)\n"
     ]
    },
    {
     "data": {
      "application/vnd.jupyter.widget-view+json": {
       "model_id": "14c4e7ea084745efa10b1943bcfa42bc",
       "version_major": 2,
       "version_minor": 0
      },
      "text/plain": [
       "%px:   0%|          | 0/6 [00:00<?, ?tasks/s]"
      ]
     },
     "metadata": {},
     "output_type": "display_data"
    },
    {
     "name": "stdout",
     "output_type": "stream",
     "text": [
      "                            ------- Bloc PF/OPF ---------         \n"
     ]
    },
    {
     "data": {
      "application/vnd.jupyter.widget-view+json": {
       "model_id": "dfb8c7f015534d759bf1f8ec51b19f6b",
       "version_major": 2,
       "version_minor": 0
      },
      "text/plain": [
       "%px:   0%|          | 0/6 [00:00<?, ?tasks/s]"
      ]
     },
     "metadata": {},
     "output_type": "display_data"
    },
    {
     "name": "stdout",
     "output_type": "stream",
     "text": [
      "20\n",
      "***************************       Simulation 21/21      ****************\n",
      "                           ------- Bloc PF/OPF ---------         \n",
      "importing numpy on engine(s)\n",
      "importing pandapower on engine(s)\n",
      "importing pandas on engine(s)\n",
      "importing Par_myFunctions on engine(s)\n"
     ]
    },
    {
     "data": {
      "application/vnd.jupyter.widget-view+json": {
       "model_id": "93fdecad6aae48b28261bcc3ef3af4d1",
       "version_major": 2,
       "version_minor": 0
      },
      "text/plain": [
       "%px:   0%|          | 0/6 [00:00<?, ?tasks/s]"
      ]
     },
     "metadata": {},
     "output_type": "display_data"
    },
    {
     "name": "stdout",
     "output_type": "stream",
     "text": [
      "                            ------- Bloc PF/OPF ---------         \n"
     ]
    },
    {
     "data": {
      "application/vnd.jupyter.widget-view+json": {
       "model_id": "61aa61e7cff047ad98983de955e75609",
       "version_major": 2,
       "version_minor": 0
      },
      "text/plain": [
       "%px:   0%|          | 0/6 [00:00<?, ?tasks/s]"
      ]
     },
     "metadata": {},
     "output_type": "display_data"
    }
   ],
   "source": [
    "sim_res_Dict_rnn = {}  # Dictionnary to save variables\n",
    "\n",
    "P0100_max = 4      #Define the maximum power output subscribed by P0100 \n",
    "\n",
    "# Define Range for the maximum power output subscribed by P0100 \n",
    "P0100_max_range = np.arange(0, P0100_max+0.1 ,0.2)\n",
    "\n",
    "\n",
    "\n",
    "for mr_index in range(len(P0100_max_range)): \n",
    "    print(mr_index)\n",
    "    upscaling_coef = P0100_max_range[mr_index]  # Define upsacaling coeff\n",
    "\n",
    "    # Initialize variables for parallel engines\n",
    "    df_prodHT, dict_df_sgenLoad = initVarsFor_ParEngines(rnnPred_df, upscaling_coef)\n",
    "    print(f'***************************       Simulation {mr_index+1}/{len(P0100_max_range)}      ****************')\n",
    "    print(\"                           ------- Bloc PF/OPF ---------         \")\n",
    "    ##          ---------------------------  BLOCK PF/OPF  ------------------------         ##\n",
    "    # Initialize the parallel engine parameters i.e. send varible into each local space\n",
    "    opf_status = 'Both'\n",
    "    Init_ParEngines_Parameters(df_prodHT, opf_status, dict_df_sgenLoad, parameters_dict, 0 )\n",
    "\n",
    "    # cALL Block pf/op\n",
    "    extracted_results = block_pf_Opf(df_prodHT, opf_status)    \n",
    "\n",
    "\n",
    "    ##             ---------------------------  BLOCK PROD  ------------------------         ##\n",
    "    extracted_results = block_prod(extracted_results, df_final, upscaling_coef)\n",
    "\n",
    "\n",
    "    # Update Values for the dict to use for final power flow bloc\n",
    "    prod_hv_df = pd.concat([df_final.loc[per_index2[day_tot_per:], ['P0013', 'P0018']], \n",
    "                            extracted_results.loc[per_index2[day_tot_per:], ['P0100']]], axis=1)\n",
    "\n",
    "    dict_df_sgenLoad = dict({'df_prodHT': prod_hv_df, \n",
    "                             'df_prod_bt_total':df_final.loc[per_index2[day_tot_per:], ['Prod_BT']], \n",
    "                             'df_cons_total':df_final.loc[per_index2[day_tot_per:], ['Cons']] } )\n",
    "\n",
    "\n",
    "    ##             ---------------------------  BLOCK PF  ------------------------         ##\n",
    "    print(\"                            ------- Bloc PF/OPF ---------         \")\n",
    "\n",
    "    opf_status = False\n",
    "    # Initialize the parallel engine parameters i.e. send varible into each local space for PF\n",
    "    Init_ParEngines_Parameters(prod_hv_df, opf_status, dict_df_sgenLoad, parameters_dict, 1)\n",
    "\n",
    "    # cALL Block pf\n",
    "    max_vm_pu_rnn_df = block_pf_Opf(prod_hv_df, opf_status)    \n",
    "\n",
    "\n",
    "\n",
    "    #####   Saving Results \n",
    "    P0100_df = df_final.loc[prod_hv_df.index, ['P0100']]\n",
    "    P0100_rnn_df = pd.DataFrame(data=extracted_results.loc[prod_hv_df.index].P0100.values, \n",
    "                                 index=extracted_results.loc[prod_hv_df.index].index, \n",
    "                                 columns=['RNN Sim'+str(mr_index+1)] )\n",
    "    # Concat\n",
    "    P0100_concat_df = pd.concat([P0100_max_range[mr_index]*P0100_df/P0100_max,P0100_rnn_df], axis=1)\n",
    "    # Rename\n",
    "    P0100_concat_df.rename(columns=({'P0100':'No_Control'}), inplace=True);\n",
    "\n",
    "\n",
    "    int_sim_res = {'maxV_rise_df':max_vm_pu_rnn_df,              # Intermediate results\n",
    "                   'Power Sgen': P0100_concat_df}         \n",
    "    sim_res_Dict.update([('Sim'+str(mr_index+1),int_sim_res)])   # Final results\n"
   ]
  },
  {
   "cell_type": "code",
   "execution_count": 140,
   "id": "3c7ec021-ab28-4fff-9745-5301e4c2ffc2",
   "metadata": {},
   "outputs": [
    {
     "data": {
      "text/plain": [
       "['pickle_files/simulationResults/SensAnalysisP0100_RNN.pkl']"
      ]
     },
     "execution_count": 140,
     "metadata": {},
     "output_type": "execute_result"
    }
   ],
   "source": [
    "joblib.dump(sim_res_Dict,'pickle_files/simulationResults/SensAnalysisP0100_RNN.pkl')\n"
   ]
  },
  {
   "cell_type": "markdown",
   "id": "79682259-de23-4a95-9acb-1162ba5ca58d",
   "metadata": {
    "tags": []
   },
   "source": [
    "#### USING ROBUST RNN "
   ]
  },
  {
   "cell_type": "code",
   "execution_count": 71,
   "id": "4b8e7e86-6f10-4141-a19b-59a317119bdc",
   "metadata": {},
   "outputs": [],
   "source": [
    "pred_num_vRise = joblib.load('pickle_files/simulationResults/Numerical_Voltage_Rise_Predicted.pkl')\n",
    "pred_bin_vRise = joblib.load('pickle_files/simulationResults/Binary_Voltage_Rise_Predicted.pkl')\n",
    "\n",
    "mask_per2work = pred_bin_vRise[pred_bin_vRise.index>='2021 06 02'].index # We select from the second day of testing set \n",
    "# since Model1  needs a whole day to predict the first period\n",
    "\n",
    "mask_per2work = mask_per2work.to_timestamp().to_series().between_time('08:10','18:30').index.to_period('10T')\n"
   ]
  },
  {
   "cell_type": "code",
   "execution_count": 72,
   "id": "f45d2594-731a-475d-b13e-c8bdd20bc1ec",
   "metadata": {
    "scrolled": true,
    "tags": []
   },
   "outputs": [
    {
     "name": "stdout",
     "output_type": "stream",
     "text": [
      "***************************       Simulation 1/21      ****************\n",
      "                           ------- Bloc PF/OPF ---------         \n",
      "importing numpy on engine(s)\n",
      "importing pandapower on engine(s)\n",
      "importing pandas on engine(s)\n",
      "importing Par_myFunctions on engine(s)\n"
     ]
    },
    {
     "data": {
      "application/vnd.jupyter.widget-view+json": {
       "model_id": "511089481eb44204ae893033fa9f779a",
       "version_major": 2,
       "version_minor": 0
      },
      "text/plain": [
       "%px:   0%|          | 0/6 [00:00<?, ?tasks/s]"
      ]
     },
     "metadata": {},
     "output_type": "display_data"
    },
    {
     "name": "stdout",
     "output_type": "stream",
     "text": [
      "                            ------- Bloc PF/OPF ---------         \n"
     ]
    },
    {
     "data": {
      "application/vnd.jupyter.widget-view+json": {
       "model_id": "7dd9dceb29ac4c6f93bf22ff91f5b6e4",
       "version_major": 2,
       "version_minor": 0
      },
      "text/plain": [
       "%px:   0%|          | 0/6 [00:00<?, ?tasks/s]"
      ]
     },
     "metadata": {},
     "output_type": "display_data"
    },
    {
     "name": "stdout",
     "output_type": "stream",
     "text": [
      "***************************       Simulation 2/21      ****************\n",
      "                           ------- Bloc PF/OPF ---------         \n",
      "importing numpy on engine(s)\n",
      "importing pandapower on engine(s)\n",
      "importing pandas on engine(s)\n",
      "importing Par_myFunctions on engine(s)\n"
     ]
    },
    {
     "data": {
      "application/vnd.jupyter.widget-view+json": {
       "model_id": "3d77dc0763c642c9aeab969cb9af1777",
       "version_major": 2,
       "version_minor": 0
      },
      "text/plain": [
       "%px:   0%|          | 0/6 [00:00<?, ?tasks/s]"
      ]
     },
     "metadata": {},
     "output_type": "display_data"
    },
    {
     "name": "stdout",
     "output_type": "stream",
     "text": [
      "                            ------- Bloc PF/OPF ---------         \n"
     ]
    },
    {
     "data": {
      "application/vnd.jupyter.widget-view+json": {
       "model_id": "b9db9a209c4e4412a36e52311605b630",
       "version_major": 2,
       "version_minor": 0
      },
      "text/plain": [
       "%px:   0%|          | 0/6 [00:00<?, ?tasks/s]"
      ]
     },
     "metadata": {},
     "output_type": "display_data"
    },
    {
     "name": "stdout",
     "output_type": "stream",
     "text": [
      "***************************       Simulation 3/21      ****************\n",
      "                           ------- Bloc PF/OPF ---------         \n",
      "importing numpy on engine(s)\n",
      "importing pandapower on engine(s)\n",
      "importing pandas on engine(s)\n",
      "importing Par_myFunctions on engine(s)\n"
     ]
    },
    {
     "data": {
      "application/vnd.jupyter.widget-view+json": {
       "model_id": "40ba1b7fe5284ad4937c58eb04d4799d",
       "version_major": 2,
       "version_minor": 0
      },
      "text/plain": [
       "%px:   0%|          | 0/6 [00:00<?, ?tasks/s]"
      ]
     },
     "metadata": {},
     "output_type": "display_data"
    },
    {
     "name": "stdout",
     "output_type": "stream",
     "text": [
      "                            ------- Bloc PF/OPF ---------         \n"
     ]
    },
    {
     "data": {
      "application/vnd.jupyter.widget-view+json": {
       "model_id": "3719476335e4461d883b22c6296dd2fa",
       "version_major": 2,
       "version_minor": 0
      },
      "text/plain": [
       "%px:   0%|          | 0/6 [00:00<?, ?tasks/s]"
      ]
     },
     "metadata": {},
     "output_type": "display_data"
    },
    {
     "name": "stdout",
     "output_type": "stream",
     "text": [
      "***************************       Simulation 4/21      ****************\n",
      "                           ------- Bloc PF/OPF ---------         \n",
      "importing numpy on engine(s)\n",
      "importing pandapower on engine(s)\n",
      "importing pandas on engine(s)\n",
      "importing Par_myFunctions on engine(s)\n"
     ]
    },
    {
     "data": {
      "application/vnd.jupyter.widget-view+json": {
       "model_id": "383296cbb74b403cbc32063a879def81",
       "version_major": 2,
       "version_minor": 0
      },
      "text/plain": [
       "%px:   0%|          | 0/6 [00:00<?, ?tasks/s]"
      ]
     },
     "metadata": {},
     "output_type": "display_data"
    },
    {
     "name": "stdout",
     "output_type": "stream",
     "text": [
      "                            ------- Bloc PF/OPF ---------         \n"
     ]
    },
    {
     "data": {
      "application/vnd.jupyter.widget-view+json": {
       "model_id": "78e797598ec1423d8361b6a66af857ed",
       "version_major": 2,
       "version_minor": 0
      },
      "text/plain": [
       "%px:   0%|          | 0/6 [00:00<?, ?tasks/s]"
      ]
     },
     "metadata": {},
     "output_type": "display_data"
    },
    {
     "name": "stdout",
     "output_type": "stream",
     "text": [
      "***************************       Simulation 5/21      ****************\n",
      "                           ------- Bloc PF/OPF ---------         \n",
      "importing numpy on engine(s)\n",
      "importing pandapower on engine(s)\n",
      "importing pandas on engine(s)\n",
      "importing Par_myFunctions on engine(s)\n"
     ]
    },
    {
     "data": {
      "application/vnd.jupyter.widget-view+json": {
       "model_id": "d3ceda042d484c9d8966b5a4d502f214",
       "version_major": 2,
       "version_minor": 0
      },
      "text/plain": [
       "%px:   0%|          | 0/6 [00:00<?, ?tasks/s]"
      ]
     },
     "metadata": {},
     "output_type": "display_data"
    },
    {
     "name": "stdout",
     "output_type": "stream",
     "text": [
      "                            ------- Bloc PF/OPF ---------         \n"
     ]
    },
    {
     "data": {
      "application/vnd.jupyter.widget-view+json": {
       "model_id": "7b7345b585014412afb253c5e299351c",
       "version_major": 2,
       "version_minor": 0
      },
      "text/plain": [
       "%px:   0%|          | 0/6 [00:00<?, ?tasks/s]"
      ]
     },
     "metadata": {},
     "output_type": "display_data"
    },
    {
     "name": "stdout",
     "output_type": "stream",
     "text": [
      "***************************       Simulation 6/21      ****************\n",
      "                           ------- Bloc PF/OPF ---------         \n",
      "importing numpy on engine(s)\n",
      "importing pandapower on engine(s)\n",
      "importing pandas on engine(s)\n",
      "importing Par_myFunctions on engine(s)\n"
     ]
    },
    {
     "data": {
      "application/vnd.jupyter.widget-view+json": {
       "model_id": "36adc3654b31462e8a06d323216235bd",
       "version_major": 2,
       "version_minor": 0
      },
      "text/plain": [
       "%px:   0%|          | 0/6 [00:00<?, ?tasks/s]"
      ]
     },
     "metadata": {},
     "output_type": "display_data"
    },
    {
     "name": "stdout",
     "output_type": "stream",
     "text": [
      "                            ------- Bloc PF/OPF ---------         \n"
     ]
    },
    {
     "data": {
      "application/vnd.jupyter.widget-view+json": {
       "model_id": "22c4d9b588eb4a309b53a84e2122d499",
       "version_major": 2,
       "version_minor": 0
      },
      "text/plain": [
       "%px:   0%|          | 0/6 [00:00<?, ?tasks/s]"
      ]
     },
     "metadata": {},
     "output_type": "display_data"
    },
    {
     "name": "stdout",
     "output_type": "stream",
     "text": [
      "***************************       Simulation 7/21      ****************\n",
      "                           ------- Bloc PF/OPF ---------         \n",
      "importing numpy on engine(s)\n",
      "importing pandapower on engine(s)\n",
      "importing pandas on engine(s)\n",
      "importing Par_myFunctions on engine(s)\n"
     ]
    },
    {
     "data": {
      "application/vnd.jupyter.widget-view+json": {
       "model_id": "60af108f51af4b99a66c84e39d91a02d",
       "version_major": 2,
       "version_minor": 0
      },
      "text/plain": [
       "%px:   0%|          | 0/6 [00:00<?, ?tasks/s]"
      ]
     },
     "metadata": {},
     "output_type": "display_data"
    },
    {
     "name": "stdout",
     "output_type": "stream",
     "text": [
      "                            ------- Bloc PF/OPF ---------         \n"
     ]
    },
    {
     "data": {
      "application/vnd.jupyter.widget-view+json": {
       "model_id": "4220ceef0f3641d1bf13cba743f30199",
       "version_major": 2,
       "version_minor": 0
      },
      "text/plain": [
       "%px:   0%|          | 0/6 [00:00<?, ?tasks/s]"
      ]
     },
     "metadata": {},
     "output_type": "display_data"
    },
    {
     "name": "stdout",
     "output_type": "stream",
     "text": [
      "***************************       Simulation 8/21      ****************\n",
      "                           ------- Bloc PF/OPF ---------         \n",
      "importing numpy on engine(s)\n",
      "importing pandapower on engine(s)\n",
      "importing pandas on engine(s)\n",
      "importing Par_myFunctions on engine(s)\n"
     ]
    },
    {
     "data": {
      "application/vnd.jupyter.widget-view+json": {
       "model_id": "e4159912cc2c4151aa8ce58f5b7208c8",
       "version_major": 2,
       "version_minor": 0
      },
      "text/plain": [
       "%px:   0%|          | 0/6 [00:00<?, ?tasks/s]"
      ]
     },
     "metadata": {},
     "output_type": "display_data"
    },
    {
     "name": "stdout",
     "output_type": "stream",
     "text": [
      "                            ------- Bloc PF/OPF ---------         \n"
     ]
    },
    {
     "data": {
      "application/vnd.jupyter.widget-view+json": {
       "model_id": "9c1af41708eb42d9b01736e1618a5332",
       "version_major": 2,
       "version_minor": 0
      },
      "text/plain": [
       "%px:   0%|          | 0/6 [00:00<?, ?tasks/s]"
      ]
     },
     "metadata": {},
     "output_type": "display_data"
    },
    {
     "name": "stdout",
     "output_type": "stream",
     "text": [
      "***************************       Simulation 9/21      ****************\n",
      "                           ------- Bloc PF/OPF ---------         \n",
      "importing numpy on engine(s)\n",
      "importing pandapower on engine(s)\n",
      "importing pandas on engine(s)\n",
      "importing Par_myFunctions on engine(s)\n"
     ]
    },
    {
     "data": {
      "application/vnd.jupyter.widget-view+json": {
       "model_id": "50894ddb507843f68b642a195dac520d",
       "version_major": 2,
       "version_minor": 0
      },
      "text/plain": [
       "%px:   0%|          | 0/6 [00:00<?, ?tasks/s]"
      ]
     },
     "metadata": {},
     "output_type": "display_data"
    },
    {
     "name": "stdout",
     "output_type": "stream",
     "text": [
      "                            ------- Bloc PF/OPF ---------         \n"
     ]
    },
    {
     "data": {
      "application/vnd.jupyter.widget-view+json": {
       "model_id": "f83240644a7a40899219ccf202c80148",
       "version_major": 2,
       "version_minor": 0
      },
      "text/plain": [
       "%px:   0%|          | 0/6 [00:00<?, ?tasks/s]"
      ]
     },
     "metadata": {},
     "output_type": "display_data"
    },
    {
     "name": "stdout",
     "output_type": "stream",
     "text": [
      "***************************       Simulation 10/21      ****************\n",
      "                           ------- Bloc PF/OPF ---------         \n",
      "importing numpy on engine(s)\n",
      "importing pandapower on engine(s)\n",
      "importing pandas on engine(s)\n",
      "importing Par_myFunctions on engine(s)\n"
     ]
    },
    {
     "data": {
      "application/vnd.jupyter.widget-view+json": {
       "model_id": "a695580321ab42808a21af137db689ae",
       "version_major": 2,
       "version_minor": 0
      },
      "text/plain": [
       "%px:   0%|          | 0/6 [00:00<?, ?tasks/s]"
      ]
     },
     "metadata": {},
     "output_type": "display_data"
    },
    {
     "name": "stdout",
     "output_type": "stream",
     "text": [
      "                            ------- Bloc PF/OPF ---------         \n"
     ]
    },
    {
     "data": {
      "application/vnd.jupyter.widget-view+json": {
       "model_id": "35a4c0944787412fb7941c2c038392c0",
       "version_major": 2,
       "version_minor": 0
      },
      "text/plain": [
       "%px:   0%|          | 0/6 [00:00<?, ?tasks/s]"
      ]
     },
     "metadata": {},
     "output_type": "display_data"
    },
    {
     "name": "stdout",
     "output_type": "stream",
     "text": [
      "***************************       Simulation 11/21      ****************\n",
      "                           ------- Bloc PF/OPF ---------         \n",
      "importing numpy on engine(s)\n",
      "importing pandapower on engine(s)\n",
      "importing pandas on engine(s)\n",
      "importing Par_myFunctions on engine(s)\n"
     ]
    },
    {
     "data": {
      "application/vnd.jupyter.widget-view+json": {
       "model_id": "029657cc272748a180856c0b514a4c7f",
       "version_major": 2,
       "version_minor": 0
      },
      "text/plain": [
       "%px:   0%|          | 0/6 [00:00<?, ?tasks/s]"
      ]
     },
     "metadata": {},
     "output_type": "display_data"
    },
    {
     "name": "stdout",
     "output_type": "stream",
     "text": [
      "                            ------- Bloc PF/OPF ---------         \n"
     ]
    },
    {
     "data": {
      "application/vnd.jupyter.widget-view+json": {
       "model_id": "dd4c4fc04579489387ca302b511c0423",
       "version_major": 2,
       "version_minor": 0
      },
      "text/plain": [
       "%px:   0%|          | 0/6 [00:00<?, ?tasks/s]"
      ]
     },
     "metadata": {},
     "output_type": "display_data"
    },
    {
     "name": "stdout",
     "output_type": "stream",
     "text": [
      "***************************       Simulation 12/21      ****************\n",
      "                           ------- Bloc PF/OPF ---------         \n",
      "importing numpy on engine(s)\n",
      "importing pandapower on engine(s)\n",
      "importing pandas on engine(s)\n",
      "importing Par_myFunctions on engine(s)\n"
     ]
    },
    {
     "data": {
      "application/vnd.jupyter.widget-view+json": {
       "model_id": "69b68955d5f34efb926ac182843cafb2",
       "version_major": 2,
       "version_minor": 0
      },
      "text/plain": [
       "%px:   0%|          | 0/6 [00:00<?, ?tasks/s]"
      ]
     },
     "metadata": {},
     "output_type": "display_data"
    },
    {
     "name": "stdout",
     "output_type": "stream",
     "text": [
      "                            ------- Bloc PF/OPF ---------         \n"
     ]
    },
    {
     "data": {
      "application/vnd.jupyter.widget-view+json": {
       "model_id": "38bcaf9fa4884cb097bf7dcba831a838",
       "version_major": 2,
       "version_minor": 0
      },
      "text/plain": [
       "%px:   0%|          | 0/6 [00:00<?, ?tasks/s]"
      ]
     },
     "metadata": {},
     "output_type": "display_data"
    },
    {
     "name": "stdout",
     "output_type": "stream",
     "text": [
      "***************************       Simulation 13/21      ****************\n",
      "                           ------- Bloc PF/OPF ---------         \n",
      "importing numpy on engine(s)\n",
      "importing pandapower on engine(s)\n",
      "importing pandas on engine(s)\n",
      "importing Par_myFunctions on engine(s)\n"
     ]
    },
    {
     "data": {
      "application/vnd.jupyter.widget-view+json": {
       "model_id": "469e2a9c65b44f4a826bbb32e8f34397",
       "version_major": 2,
       "version_minor": 0
      },
      "text/plain": [
       "%px:   0%|          | 0/6 [00:00<?, ?tasks/s]"
      ]
     },
     "metadata": {},
     "output_type": "display_data"
    },
    {
     "name": "stdout",
     "output_type": "stream",
     "text": [
      "                            ------- Bloc PF/OPF ---------         \n"
     ]
    },
    {
     "data": {
      "application/vnd.jupyter.widget-view+json": {
       "model_id": "f83beb8f87d64ccb9b3104142c208ca1",
       "version_major": 2,
       "version_minor": 0
      },
      "text/plain": [
       "%px:   0%|          | 0/6 [00:00<?, ?tasks/s]"
      ]
     },
     "metadata": {},
     "output_type": "display_data"
    },
    {
     "name": "stdout",
     "output_type": "stream",
     "text": [
      "***************************       Simulation 14/21      ****************\n",
      "                           ------- Bloc PF/OPF ---------         \n",
      "importing numpy on engine(s)\n",
      "importing pandapower on engine(s)\n",
      "importing pandas on engine(s)\n",
      "importing Par_myFunctions on engine(s)\n"
     ]
    },
    {
     "data": {
      "application/vnd.jupyter.widget-view+json": {
       "model_id": "6b1634e54d0a493183ba71d9d945a9d0",
       "version_major": 2,
       "version_minor": 0
      },
      "text/plain": [
       "%px:   0%|          | 0/6 [00:00<?, ?tasks/s]"
      ]
     },
     "metadata": {},
     "output_type": "display_data"
    },
    {
     "name": "stdout",
     "output_type": "stream",
     "text": [
      "                            ------- Bloc PF/OPF ---------         \n"
     ]
    },
    {
     "data": {
      "application/vnd.jupyter.widget-view+json": {
       "model_id": "86be314c4fc24b919ea768495f34f1a7",
       "version_major": 2,
       "version_minor": 0
      },
      "text/plain": [
       "%px:   0%|          | 0/6 [00:00<?, ?tasks/s]"
      ]
     },
     "metadata": {},
     "output_type": "display_data"
    },
    {
     "name": "stdout",
     "output_type": "stream",
     "text": [
      "***************************       Simulation 15/21      ****************\n",
      "                           ------- Bloc PF/OPF ---------         \n",
      "importing numpy on engine(s)\n",
      "importing pandapower on engine(s)\n",
      "importing pandas on engine(s)\n",
      "importing Par_myFunctions on engine(s)\n"
     ]
    },
    {
     "data": {
      "application/vnd.jupyter.widget-view+json": {
       "model_id": "4d965ff665244063a51ab6bd9c370f5d",
       "version_major": 2,
       "version_minor": 0
      },
      "text/plain": [
       "%px:   0%|          | 0/6 [00:00<?, ?tasks/s]"
      ]
     },
     "metadata": {},
     "output_type": "display_data"
    },
    {
     "name": "stdout",
     "output_type": "stream",
     "text": [
      "                            ------- Bloc PF/OPF ---------         \n"
     ]
    },
    {
     "data": {
      "application/vnd.jupyter.widget-view+json": {
       "model_id": "6995b60448154ba2b645a275a2f74f0c",
       "version_major": 2,
       "version_minor": 0
      },
      "text/plain": [
       "%px:   0%|          | 0/6 [00:00<?, ?tasks/s]"
      ]
     },
     "metadata": {},
     "output_type": "display_data"
    },
    {
     "name": "stdout",
     "output_type": "stream",
     "text": [
      "***************************       Simulation 16/21      ****************\n",
      "                           ------- Bloc PF/OPF ---------         \n",
      "importing numpy on engine(s)\n",
      "importing pandapower on engine(s)\n",
      "importing pandas on engine(s)\n",
      "importing Par_myFunctions on engine(s)\n"
     ]
    },
    {
     "data": {
      "application/vnd.jupyter.widget-view+json": {
       "model_id": "adaa1fa928cf41069fcd7925838d373c",
       "version_major": 2,
       "version_minor": 0
      },
      "text/plain": [
       "%px:   0%|          | 0/6 [00:00<?, ?tasks/s]"
      ]
     },
     "metadata": {},
     "output_type": "display_data"
    },
    {
     "name": "stdout",
     "output_type": "stream",
     "text": [
      "                            ------- Bloc PF/OPF ---------         \n"
     ]
    },
    {
     "data": {
      "application/vnd.jupyter.widget-view+json": {
       "model_id": "9db8df24e72d4675a3bfe6e425550550",
       "version_major": 2,
       "version_minor": 0
      },
      "text/plain": [
       "%px:   0%|          | 0/6 [00:00<?, ?tasks/s]"
      ]
     },
     "metadata": {},
     "output_type": "display_data"
    },
    {
     "name": "stdout",
     "output_type": "stream",
     "text": [
      "***************************       Simulation 17/21      ****************\n",
      "                           ------- Bloc PF/OPF ---------         \n",
      "importing numpy on engine(s)\n",
      "importing pandapower on engine(s)\n",
      "importing pandas on engine(s)\n",
      "importing Par_myFunctions on engine(s)\n"
     ]
    },
    {
     "data": {
      "application/vnd.jupyter.widget-view+json": {
       "model_id": "711ce81c99b74c1ebfa664f0f49b7a37",
       "version_major": 2,
       "version_minor": 0
      },
      "text/plain": [
       "%px:   0%|          | 0/6 [00:00<?, ?tasks/s]"
      ]
     },
     "metadata": {},
     "output_type": "display_data"
    },
    {
     "name": "stdout",
     "output_type": "stream",
     "text": [
      "                            ------- Bloc PF/OPF ---------         \n"
     ]
    },
    {
     "data": {
      "application/vnd.jupyter.widget-view+json": {
       "model_id": "8413bd15806e4a829a1319799c71de36",
       "version_major": 2,
       "version_minor": 0
      },
      "text/plain": [
       "%px:   0%|          | 0/6 [00:00<?, ?tasks/s]"
      ]
     },
     "metadata": {},
     "output_type": "display_data"
    },
    {
     "name": "stdout",
     "output_type": "stream",
     "text": [
      "***************************       Simulation 18/21      ****************\n",
      "                           ------- Bloc PF/OPF ---------         \n",
      "importing numpy on engine(s)\n",
      "importing pandapower on engine(s)\n",
      "importing pandas on engine(s)\n",
      "importing Par_myFunctions on engine(s)\n"
     ]
    },
    {
     "data": {
      "application/vnd.jupyter.widget-view+json": {
       "model_id": "3529e2f9a7ab4909a32e9afe68d86508",
       "version_major": 2,
       "version_minor": 0
      },
      "text/plain": [
       "%px:   0%|          | 0/6 [00:00<?, ?tasks/s]"
      ]
     },
     "metadata": {},
     "output_type": "display_data"
    },
    {
     "name": "stdout",
     "output_type": "stream",
     "text": [
      "                            ------- Bloc PF/OPF ---------         \n"
     ]
    },
    {
     "data": {
      "application/vnd.jupyter.widget-view+json": {
       "model_id": "4582ea1d9a984c448ad11226f3f39e5b",
       "version_major": 2,
       "version_minor": 0
      },
      "text/plain": [
       "%px:   0%|          | 0/6 [00:00<?, ?tasks/s]"
      ]
     },
     "metadata": {},
     "output_type": "display_data"
    },
    {
     "name": "stdout",
     "output_type": "stream",
     "text": [
      "***************************       Simulation 19/21      ****************\n",
      "                           ------- Bloc PF/OPF ---------         \n",
      "importing numpy on engine(s)\n",
      "importing pandapower on engine(s)\n",
      "importing pandas on engine(s)\n",
      "importing Par_myFunctions on engine(s)\n"
     ]
    },
    {
     "data": {
      "application/vnd.jupyter.widget-view+json": {
       "model_id": "e2901eb0919b40408f0ca59a06384d5e",
       "version_major": 2,
       "version_minor": 0
      },
      "text/plain": [
       "%px:   0%|          | 0/6 [00:00<?, ?tasks/s]"
      ]
     },
     "metadata": {},
     "output_type": "display_data"
    },
    {
     "name": "stdout",
     "output_type": "stream",
     "text": [
      "                            ------- Bloc PF/OPF ---------         \n"
     ]
    },
    {
     "data": {
      "application/vnd.jupyter.widget-view+json": {
       "model_id": "5827d5c3d8084e8591c43a09bae79490",
       "version_major": 2,
       "version_minor": 0
      },
      "text/plain": [
       "%px:   0%|          | 0/6 [00:00<?, ?tasks/s]"
      ]
     },
     "metadata": {},
     "output_type": "display_data"
    },
    {
     "name": "stdout",
     "output_type": "stream",
     "text": [
      "***************************       Simulation 20/21      ****************\n",
      "                           ------- Bloc PF/OPF ---------         \n",
      "importing numpy on engine(s)\n",
      "importing pandapower on engine(s)\n",
      "importing pandas on engine(s)\n",
      "importing Par_myFunctions on engine(s)\n"
     ]
    },
    {
     "data": {
      "application/vnd.jupyter.widget-view+json": {
       "model_id": "a043fae8718c4f0e8c16aa898e879fb9",
       "version_major": 2,
       "version_minor": 0
      },
      "text/plain": [
       "%px:   0%|          | 0/6 [00:00<?, ?tasks/s]"
      ]
     },
     "metadata": {},
     "output_type": "display_data"
    },
    {
     "name": "stdout",
     "output_type": "stream",
     "text": [
      "                            ------- Bloc PF/OPF ---------         \n"
     ]
    },
    {
     "data": {
      "application/vnd.jupyter.widget-view+json": {
       "model_id": "16a98b86df0f45989cf2d390f04ae313",
       "version_major": 2,
       "version_minor": 0
      },
      "text/plain": [
       "%px:   0%|          | 0/6 [00:00<?, ?tasks/s]"
      ]
     },
     "metadata": {},
     "output_type": "display_data"
    },
    {
     "name": "stdout",
     "output_type": "stream",
     "text": [
      "***************************       Simulation 21/21      ****************\n",
      "                           ------- Bloc PF/OPF ---------         \n",
      "importing numpy on engine(s)\n",
      "importing pandapower on engine(s)\n",
      "importing pandas on engine(s)\n",
      "importing Par_myFunctions on engine(s)\n"
     ]
    },
    {
     "data": {
      "application/vnd.jupyter.widget-view+json": {
       "model_id": "e807e30868744f26b2b1e840ab5b09a9",
       "version_major": 2,
       "version_minor": 0
      },
      "text/plain": [
       "%px:   0%|          | 0/6 [00:00<?, ?tasks/s]"
      ]
     },
     "metadata": {},
     "output_type": "display_data"
    },
    {
     "name": "stdout",
     "output_type": "stream",
     "text": [
      "                            ------- Bloc PF/OPF ---------         \n"
     ]
    },
    {
     "data": {
      "application/vnd.jupyter.widget-view+json": {
       "model_id": "54d405d66dd74c95aeb86e9a56778823",
       "version_major": 2,
       "version_minor": 0
      },
      "text/plain": [
       "%px:   0%|          | 0/6 [00:00<?, ?tasks/s]"
      ]
     },
     "metadata": {},
     "output_type": "display_data"
    }
   ],
   "source": [
    "sim_res_Dict_rnn_rob = {}  # Dictionnary to save variables\n",
    "\n",
    "P0100_max = 4      #Define the maximum power output subscribed by P0100 \n",
    "\n",
    "# Define Range for the maximum power output subscribed by P0100 \n",
    "P0100_max_range = np.arange(0, P0100_max+0.1 ,0.2)\n",
    "\n",
    "\n",
    "\n",
    "for mr_index in range(len(P0100_max_range)): \n",
    "    upscaling_coef = P0100_max_range[mr_index]  # Define upsacaling coeff\n",
    "\n",
    "    # Initialize variables for parallel engines\n",
    "    df_prodHT, dict_df_sgenLoad = initVarsFor_ParEngines(rnnPred_df.loc[mask_per2work], upscaling_coef)\n",
    "    print(f'***************************       Simulation {mr_index+1}/{len(P0100_max_range)}      ****************')\n",
    "    print(\"                           ------- Bloc PF/OPF ---------         \")\n",
    "    ##          ---------------------------  BLOCK PF/OPF  ------------------------         ##\n",
    "    # Initialize the parallel engine parameters i.e. send varible into each local space\n",
    "    opf_status = 'Both'\n",
    "    Init_ParEngines_Parameters(df_prodHT.loc[mask_per2work], opf_status, dict_df_sgenLoad, parameters_dict, 0 )\n",
    "\n",
    "    # cALL Block pf/op\n",
    "    extracted_results = block_pf_Opf(df_prodHT, opf_status)    \n",
    "\n",
    "\n",
    "    ##          ---------------------------  BLOCK ROBUST PRED  ------------------------         ##\n",
    "    model1_Vrise, model2_Vrise, model3_Vrise = (extracted_results[['max_vm_pu_pf']].loc[mask_per2work], \n",
    "                                                pred_num_vRise.loc[mask_per2work], \n",
    "                                                pred_bin_vRise.loc[mask_per2work] )\n",
    "    \n",
    "    # create a dictionnary to save modelVrise\n",
    "    v_rise_dict = {name: model for name, model in zip(['Model'+str(i) for i in range(1,4)],\n",
    "                                                      [model1_Vrise, model2_Vrise, model3_Vrise] ) }\n",
    "    model_name = 'Model3'\n",
    "\n",
    "    # Extract P0100 based on robust prediction of threshold\n",
    "    P0100_opt, all_me = mf.robustPred(v_rise_dict, \n",
    "                                      df_final[['P0100']]*upscaling_coef/P0100_max, \n",
    "                                      extracted_results[['P0100']],vm_mu_max, model_name)\n",
    "\n",
    "\n",
    "\n",
    "    ##             ---------------------------  BLOCK PROD  ------------------------         ##\n",
    "    P0100_opt.loc[mask_per2work,['P0100']] = np.minimum(df_final.loc[mask_per2work, 'P0100']*upscaling_coef/P0100_max,\n",
    "                                                        P0100_opt.P0100)\n",
    "    extracted_results = P0100_opt\n",
    "\n",
    "\n",
    "    # Update Values for the dict to use for final power flow bloc\n",
    "    prod_hv_df = pd.concat([df_final.loc[mask_per2work, ['P0013', 'P0018']], \n",
    "                            extracted_results.loc[mask_per2work, ['P0100']]], axis=1)\n",
    "\n",
    "    dict_df_sgenLoad = dict({'df_prodHT': prod_hv_df, \n",
    "                             'df_prod_bt_total':df_final.loc[mask_per2work, ['Prod_BT']], \n",
    "                             'df_cons_total':df_final.loc[mask_per2work, ['Cons']] } )\n",
    "\n",
    "    \n",
    "    ##             ---------------------------  BLOCK PF  ------------------------         ##\n",
    "    print(\"                            ------- Bloc PF/OPF ---------         \")\n",
    "\n",
    "    opf_status = False\n",
    "    # Initialize the parallel engine parameters i.e. send varible into each local space for PF\n",
    "    Init_ParEngines_Parameters(prod_hv_df, opf_status, dict_df_sgenLoad, parameters_dict, 1)\n",
    "\n",
    "    # cALL Block pf\n",
    "    max_vm_pu_rnn_df = block_pf_Opf(prod_hv_df, opf_status)    \n",
    "\n",
    "\n",
    "\n",
    "    #####   Saving Results \n",
    "    P0100_df = df_final.loc[prod_hv_df.index, ['P0100']]\n",
    "    P0100_rnn_df = pd.DataFrame(data=extracted_results.loc[prod_hv_df.index].P0100.values, \n",
    "                                 index=extracted_results.loc[prod_hv_df.index].index, \n",
    "                                 columns=['RNN Sim'+str(mr_index+1)] )\n",
    "    # Concat\n",
    "    P0100_concat_df = pd.concat([P0100_max_range[mr_index]*P0100_df/P0100_max,P0100_rnn_df], axis=1)\n",
    "    # Rename\n",
    "    P0100_concat_df.rename(columns=({'P0100':'No_Control'}), inplace=True);\n",
    "\n",
    "\n",
    "    int_sim_res = {'maxV_rise_df':max_vm_pu_rnn_df,              # Intermediate results\n",
    "                   'Power Sgen': P0100_concat_df}         \n",
    "    sim_res_Dict_rnn_rob.update([('Sim'+str(mr_index+1),int_sim_res)])   # Final results\n"
   ]
  },
  {
   "cell_type": "code",
   "execution_count": 73,
   "id": "c483372d-c42b-4b03-9517-375404f09c18",
   "metadata": {},
   "outputs": [
    {
     "data": {
      "text/plain": [
       "['pickle_files/simulationResults/SensAnalysisP0100_RNN_Robust_Model3.pkl']"
      ]
     },
     "execution_count": 73,
     "metadata": {},
     "output_type": "execute_result"
    }
   ],
   "source": [
    "joblib.dump(sim_res_Dict_rnn_rob,'pickle_files/simulationResults/SensAnalysisP0100_RNN_Robust_Model3.pkl')"
   ]
  },
  {
   "cell_type": "code",
   "execution_count": null,
   "id": "be0221af-5388-4134-b653-557ba14145fd",
   "metadata": {},
   "outputs": [],
   "source": [
    "# var = joblib.load('pickle_files/simulationResults/RNN_pred_res_AtLeast3Model.pkl')\n"
   ]
  },
  {
   "cell_type": "code",
   "execution_count": 37,
   "id": "410ac27b-6b96-4919-9661-c8105076334d",
   "metadata": {},
   "outputs": [
    {
     "data": {
      "text/plain": [
       "<AxesSubplot:>"
      ]
     },
     "execution_count": 37,
     "metadata": {},
     "output_type": "execute_result"
    },
    {
     "data": {
      "image/png": "[encoded data removed]",
      "text/plain": [
       "<Figure size 640x480 with 1 Axes>"
      ]
     },
     "metadata": {},
     "output_type": "display_data"
    },
    {
     "name": "stdout",
     "output_type": "stream",
     "text": [
      "Controller stopped: {'exit_code': 15, 'pid': 22096, 'identifier': 'ipcontroller-1666687488-ox04-25304'}\n",
      "Stopping engine(s): 1666687489\n",
      "engine set stopped 1666687489: {'engines': {'1': {'exit_code': 15, 'pid': 13036, 'identifier': '1'}, '2': {'exit_code': 15, 'pid': 12248, 'identifier': '2'}, '5': {'exit_code': 15, 'pid': 12876, 'identifier': '5'}, '0': {'exit_code': 15, 'pid': 3528, 'identifier': '0'}, '4': {'exit_code': 15, 'pid': 15864, 'identifier': '4'}, '3': {'exit_code': 15, 'pid': 18792, 'identifier': '3'}}, 'exit_code': 15}\n"
     ]
    },
    {
     "name": "stderr",
     "output_type": "stream",
     "text": [
      "Stopping cluster <Cluster(cluster_id='1666687488-ox04', profile='default', controller=<after>, engine_sets=['1666687489'])>\n"
     ]
    }
   ],
   "source": [
    "P0100_concat_df.plot()"
   ]
  },
  {
   "cell_type": "code",
   "execution_count": 35,
   "id": "3617b7bf-fb84-406f-ae96-23defcaca3e5",
   "metadata": {},
   "outputs": [
    {
     "name": "stdout",
     "output_type": "stream",
     "text": [
      "P0100 prod,   No Control  : 778.57 MWh\n",
      "P0100 prod, RNN Scaled    : 778.57 MWh |  Perc = 100.00%\n"
     ]
    }
   ],
   "source": [
    "# Compute Energy\n",
    "var_no_control, var_rnn = P0100_concat_df.sum()*Δt\n",
    "\n",
    "print(f'P0100 prod,   No Control  : {var_no_control:.2f} MWh')\n",
    "print(f'P0100 prod, RNN Scaled    : {var_rnn:.2f} MWh |  Perc = {var_rnn*100/var_no_control:.2f}%')\n"
   ]
  },
  {
   "cell_type": "code",
   "execution_count": null,
   "id": "20c59cb2-4815-430e-be97-8da66df3a7a9",
   "metadata": {},
   "outputs": [],
   "source": []
  }
 ],
 "metadata": {
  "kernelspec": {
   "display_name": "Python 3 (ipykernel)",
   "language": "python",
   "name": "python3"
  },
  "language_info": {
   "codemirror_mode": {
    "name": "ipython",
    "version": 3
   },
   "file_extension": ".py",
   "mimetype": "text/x-python",
   "name": "python",
   "nbconvert_exporter": "python",
   "pygments_lexer": "ipython3",
   "version": "3.9.12"
  }
 },
 "nbformat": 4,
 "nbformat_minor": 5
}
